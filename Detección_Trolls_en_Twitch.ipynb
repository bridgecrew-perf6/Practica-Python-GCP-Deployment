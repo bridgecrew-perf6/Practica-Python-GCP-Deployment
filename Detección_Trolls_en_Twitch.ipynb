{
  "nbformat": 4,
  "nbformat_minor": 0,
  "metadata": {
    "colab": {
      "name": "Detección Trolls en Twitch.ipynb",
      "provenance": [],
      "collapsed_sections": [],
      "include_colab_link": true
    },
    "kernelspec": {
      "display_name": "Python 3",
      "name": "python3"
    }
  },
  "cells": [
    {
      "cell_type": "markdown",
      "metadata": {
        "id": "view-in-github",
        "colab_type": "text"
      },
      "source": [
        "<a href=\"https://colab.research.google.com/github/tonyzetag/Practica-Python-GCP-Deployment/blob/main/Detecci%C3%B3n_Trolls_en_Twitch.ipynb\" target=\"_parent\"><img src=\"https://colab.research.google.com/assets/colab-badge.svg\" alt=\"Open In Colab\"/></a>"
      ]
    },
    {
      "cell_type": "markdown",
      "metadata": {
        "id": "Cj8bcxFX85UO"
      },
      "source": [
        "# Práctica Final: detección de mensajes troll en chat de Twitch en tiempo real\n",
        "\n",
        "Durante este último año la plataforma de vídeo en streaming Twitch ha cogido mucha popularidad debido a la situación que hemos vivido debido al COVID-19. Por esto, mucha gente de todas las edades ha empezado a consumir esta plataforma de manera diaria.\n",
        "\n",
        "Como consecuencia, no sólo han aumentado las personas que ven contenido en Twitch, sino también el número de los denominados *trolls*, gente que pone comentarios ofensivos en los chat de los streamers.\n",
        "\n",
        "En esta práctica se desarrollará un sistema autónomo basado en IA y desplegado en GCP que detectará en tiempo real si los mensajes que se envían a un canal de Twitch son de un *troll* o no. La práctica constará de tres partes principales que serán evaluadas en la corrección:\n",
        "1. Entrenamiento e inferencia en Batch de un modelo usando Dataflow y AI Platform. **(3.5 puntos)**.\n",
        "2. Despliegue e inferencia online en microservicio con el modelo. **(3.5 puntos)**.\n",
        "3. Inferencia en streaming de un canal de Twitch con el microservicio anterior. **(3 puntos)**."
      ]
    },
    {
      "cell_type": "markdown",
      "metadata": {
        "id": "hgE9XB8ACVmQ"
      },
      "source": [
        "# Configuración de nuestro proyecto en GCP\n"
      ]
    },
    {
      "cell_type": "code",
      "source": [
        "# Marcar true para crear el bucket\n",
        "create_bucket = False\n",
        "\n",
        "# Descargar csv al bucket\n",
        "download_data_to_bucket = False\n",
        "\n",
        "# Descargar csv al colab\n",
        "download_data_to_colab = False"
      ],
      "metadata": {
        "id": "7KhRCsH32w1c"
      },
      "execution_count": null,
      "outputs": []
    },
    {
      "cell_type": "code",
      "metadata": {
        "id": "zAorVw7RCT9C",
        "colab": {
          "base_uri": "https://localhost:8080/"
        },
        "outputId": "e9186262-7737-44f6-e43b-8da89d486647"
      },
      "source": [
        "PROJECT_ID = \"practica-despliegue-keepcoding\" #@param {type:\"string\"}\n",
        "! gcloud config set project $PROJECT_ID"
      ],
      "execution_count": null,
      "outputs": [
        {
          "output_type": "stream",
          "name": "stdout",
          "text": [
            "Updated property [core/project].\n"
          ]
        }
      ]
    },
    {
      "cell_type": "code",
      "metadata": {
        "id": "hbAl8pSkCXCm"
      },
      "source": [
        "import sys\n",
        "\n",
        "# If you are running this notebook in Colab, run this cell and follow the\n",
        "# instructions to authenticate your GCP account. This provides access to your\n",
        "# Cloud Storage bucket and lets you submit training jobs and prediction\n",
        "# requests.\n",
        "\n",
        "if 'google.colab' in sys.modules:\n",
        "  from google.colab import auth as google_auth\n",
        "  google_auth.authenticate_user()\n",
        "\n",
        "# If you are running this notebook locally, replace the string below with the\n",
        "# path to your service account key and run this cell to authenticate your GCP\n",
        "# account.\n",
        "else:\n",
        "  %env GOOGLE_APPLICATION_CREDENTIALS ''\n"
      ],
      "execution_count": null,
      "outputs": []
    },
    {
      "cell_type": "code",
      "metadata": {
        "id": "n6Zpx14FCfXy"
      },
      "source": [
        "BUCKET_NAME = \"twitch-practice-keepcoding-main-bucket\" #@param {type:\"string\"}\n",
        "REGION = \"europe-west1\" #@param {type:\"string\"}"
      ],
      "execution_count": null,
      "outputs": []
    },
    {
      "cell_type": "code",
      "source": [
        "if create_bucket == True:\n",
        "  ! gsutil mb -l $REGION gs://$BUCKET_NAME"
      ],
      "metadata": {
        "id": "960JUPkL2pHo"
      },
      "execution_count": null,
      "outputs": []
    },
    {
      "cell_type": "code",
      "source": [
        "BUCKET_NAME"
      ],
      "metadata": {
        "colab": {
          "base_uri": "https://localhost:8080/",
          "height": 35
        },
        "id": "v92jojcifT6P",
        "outputId": "879b0522-1803-42c6-c8de-656e46ab135e"
      },
      "execution_count": null,
      "outputs": [
        {
          "output_type": "execute_result",
          "data": {
            "application/vnd.google.colaboratory.intrinsic+json": {
              "type": "string"
            },
            "text/plain": [
              "'twitch-practice-keepcoding-main-bucket'"
            ]
          },
          "metadata": {},
          "execution_count": 6
        }
      ]
    },
    {
      "cell_type": "code",
      "metadata": {
        "id": "lE4V-Xt0ChSb",
        "colab": {
          "base_uri": "https://localhost:8080/"
        },
        "outputId": "a42e65e9-d6b9-4781-9a80-80f883541eeb"
      },
      "source": [
        "! gsutil ls -al gs://$BUCKET_NAME"
      ],
      "execution_count": null,
      "outputs": [
        {
          "output_type": "stream",
          "name": "stdout",
          "text": [
            "   2756023  2022-02-27T04:53:54Z  gs://twitch-practice-keepcoding-main-bucket/data.json#1645937634209170  metageneration=1\n",
            "TOTAL: 1 objects, 2756023 bytes (2.63 MiB)\n"
          ]
        }
      ]
    },
    {
      "cell_type": "markdown",
      "metadata": {
        "id": "3D8Qw14y_nRa"
      },
      "source": [
        "# Entrenamiento e inferencia en Batch\n",
        "\n",
        "Para esta primera parte se va a utilizar [Tweets Dataset for Detection of Cyber-Trolls](https://www.kaggle.com/dataturks/dataset-for-detection-of-cybertrolls). El objetivo es desarrollar un clasificador binario para detectar si el mensaje recibido es troll (1) o no (0). **Las métricas obtenidas del entrenamiento y la inferencia no se tendrán en cuenta para la evaluación de la práctica, la importancia está en la arquitectura de la solución**.\n",
        "\n",
        "A continuación os dejo un diagrama con la arquitectura que se va a desarrollar:\n",
        "\n",
        "![batch_diagram](https://drive.google.com/uc?export=view&id=1h1BkIunyKSkJYFRbXKNWpHOZ_rDUyGAT)"
      ]
    },
    {
      "cell_type": "markdown",
      "metadata": {
        "id": "qM_dh-471gIq"
      },
      "source": [
        "A continuación, se van a subir los datos de entrenamiento al bucket del proyecto que se haya creado. **Importante:** crea el bucket en una única región para evitar problemas más adelante."
      ]
    },
    {
      "cell_type": "code",
      "metadata": {
        "id": "Sqp4L_nmUjAc"
      },
      "source": [
        "# Upload data to your bucket\n",
        "if download_data_to_bucket:\n",
        "  ! wget https://storage.googleapis.com/twitch-practice-keepcoding/data.json -O - | gsutil cp - gs://$BUCKET_NAME/data.json"
      ],
      "execution_count": null,
      "outputs": []
    },
    {
      "cell_type": "markdown",
      "metadata": {
        "id": "vCQQ9j2I11tg"
      },
      "source": [
        "Ahora se crea el directorio dónde vas a desarrollar esta primera parte de la práctica."
      ]
    },
    {
      "cell_type": "code",
      "metadata": {
        "id": "PsblBlJ6RrGm"
      },
      "source": [
        "if download_data_to_colab:\n",
        "  %mkdir /content/batch"
      ],
      "execution_count": null,
      "outputs": []
    },
    {
      "cell_type": "markdown",
      "metadata": {
        "id": "nyK51quU1_oi"
      },
      "source": [
        "Se establece el directorio de trabajo que hemos creado."
      ]
    },
    {
      "cell_type": "code",
      "metadata": {
        "id": "s7ybSaotRwkP",
        "colab": {
          "base_uri": "https://localhost:8080/"
        },
        "outputId": "944440c6-798f-476e-ee2a-058183e18a21"
      },
      "source": [
        "import os\n",
        "\n",
        "# Set the working directory to the sample code directory\n",
        "%cd /content/batch\n",
        "\n",
        "WORK_DIR = os.getcwd()"
      ],
      "execution_count": null,
      "outputs": [
        {
          "output_type": "stream",
          "name": "stdout",
          "text": [
            "/content/batch\n"
          ]
        }
      ]
    },
    {
      "cell_type": "markdown",
      "metadata": {
        "id": "4NSd4bAo2aj_"
      },
      "source": [
        "Ahora se descargarán los datos en el workspace de Colab para trabajar en local."
      ]
    },
    {
      "cell_type": "code",
      "metadata": {
        "id": "qOmUJSg1JCgg"
      },
      "source": [
        "if download_data_to_colab:\n",
        "  ! wget https://storage.googleapis.com/twitch-practice-keepcoding/data.json"
      ],
      "execution_count": null,
      "outputs": []
    },
    {
      "cell_type": "markdown",
      "metadata": {
        "id": "eRoW6zyg2kEz"
      },
      "source": [
        "Se establecen las dependencias que se usarán en la práctica. Se pueden añadir y quitar las dependencias que no se usen o viceversa."
      ]
    },
    {
      "cell_type": "code",
      "metadata": {
        "id": "9s0-8_JK_z2D",
        "colab": {
          "base_uri": "https://localhost:8080/"
        },
        "outputId": "a863c2b6-cdd7-4fb2-d729-df4e3fa2171e"
      },
      "source": [
        "%%writefile requirements.txt\n",
        "\n",
        "apache-beam[gcp]==2.24.0\n",
        "tensorflow==2.8.0\n",
        "gensim==3.6.0\n",
        "fsspec==0.8.4\n",
        "gcsfs==0.7.1\n",
        "numpy==1.20.0\n",
        "keras==2.8.0\n",
        "pandas==1.3.5"
      ],
      "execution_count": null,
      "outputs": [
        {
          "output_type": "stream",
          "name": "stdout",
          "text": [
            "Overwriting requirements.txt\n"
          ]
        }
      ]
    },
    {
      "cell_type": "markdown",
      "metadata": {
        "id": "yIl8lrPp2x2j"
      },
      "source": [
        "Instalamos las dependencias. **No olvidarse de reiniciar el entorno al instalar y establecer las variables y credenciales de GCP al arrancar.**"
      ]
    },
    {
      "cell_type": "code",
      "metadata": {
        "id": "ZS6P8A4c_8le",
        "colab": {
          "base_uri": "https://localhost:8080/"
        },
        "outputId": "9440bd6d-3ee0-4d84-ab55-a263b34e43bf"
      },
      "source": [
        "! pip install -r requirements.txt"
      ],
      "execution_count": null,
      "outputs": [
        {
          "output_type": "stream",
          "name": "stdout",
          "text": [
            "Requirement already satisfied: apache-beam[gcp]==2.24.0 in /usr/local/lib/python3.7/dist-packages (from -r requirements.txt (line 2)) (2.24.0)\n",
            "Requirement already satisfied: tensorflow==2.8.0 in /usr/local/lib/python3.7/dist-packages (from -r requirements.txt (line 3)) (2.8.0)\n",
            "Requirement already satisfied: gensim==3.6.0 in /usr/local/lib/python3.7/dist-packages (from -r requirements.txt (line 4)) (3.6.0)\n",
            "Requirement already satisfied: fsspec==0.8.4 in /usr/local/lib/python3.7/dist-packages (from -r requirements.txt (line 5)) (0.8.4)\n",
            "Requirement already satisfied: gcsfs==0.7.1 in /usr/local/lib/python3.7/dist-packages (from -r requirements.txt (line 6)) (0.7.1)\n",
            "Requirement already satisfied: numpy==1.20.0 in /usr/local/lib/python3.7/dist-packages (from -r requirements.txt (line 7)) (1.20.0)\n",
            "Requirement already satisfied: keras==2.8.0 in /usr/local/lib/python3.7/dist-packages (from -r requirements.txt (line 8)) (2.8.0)\n",
            "Requirement already satisfied: pandas==1.3.5 in /usr/local/lib/python3.7/dist-packages (from -r requirements.txt (line 9)) (1.3.5)\n",
            "Requirement already satisfied: wrapt>=1.11.0 in /usr/local/lib/python3.7/dist-packages (from tensorflow==2.8.0->-r requirements.txt (line 3)) (1.13.3)\n",
            "Requirement already satisfied: google-pasta>=0.1.1 in /usr/local/lib/python3.7/dist-packages (from tensorflow==2.8.0->-r requirements.txt (line 3)) (0.2.0)\n",
            "Requirement already satisfied: tensorboard<2.9,>=2.8 in /usr/local/lib/python3.7/dist-packages (from tensorflow==2.8.0->-r requirements.txt (line 3)) (2.8.0)\n",
            "Requirement already satisfied: opt-einsum>=2.3.2 in /usr/local/lib/python3.7/dist-packages (from tensorflow==2.8.0->-r requirements.txt (line 3)) (3.3.0)\n",
            "Requirement already satisfied: tensorflow-io-gcs-filesystem>=0.23.1 in /usr/local/lib/python3.7/dist-packages (from tensorflow==2.8.0->-r requirements.txt (line 3)) (0.24.0)\n",
            "Requirement already satisfied: flatbuffers>=1.12 in /usr/local/lib/python3.7/dist-packages (from tensorflow==2.8.0->-r requirements.txt (line 3)) (2.0)\n",
            "Requirement already satisfied: termcolor>=1.1.0 in /usr/local/lib/python3.7/dist-packages (from tensorflow==2.8.0->-r requirements.txt (line 3)) (1.1.0)\n",
            "Requirement already satisfied: six>=1.12.0 in /usr/local/lib/python3.7/dist-packages (from tensorflow==2.8.0->-r requirements.txt (line 3)) (1.15.0)\n",
            "Requirement already satisfied: protobuf>=3.9.2 in /usr/local/lib/python3.7/dist-packages (from tensorflow==2.8.0->-r requirements.txt (line 3)) (3.17.3)\n",
            "Requirement already satisfied: keras-preprocessing>=1.1.1 in /usr/local/lib/python3.7/dist-packages (from tensorflow==2.8.0->-r requirements.txt (line 3)) (1.1.2)\n",
            "Requirement already satisfied: astunparse>=1.6.0 in /usr/local/lib/python3.7/dist-packages (from tensorflow==2.8.0->-r requirements.txt (line 3)) (1.6.3)\n",
            "Requirement already satisfied: typing-extensions>=3.6.6 in /usr/local/lib/python3.7/dist-packages (from tensorflow==2.8.0->-r requirements.txt (line 3)) (3.7.4.3)\n",
            "Requirement already satisfied: libclang>=9.0.1 in /usr/local/lib/python3.7/dist-packages (from tensorflow==2.8.0->-r requirements.txt (line 3)) (13.0.0)\n",
            "Requirement already satisfied: setuptools in /usr/local/lib/python3.7/dist-packages (from tensorflow==2.8.0->-r requirements.txt (line 3)) (57.4.0)\n",
            "Requirement already satisfied: grpcio<2.0,>=1.24.3 in /usr/local/lib/python3.7/dist-packages (from tensorflow==2.8.0->-r requirements.txt (line 3)) (1.43.0)\n",
            "Requirement already satisfied: gast>=0.2.1 in /usr/local/lib/python3.7/dist-packages (from tensorflow==2.8.0->-r requirements.txt (line 3)) (0.5.3)\n",
            "Requirement already satisfied: h5py>=2.9.0 in /usr/local/lib/python3.7/dist-packages (from tensorflow==2.8.0->-r requirements.txt (line 3)) (3.1.0)\n",
            "Requirement already satisfied: absl-py>=0.4.0 in /usr/local/lib/python3.7/dist-packages (from tensorflow==2.8.0->-r requirements.txt (line 3)) (1.0.0)\n",
            "Requirement already satisfied: tf-estimator-nightly==2.8.0.dev2021122109 in /usr/local/lib/python3.7/dist-packages (from tensorflow==2.8.0->-r requirements.txt (line 3)) (2.8.0.dev2021122109)\n",
            "Requirement already satisfied: scipy>=0.18.1 in /usr/local/lib/python3.7/dist-packages (from gensim==3.6.0->-r requirements.txt (line 4)) (1.4.1)\n",
            "Requirement already satisfied: smart-open>=1.2.1 in /usr/local/lib/python3.7/dist-packages (from gensim==3.6.0->-r requirements.txt (line 4)) (5.2.1)\n",
            "Requirement already satisfied: requests in /usr/local/lib/python3.7/dist-packages (from gcsfs==0.7.1->-r requirements.txt (line 6)) (2.27.1)\n",
            "Requirement already satisfied: google-auth>=1.2 in /usr/local/lib/python3.7/dist-packages (from gcsfs==0.7.1->-r requirements.txt (line 6)) (1.35.0)\n",
            "Requirement already satisfied: google-auth-oauthlib in /usr/local/lib/python3.7/dist-packages (from gcsfs==0.7.1->-r requirements.txt (line 6)) (0.4.6)\n",
            "Requirement already satisfied: aiohttp in /usr/local/lib/python3.7/dist-packages (from gcsfs==0.7.1->-r requirements.txt (line 6)) (3.8.1)\n",
            "Requirement already satisfied: decorator in /usr/local/lib/python3.7/dist-packages (from gcsfs==0.7.1->-r requirements.txt (line 6)) (4.4.2)\n",
            "Requirement already satisfied: pytz>=2017.3 in /usr/local/lib/python3.7/dist-packages (from pandas==1.3.5->-r requirements.txt (line 9)) (2018.9)\n",
            "Requirement already satisfied: python-dateutil>=2.7.3 in /usr/local/lib/python3.7/dist-packages (from pandas==1.3.5->-r requirements.txt (line 9)) (2.8.2)\n",
            "Requirement already satisfied: avro-python3!=1.9.2,<1.10.0,>=1.8.1 in /usr/local/lib/python3.7/dist-packages (from apache-beam[gcp]==2.24.0->-r requirements.txt (line 2)) (1.9.2.1)\n",
            "Requirement already satisfied: future<1.0.0,>=0.18.2 in /usr/local/lib/python3.7/dist-packages (from apache-beam[gcp]==2.24.0->-r requirements.txt (line 2)) (0.18.2)\n",
            "Requirement already satisfied: mock<3.0.0,>=1.0.1 in /usr/local/lib/python3.7/dist-packages (from apache-beam[gcp]==2.24.0->-r requirements.txt (line 2)) (2.0.0)\n",
            "Requirement already satisfied: fastavro<0.24,>=0.21.4 in /usr/local/lib/python3.7/dist-packages (from apache-beam[gcp]==2.24.0->-r requirements.txt (line 2)) (0.23.6)\n",
            "Requirement already satisfied: dill<0.3.2,>=0.3.1.1 in /usr/local/lib/python3.7/dist-packages (from apache-beam[gcp]==2.24.0->-r requirements.txt (line 2)) (0.3.1.1)\n",
            "Requirement already satisfied: oauth2client<4,>=2.0.1 in /usr/local/lib/python3.7/dist-packages (from apache-beam[gcp]==2.24.0->-r requirements.txt (line 2)) (3.0.0)\n",
            "Requirement already satisfied: crcmod<2.0,>=1.7 in /usr/local/lib/python3.7/dist-packages (from apache-beam[gcp]==2.24.0->-r requirements.txt (line 2)) (1.7)\n",
            "Requirement already satisfied: hdfs<3.0.0,>=2.1.0 in /usr/local/lib/python3.7/dist-packages (from apache-beam[gcp]==2.24.0->-r requirements.txt (line 2)) (2.6.0)\n",
            "Requirement already satisfied: pyarrow<0.18.0,>=0.15.1 in /usr/local/lib/python3.7/dist-packages (from apache-beam[gcp]==2.24.0->-r requirements.txt (line 2)) (0.17.1)\n",
            "Requirement already satisfied: pydot<2,>=1.2.0 in /usr/local/lib/python3.7/dist-packages (from apache-beam[gcp]==2.24.0->-r requirements.txt (line 2)) (1.3.0)\n",
            "Requirement already satisfied: pymongo<4.0.0,>=3.8.0 in /usr/local/lib/python3.7/dist-packages (from apache-beam[gcp]==2.24.0->-r requirements.txt (line 2)) (3.12.3)\n",
            "Requirement already satisfied: httplib2<0.18.0,>=0.8 in /usr/local/lib/python3.7/dist-packages (from apache-beam[gcp]==2.24.0->-r requirements.txt (line 2)) (0.17.4)\n",
            "Requirement already satisfied: grpcio-gcp<1,>=0.2.2 in /usr/local/lib/python3.7/dist-packages (from apache-beam[gcp]==2.24.0->-r requirements.txt (line 2)) (0.2.2)\n",
            "Requirement already satisfied: google-cloud-language<2,>=1.3.0 in /usr/local/lib/python3.7/dist-packages (from apache-beam[gcp]==2.24.0->-r requirements.txt (line 2)) (1.3.0)\n",
            "Requirement already satisfied: google-cloud-core<2,>=0.28.1 in /usr/local/lib/python3.7/dist-packages (from apache-beam[gcp]==2.24.0->-r requirements.txt (line 2)) (1.7.2)\n",
            "Requirement already satisfied: google-cloud-bigtable<2,>=0.31.1 in /usr/local/lib/python3.7/dist-packages (from apache-beam[gcp]==2.24.0->-r requirements.txt (line 2)) (1.7.0)\n",
            "Requirement already satisfied: google-apitools<0.5.32,>=0.5.31 in /usr/local/lib/python3.7/dist-packages (from apache-beam[gcp]==2.24.0->-r requirements.txt (line 2)) (0.5.31)\n",
            "Requirement already satisfied: google-cloud-pubsub<2,>=0.39.0 in /usr/local/lib/python3.7/dist-packages (from apache-beam[gcp]==2.24.0->-r requirements.txt (line 2)) (1.7.0)\n",
            "Requirement already satisfied: google-cloud-bigquery<2,>=1.6.0 in /usr/local/lib/python3.7/dist-packages (from apache-beam[gcp]==2.24.0->-r requirements.txt (line 2)) (1.21.0)\n",
            "Requirement already satisfied: google-cloud-vision<2,>=0.38.0 in /usr/local/lib/python3.7/dist-packages (from apache-beam[gcp]==2.24.0->-r requirements.txt (line 2)) (1.0.0)\n",
            "Requirement already satisfied: google-cloud-videointelligence<2,>=1.8.0 in /usr/local/lib/python3.7/dist-packages (from apache-beam[gcp]==2.24.0->-r requirements.txt (line 2)) (1.16.1)\n",
            "Requirement already satisfied: google-cloud-spanner<2,>=1.13.0 in /usr/local/lib/python3.7/dist-packages (from apache-beam[gcp]==2.24.0->-r requirements.txt (line 2)) (1.19.1)\n",
            "Requirement already satisfied: cachetools<4,>=3.1.0 in /usr/local/lib/python3.7/dist-packages (from apache-beam[gcp]==2.24.0->-r requirements.txt (line 2)) (3.1.1)\n",
            "Requirement already satisfied: google-cloud-dlp<2,>=0.12.0 in /usr/local/lib/python3.7/dist-packages (from apache-beam[gcp]==2.24.0->-r requirements.txt (line 2)) (1.0.0)\n",
            "Requirement already satisfied: google-cloud-datastore<2,>=1.7.1 in /usr/local/lib/python3.7/dist-packages (from apache-beam[gcp]==2.24.0->-r requirements.txt (line 2)) (1.8.0)\n",
            "Requirement already satisfied: wheel<1.0,>=0.23.0 in /usr/local/lib/python3.7/dist-packages (from astunparse>=1.6.0->tensorflow==2.8.0->-r requirements.txt (line 3)) (0.37.1)\n",
            "Requirement already satisfied: fasteners>=0.14 in /usr/local/lib/python3.7/dist-packages (from google-apitools<0.5.32,>=0.5.31->apache-beam[gcp]==2.24.0->-r requirements.txt (line 2)) (0.17.3)\n",
            "Requirement already satisfied: rsa<5,>=3.1.4 in /usr/local/lib/python3.7/dist-packages (from google-auth>=1.2->gcsfs==0.7.1->-r requirements.txt (line 6)) (4.8)\n",
            "Requirement already satisfied: pyasn1-modules>=0.2.1 in /usr/local/lib/python3.7/dist-packages (from google-auth>=1.2->gcsfs==0.7.1->-r requirements.txt (line 6)) (0.2.8)\n",
            "Requirement already satisfied: google-resumable-media!=0.4.0,<0.5.0dev,>=0.3.1 in /usr/local/lib/python3.7/dist-packages (from google-cloud-bigquery<2,>=1.6.0->apache-beam[gcp]==2.24.0->-r requirements.txt (line 2)) (0.4.1)\n",
            "Requirement already satisfied: google-api-core[grpc]<2.0.0dev,>=1.14.0 in /usr/local/lib/python3.7/dist-packages (from google-cloud-bigtable<2,>=0.31.1->apache-beam[gcp]==2.24.0->-r requirements.txt (line 2)) (1.26.3)\n",
            "Requirement already satisfied: grpc-google-iam-v1<0.13dev,>=0.12.3 in /usr/local/lib/python3.7/dist-packages (from google-cloud-bigtable<2,>=0.31.1->apache-beam[gcp]==2.24.0->-r requirements.txt (line 2)) (0.12.3)\n",
            "Requirement already satisfied: googleapis-common-protos<2.0dev,>=1.6.0 in /usr/local/lib/python3.7/dist-packages (from google-api-core[grpc]<2.0.0dev,>=1.14.0->google-cloud-bigtable<2,>=0.31.1->apache-beam[gcp]==2.24.0->-r requirements.txt (line 2)) (1.54.0)\n",
            "Requirement already satisfied: packaging>=14.3 in /usr/local/lib/python3.7/dist-packages (from google-api-core[grpc]<2.0.0dev,>=1.14.0->google-cloud-bigtable<2,>=0.31.1->apache-beam[gcp]==2.24.0->-r requirements.txt (line 2)) (21.3)\n",
            "Requirement already satisfied: cached-property in /usr/local/lib/python3.7/dist-packages (from h5py>=2.9.0->tensorflow==2.8.0->-r requirements.txt (line 3)) (1.5.2)\n",
            "Requirement already satisfied: docopt in /usr/local/lib/python3.7/dist-packages (from hdfs<3.0.0,>=2.1.0->apache-beam[gcp]==2.24.0->-r requirements.txt (line 2)) (0.6.2)\n",
            "Requirement already satisfied: pbr>=0.11 in /usr/local/lib/python3.7/dist-packages (from mock<3.0.0,>=1.0.1->apache-beam[gcp]==2.24.0->-r requirements.txt (line 2)) (5.8.1)\n",
            "Requirement already satisfied: pyasn1>=0.1.7 in /usr/local/lib/python3.7/dist-packages (from oauth2client<4,>=2.0.1->apache-beam[gcp]==2.24.0->-r requirements.txt (line 2)) (0.4.8)\n",
            "Requirement already satisfied: pyparsing!=3.0.5,>=2.0.2 in /usr/local/lib/python3.7/dist-packages (from packaging>=14.3->google-api-core[grpc]<2.0.0dev,>=1.14.0->google-cloud-bigtable<2,>=0.31.1->apache-beam[gcp]==2.24.0->-r requirements.txt (line 2)) (3.0.7)\n",
            "Requirement already satisfied: charset-normalizer~=2.0.0 in /usr/local/lib/python3.7/dist-packages (from requests->gcsfs==0.7.1->-r requirements.txt (line 6)) (2.0.12)\n",
            "Requirement already satisfied: certifi>=2017.4.17 in /usr/local/lib/python3.7/dist-packages (from requests->gcsfs==0.7.1->-r requirements.txt (line 6)) (2021.10.8)\n",
            "Requirement already satisfied: idna<4,>=2.5 in /usr/local/lib/python3.7/dist-packages (from requests->gcsfs==0.7.1->-r requirements.txt (line 6)) (2.10)\n",
            "Requirement already satisfied: urllib3<1.27,>=1.21.1 in /usr/local/lib/python3.7/dist-packages (from requests->gcsfs==0.7.1->-r requirements.txt (line 6)) (1.24.3)\n",
            "Requirement already satisfied: tensorboard-plugin-wit>=1.6.0 in /usr/local/lib/python3.7/dist-packages (from tensorboard<2.9,>=2.8->tensorflow==2.8.0->-r requirements.txt (line 3)) (1.8.1)\n",
            "Requirement already satisfied: tensorboard-data-server<0.7.0,>=0.6.0 in /usr/local/lib/python3.7/dist-packages (from tensorboard<2.9,>=2.8->tensorflow==2.8.0->-r requirements.txt (line 3)) (0.6.1)\n",
            "Requirement already satisfied: markdown>=2.6.8 in /usr/local/lib/python3.7/dist-packages (from tensorboard<2.9,>=2.8->tensorflow==2.8.0->-r requirements.txt (line 3)) (3.3.6)\n",
            "Requirement already satisfied: werkzeug>=0.11.15 in /usr/local/lib/python3.7/dist-packages (from tensorboard<2.9,>=2.8->tensorflow==2.8.0->-r requirements.txt (line 3)) (1.0.1)\n",
            "Requirement already satisfied: requests-oauthlib>=0.7.0 in /usr/local/lib/python3.7/dist-packages (from google-auth-oauthlib->gcsfs==0.7.1->-r requirements.txt (line 6)) (1.3.1)\n",
            "Requirement already satisfied: importlib-metadata>=4.4 in /usr/local/lib/python3.7/dist-packages (from markdown>=2.6.8->tensorboard<2.9,>=2.8->tensorflow==2.8.0->-r requirements.txt (line 3)) (4.11.1)\n",
            "Requirement already satisfied: zipp>=0.5 in /usr/local/lib/python3.7/dist-packages (from importlib-metadata>=4.4->markdown>=2.6.8->tensorboard<2.9,>=2.8->tensorflow==2.8.0->-r requirements.txt (line 3)) (3.7.0)\n",
            "Requirement already satisfied: oauthlib>=3.0.0 in /usr/local/lib/python3.7/dist-packages (from requests-oauthlib>=0.7.0->google-auth-oauthlib->gcsfs==0.7.1->-r requirements.txt (line 6)) (3.2.0)\n",
            "Requirement already satisfied: asynctest==0.13.0 in /usr/local/lib/python3.7/dist-packages (from aiohttp->gcsfs==0.7.1->-r requirements.txt (line 6)) (0.13.0)\n",
            "Requirement already satisfied: async-timeout<5.0,>=4.0.0a3 in /usr/local/lib/python3.7/dist-packages (from aiohttp->gcsfs==0.7.1->-r requirements.txt (line 6)) (4.0.2)\n",
            "Requirement already satisfied: frozenlist>=1.1.1 in /usr/local/lib/python3.7/dist-packages (from aiohttp->gcsfs==0.7.1->-r requirements.txt (line 6)) (1.3.0)\n",
            "Requirement already satisfied: multidict<7.0,>=4.5 in /usr/local/lib/python3.7/dist-packages (from aiohttp->gcsfs==0.7.1->-r requirements.txt (line 6)) (6.0.2)\n",
            "Requirement already satisfied: yarl<2.0,>=1.0 in /usr/local/lib/python3.7/dist-packages (from aiohttp->gcsfs==0.7.1->-r requirements.txt (line 6)) (1.7.2)\n",
            "Requirement already satisfied: attrs>=17.3.0 in /usr/local/lib/python3.7/dist-packages (from aiohttp->gcsfs==0.7.1->-r requirements.txt (line 6)) (21.4.0)\n",
            "Requirement already satisfied: aiosignal>=1.1.2 in /usr/local/lib/python3.7/dist-packages (from aiohttp->gcsfs==0.7.1->-r requirements.txt (line 6)) (1.2.0)\n"
          ]
        }
      ]
    },
    {
      "cell_type": "markdown",
      "metadata": {
        "id": "k0DDu27S3CJv"
      },
      "source": [
        "##**Entreglable (0.5 puntos)**\n",
        "\n",
        "Desarrollar un pipeline de preprocesamiento utilizando Apache Beam para generar datos de train, eval y test para los datos proporcionados anteriormente. Requisitos:\n",
        "\n",
        "- Proporcionar dos modos de ejecución: `train` y `test`\n",
        "- Soportar ejecuciones en local con `DirectRunner` y ejecuciones en Dataflow usando `DataFlowRunner`."
      ]
    },
    {
      "cell_type": "code",
      "metadata": {
        "id": "1blctlxs_dPO",
        "colab": {
          "base_uri": "https://localhost:8080/"
        },
        "outputId": "f4248898-4b94-4ba6-cb92-617433f3b1e4"
      },
      "source": [
        "%%writefile preprocess.py\n",
        "\n",
        "# Librerías\n",
        "from __future__ import absolute_import\n",
        "\n",
        "import argparse\n",
        "import logging\n",
        "import re\n",
        "import os\n",
        "import json\n",
        "import random\n",
        "\n",
        "from past.builtins import unicode\n",
        "\n",
        "import apache_beam as beam\n",
        "from apache_beam.io import ReadFromText\n",
        "from apache_beam.io import WriteToText\n",
        "from apache_beam.coders.coders import Coder\n",
        "from apache_beam.options.pipeline_options import PipelineOptions\n",
        "from apache_beam.options.pipeline_options import SetupOptions, DirectOptions\n",
        "import nltk\n",
        "from nltk.corpus import stopwords\n",
        "from nltk.stem import SnowballStemmer\n",
        "nltk.download(\"stopwords\")\n",
        "\n",
        "# Constantes globales\n",
        "STOP_WORDS = stopwords.words(\"english\")\n",
        "STEMMER = SnowballStemmer(\"english\")\n",
        "TEXT_CLEANING_RE = \"@\\S+|https?:\\S+|http?:\\S|[^A-Za-z0-9]+\"\n",
        "\n",
        "# Clases\n",
        "class ExtractColumnsDoFn(beam.DoFn):\n",
        "  def process(self, element):\n",
        "    element_split = json.loads(element)\n",
        "    yield element_split['content'], element_split['annotation']['label'][0]\n",
        "\n",
        "class PreprocessColumnsTrainFn(beam.DoFn):\n",
        "  def process_troll(self, troll):\n",
        "    troll = int(troll)\n",
        "    if troll == 1:\n",
        "      return \"TROLL\"\n",
        "    else:\n",
        "      return \"OK\"\n",
        "\n",
        "  def process_text(self, text):\n",
        "    # Remove link, user and special characters\n",
        "    stem = False\n",
        "    text = re.sub(TEXT_CLEANING_RE, \" \", str(text).lower()).strip()\n",
        "    tokens = []\n",
        "    for token in text.split():\n",
        "      if token not in STOP_WORDS:\n",
        "        if stem:\n",
        "          tokens.append(STEMMER.stem(token))\n",
        "        else:\n",
        "          tokens.append(token)\n",
        "    return \" \".join(tokens)\n",
        "\n",
        "  def process(self, element):\n",
        "    processed_text = self.process_text(element[0])\n",
        "    process_troll = self.process_troll(element[1])\n",
        "    yield f\"{processed_text}, {process_troll}\"\n",
        "\n",
        "class CustomCoder(Coder):\n",
        "  \"\"\"A custom coder used for reading and writing strings\"\"\"\n",
        "\n",
        "  def __init__(self, encoding: str):\n",
        "    # latin-1\n",
        "    # iso-8859-1\n",
        "    self.enconding = encoding\n",
        "\n",
        "  def encode(self, value):\n",
        "    return value.encode(self.enconding)\n",
        "\n",
        "  def decode(self, value):\n",
        "    return value.decode(self.enconding)\n",
        "\n",
        "  def is_deterministic(self):\n",
        "    return True\n",
        "\n",
        "def run(argv=None, save_main_session=True):\n",
        "\n",
        "  \"\"\"Main entry point; defines and runs the wordcount pipeline.\"\"\"\n",
        "\n",
        "  # Parsers\n",
        "  parser = argparse.ArgumentParser()\n",
        "\n",
        "  parser.add_argument(\n",
        "    \"--work-dir\", dest=\"work_dir\", required=True, help=\"Working directory\",\n",
        "  )\n",
        "\n",
        "  parser.add_argument(\n",
        "    \"--input\", dest=\"input\", required=True, help=\"Input dataset in work dir\",\n",
        "  )\n",
        "  parser.add_argument(\n",
        "    \"--output\",\n",
        "    dest=\"output\",\n",
        "    required=True,\n",
        "    help=\"Output path to store transformed data in work dir\",\n",
        "  )\n",
        "  parser.add_argument(\n",
        "    \"--mode\",\n",
        "    dest=\"mode\",\n",
        "    required=True,\n",
        "    choices=[\"train\", \"test\"],\n",
        "    help=\"Type of output to store transformed data\",\n",
        "  )\n",
        "\n",
        "  known_args, pipeline_args = parser.parse_known_args(argv)\n",
        "\n",
        "  # We use the save_main_session option because one or more DoFn's in this\n",
        "  # workflow rely on global context (e.g., a module imported at module level).\n",
        "  pipeline_options = PipelineOptions(pipeline_args)\n",
        "  pipeline_options.view_as(SetupOptions).save_main_session = save_main_session\n",
        "  pipeline_options.view_as(DirectOptions).direct_num_workers = 0\n",
        "\n",
        "  # The pipeline will be run on exiting the with block.\n",
        "  with beam.Pipeline(options=pipeline_options) as p:\n",
        "\n",
        "    # Read the text file[pattern] into a PCollection.\n",
        "    raw_data = p | \"ReadTwitchData\" >> ReadFromText(\n",
        "      known_args.input, coder=CustomCoder(\"latin-1\")\n",
        "    )\n",
        "\n",
        "    # Train\n",
        "    if known_args.mode == \"train\":\n",
        "\n",
        "        transformed_data = (\n",
        "          raw_data\n",
        "          | \"ExtractColumns\" >> beam.ParDo(ExtractColumnsDoFn())\n",
        "          | \"Preprocess\" >> beam.ParDo(PreprocessColumnsTrainFn())\n",
        "        )\n",
        "\n",
        "        eval_percent = 20\n",
        "        assert 0 < eval_percent < 100, \"eval_percent must in the range (0-100)\"\n",
        "        train_dataset, eval_dataset = (\n",
        "          transformed_data\n",
        "          | \"Split dataset\"\n",
        "          >> beam.Partition(\n",
        "            lambda elem, _: int(random.uniform(0, 100) < eval_percent), 2\n",
        "          )\n",
        "        )\n",
        "\n",
        "        train_dataset | \"TrainWriteToCSV\" >> WriteToText(\n",
        "          os.path.join(known_args.output, \"train\", \"part\")\n",
        "        )\n",
        "        eval_dataset | \"EvalWriteToCSV\" >> WriteToText(\n",
        "          os.path.join(known_args.output, \"eval\", \"part\")\n",
        "        )\n",
        "    # Test\n",
        "    else:\n",
        "        transformed_data = (\n",
        "          raw_data\n",
        "          | \"ExtractColumns\" >> beam.ParDo(ExtractColumnsDoFn())\n",
        "          | \"Preprocess\" >> beam.Map(lambda x: f'\"{x[0]}\"')\n",
        "        )\n",
        "\n",
        "        transformed_data | \"TestWriteToCSV\" >> WriteToText(\n",
        "          os.path.join(known_args.output, \"test\", \"part\")\n",
        "        )\n",
        "\n",
        "if __name__ == \"__main__\":\n",
        "  logging.getLogger().setLevel(logging.INFO)\n",
        "  run()"
      ],
      "execution_count": null,
      "outputs": [
        {
          "output_type": "stream",
          "name": "stdout",
          "text": [
            "Writing preprocess.py\n"
          ]
        }
      ]
    },
    {
      "cell_type": "markdown",
      "metadata": {
        "id": "qawuKC0k4B0e"
      },
      "source": [
        "Se proporciona un fichero `setup.py` necesario para ejecutar en DataFlow. Modificar la variable `REQUIRED_PACKAGES` con las dependencias que se hayan usado en el `requirements.txt`"
      ]
    },
    {
      "cell_type": "code",
      "metadata": {
        "id": "n1MQvWsk_mVX",
        "colab": {
          "base_uri": "https://localhost:8080/"
        },
        "outputId": "410aaf1c-100c-4c73-9449-b1846d3b25b9"
      },
      "source": [
        "%%writefile setup.py\n",
        "\n",
        "import setuptools\n",
        "\n",
        "REQUIRED_PACKAGES = [\n",
        "  \"apache-beam[gcp]==2.24.0\",\n",
        "  \"tensorflow==2.8.0\",\n",
        "  \"gensim==3.6.0\",\n",
        "  \"fsspec==0.8.4\",\n",
        "  \"gcsfs==0.7.1\",\n",
        "  \"numpy==1.20.0\",\n",
        "  \"keras==2.8.0\",\n",
        "  \"pandas==1.3.5\"\n",
        "]\n",
        "\n",
        "setuptools.setup(\n",
        "    name=\"twitchstreaming\",\n",
        "    version=\"0.0.1\",\n",
        "    install_requires=REQUIRED_PACKAGES,\n",
        "    packages=setuptools.find_packages(),\n",
        "    include_package_data=True,\n",
        "    description=\"Troll detection\",\n",
        ")"
      ],
      "execution_count": null,
      "outputs": [
        {
          "output_type": "stream",
          "name": "stdout",
          "text": [
            "Overwriting setup.py\n"
          ]
        }
      ]
    },
    {
      "cell_type": "markdown",
      "metadata": {
        "id": "jLDlz_fL4UJA"
      },
      "source": [
        "### Validación preprocess train en local (0.25 puntos)\n",
        "\n",
        "Con el comando mostrado a continuación se valida la correcta generación de los datos de entrenamiento y validación en local."
      ]
    },
    {
      "cell_type": "code",
      "metadata": {
        "id": "vFpirg37C3bN",
        "colab": {
          "base_uri": "https://localhost:8080/"
        },
        "outputId": "93196fe3-2eaa-40a2-e684-1c4a5583188e"
      },
      "source": [
        "! python3 preprocess.py \\\n",
        "  --work-dir $WORK_DIR \\\n",
        "  --runner DirectRunner \\\n",
        "  --input $WORK_DIR/data.json \\\n",
        "  --output $WORK_DIR/transformed_data \\\n",
        "  --mode train"
      ],
      "execution_count": null,
      "outputs": [
        {
          "output_type": "stream",
          "name": "stdout",
          "text": [
            "[nltk_data] Downloading package stopwords to /root/nltk_data...\n",
            "[nltk_data]   Unzipping corpora/stopwords.zip.\n",
            "INFO:apache_beam.runners.portability.fn_api_runner.translations:==================== <function annotate_downstream_side_inputs at 0x7f27ea7f6050> ====================\n",
            "INFO:apache_beam.runners.portability.fn_api_runner.translations:==================== <function fix_side_input_pcoll_coders at 0x7f27ea7f6170> ====================\n",
            "INFO:apache_beam.runners.portability.fn_api_runner.translations:==================== <function lift_combiners at 0x7f27ea7f6200> ====================\n",
            "INFO:apache_beam.runners.portability.fn_api_runner.translations:==================== <function expand_sdf at 0x7f27ea7f6290> ====================\n",
            "INFO:apache_beam.runners.portability.fn_api_runner.translations:==================== <function expand_gbk at 0x7f27ea7f6320> ====================\n",
            "INFO:apache_beam.runners.portability.fn_api_runner.translations:==================== <function sink_flattens at 0x7f27ea7f6440> ====================\n",
            "INFO:apache_beam.runners.portability.fn_api_runner.translations:==================== <function greedily_fuse at 0x7f27ea7f64d0> ====================\n",
            "INFO:apache_beam.runners.portability.fn_api_runner.translations:==================== <function read_to_impulse at 0x7f27ea7f6560> ====================\n",
            "INFO:apache_beam.runners.portability.fn_api_runner.translations:==================== <function impulse_to_input at 0x7f27ea7f65f0> ====================\n",
            "INFO:apache_beam.runners.portability.fn_api_runner.translations:==================== <function sort_stages at 0x7f27ea7f6830> ====================\n",
            "INFO:apache_beam.runners.portability.fn_api_runner.translations:==================== <function setup_timer_mapping at 0x7f27ea7f67a0> ====================\n",
            "INFO:apache_beam.runners.portability.fn_api_runner.translations:==================== <function populate_data_channel_coders at 0x7f27ea7f68c0> ====================\n",
            "INFO:apache_beam.runners.worker.statecache:Creating state cache with size 100\n",
            "INFO:apache_beam.runners.portability.fn_api_runner.worker_handlers:Created Worker handler <apache_beam.runners.portability.fn_api_runner.worker_handlers.EmbeddedWorkerHandler object at 0x7f27ea7ea850> for environment ref_Environment_default_environment_1 (beam:env:embedded_python:v1, b'')\n",
            "INFO:apache_beam.runners.worker.statecache:Creating state cache with size 100\n",
            "INFO:apache_beam.runners.portability.fn_api_runner.worker_handlers:Created Worker handler <apache_beam.runners.portability.fn_api_runner.worker_handlers.EmbeddedWorkerHandler object at 0x7f27ea7eaad0> for environment ref_Environment_default_environment_1 (beam:env:embedded_python:v1, b'')\n",
            "INFO:apache_beam.runners.portability.fn_api_runner.fn_runner:Running (((((ref_AppliedPTransform_TrainWriteToCSV/Write/WriteImpl/DoOnce/Impulse_16)+(ref_AppliedPTransform_TrainWriteToCSV/Write/WriteImpl/DoOnce/FlatMap(<lambda at core.py:2826>)_17))+(ref_AppliedPTransform_TrainWriteToCSV/Write/WriteImpl/DoOnce/Map(decode)_19))+(ref_AppliedPTransform_TrainWriteToCSV/Write/WriteImpl/InitializeWrite_20))+(ref_PCollection_PCollection_10/Write))+(ref_PCollection_PCollection_11/Write)\n",
            "INFO:apache_beam.runners.portability.fn_api_runner.fn_runner:Running (((ref_AppliedPTransform_ReadTwitchData/Read/_SDFBoundedSourceWrapper/Impulse_5)+(ReadTwitchData/Read/_SDFBoundedSourceWrapper/ParDo(SDFBoundedSourceDoFn)/PairWithRestriction))+(ReadTwitchData/Read/_SDFBoundedSourceWrapper/ParDo(SDFBoundedSourceDoFn)/SplitAndSizeRestriction))+(ref_PCollection_PCollection_1_split/Write)\n",
            "INFO:apache_beam.runners.portability.fn_api_runner.fn_runner:Running (((((ref_AppliedPTransform_EvalWriteToCSV/Write/WriteImpl/DoOnce/Impulse_32)+(ref_AppliedPTransform_EvalWriteToCSV/Write/WriteImpl/DoOnce/FlatMap(<lambda at core.py:2826>)_33))+(ref_AppliedPTransform_EvalWriteToCSV/Write/WriteImpl/DoOnce/Map(decode)_35))+(ref_AppliedPTransform_EvalWriteToCSV/Write/WriteImpl/InitializeWrite_36))+(ref_PCollection_PCollection_21/Write))+(ref_PCollection_PCollection_22/Write)\n",
            "INFO:apache_beam.runners.portability.fn_api_runner.fn_runner:Running ((((((((((((ref_PCollection_PCollection_1_split/Read)+(ReadTwitchData/Read/_SDFBoundedSourceWrapper/ParDo(SDFBoundedSourceDoFn)/Process))+(ref_AppliedPTransform_ExtractColumns_7))+(ref_AppliedPTransform_Preprocess_8))+(ref_AppliedPTransform_Split dataset/ParDo(ApplyPartitionFnFn)/ParDo(ApplyPartitionFnFn)_11))+(ref_AppliedPTransform_EvalWriteToCSV/Write/WriteImpl/WindowInto(WindowIntoFn)_37))+(ref_AppliedPTransform_TrainWriteToCSV/Write/WriteImpl/WindowInto(WindowIntoFn)_21))+(ref_AppliedPTransform_TrainWriteToCSV/Write/WriteImpl/WriteBundles_22))+(ref_AppliedPTransform_TrainWriteToCSV/Write/WriteImpl/Pair_23))+(TrainWriteToCSV/Write/WriteImpl/GroupByKey/Write))+(ref_AppliedPTransform_EvalWriteToCSV/Write/WriteImpl/WriteBundles_38))+(ref_AppliedPTransform_EvalWriteToCSV/Write/WriteImpl/Pair_39))+(EvalWriteToCSV/Write/WriteImpl/GroupByKey/Write)\n",
            "INFO:apache_beam.runners.portability.fn_api_runner.fn_runner:Running ((EvalWriteToCSV/Write/WriteImpl/GroupByKey/Read)+(ref_AppliedPTransform_EvalWriteToCSV/Write/WriteImpl/Extract_41))+(ref_PCollection_PCollection_27/Write)\n",
            "INFO:apache_beam.runners.portability.fn_api_runner.fn_runner:Running ((ref_PCollection_PCollection_21/Read)+(ref_AppliedPTransform_EvalWriteToCSV/Write/WriteImpl/PreFinalize_42))+(ref_PCollection_PCollection_28/Write)\n",
            "INFO:apache_beam.runners.portability.fn_api_runner.fn_runner:Running ((TrainWriteToCSV/Write/WriteImpl/GroupByKey/Read)+(ref_AppliedPTransform_TrainWriteToCSV/Write/WriteImpl/Extract_25))+(ref_PCollection_PCollection_16/Write)\n",
            "INFO:apache_beam.runners.portability.fn_api_runner.fn_runner:Running ((ref_PCollection_PCollection_10/Read)+(ref_AppliedPTransform_TrainWriteToCSV/Write/WriteImpl/PreFinalize_26))+(ref_PCollection_PCollection_17/Write)\n",
            "INFO:apache_beam.runners.portability.fn_api_runner.fn_runner:Running (ref_PCollection_PCollection_10/Read)+(ref_AppliedPTransform_TrainWriteToCSV/Write/WriteImpl/FinalizeWrite_27)\n",
            "INFO:apache_beam.io.filebasedsink:Starting finalize_write threads with num_shards: 2 (skipped: 0), batches: 2, num_threads: 2\n",
            "INFO:apache_beam.io.filebasedsink:Renamed 2 shards in 0.10 seconds.\n",
            "INFO:apache_beam.runners.portability.fn_api_runner.fn_runner:Running (ref_PCollection_PCollection_21/Read)+(ref_AppliedPTransform_EvalWriteToCSV/Write/WriteImpl/FinalizeWrite_43)\n",
            "INFO:apache_beam.io.filebasedsink:Starting finalize_write threads with num_shards: 2 (skipped: 0), batches: 2, num_threads: 2\n",
            "INFO:apache_beam.io.filebasedsink:Renamed 2 shards in 0.10 seconds.\n"
          ]
        }
      ]
    },
    {
      "cell_type": "code",
      "source": [
        "# Visualizamos que haya funcionado\n",
        "!ls $WORK_DIR/transformed_data/eval\n",
        "!ls $WORK_DIR/transformed_data/train"
      ],
      "metadata": {
        "colab": {
          "base_uri": "https://localhost:8080/"
        },
        "id": "iC2iic1siiPJ",
        "outputId": "f02bd9bd-4ebd-421d-ed59-141d5cd27981"
      },
      "execution_count": null,
      "outputs": [
        {
          "output_type": "stream",
          "name": "stdout",
          "text": [
            "part-00000-of-00002  part-00001-of-00002\n",
            "part-00000-of-00002  part-00001-of-00002\n"
          ]
        }
      ]
    },
    {
      "cell_type": "markdown",
      "metadata": {
        "id": "wkkG271a4qnA"
      },
      "source": [
        "### Validación preprocess test en local (0.25 puntos)\n",
        "\n",
        "Con el comando mostrado a continuación se valida la correcta generación de los datos de test en local."
      ]
    },
    {
      "cell_type": "code",
      "metadata": {
        "id": "u4lkLgecLS3i",
        "colab": {
          "base_uri": "https://localhost:8080/"
        },
        "outputId": "78e73b81-6706-4afa-fa36-2fb718445ba0"
      },
      "source": [
        "! python3 preprocess.py \\\n",
        "  --work-dir $WORK_DIR \\\n",
        "  --runner DirectRunner \\\n",
        "  --input $WORK_DIR/data.json \\\n",
        "  --output $WORK_DIR/transformed_data \\\n",
        "  --mode test"
      ],
      "execution_count": null,
      "outputs": [
        {
          "output_type": "stream",
          "name": "stdout",
          "text": [
            "[nltk_data] Downloading package stopwords to /root/nltk_data...\n",
            "[nltk_data]   Package stopwords is already up-to-date!\n",
            "INFO:apache_beam.runners.portability.fn_api_runner.translations:==================== <function annotate_downstream_side_inputs at 0x7f9fa5f47d40> ====================\n",
            "INFO:apache_beam.runners.portability.fn_api_runner.translations:==================== <function fix_side_input_pcoll_coders at 0x7f9fa5f47e60> ====================\n",
            "INFO:apache_beam.runners.portability.fn_api_runner.translations:==================== <function lift_combiners at 0x7f9fa5f47ef0> ====================\n",
            "INFO:apache_beam.runners.portability.fn_api_runner.translations:==================== <function expand_sdf at 0x7f9fa5f47f80> ====================\n",
            "INFO:apache_beam.runners.portability.fn_api_runner.translations:==================== <function expand_gbk at 0x7f9fa5f48050> ====================\n",
            "INFO:apache_beam.runners.portability.fn_api_runner.translations:==================== <function sink_flattens at 0x7f9fa5f48170> ====================\n",
            "INFO:apache_beam.runners.portability.fn_api_runner.translations:==================== <function greedily_fuse at 0x7f9fa5f48200> ====================\n",
            "INFO:apache_beam.runners.portability.fn_api_runner.translations:==================== <function read_to_impulse at 0x7f9fa5f48290> ====================\n",
            "INFO:apache_beam.runners.portability.fn_api_runner.translations:==================== <function impulse_to_input at 0x7f9fa5f48320> ====================\n",
            "INFO:apache_beam.runners.portability.fn_api_runner.translations:==================== <function sort_stages at 0x7f9fa5f48560> ====================\n",
            "INFO:apache_beam.runners.portability.fn_api_runner.translations:==================== <function setup_timer_mapping at 0x7f9fa5f484d0> ====================\n",
            "INFO:apache_beam.runners.portability.fn_api_runner.translations:==================== <function populate_data_channel_coders at 0x7f9fa5f485f0> ====================\n",
            "INFO:apache_beam.runners.worker.statecache:Creating state cache with size 100\n",
            "INFO:apache_beam.runners.portability.fn_api_runner.worker_handlers:Created Worker handler <apache_beam.runners.portability.fn_api_runner.worker_handlers.EmbeddedWorkerHandler object at 0x7f9fa631d2d0> for environment ref_Environment_default_environment_1 (beam:env:embedded_python:v1, b'')\n",
            "INFO:apache_beam.runners.worker.statecache:Creating state cache with size 100\n",
            "INFO:apache_beam.runners.portability.fn_api_runner.worker_handlers:Created Worker handler <apache_beam.runners.portability.fn_api_runner.worker_handlers.EmbeddedWorkerHandler object at 0x7f9fa5c867d0> for environment ref_Environment_default_environment_1 (beam:env:embedded_python:v1, b'')\n",
            "INFO:apache_beam.runners.portability.fn_api_runner.fn_runner:Running (((ref_AppliedPTransform_ReadTwitchData/Read/_SDFBoundedSourceWrapper/Impulse_5)+(ReadTwitchData/Read/_SDFBoundedSourceWrapper/ParDo(SDFBoundedSourceDoFn)/PairWithRestriction))+(ReadTwitchData/Read/_SDFBoundedSourceWrapper/ParDo(SDFBoundedSourceDoFn)/SplitAndSizeRestriction))+(ref_PCollection_PCollection_1_split/Write)\n",
            "INFO:apache_beam.runners.portability.fn_api_runner.fn_runner:Running (((((ref_AppliedPTransform_TestWriteToCSV/Write/WriteImpl/DoOnce/Impulse_13)+(ref_AppliedPTransform_TestWriteToCSV/Write/WriteImpl/DoOnce/FlatMap(<lambda at core.py:2826>)_14))+(ref_AppliedPTransform_TestWriteToCSV/Write/WriteImpl/DoOnce/Map(decode)_16))+(ref_AppliedPTransform_TestWriteToCSV/Write/WriteImpl/InitializeWrite_17))+(ref_PCollection_PCollection_7/Write))+(ref_PCollection_PCollection_8/Write)\n",
            "INFO:apache_beam.runners.portability.fn_api_runner.fn_runner:Running (((((((ref_PCollection_PCollection_1_split/Read)+(ReadTwitchData/Read/_SDFBoundedSourceWrapper/ParDo(SDFBoundedSourceDoFn)/Process))+(ref_AppliedPTransform_ExtractColumns_7))+(ref_AppliedPTransform_Preprocess_8))+(ref_AppliedPTransform_TestWriteToCSV/Write/WriteImpl/WindowInto(WindowIntoFn)_18))+(ref_AppliedPTransform_TestWriteToCSV/Write/WriteImpl/WriteBundles_19))+(ref_AppliedPTransform_TestWriteToCSV/Write/WriteImpl/Pair_20))+(TestWriteToCSV/Write/WriteImpl/GroupByKey/Write)\n",
            "INFO:apache_beam.runners.portability.fn_api_runner.fn_runner:Running ((TestWriteToCSV/Write/WriteImpl/GroupByKey/Read)+(ref_AppliedPTransform_TestWriteToCSV/Write/WriteImpl/Extract_22))+(ref_PCollection_PCollection_13/Write)\n",
            "INFO:apache_beam.runners.portability.fn_api_runner.fn_runner:Running ((ref_PCollection_PCollection_7/Read)+(ref_AppliedPTransform_TestWriteToCSV/Write/WriteImpl/PreFinalize_23))+(ref_PCollection_PCollection_14/Write)\n",
            "INFO:apache_beam.runners.portability.fn_api_runner.fn_runner:Running (ref_PCollection_PCollection_7/Read)+(ref_AppliedPTransform_TestWriteToCSV/Write/WriteImpl/FinalizeWrite_24)\n",
            "INFO:apache_beam.io.filebasedsink:Starting finalize_write threads with num_shards: 2 (skipped: 0), batches: 2, num_threads: 2\n",
            "INFO:apache_beam.io.filebasedsink:Renamed 2 shards in 0.16 seconds.\n"
          ]
        }
      ]
    },
    {
      "cell_type": "code",
      "source": [
        "# Visualizamos que haya funcionado\n",
        "!ls $WORK_DIR/transformed_data/test"
      ],
      "metadata": {
        "colab": {
          "base_uri": "https://localhost:8080/"
        },
        "id": "UC83zCN0i2Fs",
        "outputId": "26e6aae6-4990-4b75-dcf8-3acfb8ff55d9"
      },
      "execution_count": null,
      "outputs": [
        {
          "output_type": "stream",
          "name": "stdout",
          "text": [
            "part-00000-of-00002  part-00001-of-00002\n"
          ]
        }
      ]
    },
    {
      "cell_type": "markdown",
      "metadata": {
        "id": "geZM9Sbj45LK"
      },
      "source": [
        "## Entregable 2 (1.25 puntos)\n",
        "\n",
        "Desarrollar una tarea de entrenamiento para los datos preprocesados. Requisitos:\n",
        "\n",
        "- Soportar ejecuciones en local usando el SDK de AI-Platform y ejecuciones en GCP con el mismo código."
      ]
    },
    {
      "cell_type": "markdown",
      "metadata": {
        "id": "OMUwXgm_5el-"
      },
      "source": [
        "Se crea el directorio donde se dejará este entregable."
      ]
    },
    {
      "cell_type": "code",
      "metadata": {
        "id": "HMi8dI1gLoIc"
      },
      "source": [
        "%mkdir /content/batch/trainer"
      ],
      "execution_count": null,
      "outputs": []
    },
    {
      "cell_type": "code",
      "source": [
        "%mkdir /content/batch/model"
      ],
      "metadata": {
        "id": "7U2leiVbRmCz"
      },
      "execution_count": null,
      "outputs": []
    },
    {
      "cell_type": "code",
      "metadata": {
        "id": "3dJyMXTuNPwo",
        "colab": {
          "base_uri": "https://localhost:8080/"
        },
        "outputId": "c438e821-0fad-4817-8b3e-0e828ec13abb"
      },
      "source": [
        "%%writefile trainer/__init__.py\n",
        "\n",
        "version = \"0.1.0\""
      ],
      "execution_count": null,
      "outputs": [
        {
          "output_type": "stream",
          "name": "stdout",
          "text": [
            "Writing trainer/__init__.py\n"
          ]
        }
      ]
    },
    {
      "cell_type": "code",
      "metadata": {
        "id": "mUu6gKaTL_S2",
        "colab": {
          "base_uri": "https://localhost:8080/"
        },
        "outputId": "432e385e-bdb7-4be0-f3da-37a49d24aea5"
      },
      "source": [
        "%%writefile trainer/task.py\n",
        "\n",
        "from __future__ import absolute_import\n",
        "\n",
        "import argparse\n",
        "import multiprocessing as mp\n",
        "import logging\n",
        "import tempfile\n",
        "import os\n",
        "\n",
        "import pickle\n",
        "import gensim\n",
        "import pandas as pd\n",
        "import numpy as np\n",
        "import tensorflow as tf\n",
        "\n",
        "from tensorflow.keras.preprocessing.text import Tokenizer\n",
        "from tensorflow.keras.preprocessing.sequence import pad_sequences\n",
        "from tensorflow.keras.models import Sequential\n",
        "from tensorflow.keras.layers import (\n",
        "    Dense,\n",
        "    Dropout,\n",
        "    Embedding,\n",
        "    LSTM,\n",
        ")\n",
        "from tensorflow.keras.callbacks import ReduceLROnPlateau, EarlyStopping\n",
        "from sklearn.preprocessing import LabelEncoder\n",
        "\n",
        "# WORD2VEC\n",
        "W2V_SIZE = 300\n",
        "W2V_WINDOW = 7\n",
        "# 32\n",
        "W2V_EPOCH = 5\n",
        "W2V_MIN_COUNT = 10\n",
        "\n",
        "# KERAS\n",
        "SEQUENCE_LENGTH = 300\n",
        "\n",
        "# LABEL\n",
        "IS_TROLL = \"TROLL\"\n",
        "ISNT_TROLL = \"OK\"\n",
        "TROLL_THRESHOLD = 0.5\n",
        "\n",
        "# EXPORT\n",
        "KERAS_MODEL = \"model.h5\"\n",
        "WORD2VEC_MODEL = \"model.w2v\"\n",
        "TOKENIZER_MODEL = \"tokenizer.pkl\"\n",
        "ENCODER_MODEL = \"encoder.pkl\"\n",
        "\n",
        "def generate_word2vec(train_df):\n",
        "    documents = [_text.split() for _text in train_df.text.values]\n",
        "    w2v_model = gensim.models.word2vec.Word2Vec(\n",
        "        size=W2V_SIZE,\n",
        "        window=W2V_WINDOW,\n",
        "        min_count=W2V_MIN_COUNT,\n",
        "        workers=mp.cpu_count(),\n",
        "    )\n",
        "    w2v_model.build_vocab(documents)\n",
        "\n",
        "    words = w2v_model.wv.vocab.keys()\n",
        "    vocab_size = len(words)\n",
        "    logging.info(f\"Vocab size: {vocab_size}\")\n",
        "    w2v_model.train(documents, total_examples=len(documents), epochs=W2V_EPOCH)\n",
        "\n",
        "    return w2v_model\n",
        "\n",
        "def generate_tokenizer(train_df):\n",
        "  tokenizer = Tokenizer()\n",
        "  tokenizer.fit_on_texts(train_df.text)\n",
        "  vocab_size = len(tokenizer.word_index) + 1\n",
        "  logging.info(f\"Total words: {vocab_size}\")\n",
        "  return tokenizer, vocab_size\n",
        "\n",
        "def generate_label_encoder(train_df):\n",
        "    encoder = LabelEncoder()\n",
        "    encoder.fit(train_df.type_of_comment.tolist())\n",
        "    return encoder\n",
        "\n",
        "def generate_embedding(word2vec_model, vocab_size, tokenizer):\n",
        "    embedding_matrix = np.zeros((vocab_size, W2V_SIZE))\n",
        "    for word, i in tokenizer.word_index.items():\n",
        "        if word in word2vec_model.wv:\n",
        "            embedding_matrix[i] = word2vec_model.wv[word]\n",
        "    return Embedding(\n",
        "        vocab_size,\n",
        "        W2V_SIZE,\n",
        "        weights=[embedding_matrix],\n",
        "        input_length=SEQUENCE_LENGTH,\n",
        "        trainable=True,\n",
        "    )\n",
        "\n",
        "\n",
        "def train_and_evaluate(\n",
        "    work_dir, train_df, eval_df, batch_size=1024, epochs=8, steps=1000\n",
        "):\n",
        "\n",
        "    \"\"\"\n",
        "    Trains and evaluates the estimator given.\n",
        "    The input functions are generated by the preprocessing function.\n",
        "    \"\"\"\n",
        "\n",
        "    model_dir = os.path.join(work_dir, \"model\")\n",
        "    if tf.io.gfile.exists(model_dir):\n",
        "        tf.io.gfile.rmtree(model_dir)\n",
        "    tf.io.gfile.mkdir(model_dir)\n",
        "\n",
        "    # Specify where to store our model\n",
        "    run_config = tf.estimator.RunConfig()\n",
        "    run_config = run_config.replace(model_dir=model_dir)\n",
        "\n",
        "    # This will give us a more granular visualization of the training\n",
        "    run_config = run_config.replace(save_summary_steps=10)\n",
        "\n",
        "    # Create Word2vec of training data\n",
        "    logging.info(\"---- Generating word2vec model ----\")\n",
        "    word2vec_model = generate_word2vec(train_df)\n",
        "\n",
        "    # Tokenize training data\n",
        "    logging.info(\"---- Generating tokenizer ----\")\n",
        "    tokenizer, vocab_size = generate_tokenizer(train_df)\n",
        "\n",
        "    logging.info(\"---- Tokenizing train data ----\")\n",
        "    x_train = pad_sequences(\n",
        "        tokenizer.texts_to_sequences(train_df.text), maxlen=SEQUENCE_LENGTH\n",
        "    )\n",
        "\n",
        "    logging.info(\"---- Tokenizing eval data ----\")\n",
        "    x_eval = pad_sequences(\n",
        "        tokenizer.texts_to_sequences(eval_df.text), maxlen=SEQUENCE_LENGTH\n",
        "    )\n",
        "\n",
        "    # Label Encoder\n",
        "    logging.info(\"---- Generating label encoder ----\")\n",
        "    label_encoder = generate_label_encoder(train_df)\n",
        "\n",
        "\n",
        "    logging.info(\"---- Encoding train target ----\")\n",
        "    y_train = label_encoder.transform(train_df.type_of_comment.tolist())\n",
        "    logging.info(\"---- Encoding eval target ----\")\n",
        "    y_eval = label_encoder.transform(eval_df.type_of_comment.tolist())\n",
        "\n",
        "    y_train = y_train.reshape(-1, 1)\n",
        "    y_eval = y_eval.reshape(-1, 1)\n",
        "\n",
        "    # Create Embedding Layer\n",
        "    logging.info(\"---- Generating embedding layer ----\")\n",
        "    embedding_layer = generate_embedding(word2vec_model, vocab_size, tokenizer)\n",
        "\n",
        "    logging.info(\"---- Generating Sequential model ----\")\n",
        "    model = Sequential()\n",
        "    model.add(embedding_layer)\n",
        "    model.add(LSTM(256))\n",
        "    model.add(Dropout(0.2))\n",
        "    model.add(Dense(128, activation='relu'))\n",
        "    model.add(Dropout(0.2))\n",
        "    model.add(Dense(1, activation=\"sigmoid\"))\n",
        "\n",
        "    model.summary()\n",
        "\n",
        "    logging.info(\"---- Adding loss function to model ----\")\n",
        "    model.compile(\n",
        "        loss=\"binary_crossentropy\", \n",
        "        optimizer=tf.keras.optimizers.Adam(learning_rate=0.0005), \n",
        "        metrics=[\"accuracy\"])\n",
        "\n",
        "    logging.info(\"---- Adding callbacks to model ----\")\n",
        "    callbacks = [\n",
        "        ReduceLROnPlateau(monitor=\"val_loss\", patience=5, cooldown=0),\n",
        "        EarlyStopping(monitor=\"val_loss\", min_delta=1e-4, patience=5, restore_best_weights=True),\n",
        "    ]\n",
        "\n",
        "    logging.info(\"---- Training model ----\")\n",
        "    print(x_train.shape)\n",
        "    model.fit(\n",
        "        x_train,\n",
        "        y_train,\n",
        "        batch_size=batch_size,\n",
        "        steps_per_epoch=steps,\n",
        "        epochs=epochs,\n",
        "        validation_data=(x_eval, y_eval),\n",
        "        #validation_split=0.1,\n",
        "        verbose=1,\n",
        "        callbacks=callbacks,\n",
        "    )\n",
        "\n",
        "    logging.info(\"---- Evaluating model ----\")\n",
        "    score = model.evaluate(x_eval, y_eval, batch_size=batch_size)\n",
        "    logging.info(f\"ACCURACY: {score[1]}\")\n",
        "    logging.info(f\"LOSS: {score[0]}\")\n",
        "\n",
        "    logging.info(\"---- Saving models ----\")\n",
        "    pickle.dump(\n",
        "        tokenizer,\n",
        "        tf.io.gfile.GFile(os.path.join(model_dir, TOKENIZER_MODEL), mode=\"wb\"),\n",
        "        protocol=0,\n",
        "    )\n",
        "    with tempfile.NamedTemporaryFile(suffix=\".h5\") as local_file:\n",
        "        with tf.io.gfile.GFile(\n",
        "            os.path.join(model_dir, KERAS_MODEL), mode=\"wb\"\n",
        "        ) as gcs_file:\n",
        "            model.save(local_file.name)\n",
        "            gcs_file.write(local_file.read())\n",
        "\n",
        "if __name__ == \"__main__\":\n",
        "\n",
        "    \"\"\"Main function called by AI Platform.\"\"\"\n",
        "\n",
        "    logging.getLogger().setLevel(logging.INFO)\n",
        "\n",
        "    parser = argparse.ArgumentParser(\n",
        "        formatter_class=argparse.ArgumentDefaultsHelpFormatter\n",
        "    )\n",
        "\n",
        "    parser.add_argument(\n",
        "        \"--job-dir\",\n",
        "        help=\"Directory for staging trainer files. \"\n",
        "        \"This can be a Google Cloud Storage path.\",\n",
        "    )\n",
        "\n",
        "    parser.add_argument(\n",
        "        \"--work-dir\",\n",
        "        required=True,\n",
        "        help=\"Directory for staging and working files. \"\n",
        "        \"This can be a Google Cloud Storage path.\",\n",
        "    )\n",
        "\n",
        "    parser.add_argument(\n",
        "        \"--batch-size\",\n",
        "        type=int,\n",
        "        default=1024,\n",
        "        help=\"Batch size for training and evaluation.\",\n",
        "    )\n",
        "\n",
        "    parser.add_argument(\n",
        "        \"--epochs\", type=int, default=8, help=\"Number of epochs to train the model\",\n",
        "    )\n",
        "\n",
        "    parser.add_argument(\n",
        "        \"--steps\",\n",
        "        type=int,\n",
        "        default=1000,\n",
        "        help=\"Number of steps per epoch to train the model\",\n",
        "    )\n",
        "\n",
        "    args = parser.parse_args()\n",
        "\n",
        "    train_data_files = tf.io.gfile.glob(\n",
        "        os.path.join(args.work_dir, \"transformed_data/train/part-*\")\n",
        "    )\n",
        "\n",
        "    eval_data_files = tf.io.gfile.glob(\n",
        "        os.path.join(args.work_dir, \"transformed_data/eval/part-*\")\n",
        "    )\n",
        "\n",
        "    train_df = pd.concat(\n",
        "        [\n",
        "            pd.read_csv(\n",
        "                f,\n",
        "                names=[\"text\", \"type_of_comment\"],\n",
        "                dtype={\"text\": \"string\", \"type_of_comment\": \"string\"},\n",
        "            )\n",
        "            for f in train_data_files\n",
        "        ]\n",
        "    ).dropna()\n",
        "\n",
        "    eval_df = pd.concat(\n",
        "        [\n",
        "            pd.read_csv(\n",
        "                f,\n",
        "                names=[\"text\", \"type_of_comment\"],\n",
        "                dtype={\"text\": \"string\", \"type_of_comment\": \"string\"},\n",
        "            )\n",
        "            for f in eval_data_files\n",
        "        ]\n",
        "    ).dropna()\n",
        "\n",
        "    train_and_evaluate(\n",
        "        args.work_dir,\n",
        "        train_df=train_df,\n",
        "        eval_df=eval_df,\n",
        "        batch_size=args.batch_size,\n",
        "        epochs=args.epochs,\n",
        "        steps=args.steps,\n",
        "    )"
      ],
      "execution_count": null,
      "outputs": [
        {
          "output_type": "stream",
          "name": "stdout",
          "text": [
            "Overwriting trainer/task.py\n"
          ]
        }
      ]
    },
    {
      "cell_type": "markdown",
      "metadata": {
        "id": "8axPHdHX6d9W"
      },
      "source": [
        "### Validación Train en local\n",
        "\n",
        "Con el comando mostrado a continuación se valida el correcto entrenamiento del modelo usando los datos preprocesados del apartado anterior."
      ]
    },
    {
      "cell_type": "code",
      "metadata": {
        "id": "m9997ZzsLmq-",
        "colab": {
          "base_uri": "https://localhost:8080/"
        },
        "outputId": "8f296555-ca85-44aa-9882-2ce487af2e91"
      },
      "source": [
        "# Explicitly tell `gcloud ai-platform local train` to use Python 3 \n",
        "! gcloud config set ml_engine/local_python $(which python3)\n",
        "\n",
        "# This is similar to `python -m trainer.task --job-dir local-training-output`\n",
        "# but it better replicates the AI Platform environment, especially for\n",
        "# distributed training (not applicable here).\n",
        "! gcloud ai-platform local train \\\n",
        "  --package-path trainer \\\n",
        "  --module-name trainer.task \\\n",
        "  -- \\\n",
        "  --work-dir $WORK_DIR \\\n",
        "  --epochs 15 \\\n",
        "  --steps 14 \\\n",
        "  --batch-size 1024"
      ],
      "execution_count": null,
      "outputs": [
        {
          "output_type": "stream",
          "name": "stdout",
          "text": [
            "Updated property [ml_engine/local_python].\n",
            "INFO:tensorflow:TF_CONFIG environment variable: {'job': {'job_name': 'trainer.task', 'args': ['--work-dir', '/content/batch', '--epochs', '15', '--steps', '14', '--batch-size', '1024']}, 'task': {}, 'cluster': {}, 'environment': 'cloud'}\n",
            "INFO:root:---- Generating word2vec model ----\n",
            "INFO:gensim.models.word2vec:collecting all words and their counts\n",
            "INFO:gensim.models.word2vec:PROGRESS: at sentence #0, processed 0 words, keeping 0 word types\n",
            "INFO:gensim.models.word2vec:PROGRESS: at sentence #10000, processed 78927 words, keeping 10742 word types\n",
            "INFO:gensim.models.word2vec:collected 14791 word types from a corpus of 114685 raw words and 16005 sentences\n",
            "INFO:gensim.models.word2vec:Loading a fresh vocabulary\n",
            "INFO:gensim.models.word2vec:effective_min_count=10 retains 1610 unique words (10% of original 14791, drops 13181)\n",
            "INFO:gensim.models.word2vec:effective_min_count=10 leaves 85044 word corpus (74% of original 114685, drops 29641)\n",
            "INFO:gensim.models.word2vec:deleting the raw counts dictionary of 14791 items\n",
            "INFO:gensim.models.word2vec:sample=0.001 downsamples 56 most-common words\n",
            "INFO:gensim.models.word2vec:downsampling leaves estimated 70814 word corpus (83.3% of prior 85044)\n",
            "INFO:gensim.models.base_any2vec:estimated required memory for 1610 words and 300 dimensions: 4669000 bytes\n",
            "INFO:gensim.models.word2vec:resetting layer weights\n",
            "INFO:root:Vocab size: 1610\n",
            "INFO:gensim.models.base_any2vec:training model with 2 workers on 1610 vocabulary and 300 features, using sg=0 hs=0 sample=0.001 negative=5 window=7\n",
            "INFO:gensim.models.base_any2vec:worker thread finished; awaiting finish of 1 more threads\n",
            "INFO:gensim.models.base_any2vec:worker thread finished; awaiting finish of 0 more threads\n",
            "INFO:gensim.models.base_any2vec:EPOCH - 1 : training on 114685 raw words (70903 effective words) took 0.2s, 456057 effective words/s\n",
            "INFO:gensim.models.base_any2vec:worker thread finished; awaiting finish of 1 more threads\n",
            "INFO:gensim.models.base_any2vec:worker thread finished; awaiting finish of 0 more threads\n",
            "INFO:gensim.models.base_any2vec:EPOCH - 2 : training on 114685 raw words (70836 effective words) took 0.2s, 426941 effective words/s\n",
            "INFO:gensim.models.base_any2vec:worker thread finished; awaiting finish of 1 more threads\n",
            "INFO:gensim.models.base_any2vec:worker thread finished; awaiting finish of 0 more threads\n",
            "INFO:gensim.models.base_any2vec:EPOCH - 3 : training on 114685 raw words (70852 effective words) took 0.2s, 452981 effective words/s\n",
            "INFO:gensim.models.base_any2vec:worker thread finished; awaiting finish of 1 more threads\n",
            "INFO:gensim.models.base_any2vec:worker thread finished; awaiting finish of 0 more threads\n",
            "INFO:gensim.models.base_any2vec:EPOCH - 4 : training on 114685 raw words (70763 effective words) took 0.2s, 434148 effective words/s\n",
            "INFO:gensim.models.base_any2vec:worker thread finished; awaiting finish of 1 more threads\n",
            "INFO:gensim.models.base_any2vec:worker thread finished; awaiting finish of 0 more threads\n",
            "INFO:gensim.models.base_any2vec:EPOCH - 5 : training on 114685 raw words (70750 effective words) took 0.2s, 445245 effective words/s\n",
            "INFO:gensim.models.base_any2vec:training on a 573425 raw words (354104 effective words) took 0.8s, 426457 effective words/s\n",
            "INFO:root:---- Generating tokenizer ----\n",
            "INFO:root:Total words: 14792\n",
            "INFO:root:---- Tokenizing train data ----\n",
            "INFO:root:---- Tokenizing eval data ----\n",
            "INFO:root:---- Generating label encoder ----\n",
            "INFO:root:---- Encoding train target ----\n",
            "INFO:root:---- Encoding eval target ----\n",
            "INFO:root:---- Generating embedding layer ----\n",
            "INFO:root:---- Generating Sequential model ----\n",
            "2022-02-27 05:30:57.835636: W tensorflow/core/common_runtime/gpu/gpu_bfc_allocator.cc:39] Overriding allow_growth setting because the TF_FORCE_GPU_ALLOW_GROWTH environment variable is set. Original config value was 0.\n",
            "Model: \"sequential\"\n",
            "_________________________________________________________________\n",
            " Layer (type)                Output Shape              Param #   \n",
            "=================================================================\n",
            " embedding (Embedding)       (None, 300, 300)          4437600   \n",
            "                                                                 \n",
            " lstm (LSTM)                 (None, 256)               570368    \n",
            "                                                                 \n",
            " dropout (Dropout)           (None, 256)               0         \n",
            "                                                                 \n",
            " dense (Dense)               (None, 128)               32896     \n",
            "                                                                 \n",
            " dropout_1 (Dropout)         (None, 128)               0         \n",
            "                                                                 \n",
            " dense_1 (Dense)             (None, 1)                 129       \n",
            "                                                                 \n",
            "=================================================================\n",
            "Total params: 5,040,993\n",
            "Trainable params: 5,040,993\n",
            "Non-trainable params: 0\n",
            "_________________________________________________________________\n",
            "INFO:root:---- Adding loss function to model ----\n",
            "INFO:root:---- Adding callbacks to model ----\n",
            "INFO:root:---- Training model ----\n",
            "(16005, 300)\n",
            "Epoch 1/15\n",
            "14/14 [==============================] - 15s 864ms/step - loss: 0.6816 - accuracy: 0.5965 - val_loss: 0.6704 - val_accuracy: 0.5984 - lr: 5.0000e-04\n",
            "Epoch 2/15\n",
            "14/14 [==============================] - 11s 817ms/step - loss: 0.6586 - accuracy: 0.6102 - val_loss: 0.6533 - val_accuracy: 0.6014 - lr: 5.0000e-04\n",
            "Epoch 3/15\n",
            "14/14 [==============================] - 11s 807ms/step - loss: 0.6296 - accuracy: 0.6368 - val_loss: 0.6272 - val_accuracy: 0.6002 - lr: 5.0000e-04\n",
            "Epoch 4/15\n",
            "14/14 [==============================] - 11s 819ms/step - loss: 0.5424 - accuracy: 0.7156 - val_loss: 0.5302 - val_accuracy: 0.7169 - lr: 5.0000e-04\n",
            "Epoch 5/15\n",
            "14/14 [==============================] - 11s 805ms/step - loss: 0.4115 - accuracy: 0.8162 - val_loss: 0.4779 - val_accuracy: 0.7832 - lr: 5.0000e-04\n",
            "Epoch 6/15\n",
            "14/14 [==============================] - 11s 810ms/step - loss: 0.3176 - accuracy: 0.8680 - val_loss: 0.4071 - val_accuracy: 0.8275 - lr: 5.0000e-04\n",
            "Epoch 7/15\n",
            "14/14 [==============================] - 11s 808ms/step - loss: 0.2323 - accuracy: 0.9137 - val_loss: 0.3988 - val_accuracy: 0.8443 - lr: 5.0000e-04\n",
            "Epoch 8/15\n",
            "14/14 [==============================] - 11s 804ms/step - loss: 0.1809 - accuracy: 0.9324 - val_loss: 0.4355 - val_accuracy: 0.8332 - lr: 5.0000e-04\n",
            "Epoch 9/15\n",
            "14/14 [==============================] - 11s 818ms/step - loss: 0.1584 - accuracy: 0.9424 - val_loss: 0.3986 - val_accuracy: 0.8580 - lr: 5.0000e-04\n",
            "Epoch 10/15\n",
            "14/14 [==============================] - 11s 811ms/step - loss: 0.1299 - accuracy: 0.9500 - val_loss: 0.4236 - val_accuracy: 0.8647 - lr: 5.0000e-04\n",
            "Epoch 11/15\n",
            "14/14 [==============================] - 11s 797ms/step - loss: 0.1057 - accuracy: 0.9617 - val_loss: 0.4398 - val_accuracy: 0.8701 - lr: 5.0000e-04\n",
            "Epoch 12/15\n",
            "14/14 [==============================] - 11s 801ms/step - loss: 0.0937 - accuracy: 0.9657 - val_loss: 0.5077 - val_accuracy: 0.8585 - lr: 5.0000e-04\n",
            "Epoch 13/15\n",
            "14/14 [==============================] - 11s 798ms/step - loss: 0.0808 - accuracy: 0.9707 - val_loss: 0.4811 - val_accuracy: 0.8804 - lr: 5.0000e-04\n",
            "Epoch 14/15\n",
            "14/14 [==============================] - 11s 796ms/step - loss: 0.0770 - accuracy: 0.9728 - val_loss: 0.5394 - val_accuracy: 0.8577 - lr: 5.0000e-04\n",
            "INFO:root:---- Evaluating model ----\n",
            "4/4 [==============================] - 1s 213ms/step - loss: 0.3986 - accuracy: 0.8580\n",
            "INFO:root:ACCURACY: 0.8579530715942383\n",
            "INFO:root:LOSS: 0.3985678553581238\n",
            "INFO:root:---- Saving models ----\n"
          ]
        }
      ]
    },
    {
      "cell_type": "code",
      "source": [
        "# NOTA: He cambiado a trainable la primera capa (embedding) de los pesos del w2v, \n",
        "# ya que estos no estaban dando buen resultado (sé que no es el objetivo principal)\n",
        "# pero me gustaría ver el modelo funcionando mas o menos bien :) )"
      ],
      "metadata": {
        "id": "iFebmjQfqeak"
      },
      "execution_count": null,
      "outputs": []
    },
    {
      "cell_type": "markdown",
      "metadata": {
        "id": "0nhlkcjn62Zo"
      },
      "source": [
        "## Entregable 3 (0.5 puntos)\n",
        "\n",
        "Desarrollar un pipeline de inferencia utilizando Apache Beam para generar predicciones usando los modelos generados en el apartado anterior así como los de test generados en el primer entregable.\n"
      ]
    },
    {
      "cell_type": "code",
      "metadata": {
        "id": "eHBpLXB-OmjT",
        "colab": {
          "base_uri": "https://localhost:8080/"
        },
        "outputId": "fab82fc5-7b6d-415d-8eb3-e56ef419bd78"
      },
      "source": [
        "%%writefile predict.py\n",
        "\n",
        "from __future__ import absolute_import\n",
        "from __future__ import print_function\n",
        "\n",
        "import argparse\n",
        "import tempfile\n",
        "import json\n",
        "import os\n",
        "import sys\n",
        "import time\n",
        "\n",
        "import apache_beam as beam\n",
        "from apache_beam.io import ReadFromText\n",
        "from apache_beam.io import WriteToText\n",
        "from apache_beam.options.pipeline_options import GoogleCloudOptions\n",
        "from apache_beam.options.pipeline_options import PipelineOptions\n",
        "from apache_beam.options.pipeline_options import SetupOptions\n",
        "from apache_beam.coders.coders import Coder\n",
        "\n",
        "import pickle\n",
        "import tensorflow as tf\n",
        "from tensorflow.keras.preprocessing.sequence import pad_sequences\n",
        "\n",
        "# KERAS\n",
        "SEQUENCE_LENGTH = 300\n",
        "\n",
        "# TYPE OF COMMENT\n",
        "IS_TROLL = \"TROLL\"\n",
        "ISNT_TROLL = \"OK\"\n",
        "TROLL_THRESHOLD = 0.5\n",
        "\n",
        "# EXPORT\n",
        "KERAS_MODEL = \"model.h5\"\n",
        "TOKENIZER_MODEL = \"tokenizer.pkl\"\n",
        "\n",
        "\n",
        "class Predict(beam.DoFn):\n",
        "    def __init__(\n",
        "        self, model_dir,\n",
        "    ):\n",
        "        self.model_dir = model_dir\n",
        "        self.model = None\n",
        "        self.tokenizer = None\n",
        "\n",
        "    def setup(self):\n",
        "        keras_model_path = os.path.join(self.model_dir, KERAS_MODEL)\n",
        "        with tempfile.NamedTemporaryFile(suffix=\".h5\") as local_file:\n",
        "            with tf.io.gfile.GFile(keras_model_path, mode=\"rb\") as gcs_file:\n",
        "                local_file.write(gcs_file.read())\n",
        "                self.model = tf.keras.models.load_model(local_file.name)\n",
        "\n",
        "        tokenizer_path = os.path.join(self.model_dir, TOKENIZER_MODEL)\n",
        "        self.tokenizer = pickle.load(tf.io.gfile.GFile(tokenizer_path, mode=\"rb\"))\n",
        "\n",
        "    def decode_type_of_comment(self, score):\n",
        "        label = [ISNT_TROLL]\n",
        "        if score >= TROLL_THRESHOLD:\n",
        "            label = IS_TROLL\n",
        "        return label\n",
        "\n",
        "    def process(self, element):\n",
        "        start_at = time.time()\n",
        "        # Tokenize text\n",
        "        x_test = pad_sequences(\n",
        "            self.tokenizer.texts_to_sequences([element]), maxlen=SEQUENCE_LENGTH\n",
        "        )\n",
        "        # Predict\n",
        "        score = self.model.predict([x_test])[0]\n",
        "        # Decode type_of_comment\n",
        "        label = self.decode_type_of_comment(score)\n",
        "\n",
        "        yield {\n",
        "            \"text\": element,\n",
        "            \"label\": label,\n",
        "            \"score\": float(score),\n",
        "            \"elapsed_time\": time.time() - start_at,\n",
        "        }\n",
        "\n",
        "\n",
        "class CustomCoder(Coder):\n",
        "    \"\"\"A custom coder used for reading and writing strings\"\"\"\n",
        "\n",
        "    def __init__(self, encoding: str):\n",
        "        # latin-1\n",
        "        # iso-8859-1\n",
        "        self.enconding = encoding\n",
        "\n",
        "    def encode(self, value):\n",
        "        return value.encode(self.enconding)\n",
        "\n",
        "    def decode(self, value):\n",
        "        return value.decode(self.enconding)\n",
        "\n",
        "    def is_deterministic(self):\n",
        "        return True\n",
        "\n",
        "\n",
        "def run(model_dir, source, sink, beam_options=None):\n",
        "    with beam.Pipeline(options=beam_options) as p:\n",
        "        _ = (\n",
        "            p\n",
        "            | \"Read data\" >> source\n",
        "            # | \"Preprocess\" >> beam.ParDo(PreprocessTextFn(model_dir, \"ID\"))\n",
        "            | \"Predict\" >> beam.ParDo(Predict(model_dir))\n",
        "            | \"Format as JSON\" >> beam.Map(json.dumps)\n",
        "            | \"Write predictions\" >> sink\n",
        "        )\n",
        "\n",
        "\n",
        "if __name__ == \"__main__\":\n",
        "    \"\"\"Main function\"\"\"\n",
        "    parser = argparse.ArgumentParser(\n",
        "        formatter_class=argparse.ArgumentDefaultsHelpFormatter\n",
        "    )\n",
        "\n",
        "    parser.add_argument(\n",
        "        \"--work-dir\",\n",
        "        dest=\"work_dir\",\n",
        "        required=True,\n",
        "        help=\"Directory for temporary files and preprocessed datasets to. \"\n",
        "        \"This can be a Google Cloud Storage path.\",\n",
        "    )\n",
        "\n",
        "    parser.add_argument(\n",
        "        \"--model-dir\",\n",
        "        dest=\"model_dir\",\n",
        "        required=True,\n",
        "        help=\"Path to the exported TensorFlow model. \"\n",
        "        \"This can be a Google Cloud Storage path.\",\n",
        "    )\n",
        "\n",
        "    verbs = parser.add_subparsers(dest=\"verb\")\n",
        "    batch_verb = verbs.add_parser(\"batch\", help=\"Batch prediction\")\n",
        "    batch_verb.add_argument(\n",
        "        \"--inputs-dir\",\n",
        "        dest=\"inputs_dir\",\n",
        "        required=True,\n",
        "        help=\"Input directory where CSV data files are read from. \"\n",
        "        \"This can be a Google Cloud Storage path.\",\n",
        "    )\n",
        "    batch_verb.add_argument(\n",
        "        \"--outputs-dir\",\n",
        "        dest=\"outputs_dir\",\n",
        "        required=True,\n",
        "        help=\"Directory to store prediction results. \"\n",
        "        \"This can be a Google Cloud Storage path.\",\n",
        "    )\n",
        "\n",
        "    args, pipeline_args = parser.parse_known_args()\n",
        "    print(args)\n",
        "    beam_options = PipelineOptions(pipeline_args)\n",
        "    beam_options.view_as(SetupOptions).save_main_session = True\n",
        "    # beam_options.view_as(DirectOptions).direct_num_workers = 0\n",
        "\n",
        "    project = beam_options.view_as(GoogleCloudOptions).project\n",
        "\n",
        "    if args.verb == \"batch\":\n",
        "        results_prefix = os.path.join(args.outputs_dir, \"part\")\n",
        "\n",
        "        source = ReadFromText(args.inputs_dir, coder=CustomCoder(\"latin-1\"))\n",
        "        sink = WriteToText(results_prefix)\n",
        "\n",
        "    else:\n",
        "        parser.print_usage()\n",
        "        sys.exit(1)\n",
        "\n",
        "    run(args.model_dir, source, sink, beam_options)\n"
      ],
      "execution_count": null,
      "outputs": [
        {
          "output_type": "stream",
          "name": "stdout",
          "text": [
            "Overwriting predict.py\n"
          ]
        }
      ]
    },
    {
      "cell_type": "markdown",
      "metadata": {
        "id": "MUdgcLIP7a42"
      },
      "source": [
        "Generamos un timestamp para la ejecución de las predicciones"
      ]
    },
    {
      "cell_type": "code",
      "metadata": {
        "id": "_pvKMtuQPOlr"
      },
      "source": [
        "from datetime import datetime\n",
        "\n",
        "# current date and time\n",
        "TIMESTAMP = datetime.now().strftime('%Y-%m-%d_%H-%M-%S')"
      ],
      "execution_count": null,
      "outputs": []
    },
    {
      "cell_type": "markdown",
      "metadata": {
        "id": "RkLMdMup70ne"
      },
      "source": [
        "### Validación Predict en local\n",
        "\n",
        "Con el comando mostrado a continuación se valida la correcta inferencia usando los modelos anteriores y los datos de test generados anteriormente."
      ]
    },
    {
      "cell_type": "code",
      "source": [
        "# NOTA: He seguido la plantilla como tal, pero soy conciente \n",
        "# de que estamos usando el mismo archivo data.json sin haberlo\n",
        "# separado previamente en train.json y test.json, dandole importancia\n",
        "# a la implementación como tal y no a los resultados (los cuales en predict\n",
        "# no tendrán validez ninguno usando dicho archivo)"
      ],
      "metadata": {
        "id": "CwlDeyBjrT43"
      },
      "execution_count": null,
      "outputs": []
    },
    {
      "cell_type": "code",
      "metadata": {
        "id": "iUJN0XCLPR_X",
        "colab": {
          "base_uri": "https://localhost:8080/"
        },
        "outputId": "144d0131-7ced-4a29-dc65-fd4c146da387"
      },
      "source": [
        "! python3 predict.py \\\n",
        "  --work-dir $WORK_DIR \\\n",
        "  --model-dir $WORK_DIR/model \\\n",
        "  batch \\\n",
        "  --inputs-dir $WORK_DIR/transformed_data/test/part* \\\n",
        "  --outputs-dir $WORK_DIR/predictions/$TIMESTAMP"
      ],
      "execution_count": null,
      "outputs": [
        {
          "output_type": "stream",
          "name": "stdout",
          "text": [
            "Namespace(inputs_dir='/content/batch/transformed_data/test/part-00000-of-00002', model_dir='/content/batch/model', outputs_dir='/content/batch/predictions/2022-02-27_05-34-36', verb='batch', work_dir='/content/batch')\n",
            "2022-02-27 05:35:52.426800: W tensorflow/core/common_runtime/gpu/gpu_bfc_allocator.cc:39] Overriding allow_growth setting because the TF_FORCE_GPU_ALLOW_GROWTH environment variable is set. Original config value was 0.\n"
          ]
        }
      ]
    },
    {
      "cell_type": "code",
      "source": [
        "# Comprobamos que funciona\n",
        "!ls $WORK_DIR/predictions/$TIMESTAMP"
      ],
      "metadata": {
        "colab": {
          "base_uri": "https://localhost:8080/"
        },
        "id": "BAMA42QSuXSw",
        "outputId": "db1bf09d-b02b-459f-cd04-936af4e2264e"
      },
      "execution_count": null,
      "outputs": [
        {
          "output_type": "stream",
          "name": "stdout",
          "text": [
            "part-00000-of-00001\n"
          ]
        }
      ]
    },
    {
      "cell_type": "markdown",
      "metadata": {
        "id": "Um68jx_F8mjF"
      },
      "source": [
        "##Entregable 4 (1.25 puntos)\n",
        "\n",
        "En este entregable se validará el funcionamiento del código en un proyecto de GCP sobre DataFlow y AI Platform"
      ]
    },
    {
      "cell_type": "markdown",
      "metadata": {
        "id": "_JHC9dCT83FH"
      },
      "source": [
        "Establecemos el bucket y region de GCP sobre el que trabajaremos:"
      ]
    },
    {
      "cell_type": "code",
      "metadata": {
        "id": "cgUpX__KQvt-"
      },
      "source": [
        "# GCP_WORK_DIR = 'gs://final-practice-test-execution'\n",
        "# GCP_REGION = 'us-east1'"
      ],
      "execution_count": null,
      "outputs": []
    },
    {
      "cell_type": "code",
      "source": [
        "GCP_WORK_DIR = 'gs://' + BUCKET_NAME\n",
        "GCP_REGION = REGION"
      ],
      "metadata": {
        "id": "ubDbX6lnawBO"
      },
      "execution_count": null,
      "outputs": []
    },
    {
      "cell_type": "code",
      "source": [
        "print(PROJECT_ID, GCP_REGION, sep=\" | \")"
      ],
      "metadata": {
        "colab": {
          "base_uri": "https://localhost:8080/"
        },
        "id": "ASVTAQKeeQRz",
        "outputId": "f56bda7d-0ee6-4b66-8b5c-8e4a35363bd0"
      },
      "execution_count": null,
      "outputs": [
        {
          "output_type": "stream",
          "name": "stdout",
          "text": [
            "practica-despliegue-keepcoding | europe-west1\n"
          ]
        }
      ]
    },
    {
      "cell_type": "markdown",
      "metadata": {
        "id": "_A66WAfm9DmU"
      },
      "source": [
        "### Validación preprocess train en Dataflow (0.25 puntos)\n",
        "\n",
        "Con el comando mostrado a continuación se valida la correcta generación de los datos de entrenamiento y validación en GCP con el servicio DataFlow."
      ]
    },
    {
      "cell_type": "code",
      "metadata": {
        "id": "EJYVuWyJP1Ya",
        "colab": {
          "base_uri": "https://localhost:8080/"
        },
        "outputId": "6e59e69b-784e-4ab3-f191-ecbaeb7c1317"
      },
      "source": [
        "! python3 preprocess.py \\\n",
        "  --project $PROJECT_ID \\\n",
        "  --region $GCP_REGION \\\n",
        "  --runner DataflowRunner \\\n",
        "  --temp_location $GCP_WORK_DIR/beam-temp \\\n",
        "  --setup_file ./setup.py \\\n",
        "  --work-dir $GCP_WORK_DIR \\\n",
        "  --input $GCP_WORK_DIR/data.json \\\n",
        "  --output $GCP_WORK_DIR/transformed_data \\\n",
        "  --mode train"
      ],
      "execution_count": null,
      "outputs": [
        {
          "output_type": "stream",
          "name": "stdout",
          "text": [
            "[nltk_data] Downloading package stopwords to /root/nltk_data...\n",
            "[nltk_data]   Package stopwords is already up-to-date!\n",
            "INFO:apache_beam.internal.gcp.auth:Setting socket default timeout to 60 seconds.\n",
            "INFO:apache_beam.internal.gcp.auth:socket default timeout is 60.0 seconds.\n",
            "INFO:oauth2client.transport:Attempting refresh to obtain initial access_token\n",
            "INFO:oauth2client.client:Refreshing access_token\n",
            "INFO:apache_beam.runners.portability.stager:Executing command: ['/usr/bin/python3', 'setup.py', 'sdist', '--dist-dir', '/tmp/tmpt7wc65hj']\n",
            "warning: sdist: standard file not found: should have one of README, README.rst, README.txt, README.md\n",
            "\n",
            "warning: check: missing required meta-data: url\n",
            "\n",
            "warning: check: missing meta-data: either (author and author_email) or (maintainer and maintainer_email) must be supplied\n",
            "\n",
            "INFO:apache_beam.runners.portability.stager:Downloading source distribution of the SDK from PyPi\n",
            "INFO:apache_beam.runners.portability.stager:Executing command: ['/usr/bin/python3', '-m', 'pip', 'download', '--dest', '/tmp/tmpt7wc65hj', 'apache-beam==2.24.0', '--no-deps', '--no-binary', ':all:']\n",
            "INFO:apache_beam.runners.portability.stager:Staging SDK sources from PyPI: dataflow_python_sdk.tar\n",
            "INFO:apache_beam.runners.portability.stager:Downloading binary distribution of the SDK from PyPi\n",
            "INFO:apache_beam.runners.portability.stager:Executing command: ['/usr/bin/python3', '-m', 'pip', 'download', '--dest', '/tmp/tmpt7wc65hj', 'apache-beam==2.24.0', '--no-deps', '--only-binary', ':all:', '--python-version', '37', '--implementation', 'cp', '--abi', 'cp37m', '--platform', 'manylinux1_x86_64']\n",
            "INFO:apache_beam.runners.portability.stager:Staging binary distribution of the SDK from PyPI: apache_beam-2.24.0-cp37-cp37m-manylinux1_x86_64.whl\n",
            "WARNING:root:Make sure that locally built Python SDK docker image has Python 3.7 interpreter.\n",
            "INFO:root:Using Python SDK docker image: apache/beam_python3.7_sdk:2.24.0. If the image is not available at local, we will try to pull from hub.docker.com\n",
            "INFO:apache_beam.runners.dataflow.internal.apiclient:Defaulting to the temp_location as staging_location: gs://twitch-practice-keepcoding-main-bucket/beam-temp\n",
            "INFO:apache_beam.runners.dataflow.internal.apiclient:Starting GCS upload to gs://twitch-practice-keepcoding-main-bucket/beam-temp/beamapp-root-0227055036-577263.1645941036.577589/pipeline.pb...\n",
            "INFO:apache_beam.runners.dataflow.internal.apiclient:Completed GCS upload to gs://twitch-practice-keepcoding-main-bucket/beam-temp/beamapp-root-0227055036-577263.1645941036.577589/pipeline.pb in 1 seconds.\n",
            "INFO:apache_beam.runners.dataflow.internal.apiclient:Starting GCS upload to gs://twitch-practice-keepcoding-main-bucket/beam-temp/beamapp-root-0227055036-577263.1645941036.577589/workflow.tar.gz...\n",
            "INFO:apache_beam.runners.dataflow.internal.apiclient:Completed GCS upload to gs://twitch-practice-keepcoding-main-bucket/beam-temp/beamapp-root-0227055036-577263.1645941036.577589/workflow.tar.gz in 0 seconds.\n",
            "INFO:apache_beam.runners.dataflow.internal.apiclient:Starting GCS upload to gs://twitch-practice-keepcoding-main-bucket/beam-temp/beamapp-root-0227055036-577263.1645941036.577589/pickled_main_session...\n",
            "INFO:apache_beam.runners.dataflow.internal.apiclient:Completed GCS upload to gs://twitch-practice-keepcoding-main-bucket/beam-temp/beamapp-root-0227055036-577263.1645941036.577589/pickled_main_session in 0 seconds.\n",
            "INFO:apache_beam.runners.dataflow.internal.apiclient:Starting GCS upload to gs://twitch-practice-keepcoding-main-bucket/beam-temp/beamapp-root-0227055036-577263.1645941036.577589/dataflow_python_sdk.tar...\n",
            "INFO:apache_beam.runners.dataflow.internal.apiclient:Completed GCS upload to gs://twitch-practice-keepcoding-main-bucket/beam-temp/beamapp-root-0227055036-577263.1645941036.577589/dataflow_python_sdk.tar in 1 seconds.\n",
            "INFO:apache_beam.runners.dataflow.internal.apiclient:Starting GCS upload to gs://twitch-practice-keepcoding-main-bucket/beam-temp/beamapp-root-0227055036-577263.1645941036.577589/apache_beam-2.24.0-cp37-cp37m-manylinux1_x86_64.whl...\n",
            "INFO:apache_beam.runners.dataflow.internal.apiclient:Completed GCS upload to gs://twitch-practice-keepcoding-main-bucket/beam-temp/beamapp-root-0227055036-577263.1645941036.577589/apache_beam-2.24.0-cp37-cp37m-manylinux1_x86_64.whl in 5 seconds.\n",
            "INFO:apache_beam.runners.dataflow.internal.apiclient:Create job: <Job\n",
            " createTime: '2022-02-27T05:50:48.320009Z'\n",
            " currentStateTime: '1970-01-01T00:00:00Z'\n",
            " id: '2022-02-26_21_50_47-11157880701373359348'\n",
            " location: 'europe-west1'\n",
            " name: 'beamapp-root-0227055036-577263'\n",
            " projectId: 'practica-despliegue-keepcoding'\n",
            " stageStates: []\n",
            " startTime: '2022-02-27T05:50:48.320009Z'\n",
            " steps: []\n",
            " tempFiles: []\n",
            " type: TypeValueValuesEnum(JOB_TYPE_BATCH, 1)>\n",
            "INFO:apache_beam.runners.dataflow.internal.apiclient:Created job with id: [2022-02-26_21_50_47-11157880701373359348]\n",
            "INFO:apache_beam.runners.dataflow.internal.apiclient:Submitted job: 2022-02-26_21_50_47-11157880701373359348\n",
            "INFO:apache_beam.runners.dataflow.internal.apiclient:To access the Dataflow monitoring console, please navigate to https://console.cloud.google.com/dataflow/jobs/europe-west1/2022-02-26_21_50_47-11157880701373359348?project=practica-despliegue-keepcoding\n",
            "INFO:apache_beam.runners.dataflow.dataflow_runner:Job 2022-02-26_21_50_47-11157880701373359348 is in state JOB_STATE_PENDING\n",
            "INFO:apache_beam.runners.dataflow.dataflow_runner:2022-02-27T05:50:48.857Z: JOB_MESSAGE_DETAILED: Autoscaling is enabled for job 2022-02-26_21_50_47-11157880701373359348. The number of workers will be between 1 and 1000.\n",
            "INFO:apache_beam.runners.dataflow.dataflow_runner:2022-02-27T05:50:48.952Z: JOB_MESSAGE_DETAILED: Autoscaling was automatically enabled for job 2022-02-26_21_50_47-11157880701373359348.\n",
            "INFO:apache_beam.runners.dataflow.dataflow_runner:2022-02-27T05:50:50.478Z: JOB_MESSAGE_BASIC: Worker configuration: n1-standard-1 in europe-west1-c.\n",
            "INFO:apache_beam.runners.dataflow.dataflow_runner:2022-02-27T05:50:51.377Z: JOB_MESSAGE_DETAILED: Expanding CoGroupByKey operations into optimizable parts.\n",
            "INFO:apache_beam.runners.dataflow.dataflow_runner:2022-02-27T05:50:51.402Z: JOB_MESSAGE_DEBUG: Combiner lifting skipped for step EvalWriteToCSV/Write/WriteImpl/GroupByKey: GroupByKey not followed by a combiner.\n",
            "INFO:apache_beam.runners.dataflow.dataflow_runner:2022-02-27T05:50:51.434Z: JOB_MESSAGE_DEBUG: Combiner lifting skipped for step TrainWriteToCSV/Write/WriteImpl/GroupByKey: GroupByKey not followed by a combiner.\n",
            "INFO:apache_beam.runners.dataflow.dataflow_runner:2022-02-27T05:50:51.488Z: JOB_MESSAGE_DETAILED: Expanding GroupByKey operations into optimizable parts.\n",
            "INFO:apache_beam.runners.dataflow.dataflow_runner:2022-02-27T05:50:51.518Z: JOB_MESSAGE_DETAILED: Lifting ValueCombiningMappingFns into MergeBucketsMappingFns\n",
            "INFO:apache_beam.runners.dataflow.dataflow_runner:2022-02-27T05:50:51.596Z: JOB_MESSAGE_DEBUG: Annotating graph with Autotuner information.\n",
            "INFO:apache_beam.runners.dataflow.dataflow_runner:2022-02-27T05:50:51.628Z: JOB_MESSAGE_DETAILED: Fusing adjacent ParDo, Read, Write, and Flatten operations\n",
            "INFO:apache_beam.runners.dataflow.dataflow_runner:2022-02-27T05:50:51.660Z: JOB_MESSAGE_DETAILED: Fusing consumer ExtractColumns into ReadTwitchData/Read\n",
            "INFO:apache_beam.runners.dataflow.dataflow_runner:2022-02-27T05:50:51.690Z: JOB_MESSAGE_DETAILED: Fusing consumer Preprocess into ExtractColumns\n",
            "INFO:apache_beam.runners.dataflow.dataflow_runner:2022-02-27T05:50:51.716Z: JOB_MESSAGE_DETAILED: Fusing consumer Split dataset/ParDo(ApplyPartitionFnFn)/ParDo(ApplyPartitionFnFn) into Preprocess\n",
            "INFO:apache_beam.runners.dataflow.dataflow_runner:2022-02-27T05:50:51.742Z: JOB_MESSAGE_DETAILED: Fusing consumer TrainWriteToCSV/Write/WriteImpl/WindowInto(WindowIntoFn) into Split dataset/ParDo(ApplyPartitionFnFn)/ParDo(ApplyPartitionFnFn)\n",
            "INFO:apache_beam.runners.dataflow.dataflow_runner:2022-02-27T05:50:51.774Z: JOB_MESSAGE_DETAILED: Fusing consumer TrainWriteToCSV/Write/WriteImpl/WriteBundles/WriteBundles into TrainWriteToCSV/Write/WriteImpl/WindowInto(WindowIntoFn)\n",
            "INFO:apache_beam.runners.dataflow.dataflow_runner:2022-02-27T05:50:51.803Z: JOB_MESSAGE_DETAILED: Fusing consumer TrainWriteToCSV/Write/WriteImpl/Pair into TrainWriteToCSV/Write/WriteImpl/WriteBundles/WriteBundles\n",
            "INFO:apache_beam.runners.dataflow.dataflow_runner:2022-02-27T05:50:51.830Z: JOB_MESSAGE_DETAILED: Fusing consumer TrainWriteToCSV/Write/WriteImpl/GroupByKey/Reify into TrainWriteToCSV/Write/WriteImpl/Pair\n",
            "INFO:apache_beam.runners.dataflow.dataflow_runner:2022-02-27T05:50:51.860Z: JOB_MESSAGE_DETAILED: Fusing consumer TrainWriteToCSV/Write/WriteImpl/GroupByKey/Write into TrainWriteToCSV/Write/WriteImpl/GroupByKey/Reify\n",
            "INFO:apache_beam.runners.dataflow.dataflow_runner:2022-02-27T05:50:51.884Z: JOB_MESSAGE_DETAILED: Fusing consumer TrainWriteToCSV/Write/WriteImpl/GroupByKey/GroupByWindow into TrainWriteToCSV/Write/WriteImpl/GroupByKey/Read\n",
            "INFO:apache_beam.runners.dataflow.dataflow_runner:2022-02-27T05:50:51.912Z: JOB_MESSAGE_DETAILED: Fusing consumer TrainWriteToCSV/Write/WriteImpl/Extract into TrainWriteToCSV/Write/WriteImpl/GroupByKey/GroupByWindow\n",
            "INFO:apache_beam.runners.dataflow.dataflow_runner:2022-02-27T05:50:51.946Z: JOB_MESSAGE_DETAILED: Fusing consumer EvalWriteToCSV/Write/WriteImpl/WindowInto(WindowIntoFn) into Split dataset/ParDo(ApplyPartitionFnFn)/ParDo(ApplyPartitionFnFn)\n",
            "INFO:apache_beam.runners.dataflow.dataflow_runner:2022-02-27T05:50:51.970Z: JOB_MESSAGE_DETAILED: Fusing consumer EvalWriteToCSV/Write/WriteImpl/WriteBundles/WriteBundles into EvalWriteToCSV/Write/WriteImpl/WindowInto(WindowIntoFn)\n",
            "INFO:apache_beam.runners.dataflow.dataflow_runner:2022-02-27T05:50:51.998Z: JOB_MESSAGE_DETAILED: Fusing consumer EvalWriteToCSV/Write/WriteImpl/Pair into EvalWriteToCSV/Write/WriteImpl/WriteBundles/WriteBundles\n",
            "INFO:apache_beam.runners.dataflow.dataflow_runner:2022-02-27T05:50:52.030Z: JOB_MESSAGE_DETAILED: Fusing consumer EvalWriteToCSV/Write/WriteImpl/GroupByKey/Reify into EvalWriteToCSV/Write/WriteImpl/Pair\n",
            "INFO:apache_beam.runners.dataflow.dataflow_runner:2022-02-27T05:50:52.061Z: JOB_MESSAGE_DETAILED: Fusing consumer EvalWriteToCSV/Write/WriteImpl/GroupByKey/Write into EvalWriteToCSV/Write/WriteImpl/GroupByKey/Reify\n",
            "INFO:apache_beam.runners.dataflow.dataflow_runner:2022-02-27T05:50:52.094Z: JOB_MESSAGE_DETAILED: Fusing consumer EvalWriteToCSV/Write/WriteImpl/GroupByKey/GroupByWindow into EvalWriteToCSV/Write/WriteImpl/GroupByKey/Read\n",
            "INFO:apache_beam.runners.dataflow.dataflow_runner:2022-02-27T05:50:52.119Z: JOB_MESSAGE_DETAILED: Fusing consumer EvalWriteToCSV/Write/WriteImpl/Extract into EvalWriteToCSV/Write/WriteImpl/GroupByKey/GroupByWindow\n",
            "INFO:apache_beam.runners.dataflow.dataflow_runner:2022-02-27T05:50:52.142Z: JOB_MESSAGE_DETAILED: Fusing consumer TrainWriteToCSV/Write/WriteImpl/InitializeWrite into TrainWriteToCSV/Write/WriteImpl/DoOnce/Read\n",
            "INFO:apache_beam.runners.dataflow.dataflow_runner:2022-02-27T05:50:52.167Z: JOB_MESSAGE_DETAILED: Fusing consumer EvalWriteToCSV/Write/WriteImpl/InitializeWrite into EvalWriteToCSV/Write/WriteImpl/DoOnce/Read\n",
            "INFO:apache_beam.runners.dataflow.dataflow_runner:2022-02-27T05:50:52.202Z: JOB_MESSAGE_DEBUG: Workflow config is missing a default resource spec.\n",
            "INFO:apache_beam.runners.dataflow.dataflow_runner:2022-02-27T05:50:52.228Z: JOB_MESSAGE_DEBUG: Adding StepResource setup and teardown to workflow graph.\n",
            "INFO:apache_beam.runners.dataflow.dataflow_runner:2022-02-27T05:50:52.260Z: JOB_MESSAGE_DEBUG: Adding workflow start and stop steps.\n",
            "INFO:apache_beam.runners.dataflow.dataflow_runner:2022-02-27T05:50:52.306Z: JOB_MESSAGE_DEBUG: Assigning stage ids.\n",
            "INFO:apache_beam.runners.dataflow.dataflow_runner:2022-02-27T05:50:52.490Z: JOB_MESSAGE_DEBUG: Executing wait step start29\n",
            "INFO:apache_beam.runners.dataflow.dataflow_runner:2022-02-27T05:50:52.569Z: JOB_MESSAGE_BASIC: Executing operation EvalWriteToCSV/Write/WriteImpl/DoOnce/Read+EvalWriteToCSV/Write/WriteImpl/InitializeWrite\n",
            "INFO:apache_beam.runners.dataflow.dataflow_runner:2022-02-27T05:50:52.594Z: JOB_MESSAGE_BASIC: Executing operation TrainWriteToCSV/Write/WriteImpl/DoOnce/Read+TrainWriteToCSV/Write/WriteImpl/InitializeWrite\n",
            "INFO:apache_beam.runners.dataflow.dataflow_runner:2022-02-27T05:50:52.608Z: JOB_MESSAGE_DEBUG: Starting worker pool setup.\n",
            "INFO:apache_beam.runners.dataflow.dataflow_runner:2022-02-27T05:50:52.636Z: JOB_MESSAGE_BASIC: Starting 1 workers in europe-west1-c...\n",
            "INFO:apache_beam.runners.dataflow.dataflow_runner:Job 2022-02-26_21_50_47-11157880701373359348 is in state JOB_STATE_RUNNING\n",
            "INFO:apache_beam.runners.dataflow.dataflow_runner:2022-02-27T05:51:23.899Z: JOB_MESSAGE_DETAILED: Autoscaling: Raised the number of workers to 1 based on the rate of progress in the currently running stage(s).\n",
            "INFO:apache_beam.runners.dataflow.dataflow_runner:2022-02-27T05:51:53.706Z: JOB_MESSAGE_DETAILED: Workers have started successfully.\n",
            "INFO:apache_beam.runners.dataflow.dataflow_runner:2022-02-27T05:51:53.735Z: JOB_MESSAGE_DETAILED: Workers have started successfully.\n",
            "INFO:apache_beam.runners.dataflow.dataflow_runner:2022-02-27T05:56:45.345Z: JOB_MESSAGE_BASIC: Finished operation EvalWriteToCSV/Write/WriteImpl/DoOnce/Read+EvalWriteToCSV/Write/WriteImpl/InitializeWrite\n",
            "INFO:apache_beam.runners.dataflow.dataflow_runner:2022-02-27T05:56:45.394Z: JOB_MESSAGE_DEBUG: Value \"EvalWriteToCSV/Write/WriteImpl/DoOnce/Read.out\" materialized.\n",
            "INFO:apache_beam.runners.dataflow.dataflow_runner:2022-02-27T05:56:45.419Z: JOB_MESSAGE_DEBUG: Value \"EvalWriteToCSV/Write/WriteImpl/InitializeWrite.out\" materialized.\n",
            "INFO:apache_beam.runners.dataflow.dataflow_runner:2022-02-27T05:56:45.494Z: JOB_MESSAGE_BASIC: Executing operation EvalWriteToCSV/Write/WriteImpl/WriteBundles/_UnpickledSideInput(InitializeWrite.out.0)\n",
            "INFO:apache_beam.runners.dataflow.dataflow_runner:2022-02-27T05:56:45.518Z: JOB_MESSAGE_BASIC: Executing operation EvalWriteToCSV/Write/WriteImpl/FinalizeWrite/_UnpickledSideInput(InitializeWrite.out.0)\n",
            "INFO:apache_beam.runners.dataflow.dataflow_runner:2022-02-27T05:56:45.544Z: JOB_MESSAGE_BASIC: Executing operation EvalWriteToCSV/Write/WriteImpl/PreFinalize/_UnpickledSideInput(InitializeWrite.out.0)\n",
            "INFO:apache_beam.runners.dataflow.dataflow_runner:2022-02-27T05:56:45.568Z: JOB_MESSAGE_BASIC: Finished operation EvalWriteToCSV/Write/WriteImpl/WriteBundles/_UnpickledSideInput(InitializeWrite.out.0)\n",
            "INFO:apache_beam.runners.dataflow.dataflow_runner:2022-02-27T05:56:45.568Z: JOB_MESSAGE_BASIC: Finished operation EvalWriteToCSV/Write/WriteImpl/FinalizeWrite/_UnpickledSideInput(InitializeWrite.out.0)\n",
            "INFO:apache_beam.runners.dataflow.dataflow_runner:2022-02-27T05:56:45.608Z: JOB_MESSAGE_BASIC: Finished operation EvalWriteToCSV/Write/WriteImpl/PreFinalize/_UnpickledSideInput(InitializeWrite.out.0)\n",
            "INFO:apache_beam.runners.dataflow.dataflow_runner:2022-02-27T05:56:45.638Z: JOB_MESSAGE_DEBUG: Value \"EvalWriteToCSV/Write/WriteImpl/FinalizeWrite/_UnpickledSideInput(InitializeWrite.out.0).output\" materialized.\n",
            "INFO:apache_beam.runners.dataflow.dataflow_runner:2022-02-27T05:56:45.672Z: JOB_MESSAGE_DEBUG: Value \"EvalWriteToCSV/Write/WriteImpl/WriteBundles/_UnpickledSideInput(InitializeWrite.out.0).output\" materialized.\n",
            "INFO:apache_beam.runners.dataflow.dataflow_runner:2022-02-27T05:56:45.699Z: JOB_MESSAGE_DEBUG: Value \"EvalWriteToCSV/Write/WriteImpl/PreFinalize/_UnpickledSideInput(InitializeWrite.out.0).output\" materialized.\n",
            "INFO:apache_beam.runners.dataflow.dataflow_runner:2022-02-27T05:56:48.748Z: JOB_MESSAGE_BASIC: Finished operation TrainWriteToCSV/Write/WriteImpl/DoOnce/Read+TrainWriteToCSV/Write/WriteImpl/InitializeWrite\n",
            "INFO:apache_beam.runners.dataflow.dataflow_runner:2022-02-27T05:56:48.815Z: JOB_MESSAGE_DEBUG: Value \"TrainWriteToCSV/Write/WriteImpl/DoOnce/Read.out\" materialized.\n",
            "INFO:apache_beam.runners.dataflow.dataflow_runner:2022-02-27T05:56:48.847Z: JOB_MESSAGE_DEBUG: Value \"TrainWriteToCSV/Write/WriteImpl/InitializeWrite.out\" materialized.\n",
            "INFO:apache_beam.runners.dataflow.dataflow_runner:2022-02-27T05:56:48.938Z: JOB_MESSAGE_BASIC: Executing operation TrainWriteToCSV/Write/WriteImpl/FinalizeWrite/_UnpickledSideInput(InitializeWrite.out.0)\n",
            "INFO:apache_beam.runners.dataflow.dataflow_runner:2022-02-27T05:56:48.961Z: JOB_MESSAGE_BASIC: Executing operation TrainWriteToCSV/Write/WriteImpl/WriteBundles/_UnpickledSideInput(InitializeWrite.out.0)\n",
            "INFO:apache_beam.runners.dataflow.dataflow_runner:2022-02-27T05:56:48.982Z: JOB_MESSAGE_BASIC: Executing operation TrainWriteToCSV/Write/WriteImpl/PreFinalize/_UnpickledSideInput(InitializeWrite.out.0)\n",
            "INFO:apache_beam.runners.dataflow.dataflow_runner:2022-02-27T05:56:48.991Z: JOB_MESSAGE_BASIC: Finished operation TrainWriteToCSV/Write/WriteImpl/FinalizeWrite/_UnpickledSideInput(InitializeWrite.out.0)\n",
            "INFO:apache_beam.runners.dataflow.dataflow_runner:2022-02-27T05:56:49.009Z: JOB_MESSAGE_BASIC: Finished operation TrainWriteToCSV/Write/WriteImpl/WriteBundles/_UnpickledSideInput(InitializeWrite.out.0)\n",
            "INFO:apache_beam.runners.dataflow.dataflow_runner:2022-02-27T05:56:49.037Z: JOB_MESSAGE_BASIC: Finished operation TrainWriteToCSV/Write/WriteImpl/PreFinalize/_UnpickledSideInput(InitializeWrite.out.0)\n",
            "INFO:apache_beam.runners.dataflow.dataflow_runner:2022-02-27T05:56:49.046Z: JOB_MESSAGE_DEBUG: Value \"TrainWriteToCSV/Write/WriteImpl/FinalizeWrite/_UnpickledSideInput(InitializeWrite.out.0).output\" materialized.\n",
            "INFO:apache_beam.runners.dataflow.dataflow_runner:2022-02-27T05:56:49.072Z: JOB_MESSAGE_DEBUG: Value \"TrainWriteToCSV/Write/WriteImpl/WriteBundles/_UnpickledSideInput(InitializeWrite.out.0).output\" materialized.\n",
            "INFO:apache_beam.runners.dataflow.dataflow_runner:2022-02-27T05:56:49.097Z: JOB_MESSAGE_DEBUG: Value \"TrainWriteToCSV/Write/WriteImpl/PreFinalize/_UnpickledSideInput(InitializeWrite.out.0).output\" materialized.\n",
            "INFO:apache_beam.runners.dataflow.dataflow_runner:2022-02-27T05:56:49.121Z: JOB_MESSAGE_BASIC: Executing operation EvalWriteToCSV/Write/WriteImpl/GroupByKey/Create\n",
            "INFO:apache_beam.runners.dataflow.dataflow_runner:2022-02-27T05:56:49.142Z: JOB_MESSAGE_BASIC: Executing operation TrainWriteToCSV/Write/WriteImpl/GroupByKey/Create\n",
            "INFO:apache_beam.runners.dataflow.dataflow_runner:2022-02-27T05:56:49.412Z: JOB_MESSAGE_BASIC: Finished operation TrainWriteToCSV/Write/WriteImpl/GroupByKey/Create\n",
            "INFO:apache_beam.runners.dataflow.dataflow_runner:2022-02-27T05:56:49.418Z: JOB_MESSAGE_BASIC: Finished operation EvalWriteToCSV/Write/WriteImpl/GroupByKey/Create\n",
            "INFO:apache_beam.runners.dataflow.dataflow_runner:2022-02-27T05:56:49.480Z: JOB_MESSAGE_DEBUG: Value \"EvalWriteToCSV/Write/WriteImpl/GroupByKey/Session\" materialized.\n",
            "INFO:apache_beam.runners.dataflow.dataflow_runner:2022-02-27T05:56:49.510Z: JOB_MESSAGE_DEBUG: Value \"TrainWriteToCSV/Write/WriteImpl/GroupByKey/Session\" materialized.\n",
            "INFO:apache_beam.runners.dataflow.dataflow_runner:2022-02-27T05:56:49.572Z: JOB_MESSAGE_BASIC: Executing operation ReadTwitchData/Read+ExtractColumns+Preprocess+Split dataset/ParDo(ApplyPartitionFnFn)/ParDo(ApplyPartitionFnFn)+TrainWriteToCSV/Write/WriteImpl/WindowInto(WindowIntoFn)+TrainWriteToCSV/Write/WriteImpl/WriteBundles/WriteBundles+TrainWriteToCSV/Write/WriteImpl/Pair+TrainWriteToCSV/Write/WriteImpl/GroupByKey/Reify+TrainWriteToCSV/Write/WriteImpl/GroupByKey/Write+EvalWriteToCSV/Write/WriteImpl/WindowInto(WindowIntoFn)+EvalWriteToCSV/Write/WriteImpl/WriteBundles/WriteBundles+EvalWriteToCSV/Write/WriteImpl/Pair+EvalWriteToCSV/Write/WriteImpl/GroupByKey/Reify+EvalWriteToCSV/Write/WriteImpl/GroupByKey/Write\n",
            "INFO:apache_beam.runners.dataflow.dataflow_runner:2022-02-27T05:57:04.692Z: JOB_MESSAGE_BASIC: Finished operation ReadTwitchData/Read+ExtractColumns+Preprocess+Split dataset/ParDo(ApplyPartitionFnFn)/ParDo(ApplyPartitionFnFn)+TrainWriteToCSV/Write/WriteImpl/WindowInto(WindowIntoFn)+TrainWriteToCSV/Write/WriteImpl/WriteBundles/WriteBundles+TrainWriteToCSV/Write/WriteImpl/Pair+TrainWriteToCSV/Write/WriteImpl/GroupByKey/Reify+TrainWriteToCSV/Write/WriteImpl/GroupByKey/Write+EvalWriteToCSV/Write/WriteImpl/WindowInto(WindowIntoFn)+EvalWriteToCSV/Write/WriteImpl/WriteBundles/WriteBundles+EvalWriteToCSV/Write/WriteImpl/Pair+EvalWriteToCSV/Write/WriteImpl/GroupByKey/Reify+EvalWriteToCSV/Write/WriteImpl/GroupByKey/Write\n",
            "INFO:apache_beam.runners.dataflow.dataflow_runner:2022-02-27T05:57:04.747Z: JOB_MESSAGE_BASIC: Executing operation EvalWriteToCSV/Write/WriteImpl/GroupByKey/Close\n",
            "INFO:apache_beam.runners.dataflow.dataflow_runner:2022-02-27T05:57:04.764Z: JOB_MESSAGE_BASIC: Executing operation TrainWriteToCSV/Write/WriteImpl/GroupByKey/Close\n",
            "INFO:apache_beam.runners.dataflow.dataflow_runner:2022-02-27T05:57:04.794Z: JOB_MESSAGE_BASIC: Finished operation EvalWriteToCSV/Write/WriteImpl/GroupByKey/Close\n",
            "INFO:apache_beam.runners.dataflow.dataflow_runner:2022-02-27T05:57:04.812Z: JOB_MESSAGE_BASIC: Finished operation TrainWriteToCSV/Write/WriteImpl/GroupByKey/Close\n",
            "INFO:apache_beam.runners.dataflow.dataflow_runner:2022-02-27T05:57:04.854Z: JOB_MESSAGE_BASIC: Executing operation EvalWriteToCSV/Write/WriteImpl/GroupByKey/Read+EvalWriteToCSV/Write/WriteImpl/GroupByKey/GroupByWindow+EvalWriteToCSV/Write/WriteImpl/Extract\n",
            "INFO:apache_beam.runners.dataflow.dataflow_runner:2022-02-27T05:57:04.878Z: JOB_MESSAGE_BASIC: Executing operation TrainWriteToCSV/Write/WriteImpl/GroupByKey/Read+TrainWriteToCSV/Write/WriteImpl/GroupByKey/GroupByWindow+TrainWriteToCSV/Write/WriteImpl/Extract\n",
            "INFO:apache_beam.runners.dataflow.dataflow_runner:2022-02-27T05:57:15.550Z: JOB_MESSAGE_BASIC: Finished operation EvalWriteToCSV/Write/WriteImpl/GroupByKey/Read+EvalWriteToCSV/Write/WriteImpl/GroupByKey/GroupByWindow+EvalWriteToCSV/Write/WriteImpl/Extract\n",
            "INFO:apache_beam.runners.dataflow.dataflow_runner:2022-02-27T05:57:15.614Z: JOB_MESSAGE_DEBUG: Value \"EvalWriteToCSV/Write/WriteImpl/Extract.out\" materialized.\n",
            "INFO:apache_beam.runners.dataflow.dataflow_runner:2022-02-27T05:57:15.668Z: JOB_MESSAGE_BASIC: Executing operation EvalWriteToCSV/Write/WriteImpl/FinalizeWrite/_UnpickledSideInput(Extract.out.0)\n",
            "INFO:apache_beam.runners.dataflow.dataflow_runner:2022-02-27T05:57:15.692Z: JOB_MESSAGE_BASIC: Executing operation EvalWriteToCSV/Write/WriteImpl/PreFinalize/_UnpickledSideInput(Extract.out.0)\n",
            "INFO:apache_beam.runners.dataflow.dataflow_runner:2022-02-27T05:57:15.710Z: JOB_MESSAGE_BASIC: Finished operation EvalWriteToCSV/Write/WriteImpl/FinalizeWrite/_UnpickledSideInput(Extract.out.0)\n",
            "INFO:apache_beam.runners.dataflow.dataflow_runner:2022-02-27T05:57:15.712Z: JOB_MESSAGE_BASIC: Finished operation TrainWriteToCSV/Write/WriteImpl/GroupByKey/Read+TrainWriteToCSV/Write/WriteImpl/GroupByKey/GroupByWindow+TrainWriteToCSV/Write/WriteImpl/Extract\n",
            "INFO:apache_beam.runners.dataflow.dataflow_runner:2022-02-27T05:57:15.735Z: JOB_MESSAGE_BASIC: Finished operation EvalWriteToCSV/Write/WriteImpl/PreFinalize/_UnpickledSideInput(Extract.out.0)\n",
            "INFO:apache_beam.runners.dataflow.dataflow_runner:2022-02-27T05:57:15.748Z: JOB_MESSAGE_DEBUG: Value \"EvalWriteToCSV/Write/WriteImpl/FinalizeWrite/_UnpickledSideInput(Extract.out.0).output\" materialized.\n",
            "INFO:apache_beam.runners.dataflow.dataflow_runner:2022-02-27T05:57:15.771Z: JOB_MESSAGE_DEBUG: Value \"TrainWriteToCSV/Write/WriteImpl/Extract.out\" materialized.\n",
            "INFO:apache_beam.runners.dataflow.dataflow_runner:2022-02-27T05:57:15.795Z: JOB_MESSAGE_DEBUG: Value \"EvalWriteToCSV/Write/WriteImpl/PreFinalize/_UnpickledSideInput(Extract.out.0).output\" materialized.\n",
            "INFO:apache_beam.runners.dataflow.dataflow_runner:2022-02-27T05:57:15.826Z: JOB_MESSAGE_BASIC: Executing operation TrainWriteToCSV/Write/WriteImpl/FinalizeWrite/_UnpickledSideInput(Extract.out.0)\n",
            "INFO:apache_beam.runners.dataflow.dataflow_runner:2022-02-27T05:57:15.849Z: JOB_MESSAGE_BASIC: Executing operation TrainWriteToCSV/Write/WriteImpl/PreFinalize/_UnpickledSideInput(Extract.out.0)\n",
            "INFO:apache_beam.runners.dataflow.dataflow_runner:2022-02-27T05:57:15.866Z: JOB_MESSAGE_BASIC: Finished operation TrainWriteToCSV/Write/WriteImpl/FinalizeWrite/_UnpickledSideInput(Extract.out.0)\n",
            "INFO:apache_beam.runners.dataflow.dataflow_runner:2022-02-27T05:57:15.870Z: JOB_MESSAGE_BASIC: Executing operation EvalWriteToCSV/Write/WriteImpl/PreFinalize/PreFinalize\n",
            "INFO:apache_beam.runners.dataflow.dataflow_runner:2022-02-27T05:57:15.900Z: JOB_MESSAGE_BASIC: Finished operation TrainWriteToCSV/Write/WriteImpl/PreFinalize/_UnpickledSideInput(Extract.out.0)\n",
            "INFO:apache_beam.runners.dataflow.dataflow_runner:2022-02-27T05:57:15.912Z: JOB_MESSAGE_DEBUG: Value \"TrainWriteToCSV/Write/WriteImpl/FinalizeWrite/_UnpickledSideInput(Extract.out.0).output\" materialized.\n",
            "INFO:apache_beam.runners.dataflow.dataflow_runner:2022-02-27T05:57:15.954Z: JOB_MESSAGE_DEBUG: Value \"TrainWriteToCSV/Write/WriteImpl/PreFinalize/_UnpickledSideInput(Extract.out.0).output\" materialized.\n",
            "INFO:apache_beam.runners.dataflow.dataflow_runner:2022-02-27T05:57:16.007Z: JOB_MESSAGE_BASIC: Executing operation TrainWriteToCSV/Write/WriteImpl/PreFinalize/PreFinalize\n",
            "INFO:apache_beam.runners.dataflow.dataflow_runner:2022-02-27T05:57:18.711Z: JOB_MESSAGE_BASIC: Finished operation EvalWriteToCSV/Write/WriteImpl/PreFinalize/PreFinalize\n",
            "INFO:apache_beam.runners.dataflow.dataflow_runner:2022-02-27T05:57:18.761Z: JOB_MESSAGE_DEBUG: Value \"EvalWriteToCSV/Write/WriteImpl/PreFinalize.out\" materialized.\n",
            "INFO:apache_beam.runners.dataflow.dataflow_runner:2022-02-27T05:57:18.814Z: JOB_MESSAGE_BASIC: Executing operation EvalWriteToCSV/Write/WriteImpl/FinalizeWrite/_UnpickledSideInput(PreFinalize.out.0)\n",
            "INFO:apache_beam.runners.dataflow.dataflow_runner:2022-02-27T05:57:18.859Z: JOB_MESSAGE_BASIC: Finished operation EvalWriteToCSV/Write/WriteImpl/FinalizeWrite/_UnpickledSideInput(PreFinalize.out.0)\n",
            "INFO:apache_beam.runners.dataflow.dataflow_runner:2022-02-27T05:57:18.920Z: JOB_MESSAGE_DEBUG: Value \"EvalWriteToCSV/Write/WriteImpl/FinalizeWrite/_UnpickledSideInput(PreFinalize.out.0).output\" materialized.\n",
            "INFO:apache_beam.runners.dataflow.dataflow_runner:2022-02-27T05:57:18.974Z: JOB_MESSAGE_BASIC: Executing operation EvalWriteToCSV/Write/WriteImpl/FinalizeWrite/FinalizeWrite\n",
            "INFO:apache_beam.runners.dataflow.dataflow_runner:2022-02-27T05:57:19.295Z: JOB_MESSAGE_BASIC: Finished operation TrainWriteToCSV/Write/WriteImpl/PreFinalize/PreFinalize\n",
            "INFO:apache_beam.runners.dataflow.dataflow_runner:2022-02-27T05:57:19.348Z: JOB_MESSAGE_DEBUG: Value \"TrainWriteToCSV/Write/WriteImpl/PreFinalize.out\" materialized.\n",
            "INFO:apache_beam.runners.dataflow.dataflow_runner:2022-02-27T05:57:19.414Z: JOB_MESSAGE_BASIC: Executing operation TrainWriteToCSV/Write/WriteImpl/FinalizeWrite/_UnpickledSideInput(PreFinalize.out.0)\n",
            "INFO:apache_beam.runners.dataflow.dataflow_runner:2022-02-27T05:57:19.470Z: JOB_MESSAGE_BASIC: Finished operation TrainWriteToCSV/Write/WriteImpl/FinalizeWrite/_UnpickledSideInput(PreFinalize.out.0)\n",
            "INFO:apache_beam.runners.dataflow.dataflow_runner:2022-02-27T05:57:19.539Z: JOB_MESSAGE_DEBUG: Value \"TrainWriteToCSV/Write/WriteImpl/FinalizeWrite/_UnpickledSideInput(PreFinalize.out.0).output\" materialized.\n",
            "INFO:apache_beam.runners.dataflow.dataflow_runner:2022-02-27T05:57:19.591Z: JOB_MESSAGE_BASIC: Executing operation TrainWriteToCSV/Write/WriteImpl/FinalizeWrite/FinalizeWrite\n",
            "INFO:apache_beam.runners.dataflow.dataflow_runner:2022-02-27T05:57:22.168Z: JOB_MESSAGE_BASIC: Finished operation EvalWriteToCSV/Write/WriteImpl/FinalizeWrite/FinalizeWrite\n",
            "INFO:apache_beam.runners.dataflow.dataflow_runner:2022-02-27T05:57:25.077Z: JOB_MESSAGE_BASIC: Finished operation TrainWriteToCSV/Write/WriteImpl/FinalizeWrite/FinalizeWrite\n",
            "INFO:apache_beam.runners.dataflow.dataflow_runner:2022-02-27T05:57:25.141Z: JOB_MESSAGE_DEBUG: Executing success step success27\n",
            "INFO:apache_beam.runners.dataflow.dataflow_runner:2022-02-27T05:57:25.223Z: JOB_MESSAGE_DETAILED: Cleaning up.\n",
            "INFO:apache_beam.runners.dataflow.dataflow_runner:2022-02-27T05:57:25.279Z: JOB_MESSAGE_DEBUG: Starting worker pool teardown.\n",
            "INFO:apache_beam.runners.dataflow.dataflow_runner:2022-02-27T05:57:25.312Z: JOB_MESSAGE_BASIC: Stopping worker pool...\n",
            "INFO:apache_beam.runners.dataflow.dataflow_runner:2022-02-27T05:59:50.020Z: JOB_MESSAGE_DETAILED: Autoscaling: Resized worker pool from 1 to 0.\n",
            "INFO:apache_beam.runners.dataflow.dataflow_runner:2022-02-27T05:59:50.061Z: JOB_MESSAGE_BASIC: Worker pool stopped.\n",
            "INFO:apache_beam.runners.dataflow.dataflow_runner:2022-02-27T05:59:50.089Z: JOB_MESSAGE_DEBUG: Tearing down pending resources...\n",
            "INFO:apache_beam.runners.dataflow.dataflow_runner:Job 2022-02-26_21_50_47-11157880701373359348 is in state JOB_STATE_DONE\n"
          ]
        }
      ]
    },
    {
      "cell_type": "code",
      "source": [
        "# Visualización de resultados\n",
        "! gsutil ls -al $GCP_WORK_DIR/transformed_data/train/\n",
        "! gsutil ls -al $GCP_WORK_DIR/transformed_data/eval/"
      ],
      "metadata": {
        "colab": {
          "base_uri": "https://localhost:8080/"
        },
        "id": "RDM0XPtkw30A",
        "outputId": "0526cdda-92f7-4276-8251-da5113b68497"
      },
      "execution_count": null,
      "outputs": [
        {
          "output_type": "stream",
          "name": "stdout",
          "text": [
            "    270411  2022-02-27T05:57:23Z  gs://twitch-practice-keepcoding-main-bucket/transformed_data/train/part-00000-of-00003#1645941443711646  metageneration=1\n",
            "    258863  2022-02-27T05:57:23Z  gs://twitch-practice-keepcoding-main-bucket/transformed_data/train/part-00001-of-00003#1645941443711619  metageneration=1\n",
            "    223381  2022-02-27T05:57:23Z  gs://twitch-practice-keepcoding-main-bucket/transformed_data/train/part-00002-of-00003#1645941443719351  metageneration=1\n",
            "TOTAL: 3 objects, 752655 bytes (735.01 KiB)\n",
            "     67247  2022-02-27T05:57:19Z  gs://twitch-practice-keepcoding-main-bucket/transformed_data/eval/part-00000-of-00003#1645941439816142  metageneration=1\n",
            "     67118  2022-02-27T05:57:19Z  gs://twitch-practice-keepcoding-main-bucket/transformed_data/eval/part-00001-of-00003#1645941439816036  metageneration=1\n",
            "     55781  2022-02-27T05:57:19Z  gs://twitch-practice-keepcoding-main-bucket/transformed_data/eval/part-00002-of-00003#1645941439808772  metageneration=1\n",
            "TOTAL: 3 objects, 190146 bytes (185.69 KiB)\n"
          ]
        }
      ]
    },
    {
      "cell_type": "markdown",
      "source": [
        "* GCP -> Dataflow -> Trabajos\n",
        "\n",
        "![image.png](data:image/png;base64,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)\n",
        "\n"
      ],
      "metadata": {
        "id": "G2v99mHaxCvn"
      }
    },
    {
      "cell_type": "markdown",
      "metadata": {
        "id": "8czKRMb99ZRX"
      },
      "source": [
        "### Validación preprocess test en Dataflow (0.25 puntos)\n",
        "\n",
        "Con el comando mostrado a continuación se valida la correcta generación de los datos de test en GCP con el servicio DataFlow."
      ]
    },
    {
      "cell_type": "code",
      "metadata": {
        "id": "45mfSRGdQLBO",
        "colab": {
          "base_uri": "https://localhost:8080/"
        },
        "outputId": "3f1b5bf9-e11e-4136-8ceb-bece5f1e7e64"
      },
      "source": [
        "! python3 preprocess.py \\\n",
        "  --project $PROJECT_ID \\\n",
        "  --region $GCP_REGION \\\n",
        "  --runner DataflowRunner \\\n",
        "  --temp_location $GCP_WORK_DIR/beam-temp \\\n",
        "  --setup_file ./setup.py \\\n",
        "  --work-dir $GCP_WORK_DIR \\\n",
        "  --input $GCP_WORK_DIR/data.json \\\n",
        "  --output $GCP_WORK_DIR/transformed_data \\\n",
        "  --mode test"
      ],
      "execution_count": null,
      "outputs": [
        {
          "output_type": "stream",
          "name": "stdout",
          "text": [
            "[nltk_data] Downloading package stopwords to /root/nltk_data...\n",
            "[nltk_data]   Package stopwords is already up-to-date!\n",
            "INFO:apache_beam.internal.gcp.auth:Setting socket default timeout to 60 seconds.\n",
            "INFO:apache_beam.internal.gcp.auth:socket default timeout is 60.0 seconds.\n",
            "INFO:oauth2client.transport:Attempting refresh to obtain initial access_token\n",
            "INFO:oauth2client.client:Refreshing access_token\n",
            "INFO:apache_beam.runners.portability.stager:Executing command: ['/usr/bin/python3', 'setup.py', 'sdist', '--dist-dir', '/tmp/tmpvs52uo5l']\n",
            "warning: sdist: standard file not found: should have one of README, README.rst, README.txt, README.md\n",
            "\n",
            "warning: check: missing required meta-data: url\n",
            "\n",
            "warning: check: missing meta-data: either (author and author_email) or (maintainer and maintainer_email) must be supplied\n",
            "\n",
            "INFO:apache_beam.runners.portability.stager:Downloading source distribution of the SDK from PyPi\n",
            "INFO:apache_beam.runners.portability.stager:Executing command: ['/usr/bin/python3', '-m', 'pip', 'download', '--dest', '/tmp/tmpvs52uo5l', 'apache-beam==2.24.0', '--no-deps', '--no-binary', ':all:']\n",
            "INFO:apache_beam.runners.portability.stager:Staging SDK sources from PyPI: dataflow_python_sdk.tar\n",
            "INFO:apache_beam.runners.portability.stager:Downloading binary distribution of the SDK from PyPi\n",
            "INFO:apache_beam.runners.portability.stager:Executing command: ['/usr/bin/python3', '-m', 'pip', 'download', '--dest', '/tmp/tmpvs52uo5l', 'apache-beam==2.24.0', '--no-deps', '--only-binary', ':all:', '--python-version', '37', '--implementation', 'cp', '--abi', 'cp37m', '--platform', 'manylinux1_x86_64']\n",
            "INFO:apache_beam.runners.portability.stager:Staging binary distribution of the SDK from PyPI: apache_beam-2.24.0-cp37-cp37m-manylinux1_x86_64.whl\n",
            "WARNING:root:Make sure that locally built Python SDK docker image has Python 3.7 interpreter.\n",
            "INFO:root:Using Python SDK docker image: apache/beam_python3.7_sdk:2.24.0. If the image is not available at local, we will try to pull from hub.docker.com\n",
            "INFO:apache_beam.runners.dataflow.internal.apiclient:Defaulting to the temp_location as staging_location: gs://twitch-practice-keepcoding-main-bucket/beam-temp\n",
            "INFO:apache_beam.runners.dataflow.internal.apiclient:Starting GCS upload to gs://twitch-practice-keepcoding-main-bucket/beam-temp/beamapp-root-0227060348-952282.1645941828.952579/pipeline.pb...\n",
            "INFO:apache_beam.runners.dataflow.internal.apiclient:Completed GCS upload to gs://twitch-practice-keepcoding-main-bucket/beam-temp/beamapp-root-0227060348-952282.1645941828.952579/pipeline.pb in 0 seconds.\n",
            "INFO:apache_beam.runners.dataflow.internal.apiclient:Starting GCS upload to gs://twitch-practice-keepcoding-main-bucket/beam-temp/beamapp-root-0227060348-952282.1645941828.952579/workflow.tar.gz...\n",
            "INFO:apache_beam.runners.dataflow.internal.apiclient:Completed GCS upload to gs://twitch-practice-keepcoding-main-bucket/beam-temp/beamapp-root-0227060348-952282.1645941828.952579/workflow.tar.gz in 0 seconds.\n",
            "INFO:apache_beam.runners.dataflow.internal.apiclient:Starting GCS upload to gs://twitch-practice-keepcoding-main-bucket/beam-temp/beamapp-root-0227060348-952282.1645941828.952579/pickled_main_session...\n",
            "INFO:apache_beam.runners.dataflow.internal.apiclient:Completed GCS upload to gs://twitch-practice-keepcoding-main-bucket/beam-temp/beamapp-root-0227060348-952282.1645941828.952579/pickled_main_session in 0 seconds.\n",
            "INFO:apache_beam.runners.dataflow.internal.apiclient:Starting GCS upload to gs://twitch-practice-keepcoding-main-bucket/beam-temp/beamapp-root-0227060348-952282.1645941828.952579/dataflow_python_sdk.tar...\n",
            "INFO:apache_beam.runners.dataflow.internal.apiclient:Completed GCS upload to gs://twitch-practice-keepcoding-main-bucket/beam-temp/beamapp-root-0227060348-952282.1645941828.952579/dataflow_python_sdk.tar in 1 seconds.\n",
            "INFO:apache_beam.runners.dataflow.internal.apiclient:Starting GCS upload to gs://twitch-practice-keepcoding-main-bucket/beam-temp/beamapp-root-0227060348-952282.1645941828.952579/apache_beam-2.24.0-cp37-cp37m-manylinux1_x86_64.whl...\n",
            "INFO:apache_beam.runners.dataflow.internal.apiclient:Completed GCS upload to gs://twitch-practice-keepcoding-main-bucket/beam-temp/beamapp-root-0227060348-952282.1645941828.952579/apache_beam-2.24.0-cp37-cp37m-manylinux1_x86_64.whl in 5 seconds.\n",
            "INFO:apache_beam.runners.dataflow.internal.apiclient:Create job: <Job\n",
            " createTime: '2022-02-27T06:03:59.004401Z'\n",
            " currentStateTime: '1970-01-01T00:00:00Z'\n",
            " id: '2022-02-26_22_03_58-14620314176485417964'\n",
            " location: 'europe-west1'\n",
            " name: 'beamapp-root-0227060348-952282'\n",
            " projectId: 'practica-despliegue-keepcoding'\n",
            " stageStates: []\n",
            " startTime: '2022-02-27T06:03:59.004401Z'\n",
            " steps: []\n",
            " tempFiles: []\n",
            " type: TypeValueValuesEnum(JOB_TYPE_BATCH, 1)>\n",
            "INFO:apache_beam.runners.dataflow.internal.apiclient:Created job with id: [2022-02-26_22_03_58-14620314176485417964]\n",
            "INFO:apache_beam.runners.dataflow.internal.apiclient:Submitted job: 2022-02-26_22_03_58-14620314176485417964\n",
            "INFO:apache_beam.runners.dataflow.internal.apiclient:To access the Dataflow monitoring console, please navigate to https://console.cloud.google.com/dataflow/jobs/europe-west1/2022-02-26_22_03_58-14620314176485417964?project=practica-despliegue-keepcoding\n",
            "INFO:apache_beam.runners.dataflow.dataflow_runner:Job 2022-02-26_22_03_58-14620314176485417964 is in state JOB_STATE_PENDING\n",
            "INFO:apache_beam.runners.dataflow.dataflow_runner:2022-02-27T06:03:59.609Z: JOB_MESSAGE_DETAILED: Autoscaling is enabled for job 2022-02-26_22_03_58-14620314176485417964. The number of workers will be between 1 and 1000.\n",
            "INFO:apache_beam.runners.dataflow.dataflow_runner:2022-02-27T06:03:59.798Z: JOB_MESSAGE_DETAILED: Autoscaling was automatically enabled for job 2022-02-26_22_03_58-14620314176485417964.\n",
            "INFO:apache_beam.runners.dataflow.dataflow_runner:2022-02-27T06:04:01.472Z: JOB_MESSAGE_BASIC: Worker configuration: n1-standard-1 in europe-west1-c.\n",
            "INFO:apache_beam.runners.dataflow.dataflow_runner:2022-02-27T06:04:02.313Z: JOB_MESSAGE_DETAILED: Expanding CoGroupByKey operations into optimizable parts.\n",
            "INFO:apache_beam.runners.dataflow.dataflow_runner:2022-02-27T06:04:02.344Z: JOB_MESSAGE_DEBUG: Combiner lifting skipped for step TestWriteToCSV/Write/WriteImpl/GroupByKey: GroupByKey not followed by a combiner.\n",
            "INFO:apache_beam.runners.dataflow.dataflow_runner:2022-02-27T06:04:02.389Z: JOB_MESSAGE_DETAILED: Expanding GroupByKey operations into optimizable parts.\n",
            "INFO:apache_beam.runners.dataflow.dataflow_runner:2022-02-27T06:04:02.429Z: JOB_MESSAGE_DETAILED: Lifting ValueCombiningMappingFns into MergeBucketsMappingFns\n",
            "INFO:apache_beam.runners.dataflow.dataflow_runner:2022-02-27T06:04:02.490Z: JOB_MESSAGE_DEBUG: Annotating graph with Autotuner information.\n",
            "INFO:apache_beam.runners.dataflow.dataflow_runner:2022-02-27T06:04:02.546Z: JOB_MESSAGE_DETAILED: Fusing adjacent ParDo, Read, Write, and Flatten operations\n",
            "INFO:apache_beam.runners.dataflow.dataflow_runner:2022-02-27T06:04:02.578Z: JOB_MESSAGE_DETAILED: Fusing consumer ExtractColumns into ReadTwitchData/Read\n",
            "INFO:apache_beam.runners.dataflow.dataflow_runner:2022-02-27T06:04:02.607Z: JOB_MESSAGE_DETAILED: Fusing consumer Preprocess into ExtractColumns\n",
            "INFO:apache_beam.runners.dataflow.dataflow_runner:2022-02-27T06:04:02.641Z: JOB_MESSAGE_DETAILED: Fusing consumer TestWriteToCSV/Write/WriteImpl/WindowInto(WindowIntoFn) into Preprocess\n",
            "INFO:apache_beam.runners.dataflow.dataflow_runner:2022-02-27T06:04:02.703Z: JOB_MESSAGE_DETAILED: Fusing consumer TestWriteToCSV/Write/WriteImpl/WriteBundles/WriteBundles into TestWriteToCSV/Write/WriteImpl/WindowInto(WindowIntoFn)\n",
            "INFO:apache_beam.runners.dataflow.dataflow_runner:2022-02-27T06:04:02.735Z: JOB_MESSAGE_DETAILED: Fusing consumer TestWriteToCSV/Write/WriteImpl/Pair into TestWriteToCSV/Write/WriteImpl/WriteBundles/WriteBundles\n",
            "INFO:apache_beam.runners.dataflow.dataflow_runner:2022-02-27T06:04:02.826Z: JOB_MESSAGE_DETAILED: Fusing consumer TestWriteToCSV/Write/WriteImpl/GroupByKey/Reify into TestWriteToCSV/Write/WriteImpl/Pair\n",
            "INFO:apache_beam.runners.dataflow.dataflow_runner:2022-02-27T06:04:02.857Z: JOB_MESSAGE_DETAILED: Fusing consumer TestWriteToCSV/Write/WriteImpl/GroupByKey/Write into TestWriteToCSV/Write/WriteImpl/GroupByKey/Reify\n",
            "INFO:apache_beam.runners.dataflow.dataflow_runner:2022-02-27T06:04:02.890Z: JOB_MESSAGE_DETAILED: Fusing consumer TestWriteToCSV/Write/WriteImpl/GroupByKey/GroupByWindow into TestWriteToCSV/Write/WriteImpl/GroupByKey/Read\n",
            "INFO:apache_beam.runners.dataflow.dataflow_runner:2022-02-27T06:04:02.945Z: JOB_MESSAGE_DETAILED: Fusing consumer TestWriteToCSV/Write/WriteImpl/Extract into TestWriteToCSV/Write/WriteImpl/GroupByKey/GroupByWindow\n",
            "INFO:apache_beam.runners.dataflow.dataflow_runner:2022-02-27T06:04:02.980Z: JOB_MESSAGE_DETAILED: Fusing consumer TestWriteToCSV/Write/WriteImpl/InitializeWrite into TestWriteToCSV/Write/WriteImpl/DoOnce/Read\n",
            "INFO:apache_beam.runners.dataflow.dataflow_runner:2022-02-27T06:04:03.006Z: JOB_MESSAGE_DEBUG: Workflow config is missing a default resource spec.\n",
            "INFO:apache_beam.runners.dataflow.dataflow_runner:2022-02-27T06:04:03.067Z: JOB_MESSAGE_DEBUG: Adding StepResource setup and teardown to workflow graph.\n",
            "INFO:apache_beam.runners.dataflow.dataflow_runner:2022-02-27T06:04:03.094Z: JOB_MESSAGE_DEBUG: Adding workflow start and stop steps.\n",
            "INFO:apache_beam.runners.dataflow.dataflow_runner:2022-02-27T06:04:03.129Z: JOB_MESSAGE_DEBUG: Assigning stage ids.\n",
            "INFO:apache_beam.runners.dataflow.dataflow_runner:2022-02-27T06:04:03.318Z: JOB_MESSAGE_DEBUG: Executing wait step start16\n",
            "INFO:apache_beam.runners.dataflow.dataflow_runner:2022-02-27T06:04:03.396Z: JOB_MESSAGE_BASIC: Executing operation TestWriteToCSV/Write/WriteImpl/DoOnce/Read+TestWriteToCSV/Write/WriteImpl/InitializeWrite\n",
            "INFO:apache_beam.runners.dataflow.dataflow_runner:2022-02-27T06:04:03.449Z: JOB_MESSAGE_DEBUG: Starting worker pool setup.\n",
            "INFO:apache_beam.runners.dataflow.dataflow_runner:2022-02-27T06:04:03.484Z: JOB_MESSAGE_BASIC: Starting 1 workers in europe-west1-c...\n",
            "INFO:apache_beam.runners.dataflow.dataflow_runner:Job 2022-02-26_22_03_58-14620314176485417964 is in state JOB_STATE_RUNNING\n",
            "INFO:apache_beam.runners.dataflow.dataflow_runner:2022-02-27T06:04:38.508Z: JOB_MESSAGE_DETAILED: Autoscaling: Raised the number of workers to 1 based on the rate of progress in the currently running stage(s).\n",
            "INFO:apache_beam.runners.dataflow.dataflow_runner:2022-02-27T06:05:10.232Z: JOB_MESSAGE_DETAILED: Workers have started successfully.\n",
            "INFO:apache_beam.runners.dataflow.dataflow_runner:2022-02-27T06:05:10.269Z: JOB_MESSAGE_DETAILED: Workers have started successfully.\n",
            "INFO:apache_beam.runners.dataflow.dataflow_runner:2022-02-27T06:09:55.756Z: JOB_MESSAGE_BASIC: Finished operation TestWriteToCSV/Write/WriteImpl/DoOnce/Read+TestWriteToCSV/Write/WriteImpl/InitializeWrite\n",
            "INFO:apache_beam.runners.dataflow.dataflow_runner:2022-02-27T06:09:55.859Z: JOB_MESSAGE_DEBUG: Value \"TestWriteToCSV/Write/WriteImpl/DoOnce/Read.out\" materialized.\n",
            "INFO:apache_beam.runners.dataflow.dataflow_runner:2022-02-27T06:09:55.891Z: JOB_MESSAGE_DEBUG: Value \"TestWriteToCSV/Write/WriteImpl/InitializeWrite.out\" materialized.\n",
            "INFO:apache_beam.runners.dataflow.dataflow_runner:2022-02-27T06:09:55.947Z: JOB_MESSAGE_BASIC: Executing operation TestWriteToCSV/Write/WriteImpl/WriteBundles/_UnpickledSideInput(InitializeWrite.out.0)\n",
            "INFO:apache_beam.runners.dataflow.dataflow_runner:2022-02-27T06:09:55.979Z: JOB_MESSAGE_BASIC: Executing operation TestWriteToCSV/Write/WriteImpl/PreFinalize/_UnpickledSideInput(InitializeWrite.out.0)\n",
            "INFO:apache_beam.runners.dataflow.dataflow_runner:2022-02-27T06:09:56.003Z: JOB_MESSAGE_BASIC: Executing operation TestWriteToCSV/Write/WriteImpl/FinalizeWrite/_UnpickledSideInput(InitializeWrite.out.0)\n",
            "INFO:apache_beam.runners.dataflow.dataflow_runner:2022-02-27T06:09:56.020Z: JOB_MESSAGE_BASIC: Finished operation TestWriteToCSV/Write/WriteImpl/WriteBundles/_UnpickledSideInput(InitializeWrite.out.0)\n",
            "INFO:apache_beam.runners.dataflow.dataflow_runner:2022-02-27T06:09:56.033Z: JOB_MESSAGE_BASIC: Finished operation TestWriteToCSV/Write/WriteImpl/PreFinalize/_UnpickledSideInput(InitializeWrite.out.0)\n",
            "INFO:apache_beam.runners.dataflow.dataflow_runner:2022-02-27T06:09:56.062Z: JOB_MESSAGE_BASIC: Finished operation TestWriteToCSV/Write/WriteImpl/FinalizeWrite/_UnpickledSideInput(InitializeWrite.out.0)\n",
            "INFO:apache_beam.runners.dataflow.dataflow_runner:2022-02-27T06:09:56.079Z: JOB_MESSAGE_DEBUG: Value \"TestWriteToCSV/Write/WriteImpl/WriteBundles/_UnpickledSideInput(InitializeWrite.out.0).output\" materialized.\n",
            "INFO:apache_beam.runners.dataflow.dataflow_runner:2022-02-27T06:09:56.112Z: JOB_MESSAGE_DEBUG: Value \"TestWriteToCSV/Write/WriteImpl/PreFinalize/_UnpickledSideInput(InitializeWrite.out.0).output\" materialized.\n",
            "INFO:apache_beam.runners.dataflow.dataflow_runner:2022-02-27T06:09:56.143Z: JOB_MESSAGE_DEBUG: Value \"TestWriteToCSV/Write/WriteImpl/FinalizeWrite/_UnpickledSideInput(InitializeWrite.out.0).output\" materialized.\n",
            "INFO:apache_beam.runners.dataflow.dataflow_runner:2022-02-27T06:09:56.175Z: JOB_MESSAGE_BASIC: Executing operation TestWriteToCSV/Write/WriteImpl/GroupByKey/Create\n",
            "INFO:apache_beam.runners.dataflow.dataflow_runner:2022-02-27T06:09:56.661Z: JOB_MESSAGE_BASIC: Finished operation TestWriteToCSV/Write/WriteImpl/GroupByKey/Create\n",
            "INFO:apache_beam.runners.dataflow.dataflow_runner:2022-02-27T06:09:56.721Z: JOB_MESSAGE_DEBUG: Value \"TestWriteToCSV/Write/WriteImpl/GroupByKey/Session\" materialized.\n",
            "INFO:apache_beam.runners.dataflow.dataflow_runner:2022-02-27T06:09:56.786Z: JOB_MESSAGE_BASIC: Executing operation ReadTwitchData/Read+ExtractColumns+Preprocess+TestWriteToCSV/Write/WriteImpl/WindowInto(WindowIntoFn)+TestWriteToCSV/Write/WriteImpl/WriteBundles/WriteBundles+TestWriteToCSV/Write/WriteImpl/Pair+TestWriteToCSV/Write/WriteImpl/GroupByKey/Reify+TestWriteToCSV/Write/WriteImpl/GroupByKey/Write\n",
            "INFO:apache_beam.runners.dataflow.dataflow_runner:2022-02-27T06:10:11.190Z: JOB_MESSAGE_BASIC: Finished operation ReadTwitchData/Read+ExtractColumns+Preprocess+TestWriteToCSV/Write/WriteImpl/WindowInto(WindowIntoFn)+TestWriteToCSV/Write/WriteImpl/WriteBundles/WriteBundles+TestWriteToCSV/Write/WriteImpl/Pair+TestWriteToCSV/Write/WriteImpl/GroupByKey/Reify+TestWriteToCSV/Write/WriteImpl/GroupByKey/Write\n",
            "INFO:apache_beam.runners.dataflow.dataflow_runner:2022-02-27T06:10:11.251Z: JOB_MESSAGE_BASIC: Executing operation TestWriteToCSV/Write/WriteImpl/GroupByKey/Close\n",
            "INFO:apache_beam.runners.dataflow.dataflow_runner:2022-02-27T06:10:11.321Z: JOB_MESSAGE_BASIC: Finished operation TestWriteToCSV/Write/WriteImpl/GroupByKey/Close\n",
            "INFO:apache_beam.runners.dataflow.dataflow_runner:2022-02-27T06:10:11.392Z: JOB_MESSAGE_BASIC: Executing operation TestWriteToCSV/Write/WriteImpl/GroupByKey/Read+TestWriteToCSV/Write/WriteImpl/GroupByKey/GroupByWindow+TestWriteToCSV/Write/WriteImpl/Extract\n",
            "INFO:apache_beam.runners.dataflow.dataflow_runner:2022-02-27T06:10:21.437Z: JOB_MESSAGE_BASIC: Finished operation TestWriteToCSV/Write/WriteImpl/GroupByKey/Read+TestWriteToCSV/Write/WriteImpl/GroupByKey/GroupByWindow+TestWriteToCSV/Write/WriteImpl/Extract\n",
            "INFO:apache_beam.runners.dataflow.dataflow_runner:2022-02-27T06:10:21.503Z: JOB_MESSAGE_DEBUG: Value \"TestWriteToCSV/Write/WriteImpl/Extract.out\" materialized.\n",
            "INFO:apache_beam.runners.dataflow.dataflow_runner:2022-02-27T06:10:21.588Z: JOB_MESSAGE_BASIC: Executing operation TestWriteToCSV/Write/WriteImpl/PreFinalize/_UnpickledSideInput(Extract.out.0)\n",
            "INFO:apache_beam.runners.dataflow.dataflow_runner:2022-02-27T06:10:21.612Z: JOB_MESSAGE_BASIC: Executing operation TestWriteToCSV/Write/WriteImpl/FinalizeWrite/_UnpickledSideInput(Extract.out.0)\n",
            "INFO:apache_beam.runners.dataflow.dataflow_runner:2022-02-27T06:10:21.634Z: JOB_MESSAGE_BASIC: Finished operation TestWriteToCSV/Write/WriteImpl/PreFinalize/_UnpickledSideInput(Extract.out.0)\n",
            "INFO:apache_beam.runners.dataflow.dataflow_runner:2022-02-27T06:10:21.671Z: JOB_MESSAGE_BASIC: Finished operation TestWriteToCSV/Write/WriteImpl/FinalizeWrite/_UnpickledSideInput(Extract.out.0)\n",
            "INFO:apache_beam.runners.dataflow.dataflow_runner:2022-02-27T06:10:21.701Z: JOB_MESSAGE_DEBUG: Value \"TestWriteToCSV/Write/WriteImpl/PreFinalize/_UnpickledSideInput(Extract.out.0).output\" materialized.\n",
            "INFO:apache_beam.runners.dataflow.dataflow_runner:2022-02-27T06:10:21.725Z: JOB_MESSAGE_DEBUG: Value \"TestWriteToCSV/Write/WriteImpl/FinalizeWrite/_UnpickledSideInput(Extract.out.0).output\" materialized.\n",
            "INFO:apache_beam.runners.dataflow.dataflow_runner:2022-02-27T06:10:21.760Z: JOB_MESSAGE_BASIC: Executing operation TestWriteToCSV/Write/WriteImpl/PreFinalize/PreFinalize\n",
            "INFO:apache_beam.runners.dataflow.dataflow_runner:2022-02-27T06:10:25.720Z: JOB_MESSAGE_BASIC: Finished operation TestWriteToCSV/Write/WriteImpl/PreFinalize/PreFinalize\n",
            "INFO:apache_beam.runners.dataflow.dataflow_runner:2022-02-27T06:10:25.778Z: JOB_MESSAGE_DEBUG: Value \"TestWriteToCSV/Write/WriteImpl/PreFinalize.out\" materialized.\n",
            "INFO:apache_beam.runners.dataflow.dataflow_runner:2022-02-27T06:10:25.896Z: JOB_MESSAGE_BASIC: Executing operation TestWriteToCSV/Write/WriteImpl/FinalizeWrite/_UnpickledSideInput(PreFinalize.out.0)\n",
            "INFO:apache_beam.runners.dataflow.dataflow_runner:2022-02-27T06:10:25.939Z: JOB_MESSAGE_BASIC: Finished operation TestWriteToCSV/Write/WriteImpl/FinalizeWrite/_UnpickledSideInput(PreFinalize.out.0)\n",
            "INFO:apache_beam.runners.dataflow.dataflow_runner:2022-02-27T06:10:25.995Z: JOB_MESSAGE_DEBUG: Value \"TestWriteToCSV/Write/WriteImpl/FinalizeWrite/_UnpickledSideInput(PreFinalize.out.0).output\" materialized.\n",
            "INFO:apache_beam.runners.dataflow.dataflow_runner:2022-02-27T06:10:26.069Z: JOB_MESSAGE_BASIC: Executing operation TestWriteToCSV/Write/WriteImpl/FinalizeWrite/FinalizeWrite\n",
            "INFO:apache_beam.runners.dataflow.dataflow_runner:2022-02-27T06:10:29.425Z: JOB_MESSAGE_BASIC: Finished operation TestWriteToCSV/Write/WriteImpl/FinalizeWrite/FinalizeWrite\n",
            "INFO:apache_beam.runners.dataflow.dataflow_runner:2022-02-27T06:10:29.497Z: JOB_MESSAGE_DEBUG: Executing success step success14\n",
            "INFO:apache_beam.runners.dataflow.dataflow_runner:2022-02-27T06:10:29.561Z: JOB_MESSAGE_DETAILED: Cleaning up.\n",
            "INFO:apache_beam.runners.dataflow.dataflow_runner:2022-02-27T06:10:29.668Z: JOB_MESSAGE_DEBUG: Starting worker pool teardown.\n",
            "INFO:apache_beam.runners.dataflow.dataflow_runner:2022-02-27T06:10:29.695Z: JOB_MESSAGE_BASIC: Stopping worker pool...\n",
            "INFO:apache_beam.runners.dataflow.dataflow_runner:2022-02-27T06:12:49.324Z: JOB_MESSAGE_DETAILED: Autoscaling: Resized worker pool from 1 to 0.\n",
            "INFO:apache_beam.runners.dataflow.dataflow_runner:2022-02-27T06:12:49.373Z: JOB_MESSAGE_BASIC: Worker pool stopped.\n",
            "INFO:apache_beam.runners.dataflow.dataflow_runner:2022-02-27T06:12:49.401Z: JOB_MESSAGE_DEBUG: Tearing down pending resources...\n",
            "INFO:apache_beam.runners.dataflow.dataflow_runner:Job 2022-02-26_22_03_58-14620314176485417964 is in state JOB_STATE_DONE\n"
          ]
        }
      ]
    },
    {
      "cell_type": "code",
      "source": [
        "# Visualización de resultados\n",
        "! gsutil ls -al $GCP_WORK_DIR/transformed_data/test"
      ],
      "metadata": {
        "colab": {
          "base_uri": "https://localhost:8080/"
        },
        "id": "9Ki4bG-kzaPq",
        "outputId": "5e88bdd3-5563-4d2f-b9fb-13494fdee365"
      },
      "execution_count": null,
      "outputs": [
        {
          "output_type": "stream",
          "name": "stdout",
          "text": [
            "    433423  2022-02-27T06:10:26Z  gs://twitch-practice-keepcoding-main-bucket/transformed_data/test/part-00000-of-00003#1645942226978146  metageneration=1\n",
            "    495868  2022-02-27T06:10:26Z  gs://twitch-practice-keepcoding-main-bucket/transformed_data/test/part-00001-of-00003#1645942226990364  metageneration=1\n",
            "    484956  2022-02-27T06:10:26Z  gs://twitch-practice-keepcoding-main-bucket/transformed_data/test/part-00002-of-00003#1645942226993131  metageneration=1\n",
            "TOTAL: 3 objects, 1414247 bytes (1.35 MiB)\n"
          ]
        }
      ]
    },
    {
      "cell_type": "markdown",
      "source": [
        "* GCP -> Dataflow -> Trabajos\n",
        "\n",
        "![image.png](data:image/png;base64,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)"
      ],
      "metadata": {
        "id": "rigKCiAjzb7Y"
      }
    },
    {
      "cell_type": "markdown",
      "metadata": {
        "id": "NFNxYtxW9fP9"
      },
      "source": [
        "### Validación Train en AI Platform (0.5 puntos)\n",
        "\n",
        "Con el comando mostrado a continuación se valida el correcto entrenamiento del modelo usando los datos de las ejecuciones anteriores en GCP con los datos obtenidos almacenados en Google Cloud Storage."
      ]
    },
    {
      "cell_type": "markdown",
      "metadata": {
        "id": "b0fP_5Gy9zfz"
      },
      "source": [
        "Generamos un nombre para el job de entrenamiento y donde se almacenarán los metadatos."
      ]
    },
    {
      "cell_type": "code",
      "metadata": {
        "id": "_eU0FkyLQPt6"
      },
      "source": [
        "JOB = \"troll_detection_batch_$(date +%Y%m%d_%H%M%S)\"\n",
        "JOB_DIR = GCP_WORK_DIR + \"/trainer\""
      ],
      "execution_count": null,
      "outputs": []
    },
    {
      "cell_type": "code",
      "metadata": {
        "id": "3Z33nVs5QSEI",
        "colab": {
          "base_uri": "https://localhost:8080/"
        },
        "outputId": "f7b23260-f05e-4fd2-ab5e-0431807f7d44"
      },
      "source": [
        "! gcloud ai-platform jobs submit training $JOB \\\n",
        "  --module-name trainer.task \\\n",
        "  --package-path trainer \\\n",
        "  --scale-tier basic_gpu \\\n",
        "  --python-version 3.7 \\\n",
        "  --runtime-version 2.8 \\\n",
        "  --region $GCP_REGION \\\n",
        "  --job-dir $JOB_DIR \\\n",
        "  --stream-logs \\\n",
        "  -- \\\n",
        "  --work-dir $GCP_WORK_DIR \\\n",
        "  --epochs 15 \\\n",
        "  --steps 14 \\\n",
        "  --batch-size 1024"
      ],
      "execution_count": null,
      "outputs": [
        {
          "output_type": "stream",
          "name": "stdout",
          "text": [
            "Job [troll_detection_batch_20220227_085540] submitted successfully.\n",
            "INFO\t2022-02-27 08:55:42 +0000\tservice\t\tValidating job requirements...\n",
            "INFO\t2022-02-27 08:55:44 +0000\tservice\t\tJob creation request has been successfully validated.\n",
            "INFO\t2022-02-27 08:55:44 +0000\tservice\t\tWaiting for job to be provisioned.\n",
            "INFO\t2022-02-27 08:55:44 +0000\tservice\t\tJob troll_detection_batch_20220227_085540 is queued.\n",
            "INFO\t2022-02-27 08:55:47 +0000\tservice\t\tWaiting for training program to start.\n",
            "NOTICE\t2022-02-27 08:57:12 +0000\tmaster-replica-0.gcsfuse\t\tOpening GCS connection...\n",
            "NOTICE\t2022-02-27 08:57:12 +0000\tmaster-replica-0.gcsfuse\t\tMounting file system \"gcsfuse\"...\n",
            "NOTICE\t2022-02-27 08:57:12 +0000\tmaster-replica-0.gcsfuse\t\tFile system has been successfully mounted.\n",
            "INFO\t2022-02-27 09:00:14 +0000\tmaster-replica-0\t\tRunning task with arguments: --cluster={\"chief\": [\"127.0.0.1:2222\"]} --task={\"type\": \"chief\", \"index\": 0} --job={  \"scale_tier\": \"BASIC_GPU\",  \"package_uris\": [\"gs://twitch-practice-keepcoding-main-bucket/trainer/packages/54e9c51c87f09a7e7ea41601fa464777a9a5f89ee9129e521ea55d07ed017d08/twitchstreaming-0.0.1.tar.gz\"],  \"python_module\": \"trainer.task\",  \"args\": [\"--work-dir\", \"gs://twitch-practice-keepcoding-main-bucket\", \"--epochs\", \"15\", \"--steps\", \"14\", \"--batch-size\", \"1024\"],  \"region\": \"europe-west1\",  \"runtime_version\": \"2.8\",  \"job_dir\": \"gs://twitch-practice-keepcoding-main-bucket/trainer\",  \"run_on_raw_vm\": true,  \"python_version\": \"3.7\"}\n",
            "INFO\t2022-02-27 09:00:20 +0000\tmaster-replica-0\t\tRunning module trainer.task.\n",
            "INFO\t2022-02-27 09:00:20 +0000\tmaster-replica-0\t\tDownloading the package: gs://twitch-practice-keepcoding-main-bucket/trainer/packages/54e9c51c87f09a7e7ea41601fa464777a9a5f89ee9129e521ea55d07ed017d08/twitchstreaming-0.0.1.tar.gz\n",
            "INFO\t2022-02-27 09:00:20 +0000\tmaster-replica-0\t\tRunning command: gsutil -q cp gs://twitch-practice-keepcoding-main-bucket/trainer/packages/54e9c51c87f09a7e7ea41601fa464777a9a5f89ee9129e521ea55d07ed017d08/twitchstreaming-0.0.1.tar.gz twitchstreaming-0.0.1.tar.gz\n",
            "ERROR\t2022-02-27 09:00:21 +0000\tmaster-replica-0\t\tError in sitecustomize; set PYTHONVERBOSE for traceback:\n",
            "ERROR\t2022-02-27 09:00:21 +0000\tmaster-replica-0\t\tModuleNotFoundError: No module named 'pythonjsonlogger'\n",
            "ERROR\t2022-02-27 09:00:21 +0000\tmaster-replica-0\t\tError in sitecustomize; set PYTHONVERBOSE for traceback:\n",
            "ERROR\t2022-02-27 09:00:21 +0000\tmaster-replica-0\t\tModuleNotFoundError: No module named 'pythonjsonlogger'\n",
            "INFO\t2022-02-27 09:00:21 +0000\tmaster-replica-0\t\tInstalling the package: gs://twitch-practice-keepcoding-main-bucket/trainer/packages/54e9c51c87f09a7e7ea41601fa464777a9a5f89ee9129e521ea55d07ed017d08/twitchstreaming-0.0.1.tar.gz\n",
            "INFO\t2022-02-27 09:00:21 +0000\tmaster-replica-0\t\tRunning command: pip3 install --user --upgrade --force-reinstall --no-deps twitchstreaming-0.0.1.tar.gz\n",
            "INFO\t2022-02-27 09:00:22 +0000\tmaster-replica-0\t\tProcessing ./twitchstreaming-0.0.1.tar.gz\n",
            "INFO\t2022-02-27 09:00:22 +0000\tmaster-replica-0\t\t  Preparing metadata (setup.py): started\n",
            "INFO\t2022-02-27 09:00:22 +0000\tmaster-replica-0\t\t  Preparing metadata (setup.py): finished with status 'done'\n",
            "INFO\t2022-02-27 09:00:22 +0000\tmaster-replica-0\t\tBuilding wheels for collected packages: twitchstreaming\n",
            "INFO\t2022-02-27 09:00:22 +0000\tmaster-replica-0\t\t  Building wheel for twitchstreaming (setup.py): started\n",
            "INFO\t2022-02-27 09:00:23 +0000\tmaster-replica-0\t\t  Building wheel for twitchstreaming (setup.py): finished with status 'done'\n",
            "INFO\t2022-02-27 09:00:23 +0000\tmaster-replica-0\t\t  Created wheel for twitchstreaming: filename=twitchstreaming-0.0.1-py3-none-any.whl size=4053 sha256=08ebce426a3913a9f228551b8ac774e36cc4ef04271b317c26432714c0e317a7\n",
            "INFO\t2022-02-27 09:00:23 +0000\tmaster-replica-0\t\t  Stored in directory: /root/.cache/pip/wheels/c3/74/78/094c3d65891811370d10f2463da6ec5f32ea469d2e14797ac9\n",
            "INFO\t2022-02-27 09:00:23 +0000\tmaster-replica-0\t\tSuccessfully built twitchstreaming\n",
            "INFO\t2022-02-27 09:00:23 +0000\tmaster-replica-0\t\tInstalling collected packages: twitchstreaming\n",
            "INFO\t2022-02-27 09:00:23 +0000\tmaster-replica-0\t\tSuccessfully installed twitchstreaming-0.0.1\n",
            "ERROR\t2022-02-27 09:00:23 +0000\tmaster-replica-0\t\tWARNING: Running pip as the 'root' user can result in broken permissions and conflicting behaviour with the system package manager. It is recommended to use a virtual environment instead: https://pip.pypa.io/warnings/venv\n",
            "INFO\t2022-02-27 09:00:23 +0000\tmaster-replica-0\t\tRunning command: pip3 install --user twitchstreaming-0.0.1.tar.gz\n",
            "INFO\t2022-02-27 09:00:24 +0000\tmaster-replica-0\t\tProcessing ./twitchstreaming-0.0.1.tar.gz\n",
            "INFO\t2022-02-27 09:00:24 +0000\tmaster-replica-0\t\t  Preparing metadata (setup.py): started\n",
            "INFO\t2022-02-27 09:00:24 +0000\tmaster-replica-0\t\t  Preparing metadata (setup.py): finished with status 'done'\n",
            "INFO\t2022-02-27 09:00:25 +0000\tmaster-replica-0\t\tCollecting apache-beam[gcp]==2.24.0\n",
            "INFO\t2022-02-27 09:00:25 +0000\tmaster-replica-0\t\t  Downloading apache_beam-2.24.0-cp37-cp37m-manylinux2010_x86_64.whl (8.5 MB)\n",
            "INFO\t2022-02-27 09:00:25 +0000\tmaster-replica-0\t\t     ━━━━━━━━━━━━━━━━━━━━━━━━━━━━━━━━━━━━━━━━ 8.5/8.5 MB 71.7 MB/s eta 0:00:00\n",
            "INFO\t2022-02-27 09:00:25 +0000\tmaster-replica-0\t\tRequirement already satisfied: tensorflow==2.8.0 in /opt/conda/lib/python3.7/site-packages (from twitchstreaming==0.0.1) (2.8.0)\n",
            "INFO\t2022-02-27 09:00:25 +0000\tmaster-replica-0\t\tCollecting gensim==3.6.0\n",
            "INFO\t2022-02-27 09:00:25 +0000\tmaster-replica-0\t\t  Downloading gensim-3.6.0.tar.gz (23.1 MB)\n",
            "INFO\t2022-02-27 09:00:25 +0000\tmaster-replica-0\t\t     ━━━━━━━━━━━━━━━━━━━━━━━━━━━━━━━━━━━━━━━━ 23.1/23.1 MB 58.4 MB/s eta 0:00:00\n",
            "INFO\t2022-02-27 09:00:26 +0000\tmaster-replica-0\t\t  Preparing metadata (setup.py): started\n",
            "INFO\t2022-02-27 09:00:27 +0000\tmaster-replica-0\t\t  Preparing metadata (setup.py): finished with status 'done'\n",
            "INFO\t2022-02-27 09:00:27 +0000\tmaster-replica-0\t\tCollecting fsspec==0.8.4\n",
            "INFO\t2022-02-27 09:00:27 +0000\tmaster-replica-0\t\t  Downloading fsspec-0.8.4-py3-none-any.whl (91 kB)\n",
            "INFO\t2022-02-27 09:00:27 +0000\tmaster-replica-0\t\t     ━━━━━━━━━━━━━━━━━━━━━━━━━━━━━━━━━━━━━━━━ 91.1/91.1 KB 14.0 MB/s eta 0:00:00\n",
            "INFO\t2022-02-27 09:00:27 +0000\tmaster-replica-0\t\tCollecting gcsfs==0.7.1\n",
            "INFO\t2022-02-27 09:00:27 +0000\tmaster-replica-0\t\t  Downloading gcsfs-0.7.1-py2.py3-none-any.whl (20 kB)\n",
            "INFO\t2022-02-27 09:00:27 +0000\tmaster-replica-0\t\tCollecting numpy==1.20.0\n",
            "INFO\t2022-02-27 09:00:27 +0000\tmaster-replica-0\t\t  Downloading numpy-1.20.0-cp37-cp37m-manylinux2010_x86_64.whl (15.3 MB)\n",
            "INFO\t2022-02-27 09:00:28 +0000\tmaster-replica-0\t\t     ━━━━━━━━━━━━━━━━━━━━━━━━━━━━━━━━━━━━━━━━ 15.3/15.3 MB 72.1 MB/s eta 0:00:00\n",
            "INFO\t2022-02-27 09:00:28 +0000\tmaster-replica-0\t\tCollecting keras==2.8.0\n",
            "INFO\t2022-02-27 09:00:28 +0000\tmaster-replica-0\t\t  Downloading keras-2.8.0-py2.py3-none-any.whl (1.4 MB)\n",
            "INFO\t2022-02-27 09:00:28 +0000\tmaster-replica-0\t\t     ━━━━━━━━━━━━━━━━━━━━━━━━━━━━━━━━━━━━━━━━ 1.4/1.4 MB 70.7 MB/s eta 0:00:00\n",
            "INFO\t2022-02-27 09:00:28 +0000\tmaster-replica-0\t\tRequirement already satisfied: pandas==1.3.5 in /opt/conda/lib/python3.7/site-packages (from twitchstreaming==0.0.1) (1.3.5)\n",
            "INFO\t2022-02-27 09:00:28 +0000\tmaster-replica-0\t\tRequirement already satisfied: hdfs<3.0.0,>=2.1.0 in /opt/conda/lib/python3.7/site-packages (from apache-beam[gcp]==2.24.0->twitchstreaming==0.0.1) (2.6.0)\n",
            "INFO\t2022-02-27 09:00:28 +0000\tmaster-replica-0\t\tRequirement already satisfied: requests<3.0.0,>=2.24.0 in /opt/conda/lib/python3.7/site-packages (from apache-beam[gcp]==2.24.0->twitchstreaming==0.0.1) (2.27.1)\n",
            "INFO\t2022-02-27 09:00:28 +0000\tmaster-replica-0\t\tCollecting dill<0.3.2,>=0.3.1.1\n",
            "INFO\t2022-02-27 09:00:28 +0000\tmaster-replica-0\t\t  Downloading dill-0.3.1.1.tar.gz (151 kB)\n",
            "INFO\t2022-02-27 09:00:28 +0000\tmaster-replica-0\t\t     ━━━━━━━━━━━━━━━━━━━━━━━━━━━━━━━━━━━━━━ 152.0/152.0 KB 24.9 MB/s eta 0:00:00\n",
            "INFO\t2022-02-27 09:00:28 +0000\tmaster-replica-0\t\t  Preparing metadata (setup.py): started\n",
            "INFO\t2022-02-27 09:00:28 +0000\tmaster-replica-0\t\t  Preparing metadata (setup.py): finished with status 'done'\n",
            "INFO\t2022-02-27 09:00:28 +0000\tmaster-replica-0\t\tCollecting httplib2<0.18.0,>=0.8\n",
            "INFO\t2022-02-27 09:00:28 +0000\tmaster-replica-0\t\t  Downloading httplib2-0.17.4-py3-none-any.whl (95 kB)\n",
            "INFO\t2022-02-27 09:00:28 +0000\tmaster-replica-0\t\t     ━━━━━━━━━━━━━━━━━━━━━━━━━━━━━━━━━━━━━━━━ 95.2/95.2 KB 16.8 MB/s eta 0:00:00\n",
            "INFO\t2022-02-27 09:00:28 +0000\tmaster-replica-0\t\tCollecting avro-python3!=1.9.2,<1.10.0,>=1.8.1\n",
            "INFO\t2022-02-27 09:00:28 +0000\tmaster-replica-0\t\t  Downloading avro-python3-1.9.2.1.tar.gz (37 kB)\n",
            "INFO\t2022-02-27 09:00:28 +0000\tmaster-replica-0\t\t  Preparing metadata (setup.py): started\n",
            "INFO\t2022-02-27 09:00:31 +0000\tmaster-replica-0\t\t  Preparing metadata (setup.py): finished with status 'done'\n",
            "INFO\t2022-02-27 09:00:31 +0000\tmaster-replica-0\t\tRequirement already satisfied: pydot<2,>=1.2.0 in /opt/conda/lib/python3.7/site-packages (from apache-beam[gcp]==2.24.0->twitchstreaming==0.0.1) (1.4.2)\n",
            "INFO\t2022-02-27 09:00:31 +0000\tmaster-replica-0\t\tCollecting oauth2client<4,>=2.0.1\n",
            "INFO\t2022-02-27 09:00:31 +0000\tmaster-replica-0\t\t  Downloading oauth2client-3.0.0.tar.gz (77 kB)\n",
            "INFO\t2022-02-27 09:00:31 +0000\tmaster-replica-0\t\t     ━━━━━━━━━━━━━━━━━━━━━━━━━━━━━━━━━━━━━━━━ 77.2/77.2 KB 13.4 MB/s eta 0:00:00\n",
            "INFO\t2022-02-27 09:00:31 +0000\tmaster-replica-0\t\t  Preparing metadata (setup.py): started\n",
            "INFO\t2022-02-27 09:00:31 +0000\tmaster-replica-0\t\t  Preparing metadata (setup.py): finished with status 'done'\n",
            "INFO\t2022-02-27 09:00:32 +0000\tmaster-replica-0\t\tCollecting fastavro<0.24,>=0.21.4\n",
            "INFO\t2022-02-27 09:00:32 +0000\tmaster-replica-0\t\t  Downloading fastavro-0.23.6-cp37-cp37m-manylinux2010_x86_64.whl (1.4 MB)\n",
            "INFO\t2022-02-27 09:00:32 +0000\tmaster-replica-0\t\t     ━━━━━━━━━━━━━━━━━━━━━━━━━━━━━━━━━━━━━━━━ 1.4/1.4 MB 68.5 MB/s eta 0:00:00\n",
            "INFO\t2022-02-27 09:00:32 +0000\tmaster-replica-0\t\tRequirement already satisfied: grpcio<2,>=1.29.0 in /opt/conda/lib/python3.7/site-packages (from apache-beam[gcp]==2.24.0->twitchstreaming==0.0.1) (1.43.0)\n",
            "INFO\t2022-02-27 09:00:32 +0000\tmaster-replica-0\t\tCollecting mock<3.0.0,>=1.0.1\n",
            "INFO\t2022-02-27 09:00:32 +0000\tmaster-replica-0\t\t  Downloading mock-2.0.0-py2.py3-none-any.whl (56 kB)\n",
            "INFO\t2022-02-27 09:00:32 +0000\tmaster-replica-0\t\t     ━━━━━━━━━━━━━━━━━━━━━━━━━━━━━━━━━━━━━━━━ 56.8/56.8 KB 10.7 MB/s eta 0:00:00\n",
            "INFO\t2022-02-27 09:00:32 +0000\tmaster-replica-0\t\tRequirement already satisfied: crcmod<2.0,>=1.7 in /opt/conda/lib/python3.7/site-packages (from apache-beam[gcp]==2.24.0->twitchstreaming==0.0.1) (1.7)\n",
            "INFO\t2022-02-27 09:00:32 +0000\tmaster-replica-0\t\tRequirement already satisfied: protobuf<4,>=3.12.2 in /opt/conda/lib/python3.7/site-packages (from apache-beam[gcp]==2.24.0->twitchstreaming==0.0.1) (3.19.4)\n",
            "INFO\t2022-02-27 09:00:32 +0000\tmaster-replica-0\t\tRequirement already satisfied: pymongo<4.0.0,>=3.8.0 in /opt/conda/lib/python3.7/site-packages (from apache-beam[gcp]==2.24.0->twitchstreaming==0.0.1) (3.12.3)\n",
            "INFO\t2022-02-27 09:00:32 +0000\tmaster-replica-0\t\tRequirement already satisfied: python-dateutil<3,>=2.8.0 in /opt/conda/lib/python3.7/site-packages (from apache-beam[gcp]==2.24.0->twitchstreaming==0.0.1) (2.8.2)\n",
            "INFO\t2022-02-27 09:00:32 +0000\tmaster-replica-0\t\tRequirement already satisfied: pytz>=2018.3 in /opt/conda/lib/python3.7/site-packages (from apache-beam[gcp]==2.24.0->twitchstreaming==0.0.1) (2021.3)\n",
            "INFO\t2022-02-27 09:00:32 +0000\tmaster-replica-0\t\tRequirement already satisfied: future<1.0.0,>=0.18.2 in /opt/conda/lib/python3.7/site-packages (from apache-beam[gcp]==2.24.0->twitchstreaming==0.0.1) (0.18.2)\n",
            "INFO\t2022-02-27 09:00:32 +0000\tmaster-replica-0\t\tCollecting typing-extensions<3.8.0,>=3.7.0\n",
            "INFO\t2022-02-27 09:00:32 +0000\tmaster-replica-0\t\t  Downloading typing_extensions-3.7.4.3-py3-none-any.whl (22 kB)\n",
            "INFO\t2022-02-27 09:00:32 +0000\tmaster-replica-0\t\tCollecting pyarrow<0.18.0,>=0.15.1\n",
            "INFO\t2022-02-27 09:00:32 +0000\tmaster-replica-0\t\t  Downloading pyarrow-0.17.1-cp37-cp37m-manylinux2014_x86_64.whl (63.8 MB)\n",
            "INFO\t2022-02-27 09:00:33 +0000\tmaster-replica-0\t\t     ━━━━━━━━━━━━━━━━━━━━━━━━━━━━━━━━━━━━━━━━ 63.8/63.8 MB 23.7 MB/s eta 0:00:00\n",
            "INFO\t2022-02-27 09:00:33 +0000\tmaster-replica-0\t\tRequirement already satisfied: google-cloud-pubsub<2,>=0.39.0 in /opt/conda/lib/python3.7/site-packages (from apache-beam[gcp]==2.24.0->twitchstreaming==0.0.1) (1.7.0)\n",
            "INFO\t2022-02-27 09:00:33 +0000\tmaster-replica-0\t\tRequirement already satisfied: google-apitools<0.5.32,>=0.5.31 in /opt/conda/lib/python3.7/site-packages (from apache-beam[gcp]==2.24.0->twitchstreaming==0.0.1) (0.5.31)\n",
            "INFO\t2022-02-27 09:00:33 +0000\tmaster-replica-0\t\tCollecting google-cloud-bigtable<2,>=0.31.1\n",
            "INFO\t2022-02-27 09:00:33 +0000\tmaster-replica-0\t\t  Downloading google_cloud_bigtable-1.7.0-py2.py3-none-any.whl (267 kB)\n",
            "INFO\t2022-02-27 09:00:33 +0000\tmaster-replica-0\t\t     ━━━━━━━━━━━━━━━━━━━━━━━━━━━━━━━━━━━━━━ 267.7/267.7 KB 33.2 MB/s eta 0:00:00\n",
            "INFO\t2022-02-27 09:00:34 +0000\tmaster-replica-0\t\tCollecting google-auth<2,>=1.18.0\n",
            "INFO\t2022-02-27 09:00:34 +0000\tmaster-replica-0\t\t  Downloading google_auth-1.35.0-py2.py3-none-any.whl (152 kB)\n",
            "INFO\t2022-02-27 09:00:34 +0000\tmaster-replica-0\t\t     ━━━━━━━━━━━━━━━━━━━━━━━━━━━━━━━━━━━━━━ 152.9/152.9 KB 25.5 MB/s eta 0:00:00\n",
            "INFO\t2022-02-27 09:00:34 +0000\tmaster-replica-0\t\tCollecting google-cloud-language<2,>=1.3.0\n",
            "INFO\t2022-02-27 09:00:34 +0000\tmaster-replica-0\t\t  Downloading google_cloud_language-1.3.0-py2.py3-none-any.whl (83 kB)\n",
            "INFO\t2022-02-27 09:00:34 +0000\tmaster-replica-0\t\t     ━━━━━━━━━━━━━━━━━━━━━━━━━━━━━━━━━━━━━━━━ 83.5/83.5 KB 15.8 MB/s eta 0:00:00\n",
            "INFO\t2022-02-27 09:00:34 +0000\tmaster-replica-0\t\tCollecting google-cloud-core<2,>=0.28.1\n",
            "INFO\t2022-02-27 09:00:34 +0000\tmaster-replica-0\t\t  Downloading google_cloud_core-1.7.2-py2.py3-none-any.whl (28 kB)\n",
            "INFO\t2022-02-27 09:00:34 +0000\tmaster-replica-0\t\tCollecting google-cloud-videointelligence<2,>=1.8.0\n",
            "INFO\t2022-02-27 09:00:34 +0000\tmaster-replica-0\t\t  Downloading google_cloud_videointelligence-1.16.1-py2.py3-none-any.whl (183 kB)\n",
            "INFO\t2022-02-27 09:00:34 +0000\tmaster-replica-0\t\t     ━━━━━━━━━━━━━━━━━━━━━━━━━━━━━━━━━━━━━━ 183.8/183.8 KB 26.1 MB/s eta 0:00:00\n",
            "INFO\t2022-02-27 09:00:34 +0000\tmaster-replica-0\t\tCollecting google-cloud-datastore<2,>=1.7.1\n",
            "INFO\t2022-02-27 09:00:34 +0000\tmaster-replica-0\t\t  Downloading google_cloud_datastore-1.15.3-py2.py3-none-any.whl (134 kB)\n",
            "INFO\t2022-02-27 09:00:34 +0000\tmaster-replica-0\t\t     ━━━━━━━━━━━━━━━━━━━━━━━━━━━━━━━━━━━━━━ 134.1/134.1 KB 22.2 MB/s eta 0:00:00\n",
            "INFO\t2022-02-27 09:00:34 +0000\tmaster-replica-0\t\tRequirement already satisfied: grpcio-gcp<1,>=0.2.2 in /opt/conda/lib/python3.7/site-packages (from apache-beam[gcp]==2.24.0->twitchstreaming==0.0.1) (0.2.2)\n",
            "INFO\t2022-02-27 09:00:34 +0000\tmaster-replica-0\t\tCollecting cachetools<4,>=3.1.0\n",
            "INFO\t2022-02-27 09:00:34 +0000\tmaster-replica-0\t\t  Downloading cachetools-3.1.1-py2.py3-none-any.whl (11 kB)\n",
            "INFO\t2022-02-27 09:00:34 +0000\tmaster-replica-0\t\tCollecting google-cloud-spanner<2,>=1.13.0\n",
            "INFO\t2022-02-27 09:00:34 +0000\tmaster-replica-0\t\t  Downloading google_cloud_spanner-1.19.1-py2.py3-none-any.whl (255 kB)\n",
            "INFO\t2022-02-27 09:00:34 +0000\tmaster-replica-0\t\t     ━━━━━━━━━━━━━━━━━━━━━━━━━━━━━━━━━━━━━━ 255.5/255.5 KB 33.8 MB/s eta 0:00:00\n",
            "INFO\t2022-02-27 09:00:34 +0000\tmaster-replica-0\t\tCollecting google-cloud-vision<2,>=0.38.0\n",
            "INFO\t2022-02-27 09:00:34 +0000\tmaster-replica-0\t\t  Downloading google_cloud_vision-1.0.0-py2.py3-none-any.whl (435 kB)\n",
            "INFO\t2022-02-27 09:00:34 +0000\tmaster-replica-0\t\t     ━━━━━━━━━━━━━━━━━━━━━━━━━━━━━━━━━━━━━━ 435.0/435.0 KB 44.1 MB/s eta 0:00:00\n",
            "INFO\t2022-02-27 09:00:34 +0000\tmaster-replica-0\t\tCollecting google-cloud-dlp<2,>=0.12.0\n",
            "INFO\t2022-02-27 09:00:34 +0000\tmaster-replica-0\t\t  Downloading google_cloud_dlp-1.0.0-py2.py3-none-any.whl (169 kB)\n",
            "INFO\t2022-02-27 09:00:34 +0000\tmaster-replica-0\t\t     ━━━━━━━━━━━━━━━━━━━━━━━━━━━━━━━━━━━━━━ 169.6/169.6 KB 27.3 MB/s eta 0:00:00\n",
            "INFO\t2022-02-27 09:00:34 +0000\tmaster-replica-0\t\tCollecting google-cloud-bigquery<2,>=1.6.0\n",
            "INFO\t2022-02-27 09:00:34 +0000\tmaster-replica-0\t\t  Downloading google_cloud_bigquery-1.28.0-py2.py3-none-any.whl (187 kB)\n",
            "INFO\t2022-02-27 09:00:34 +0000\tmaster-replica-0\t\t     ━━━━━━━━━━━━━━━━━━━━━━━━━━━━━━━━━━━━━━ 187.2/187.2 KB 27.9 MB/s eta 0:00:00\n",
            "INFO\t2022-02-27 09:00:34 +0000\tmaster-replica-0\t\tRequirement already satisfied: google-auth-oauthlib in /opt/conda/lib/python3.7/site-packages (from gcsfs==0.7.1->twitchstreaming==0.0.1) (0.4.6)\n",
            "INFO\t2022-02-27 09:00:34 +0000\tmaster-replica-0\t\tRequirement already satisfied: aiohttp in /opt/conda/lib/python3.7/site-packages (from gcsfs==0.7.1->twitchstreaming==0.0.1) (3.8.1)\n",
            "INFO\t2022-02-27 09:00:34 +0000\tmaster-replica-0\t\tRequirement already satisfied: decorator in /opt/conda/lib/python3.7/site-packages (from gcsfs==0.7.1->twitchstreaming==0.0.1) (5.1.1)\n",
            "INFO\t2022-02-27 09:00:34 +0000\tmaster-replica-0\t\tRequirement already satisfied: scipy>=0.18.1 in /opt/conda/lib/python3.7/site-packages (from gensim==3.6.0->twitchstreaming==0.0.1) (1.7.3)\n",
            "INFO\t2022-02-27 09:00:34 +0000\tmaster-replica-0\t\tRequirement already satisfied: six>=1.5.0 in /opt/conda/lib/python3.7/site-packages (from gensim==3.6.0->twitchstreaming==0.0.1) (1.16.0)\n",
            "INFO\t2022-02-27 09:00:34 +0000\tmaster-replica-0\t\tCollecting smart_open>=1.2.1\n",
            "INFO\t2022-02-27 09:00:34 +0000\tmaster-replica-0\t\t  Downloading smart_open-5.2.1-py3-none-any.whl (58 kB)\n",
            "INFO\t2022-02-27 09:00:34 +0000\tmaster-replica-0\t\t     ━━━━━━━━━━━━━━━━━━━━━━━━━━━━━━━━━━━━━━━━ 58.6/58.6 KB 11.3 MB/s eta 0:00:00\n",
            "INFO\t2022-02-27 09:00:35 +0000\tmaster-replica-0\t\tRequirement already satisfied: libclang>=9.0.1 in /opt/conda/lib/python3.7/site-packages (from tensorflow==2.8.0->twitchstreaming==0.0.1) (13.0.0)\n",
            "INFO\t2022-02-27 09:00:35 +0000\tmaster-replica-0\t\tRequirement already satisfied: wrapt>=1.11.0 in /opt/conda/lib/python3.7/site-packages (from tensorflow==2.8.0->twitchstreaming==0.0.1) (1.13.3)\n",
            "INFO\t2022-02-27 09:00:35 +0000\tmaster-replica-0\t\tRequirement already satisfied: flatbuffers>=1.12 in /opt/conda/lib/python3.7/site-packages (from tensorflow==2.8.0->twitchstreaming==0.0.1) (2.0)\n",
            "INFO\t2022-02-27 09:00:35 +0000\tmaster-replica-0\t\tRequirement already satisfied: tensorboard<2.9,>=2.8 in /opt/conda/lib/python3.7/site-packages (from tensorflow==2.8.0->twitchstreaming==0.0.1) (2.8.0)\n",
            "INFO\t2022-02-27 09:00:35 +0000\tmaster-replica-0\t\tRequirement already satisfied: termcolor>=1.1.0 in /opt/conda/lib/python3.7/site-packages (from tensorflow==2.8.0->twitchstreaming==0.0.1) (1.1.0)\n",
            "INFO\t2022-02-27 09:00:35 +0000\tmaster-replica-0\t\tRequirement already satisfied: opt-einsum>=2.3.2 in /opt/conda/lib/python3.7/site-packages (from tensorflow==2.8.0->twitchstreaming==0.0.1) (3.3.0)\n",
            "INFO\t2022-02-27 09:00:35 +0000\tmaster-replica-0\t\tRequirement already satisfied: keras-preprocessing>=1.1.1 in /opt/conda/lib/python3.7/site-packages (from tensorflow==2.8.0->twitchstreaming==0.0.1) (1.1.2)\n",
            "INFO\t2022-02-27 09:00:35 +0000\tmaster-replica-0\t\tRequirement already satisfied: google-pasta>=0.1.1 in /opt/conda/lib/python3.7/site-packages (from tensorflow==2.8.0->twitchstreaming==0.0.1) (0.2.0)\n",
            "INFO\t2022-02-27 09:00:35 +0000\tmaster-replica-0\t\tRequirement already satisfied: tf-estimator-nightly==2.8.0.dev2021122109 in /opt/conda/lib/python3.7/site-packages (from tensorflow==2.8.0->twitchstreaming==0.0.1) (2.8.0.dev2021122109)\n",
            "INFO\t2022-02-27 09:00:35 +0000\tmaster-replica-0\t\tRequirement already satisfied: astunparse>=1.6.0 in /opt/conda/lib/python3.7/site-packages (from tensorflow==2.8.0->twitchstreaming==0.0.1) (1.6.3)\n",
            "INFO\t2022-02-27 09:00:35 +0000\tmaster-replica-0\t\tRequirement already satisfied: h5py>=2.9.0 in /opt/conda/lib/python3.7/site-packages (from tensorflow==2.8.0->twitchstreaming==0.0.1) (3.6.0)\n",
            "INFO\t2022-02-27 09:00:35 +0000\tmaster-replica-0\t\tRequirement already satisfied: gast>=0.2.1 in /opt/conda/lib/python3.7/site-packages (from tensorflow==2.8.0->twitchstreaming==0.0.1) (0.5.3)\n",
            "INFO\t2022-02-27 09:00:35 +0000\tmaster-replica-0\t\tRequirement already satisfied: absl-py>=0.4.0 in /opt/conda/lib/python3.7/site-packages (from tensorflow==2.8.0->twitchstreaming==0.0.1) (1.0.0)\n",
            "INFO\t2022-02-27 09:00:35 +0000\tmaster-replica-0\t\tRequirement already satisfied: setuptools in /opt/conda/lib/python3.7/site-packages (from tensorflow==2.8.0->twitchstreaming==0.0.1) (59.8.0)\n",
            "INFO\t2022-02-27 09:00:35 +0000\tmaster-replica-0\t\tRequirement already satisfied: tensorflow-io-gcs-filesystem>=0.23.1 in /opt/conda/lib/python3.7/site-packages (from tensorflow==2.8.0->twitchstreaming==0.0.1) (0.23.1)\n",
            "INFO\t2022-02-27 09:00:35 +0000\tmaster-replica-0\t\tRequirement already satisfied: wheel<1.0,>=0.23.0 in /opt/conda/lib/python3.7/site-packages (from astunparse>=1.6.0->tensorflow==2.8.0->twitchstreaming==0.0.1) (0.37.1)\n",
            "INFO\t2022-02-27 09:00:35 +0000\tmaster-replica-0\t\tRequirement already satisfied: fasteners>=0.14 in /opt/conda/lib/python3.7/site-packages (from google-apitools<0.5.32,>=0.5.31->apache-beam[gcp]==2.24.0->twitchstreaming==0.0.1) (0.17.3)\n",
            "INFO\t2022-02-27 09:00:35 +0000\tmaster-replica-0\t\tRequirement already satisfied: rsa<5,>=3.1.4 in /opt/conda/lib/python3.7/site-packages (from google-auth<2,>=1.18.0->apache-beam[gcp]==2.24.0->twitchstreaming==0.0.1) (4.8)\n",
            "INFO\t2022-02-27 09:00:35 +0000\tmaster-replica-0\t\tRequirement already satisfied: pyasn1-modules>=0.2.1 in /opt/conda/lib/python3.7/site-packages (from google-auth<2,>=1.18.0->apache-beam[gcp]==2.24.0->twitchstreaming==0.0.1) (0.2.7)\n",
            "INFO\t2022-02-27 09:00:35 +0000\tmaster-replica-0\t\tCollecting google-api-core<2.0dev,>=1.21.0\n",
            "INFO\t2022-02-27 09:00:35 +0000\tmaster-replica-0\t\t  Downloading google_api_core-1.31.5-py2.py3-none-any.whl (93 kB)\n",
            "INFO\t2022-02-27 09:00:35 +0000\tmaster-replica-0\t\t     ━━━━━━━━━━━━━━━━━━━━━━━━━━━━━━━━━━━━━━━━ 93.3/93.3 KB 15.8 MB/s eta 0:00:00\n",
            "INFO\t2022-02-27 09:00:35 +0000\tmaster-replica-0\t\tCollecting google-resumable-media<2.0dev,>=0.6.0\n",
            "INFO\t2022-02-27 09:00:35 +0000\tmaster-replica-0\t\t  Downloading google_resumable_media-1.3.3-py2.py3-none-any.whl (75 kB)\n",
            "INFO\t2022-02-27 09:00:35 +0000\tmaster-replica-0\t\t     ━━━━━━━━━━━━━━━━━━━━━━━━━━━━━━━━━━━━━━━━ 76.0/76.0 KB 10.1 MB/s eta 0:00:00\n",
            "INFO\t2022-02-27 09:00:35 +0000\tmaster-replica-0\t\tRequirement already satisfied: grpc-google-iam-v1<0.13dev,>=0.12.3 in /opt/conda/lib/python3.7/site-packages (from google-cloud-bigtable<2,>=0.31.1->apache-beam[gcp]==2.24.0->twitchstreaming==0.0.1) (0.12.3)\n",
            "INFO\t2022-02-27 09:00:35 +0000\tmaster-replica-0\t\tRequirement already satisfied: cached-property in /opt/conda/lib/python3.7/site-packages (from h5py>=2.9.0->tensorflow==2.8.0->twitchstreaming==0.0.1) (1.5.2)\n",
            "INFO\t2022-02-27 09:00:35 +0000\tmaster-replica-0\t\tRequirement already satisfied: docopt in /opt/conda/lib/python3.7/site-packages (from hdfs<3.0.0,>=2.1.0->apache-beam[gcp]==2.24.0->twitchstreaming==0.0.1) (0.6.2)\n",
            "INFO\t2022-02-27 09:00:35 +0000\tmaster-replica-0\t\tCollecting pbr>=0.11\n",
            "INFO\t2022-02-27 09:00:35 +0000\tmaster-replica-0\t\t  Downloading pbr-5.8.1-py2.py3-none-any.whl (113 kB)\n",
            "INFO\t2022-02-27 09:00:35 +0000\tmaster-replica-0\t\t     ━━━━━━━━━━━━━━━━━━━━━━━━━━━━━━━━━━━━━━ 113.0/113.0 KB 17.2 MB/s eta 0:00:00\n",
            "INFO\t2022-02-27 09:00:35 +0000\tmaster-replica-0\t\tRequirement already satisfied: pyasn1>=0.1.7 in /opt/conda/lib/python3.7/site-packages (from oauth2client<4,>=2.0.1->apache-beam[gcp]==2.24.0->twitchstreaming==0.0.1) (0.4.8)\n",
            "INFO\t2022-02-27 09:00:35 +0000\tmaster-replica-0\t\tRequirement already satisfied: pyparsing>=2.1.4 in /opt/conda/lib/python3.7/site-packages (from pydot<2,>=1.2.0->apache-beam[gcp]==2.24.0->twitchstreaming==0.0.1) (3.0.7)\n",
            "INFO\t2022-02-27 09:00:35 +0000\tmaster-replica-0\t\tRequirement already satisfied: urllib3<1.27,>=1.21.1 in /opt/conda/lib/python3.7/site-packages (from requests<3.0.0,>=2.24.0->apache-beam[gcp]==2.24.0->twitchstreaming==0.0.1) (1.26.8)\n",
            "INFO\t2022-02-27 09:00:35 +0000\tmaster-replica-0\t\tRequirement already satisfied: idna<4,>=2.5 in /opt/conda/lib/python3.7/site-packages (from requests<3.0.0,>=2.24.0->apache-beam[gcp]==2.24.0->twitchstreaming==0.0.1) (3.3)\n",
            "INFO\t2022-02-27 09:00:35 +0000\tmaster-replica-0\t\tRequirement already satisfied: charset-normalizer~=2.0.0 in /opt/conda/lib/python3.7/site-packages (from requests<3.0.0,>=2.24.0->apache-beam[gcp]==2.24.0->twitchstreaming==0.0.1) (2.0.11)\n",
            "INFO\t2022-02-27 09:00:35 +0000\tmaster-replica-0\t\tRequirement already satisfied: certifi>=2017.4.17 in /opt/conda/lib/python3.7/site-packages (from requests<3.0.0,>=2.24.0->apache-beam[gcp]==2.24.0->twitchstreaming==0.0.1) (2021.10.8)\n",
            "INFO\t2022-02-27 09:00:36 +0000\tmaster-replica-0\t\tRequirement already satisfied: markdown>=2.6.8 in /opt/conda/lib/python3.7/site-packages (from tensorboard<2.9,>=2.8->tensorflow==2.8.0->twitchstreaming==0.0.1) (3.3.6)\n",
            "INFO\t2022-02-27 09:00:36 +0000\tmaster-replica-0\t\tRequirement already satisfied: tensorboard-data-server<0.7.0,>=0.6.0 in /opt/conda/lib/python3.7/site-packages (from tensorboard<2.9,>=2.8->tensorflow==2.8.0->twitchstreaming==0.0.1) (0.6.1)\n",
            "INFO\t2022-02-27 09:00:36 +0000\tmaster-replica-0\t\tRequirement already satisfied: tensorboard-plugin-wit>=1.6.0 in /opt/conda/lib/python3.7/site-packages (from tensorboard<2.9,>=2.8->tensorflow==2.8.0->twitchstreaming==0.0.1) (1.8.1)\n",
            "INFO\t2022-02-27 09:00:36 +0000\tmaster-replica-0\t\tRequirement already satisfied: werkzeug>=0.11.15 in /opt/conda/lib/python3.7/site-packages (from tensorboard<2.9,>=2.8->tensorflow==2.8.0->twitchstreaming==0.0.1) (2.0.2)\n",
            "INFO\t2022-02-27 09:00:36 +0000\tmaster-replica-0\t\tRequirement already satisfied: requests-oauthlib>=0.7.0 in /opt/conda/lib/python3.7/site-packages (from google-auth-oauthlib->gcsfs==0.7.1->twitchstreaming==0.0.1) (1.3.1)\n",
            "INFO\t2022-02-27 09:00:36 +0000\tmaster-replica-0\t\tRequirement already satisfied: aiosignal>=1.1.2 in /opt/conda/lib/python3.7/site-packages (from aiohttp->gcsfs==0.7.1->twitchstreaming==0.0.1) (1.2.0)\n",
            "INFO\t2022-02-27 09:00:36 +0000\tmaster-replica-0\t\tRequirement already satisfied: yarl<2.0,>=1.0 in /opt/conda/lib/python3.7/site-packages (from aiohttp->gcsfs==0.7.1->twitchstreaming==0.0.1) (1.7.2)\n",
            "INFO\t2022-02-27 09:00:36 +0000\tmaster-replica-0\t\tRequirement already satisfied: asynctest==0.13.0 in /opt/conda/lib/python3.7/site-packages (from aiohttp->gcsfs==0.7.1->twitchstreaming==0.0.1) (0.13.0)\n",
            "INFO\t2022-02-27 09:00:36 +0000\tmaster-replica-0\t\tRequirement already satisfied: attrs>=17.3.0 in /opt/conda/lib/python3.7/site-packages (from aiohttp->gcsfs==0.7.1->twitchstreaming==0.0.1) (21.4.0)\n",
            "INFO\t2022-02-27 09:00:36 +0000\tmaster-replica-0\t\tRequirement already satisfied: async-timeout<5.0,>=4.0.0a3 in /opt/conda/lib/python3.7/site-packages (from aiohttp->gcsfs==0.7.1->twitchstreaming==0.0.1) (4.0.2)\n",
            "INFO\t2022-02-27 09:00:36 +0000\tmaster-replica-0\t\tRequirement already satisfied: frozenlist>=1.1.1 in /opt/conda/lib/python3.7/site-packages (from aiohttp->gcsfs==0.7.1->twitchstreaming==0.0.1) (1.3.0)\n",
            "INFO\t2022-02-27 09:00:36 +0000\tmaster-replica-0\t\tRequirement already satisfied: multidict<7.0,>=4.5 in /opt/conda/lib/python3.7/site-packages (from aiohttp->gcsfs==0.7.1->twitchstreaming==0.0.1) (6.0.2)\n",
            "INFO\t2022-02-27 09:00:36 +0000\tmaster-replica-0\t\tRequirement already satisfied: googleapis-common-protos<2.0dev,>=1.6.0 in /opt/conda/lib/python3.7/site-packages (from google-api-core<2.0dev,>=1.21.0->google-cloud-bigquery<2,>=1.6.0->apache-beam[gcp]==2.24.0->twitchstreaming==0.0.1) (1.54.0)\n",
            "INFO\t2022-02-27 09:00:36 +0000\tmaster-replica-0\t\tRequirement already satisfied: packaging>=14.3 in /opt/conda/lib/python3.7/site-packages (from google-api-core<2.0dev,>=1.21.0->google-cloud-bigquery<2,>=1.6.0->apache-beam[gcp]==2.24.0->twitchstreaming==0.0.1) (21.3)\n",
            "INFO\t2022-02-27 09:00:36 +0000\tmaster-replica-0\t\tRequirement already satisfied: google-crc32c<2.0dev,>=1.0 in /opt/conda/lib/python3.7/site-packages (from google-resumable-media<2.0dev,>=0.6.0->google-cloud-bigquery<2,>=1.6.0->apache-beam[gcp]==2.24.0->twitchstreaming==0.0.1) (1.1.2)\n",
            "INFO\t2022-02-27 09:00:36 +0000\tmaster-replica-0\t\tRequirement already satisfied: importlib-metadata>=4.4 in /opt/conda/lib/python3.7/site-packages (from markdown>=2.6.8->tensorboard<2.9,>=2.8->tensorflow==2.8.0->twitchstreaming==0.0.1) (4.10.1)\n",
            "INFO\t2022-02-27 09:00:36 +0000\tmaster-replica-0\t\tRequirement already satisfied: oauthlib>=3.0.0 in /opt/conda/lib/python3.7/site-packages (from requests-oauthlib>=0.7.0->google-auth-oauthlib->gcsfs==0.7.1->twitchstreaming==0.0.1) (3.2.0)\n",
            "INFO\t2022-02-27 09:00:36 +0000\tmaster-replica-0\t\tRequirement already satisfied: cffi>=1.0.0 in /opt/conda/lib/python3.7/site-packages (from google-crc32c<2.0dev,>=1.0->google-resumable-media<2.0dev,>=0.6.0->google-cloud-bigquery<2,>=1.6.0->apache-beam[gcp]==2.24.0->twitchstreaming==0.0.1) (1.15.0)\n",
            "INFO\t2022-02-27 09:00:36 +0000\tmaster-replica-0\t\tRequirement already satisfied: zipp>=0.5 in /opt/conda/lib/python3.7/site-packages (from importlib-metadata>=4.4->markdown>=2.6.8->tensorboard<2.9,>=2.8->tensorflow==2.8.0->twitchstreaming==0.0.1) (3.7.0)\n",
            "INFO\t2022-02-27 09:00:36 +0000\tmaster-replica-0\t\tRequirement already satisfied: pycparser in /opt/conda/lib/python3.7/site-packages (from cffi>=1.0.0->google-crc32c<2.0dev,>=1.0->google-resumable-media<2.0dev,>=0.6.0->google-cloud-bigquery<2,>=1.6.0->apache-beam[gcp]==2.24.0->twitchstreaming==0.0.1) (2.21)\n",
            "INFO\t2022-02-27 09:00:36 +0000\tmaster-replica-0\t\tBuilding wheels for collected packages: twitchstreaming, gensim, avro-python3, dill, oauth2client\n",
            "INFO\t2022-02-27 09:00:36 +0000\tmaster-replica-0\t\t  Building wheel for twitchstreaming (setup.py): started\n",
            "INFO\t2022-02-27 09:00:37 +0000\tmaster-replica-0\t\t  Building wheel for twitchstreaming (setup.py): finished with status 'done'\n",
            "INFO\t2022-02-27 09:00:37 +0000\tmaster-replica-0\t\t  Created wheel for twitchstreaming: filename=twitchstreaming-0.0.1-py3-none-any.whl size=4053 sha256=50cfd45af4c5b1a6dd7e6ad249b39eb2434018ba8e59d384c96909a8cf319f50\n",
            "INFO\t2022-02-27 09:00:37 +0000\tmaster-replica-0\t\t  Stored in directory: /root/.cache/pip/wheels/c3/74/78/094c3d65891811370d10f2463da6ec5f32ea469d2e14797ac9\n",
            "INFO\t2022-02-27 09:00:37 +0000\tmaster-replica-0\t\t  Building wheel for gensim (setup.py): started\n",
            "INFO\t2022-02-27 09:01:03 +0000\tmaster-replica-0\t\t  Building wheel for gensim (setup.py): finished with status 'done'\n",
            "INFO\t2022-02-27 09:01:03 +0000\tmaster-replica-0\t\t  Created wheel for gensim: filename=gensim-3.6.0-cp37-cp37m-linux_x86_64.whl size=24612853 sha256=06d33e08a8f74fea2c8554ddd0c4c2fe74b7c77368c81a5e484f3f4ef5208007\n",
            "INFO\t2022-02-27 09:01:03 +0000\tmaster-replica-0\t\t  Stored in directory: /root/.cache/pip/wheels/53/c8/f9/afb722099bdb5d73e5807019ce1512fd065502ccc15ea2b5bd\n",
            "INFO\t2022-02-27 09:01:03 +0000\tmaster-replica-0\t\t  Building wheel for avro-python3 (setup.py): started\n",
            "INFO\t2022-02-27 09:01:04 +0000\tmaster-replica-0\t\t  Building wheel for avro-python3 (setup.py): finished with status 'done'\n",
            "INFO\t2022-02-27 09:01:04 +0000\tmaster-replica-0\t\t  Created wheel for avro-python3: filename=avro_python3-1.9.2.1-py3-none-any.whl size=43513 sha256=19465a69b8bba9de9f9456ad05ebeaa2a4b30128bb75b65602c04b862698c31f\n",
            "INFO\t2022-02-27 09:01:04 +0000\tmaster-replica-0\t\t  Stored in directory: /root/.cache/pip/wheels/bc/49/5f/fdb5b9d85055c478213e0158ac122b596816149a02d82e0ab1\n",
            "INFO\t2022-02-27 09:01:04 +0000\tmaster-replica-0\t\t  Building wheel for dill (setup.py): started\n",
            "INFO\t2022-02-27 09:01:05 +0000\tmaster-replica-0\t\t  Building wheel for dill (setup.py): finished with status 'done'\n",
            "INFO\t2022-02-27 09:01:05 +0000\tmaster-replica-0\t\t  Created wheel for dill: filename=dill-0.3.1.1-py3-none-any.whl size=78544 sha256=5985f64dbd5a5b36414cfadada12885599cf4c187fbeb01f94734c4d931d817f\n",
            "INFO\t2022-02-27 09:01:05 +0000\tmaster-replica-0\t\t  Stored in directory: /root/.cache/pip/wheels/a4/61/fd/c57e374e580aa78a45ed78d5859b3a44436af17e22ca53284f\n",
            "INFO\t2022-02-27 09:01:05 +0000\tmaster-replica-0\t\t  Building wheel for oauth2client (setup.py): started\n",
            "INFO\t2022-02-27 09:01:05 +0000\tmaster-replica-0\t\t  Building wheel for oauth2client (setup.py): finished with status 'done'\n",
            "INFO\t2022-02-27 09:01:05 +0000\tmaster-replica-0\t\t  Created wheel for oauth2client: filename=oauth2client-3.0.0-py3-none-any.whl size=106375 sha256=f8f7aee04e81d16659ae50d198124c784800958a21a9d3371565ea49bbaa0fb1\n",
            "INFO\t2022-02-27 09:01:05 +0000\tmaster-replica-0\t\t  Stored in directory: /root/.cache/pip/wheels/86/73/7a/3b3f76a2142176605ff38fbca574327962c71e25a43197a4c1\n",
            "INFO\t2022-02-27 09:01:05 +0000\tmaster-replica-0\t\tSuccessfully built twitchstreaming gensim avro-python3 dill oauth2client\n",
            "INFO\t2022-02-27 09:01:07 +0000\tmaster-replica-0\t\tInstalling collected packages: typing-extensions, keras, httplib2, cachetools, smart_open, pbr, numpy, fsspec, fastavro, dill, avro-python3, pyarrow, oauth2client, mock, google-auth, google-resumable-media, google-api-core, gensim, apache-beam, google-cloud-core, gcsfs, google-cloud-vision, google-cloud-videointelligence, google-cloud-spanner, google-cloud-language, google-cloud-dlp, google-cloud-datastore, google-cloud-bigtable, google-cloud-bigquery, twitchstreaming\n",
            "ERROR\t2022-02-27 09:01:08 +0000\tmaster-replica-0\t\t  WARNING: The script pbr is installed in '/root/.local/bin' which is not on PATH.\n",
            "ERROR\t2022-02-27 09:01:08 +0000\tmaster-replica-0\t\t  Consider adding this directory to PATH or, if you prefer to suppress this warning, use --no-warn-script-location.\n",
            "ERROR\t2022-02-27 09:01:10 +0000\tmaster-replica-0\t\t  WARNING: The scripts f2py, f2py3 and f2py3.7 are installed in '/root/.local/bin' which is not on PATH.\n",
            "ERROR\t2022-02-27 09:01:10 +0000\tmaster-replica-0\t\t  Consider adding this directory to PATH or, if you prefer to suppress this warning, use --no-warn-script-location.\n",
            "ERROR\t2022-02-27 09:01:10 +0000\tmaster-replica-0\t\t  WARNING: The script fastavro is installed in '/root/.local/bin' which is not on PATH.\n",
            "ERROR\t2022-02-27 09:01:10 +0000\tmaster-replica-0\t\t  Consider adding this directory to PATH or, if you prefer to suppress this warning, use --no-warn-script-location.\n",
            "ERROR\t2022-02-27 09:01:12 +0000\tmaster-replica-0\t\t  WARNING: The script plasma_store is installed in '/root/.local/bin' which is not on PATH.\n",
            "ERROR\t2022-02-27 09:01:12 +0000\tmaster-replica-0\t\t  Consider adding this directory to PATH or, if you prefer to suppress this warning, use --no-warn-script-location.\n",
            "INFO\t2022-02-27 09:01:16 +0000\tmaster-replica-0\t\t  Attempting uninstall: twitchstreaming\n",
            "INFO\t2022-02-27 09:01:16 +0000\tmaster-replica-0\t\t    Found existing installation: twitchstreaming 0.0.1\n",
            "INFO\t2022-02-27 09:01:16 +0000\tmaster-replica-0\t\t    Uninstalling twitchstreaming-0.0.1:\n",
            "INFO\t2022-02-27 09:01:16 +0000\tmaster-replica-0\t\t      Successfully uninstalled twitchstreaming-0.0.1\n",
            "ERROR\t2022-02-27 09:01:16 +0000\tmaster-replica-0\t\tERROR: pip's dependency resolver does not currently take into account all the packages that are installed. This behaviour is the source of the following dependency conflicts.\n",
            "ERROR\t2022-02-27 09:01:16 +0000\tmaster-replica-0\t\twitwidget 1.8.0 requires oauth2client>=4.1.3, but you have oauth2client 3.0.0 which is incompatible.\n",
            "ERROR\t2022-02-27 09:01:16 +0000\tmaster-replica-0\t\ttfx-bsl 1.6.0 requires apache-beam[gcp]<3,>=2.35, but you have apache-beam 2.24.0 which is incompatible.\n",
            "INFO\t2022-02-27 09:01:16 +0000\tmaster-replica-0\t\tSuccessfully installed apache-beam-2.24.0 avro-python3-1.9.2.1 cachetools-3.1.1 dill-0.3.1.1 fastavro-0.23.6 fsspec-0.8.4 gcsfs-0.7.1 gensim-3.6.0 google-api-core-1.31.5 google-auth-1.35.0 google-cloud-bigquery-1.28.0 google-cloud-bigtable-1.7.0 google-cloud-core-1.7.2 google-cloud-datastore-1.15.3 google-cloud-dlp-1.0.0 google-cloud-language-1.3.0 google-cloud-spanner-1.19.1 google-cloud-videointelligence-1.16.1 google-cloud-vision-1.0.0 google-resumable-media-1.3.3 httplib2-0.17.4 keras-2.8.0 mock-2.0.0 numpy-1.20.0 oauth2client-3.0.0 pbr-5.8.1 pyarrow-0.17.1 smart_open-5.2.1 twitchstreaming-0.0.1 typing-extensions-3.7.4.3\n",
            "ERROR\t2022-02-27 09:01:16 +0000\tmaster-replica-0\t\ttfx-bsl 1.6.0 requires google-api-python-client<2,>=1.7.11, but you have google-api-python-client 2.36.0 which is incompatible.\n",
            "ERROR\t2022-02-27 09:01:16 +0000\tmaster-replica-0\t\ttfx-bsl 1.6.0 requires pyarrow<6,>=1, but you have pyarrow 0.17.1 which is incompatible.\n",
            "ERROR\t2022-02-27 09:01:16 +0000\tmaster-replica-0\t\ttensorflow-transform 1.6.0 requires apache-beam[gcp]<3,>=2.35, but you have apache-beam 2.24.0 which is incompatible.\n",
            "ERROR\t2022-02-27 09:01:16 +0000\tmaster-replica-0\t\ttensorflow-transform 1.6.0 requires pyarrow<6,>=1, but you have pyarrow 0.17.1 which is incompatible.\n",
            "ERROR\t2022-02-27 09:01:16 +0000\tmaster-replica-0\t\ttensorflow-transform 1.6.0 requires tensorflow!=2.0.*,!=2.1.*,!=2.2.*,!=2.3.*,!=2.4.*,!=2.5.*,!=2.6.*,<2.8,>=1.15.5, but you have tensorflow 2.8.0 which is incompatible.\n",
            "ERROR\t2022-02-27 09:01:16 +0000\tmaster-replica-0\t\tgoogle-cloud-aiplatform 1.9.0 requires google-cloud-storage<2.0.0dev,>=1.32.0, but you have google-cloud-storage 2.0.0 which is incompatible.\n",
            "ERROR\t2022-02-27 09:01:16 +0000\tmaster-replica-0\t\tblack 22.1.0 requires typing-extensions>=3.10.0.0; python_version < \"3.10\", but you have typing-extensions 3.7.4.3 which is incompatible.\n",
            "ERROR\t2022-02-27 09:01:16 +0000\tmaster-replica-0\t\tWARNING: Running pip as the 'root' user can result in broken permissions and conflicting behaviour with the system package manager. It is recommended to use a virtual environment instead: https://pip.pypa.io/warnings/venv\n",
            "INFO\t2022-02-27 09:01:16 +0000\tmaster-replica-0\t\tRunning command: python3 -m trainer.task --work-dir gs://twitch-practice-keepcoding-main-bucket --epochs 15 --steps 14 --batch-size 1024 --job-dir gs://twitch-practice-keepcoding-main-bucket/trainer\n",
            "INFO\t2022-02-27 09:01:17 +0000\tmaster-replica-0\t\t'pattern' package not found; tag filters are not available for English\n",
            "INFO\t2022-02-27 09:01:21 +0000\tmaster-replica-0\t\tTF_CONFIG environment variable: {'cluster': {'chief': ['127.0.0.1:2222']}, 'task': {'type': 'chief', 'index': 0, 'cloud': 's526ea772be8ca884p-tp'}, 'job': {'scale_tier': 'BASIC_GPU', 'package_uris': ['gs://twitch-practice-keepcoding-main-bucket/trainer/packages/54e9c51c87f09a7e7ea41601fa464777a9a5f89ee9129e521ea55d07ed017d08/twitchstreaming-0.0.1.tar.gz'], 'python_module': 'trainer.task', 'args': ['--work-dir', 'gs://twitch-practice-keepcoding-main-bucket', '--epochs', '15', '--steps', '14', '--batch-size', '1024', '--job-dir', 'gs://twitch-practice-keepcoding-main-bucket/trainer'], 'region': 'europe-west1', 'runtime_version': '2.8', 'job_dir': 'gs://twitch-practice-keepcoding-main-bucket/trainer', 'run_on_raw_vm': True, 'python_version': '3.7'}, 'environment': 'cloud'}\n",
            "INFO\t2022-02-27 09:01:21 +0000\tmaster-replica-0\t\t---- Generating word2vec model ----\n",
            "INFO\t2022-02-27 09:01:21 +0000\tmaster-replica-0\t\tcollecting all words and their counts\n",
            "INFO\t2022-02-27 09:01:21 +0000\tmaster-replica-0\t\tPROGRESS: at sentence #0, processed 0 words, keeping 0 word types\n",
            "INFO\t2022-02-27 09:01:21 +0000\tmaster-replica-0\t\tPROGRESS: at sentence #10000, processed 78552 words, keeping 10758 word types\n",
            "INFO\t2022-02-27 09:01:21 +0000\tmaster-replica-0\t\tcollected 14730 word types from a corpus of 113721 raw words and 15903 sentences\n",
            "INFO\t2022-02-27 09:01:21 +0000\tmaster-replica-0\t\tLoading a fresh vocabulary\n",
            "INFO\t2022-02-27 09:01:21 +0000\tmaster-replica-0\t\teffective_min_count=10 retains 1593 unique words (10% of original 14730, drops 13137)\n",
            "INFO\t2022-02-27 09:01:21 +0000\tmaster-replica-0\t\teffective_min_count=10 leaves 84157 word corpus (74% of original 113721, drops 29564)\n",
            "INFO\t2022-02-27 09:01:21 +0000\tmaster-replica-0\t\tdeleting the raw counts dictionary of 14730 items\n",
            "INFO\t2022-02-27 09:01:21 +0000\tmaster-replica-0\t\tsample=0.001 downsamples 58 most-common words\n",
            "INFO\t2022-02-27 09:01:21 +0000\tmaster-replica-0\t\tdownsampling leaves estimated 70031 word corpus (83.2% of prior 84157)\n",
            "INFO\t2022-02-27 09:01:21 +0000\tmaster-replica-0\t\testimated required memory for 1593 words and 300 dimensions: 4619700 bytes\n",
            "INFO\t2022-02-27 09:01:21 +0000\tmaster-replica-0\t\tresetting layer weights\n",
            "INFO\t2022-02-27 09:01:21 +0000\tmaster-replica-0\t\tVocab size: 1593\n",
            "INFO\t2022-02-27 09:01:21 +0000\tmaster-replica-0\t\ttraining model with 8 workers on 1593 vocabulary and 300 features, using sg=0 hs=0 sample=0.001 negative=5 window=7\n",
            "INFO\t2022-02-27 09:01:21 +0000\tmaster-replica-0\t\tworker thread finished; awaiting finish of 7 more threads\n",
            "INFO\t2022-02-27 09:01:21 +0000\tmaster-replica-0\t\tworker thread finished; awaiting finish of 6 more threads\n",
            "INFO\t2022-02-27 09:01:21 +0000\tmaster-replica-0\t\tworker thread finished; awaiting finish of 5 more threads\n",
            "INFO\t2022-02-27 09:01:21 +0000\tmaster-replica-0\t\tworker thread finished; awaiting finish of 4 more threads\n",
            "INFO\t2022-02-27 09:01:21 +0000\tmaster-replica-0\t\tworker thread finished; awaiting finish of 3 more threads\n",
            "INFO\t2022-02-27 09:01:21 +0000\tmaster-replica-0\t\tworker thread finished; awaiting finish of 2 more threads\n",
            "INFO\t2022-02-27 09:01:21 +0000\tmaster-replica-0\t\tworker thread finished; awaiting finish of 1 more threads\n",
            "INFO\t2022-02-27 09:01:21 +0000\tmaster-replica-0\t\tworker thread finished; awaiting finish of 0 more threads\n",
            "INFO\t2022-02-27 09:01:21 +0000\tmaster-replica-0\t\tEPOCH - 1 : training on 113721 raw words (70088 effective words) took 0.1s, 865495 effective words/s\n",
            "INFO\t2022-02-27 09:01:21 +0000\tmaster-replica-0\t\tworker thread finished; awaiting finish of 7 more threads\n",
            "INFO\t2022-02-27 09:01:21 +0000\tmaster-replica-0\t\tworker thread finished; awaiting finish of 6 more threads\n",
            "INFO\t2022-02-27 09:01:21 +0000\tmaster-replica-0\t\tworker thread finished; awaiting finish of 5 more threads\n",
            "INFO\t2022-02-27 09:01:21 +0000\tmaster-replica-0\t\tworker thread finished; awaiting finish of 4 more threads\n",
            "INFO\t2022-02-27 09:01:21 +0000\tmaster-replica-0\t\tworker thread finished; awaiting finish of 3 more threads\n",
            "INFO\t2022-02-27 09:01:21 +0000\tmaster-replica-0\t\tworker thread finished; awaiting finish of 2 more threads\n",
            "INFO\t2022-02-27 09:01:21 +0000\tmaster-replica-0\t\tworker thread finished; awaiting finish of 1 more threads\n",
            "INFO\t2022-02-27 09:01:21 +0000\tmaster-replica-0\t\tworker thread finished; awaiting finish of 0 more threads\n",
            "INFO\t2022-02-27 09:01:21 +0000\tmaster-replica-0\t\tEPOCH - 2 : training on 113721 raw words (69897 effective words) took 0.1s, 1001607 effective words/s\n",
            "INFO\t2022-02-27 09:01:21 +0000\tmaster-replica-0\t\tworker thread finished; awaiting finish of 7 more threads\n",
            "INFO\t2022-02-27 09:01:21 +0000\tmaster-replica-0\t\tworker thread finished; awaiting finish of 6 more threads\n",
            "INFO\t2022-02-27 09:01:21 +0000\tmaster-replica-0\t\tworker thread finished; awaiting finish of 5 more threads\n",
            "INFO\t2022-02-27 09:01:21 +0000\tmaster-replica-0\t\tworker thread finished; awaiting finish of 4 more threads\n",
            "INFO\t2022-02-27 09:01:21 +0000\tmaster-replica-0\t\tworker thread finished; awaiting finish of 3 more threads\n",
            "INFO\t2022-02-27 09:01:21 +0000\tmaster-replica-0\t\tworker thread finished; awaiting finish of 2 more threads\n",
            "INFO\t2022-02-27 09:01:21 +0000\tmaster-replica-0\t\tworker thread finished; awaiting finish of 1 more threads\n",
            "INFO\t2022-02-27 09:01:21 +0000\tmaster-replica-0\t\tworker thread finished; awaiting finish of 0 more threads\n",
            "INFO\t2022-02-27 09:01:21 +0000\tmaster-replica-0\t\tEPOCH - 3 : training on 113721 raw words (69961 effective words) took 0.1s, 993834 effective words/s\n",
            "INFO\t2022-02-27 09:01:21 +0000\tmaster-replica-0\t\tworker thread finished; awaiting finish of 7 more threads\n",
            "INFO\t2022-02-27 09:01:21 +0000\tmaster-replica-0\t\tworker thread finished; awaiting finish of 6 more threads\n",
            "INFO\t2022-02-27 09:01:21 +0000\tmaster-replica-0\t\tworker thread finished; awaiting finish of 5 more threads\n",
            "INFO\t2022-02-27 09:01:21 +0000\tmaster-replica-0\t\tworker thread finished; awaiting finish of 4 more threads\n",
            "INFO\t2022-02-27 09:01:21 +0000\tmaster-replica-0\t\tworker thread finished; awaiting finish of 3 more threads\n",
            "INFO\t2022-02-27 09:01:21 +0000\tmaster-replica-0\t\tworker thread finished; awaiting finish of 2 more threads\n",
            "INFO\t2022-02-27 09:01:21 +0000\tmaster-replica-0\t\tworker thread finished; awaiting finish of 1 more threads\n",
            "INFO\t2022-02-27 09:01:21 +0000\tmaster-replica-0\t\tworker thread finished; awaiting finish of 0 more threads\n",
            "INFO\t2022-02-27 09:01:21 +0000\tmaster-replica-0\t\tEPOCH - 4 : training on 113721 raw words (70063 effective words) took 0.1s, 1008049 effective words/s\n",
            "INFO\t2022-02-27 09:01:21 +0000\tmaster-replica-0\t\tworker thread finished; awaiting finish of 7 more threads\n",
            "INFO\t2022-02-27 09:01:21 +0000\tmaster-replica-0\t\tworker thread finished; awaiting finish of 6 more threads\n",
            "INFO\t2022-02-27 09:01:21 +0000\tmaster-replica-0\t\tworker thread finished; awaiting finish of 5 more threads\n",
            "INFO\t2022-02-27 09:01:21 +0000\tmaster-replica-0\t\tworker thread finished; awaiting finish of 4 more threads\n",
            "INFO\t2022-02-27 09:01:21 +0000\tmaster-replica-0\t\tworker thread finished; awaiting finish of 3 more threads\n",
            "INFO\t2022-02-27 09:01:21 +0000\tmaster-replica-0\t\tworker thread finished; awaiting finish of 2 more threads\n",
            "INFO\t2022-02-27 09:01:21 +0000\tmaster-replica-0\t\tworker thread finished; awaiting finish of 1 more threads\n",
            "INFO\t2022-02-27 09:01:21 +0000\tmaster-replica-0\t\tworker thread finished; awaiting finish of 0 more threads\n",
            "INFO\t2022-02-27 09:01:21 +0000\tmaster-replica-0\t\tEPOCH - 5 : training on 113721 raw words (70011 effective words) took 0.1s, 1091705 effective words/s\n",
            "INFO\t2022-02-27 09:01:21 +0000\tmaster-replica-0\t\ttraining on a 568605 raw words (350020 effective words) took 0.4s, 882969 effective words/s\n",
            "WARNING\t2022-02-27 09:01:21 +0000\tmaster-replica-0\t\tunder 10 jobs per worker: consider setting a smaller `batch_words' for smoother alpha decay\n",
            "INFO\t2022-02-27 09:01:21 +0000\tmaster-replica-0\t\t---- Generating tokenizer ----\n",
            "INFO\t2022-02-27 09:01:22 +0000\tmaster-replica-0\t\tTotal words: 14731\n",
            "INFO\t2022-02-27 09:01:22 +0000\tmaster-replica-0\t\t---- Tokenizing train data ----\n",
            "INFO\t2022-02-27 09:01:22 +0000\tmaster-replica-0\t\t---- Tokenizing eval data ----\n",
            "INFO\t2022-02-27 09:01:22 +0000\tmaster-replica-0\t\t---- Generating label encoder ----\n",
            "INFO\t2022-02-27 09:01:22 +0000\tmaster-replica-0\t\t---- Encoding train target ----\n",
            "INFO\t2022-02-27 09:01:22 +0000\tmaster-replica-0\t\t---- Encoding eval target ----\n",
            "INFO\t2022-02-27 09:01:22 +0000\tmaster-replica-0\t\t---- Generating embedding layer ----\n",
            "INFO\t2022-02-27 09:01:22 +0000\tmaster-replica-0\t\t---- Generating Sequential model ----\n",
            "INFO\t2022-02-27 09:01:22 +0000\tmaster-replica-0\t\tsuccessful NUMA node read from SysFS had negative value (-1), but there must be at least one NUMA node, so returning NUMA node zero\n",
            "INFO\t2022-02-27 09:01:22 +0000\tmaster-replica-0\t\tsuccessful NUMA node read from SysFS had negative value (-1), but there must be at least one NUMA node, so returning NUMA node zero\n",
            "INFO\t2022-02-27 09:01:22 +0000\tmaster-replica-0\t\tsuccessful NUMA node read from SysFS had negative value (-1), but there must be at least one NUMA node, so returning NUMA node zero\n",
            "INFO\t2022-02-27 09:01:22 +0000\tmaster-replica-0\t\tThis TensorFlow binary is optimized with oneAPI Deep Neural Network Library (oneDNN) to use the following CPU instructions in performance-critical operations:  AVX2 FMA\n",
            "ERROR\t2022-02-27 09:01:22 +0000\tmaster-replica-0\t\tTo enable them in other operations, rebuild TensorFlow with the appropriate compiler flags.\n",
            "INFO\t2022-02-27 09:01:22 +0000\tmaster-replica-0\t\tsuccessful NUMA node read from SysFS had negative value (-1), but there must be at least one NUMA node, so returning NUMA node zero\n",
            "INFO\t2022-02-27 09:01:22 +0000\tmaster-replica-0\t\tsuccessful NUMA node read from SysFS had negative value (-1), but there must be at least one NUMA node, so returning NUMA node zero\n",
            "INFO\t2022-02-27 09:01:22 +0000\tmaster-replica-0\t\tsuccessful NUMA node read from SysFS had negative value (-1), but there must be at least one NUMA node, so returning NUMA node zero\n",
            "INFO\t2022-02-27 09:01:22 +0000\tmaster-replica-0\t\tsuccessful NUMA node read from SysFS had negative value (-1), but there must be at least one NUMA node, so returning NUMA node zero\n",
            "INFO\t2022-02-27 09:01:23 +0000\tmaster-replica-0\t\tsuccessful NUMA node read from SysFS had negative value (-1), but there must be at least one NUMA node, so returning NUMA node zero\n",
            "INFO\t2022-02-27 09:01:23 +0000\tmaster-replica-0\t\tsuccessful NUMA node read from SysFS had negative value (-1), but there must be at least one NUMA node, so returning NUMA node zero\n",
            "INFO\t2022-02-27 09:01:23 +0000\tmaster-replica-0\t\tCreated device /job:localhost/replica:0/task:0/device:GPU:0 with 10806 MB memory:  -> device: 0, name: Tesla K80, pci bus id: 0000:00:04.0, compute capability: 3.7\n",
            "INFO\t2022-02-27 09:01:24 +0000\tmaster-replica-0\t\tModel: \"sequential\"\n",
            "INFO\t2022-02-27 09:01:24 +0000\tmaster-replica-0\t\t_________________________________________________________________\n",
            "INFO\t2022-02-27 09:01:24 +0000\tmaster-replica-0\t\t Layer (type)                Output Shape              Param #   \n",
            "INFO\t2022-02-27 09:01:24 +0000\tmaster-replica-0\t\t=================================================================\n",
            "INFO\t2022-02-27 09:01:24 +0000\tmaster-replica-0\t\t embedding (Embedding)       (None, 300, 300)          4419300   \n",
            "INFO\t2022-02-27 09:01:24 +0000\tmaster-replica-0\t\t                                                                 \n",
            "INFO\t2022-02-27 09:01:24 +0000\tmaster-replica-0\t\t lstm (LSTM)                 (None, 256)               570368    \n",
            "INFO\t2022-02-27 09:01:24 +0000\tmaster-replica-0\t\t---- Adding loss function to model ----\n",
            "INFO\t2022-02-27 09:01:24 +0000\tmaster-replica-0\t\t                                                                 \n",
            "INFO\t2022-02-27 09:01:24 +0000\tmaster-replica-0\t\t dropout (Dropout)           (None, 256)               0         \n",
            "INFO\t2022-02-27 09:01:24 +0000\tmaster-replica-0\t\t                                                                 \n",
            "INFO\t2022-02-27 09:01:24 +0000\tmaster-replica-0\t\t dense (Dense)               (None, 128)               32896     \n",
            "INFO\t2022-02-27 09:01:24 +0000\tmaster-replica-0\t\t                                                                 \n",
            "INFO\t2022-02-27 09:01:24 +0000\tmaster-replica-0\t\t dropout_1 (Dropout)         (None, 128)               0         \n",
            "INFO\t2022-02-27 09:01:24 +0000\tmaster-replica-0\t\t                                                                 \n",
            "INFO\t2022-02-27 09:01:24 +0000\tmaster-replica-0\t\t dense_1 (Dense)             (None, 1)                 129       \n",
            "INFO\t2022-02-27 09:01:24 +0000\tmaster-replica-0\t\t                                                                 \n",
            "INFO\t2022-02-27 09:01:24 +0000\tmaster-replica-0\t\t=================================================================\n",
            "INFO\t2022-02-27 09:01:24 +0000\tmaster-replica-0\t\tTotal params: 5,022,693\n",
            "INFO\t2022-02-27 09:01:24 +0000\tmaster-replica-0\t\tTrainable params: 5,022,693\n",
            "INFO\t2022-02-27 09:01:24 +0000\tmaster-replica-0\t\tNon-trainable params: 0\n",
            "INFO\t2022-02-27 09:01:24 +0000\tmaster-replica-0\t\t_________________________________________________________________\n",
            "INFO\t2022-02-27 09:01:24 +0000\tmaster-replica-0\t\t---- Adding callbacks to model ----\n",
            "INFO\t2022-02-27 09:01:24 +0000\tmaster-replica-0\t\t---- Training model ----\n",
            "INFO\t2022-02-27 09:01:24 +0000\tmaster-replica-0\t\t(15903, 300)\n",
            "INFO\t2022-02-27 09:01:24 +0000\tmaster-replica-0\t\tEpoch 1/15\n",
            "INFO\t2022-02-27 09:01:26 +0000\tmaster-replica-0\t\tLoaded cuDNN version 8200\n",
            "INFO\t2022-02-27 09:01:30 +0000\tmaster-replica-0\t\t 1/14 [=>............................] - ETA: 1:07 - loss: 0.6912 - accuracy: 0.5625\b\b\b\b\b\b\b\b\b\b\b\b\b\b\b\b\b\b\b\b\b\b\b\b\b\b\b\b\b\b\b\b\b\b\b\b\b\b\b\b\b\b\b\b\b\b\b\b\b\b\b\b\b\b\b\b\b\b\b\b\b\b\b\b\b\b\b\b\b\b\b\b\b\b\b\b\b\b\b\b\b\b\b\b\n",
            "INFO\t2022-02-27 09:01:31 +0000\tmaster-replica-0\t\t 2/14 [===>..........................] - ETA: 15s - loss: 0.6875 - accuracy: 0.5879 \b\b\b\b\b\b\b\b\b\b\b\b\b\b\b\b\b\b\b\b\b\b\b\b\b\b\b\b\b\b\b\b\b\b\b\b\b\b\b\b\b\b\b\b\b\b\b\b\b\b\b\b\b\b\b\b\b\b\b\b\b\b\b\b\b\b\b\b\b\b\b\b\b\b\b\b\b\b\b\b\b\b\b\n",
            "INFO\t2022-02-27 09:01:33 +0000\tmaster-replica-0\t\t 3/14 [=====>........................] - ETA: 13s - loss: 0.6884 - accuracy: 0.5856\b\b\b\b\b\b\b\b\b\b\b\b\b\b\b\b\b\b\b\b\b\b\b\b\b\b\b\b\b\b\b\b\b\b\b\b\b\b\b\b\b\b\b\b\b\b\b\b\b\b\b\b\b\b\b\b\b\b\b\b\b\b\b\b\b\b\b\b\b\b\b\b\b\b\b\b\b\b\b\b\b\b\b\n",
            "INFO\t2022-02-27 09:01:34 +0000\tmaster-replica-0\t\t 4/14 [=======>......................] - ETA: 12s - loss: 0.6872 - accuracy: 0.5889\b\b\b\b\b\b\b\b\b\b\b\b\b\b\b\b\b\b\b\b\b\b\b\b\b\b\b\b\b\b\b\b\b\b\b\b\b\b\b\b\b\b\b\b\b\b\b\b\b\b\b\b\b\b\b\b\b\b\b\b\b\b\b\b\b\b\b\b\b\b\b\b\b\b\b\b\b\b\b\b\b\b\b\n",
            "INFO\t2022-02-27 09:01:35 +0000\tmaster-replica-0\t\t 5/14 [=========>....................] - ETA: 11s - loss: 0.6883 - accuracy: 0.5869\b\b\b\b\b\b\b\b\b\b\b\b\b\b\b\b\b\b\b\b\b\b\b\b\b\b\b\b\b\b\b\b\b\b\b\b\b\b\b\b\b\b\b\b\b\b\b\b\b\b\b\b\b\b\b\b\b\b\b\b\b\b\b\b\b\b\b\b\b\b\b\b\b\b\b\b\b\b\b\b\b\b\b\n",
            "INFO\t2022-02-27 09:01:36 +0000\tmaster-replica-0\t\t 6/14 [===========>..................] - ETA: 10s - loss: 0.6859 - accuracy: 0.5941\b\b\b\b\b\b\b\b\b\b\b\b\b\b\b\b\b\b\b\b\b\b\b\b\b\b\b\b\b\b\b\b\b\b\b\b\b\b\b\b\b\b\b\b\b\b\b\b\b\b\b\b\b\b\b\b\b\b\b\b\b\b\b\b\b\b\b\b\b\b\b\b\b\b\b\b\b\b\b\b\b\b\b\n",
            "INFO\t2022-02-27 09:01:38 +0000\tmaster-replica-0\t\t 7/14 [==============>...............] - ETA: 8s - loss: 0.6846 - accuracy: 0.5975 \b\b\b\b\b\b\b\b\b\b\b\b\b\b\b\b\b\b\b\b\b\b\b\b\b\b\b\b\b\b\b\b\b\b\b\b\b\b\b\b\b\b\b\b\b\b\b\b\b\b\b\b\b\b\b\b\b\b\b\b\b\b\b\b\b\b\b\b\b\b\b\b\b\b\b\b\b\b\b\b\b\b\n",
            "INFO\t2022-02-27 09:01:39 +0000\tmaster-replica-0\t\t 8/14 [================>.............] - ETA: 7s - loss: 0.6839 - accuracy: 0.5990\b\b\b\b\b\b\b\b\b\b\b\b\b\b\b\b\b\b\b\b\b\b\b\b\b\b\b\b\b\b\b\b\b\b\b\b\b\b\b\b\b\b\b\b\b\b\b\b\b\b\b\b\b\b\b\b\b\b\b\b\b\b\b\b\b\b\b\b\b\b\b\b\b\b\b\b\b\b\b\b\b\b\n",
            "INFO\t2022-02-27 09:01:40 +0000\tmaster-replica-0\t\t 9/14 [==================>...........] - ETA: 6s - loss: 0.6833 - accuracy: 0.6005\b\b\b\b\b\b\b\b\b\b\b\b\b\b\b\b\b\b\b\b\b\b\b\b\b\b\b\b\b\b\b\b\b\b\b\b\b\b\b\b\b\b\b\b\b\b\b\b\b\b\b\b\b\b\b\b\b\b\b\b\b\b\b\b\b\b\b\b\b\b\b\b\b\b\b\b\b\b\b\b\b\b\n",
            "INFO\t2022-02-27 09:01:42 +0000\tmaster-replica-0\t\t10/14 [====================>.........] - ETA: 5s - loss: 0.6821 - accuracy: 0.6028\b\b\b\b\b\b\b\b\b\b\b\b\b\b\b\b\b\b\b\b\b\b\b\b\b\b\b\b\b\b\b\b\b\b\b\b\b\b\b\b\b\b\b\b\b\b\b\b\b\b\b\b\b\b\b\b\b\b\b\b\b\b\b\b\b\b\b\b\b\b\b\b\b\b\b\b\b\b\b\b\b\b\n",
            "INFO\t2022-02-27 09:01:43 +0000\tmaster-replica-0\t\t11/14 [======================>.......] - ETA: 3s - loss: 0.6807 - accuracy: 0.6055\b\b\b\b\b\b\b\b\b\b\b\b\b\b\b\b\b\b\b\b\b\b\b\b\b\b\b\b\b\b\b\b\b\b\b\b\b\b\b\b\b\b\b\b\b\b\b\b\b\b\b\b\b\b\b\b\b\b\b\b\b\b\b\b\b\b\b\b\b\b\b\b\b\b\b\b\b\b\b\b\b\b\n",
            "INFO\t2022-02-27 09:01:44 +0000\tmaster-replica-0\t\t12/14 [========================>.....] - ETA: 2s - loss: 0.6802 - accuracy: 0.6060\b\b\b\b\b\b\b\b\b\b\b\b\b\b\b\b\b\b\b\b\b\b\b\b\b\b\b\b\b\b\b\b\b\b\b\b\b\b\b\b\b\b\b\b\b\b\b\b\b\b\b\b\b\b\b\b\b\b\b\b\b\b\b\b\b\b\b\b\b\b\b\b\b\b\b\b\b\b\b\b\b\b\n",
            "INFO\t2022-02-27 09:01:45 +0000\tmaster-replica-0\t\t13/14 [==========================>...] - ETA: 1s - loss: 0.6804 - accuracy: 0.6049\b\b\b\b\b\b\b\b\b\b\b\b\b\b\b\b\b\b\b\b\b\b\b\b\b\b\b\b\b\b\b\b\b\b\b\b\b\b\b\b\b\b\b\b\b\b\b\b\b\b\b\b\b\b\b\b\b\b\b\b\b\b\b\b\b\b\b\b\b\b\b\b\b\b\b\b\b\b\b\b\b\b\n",
            "INFO\t2022-02-27 09:01:48 +0000\tmaster-replica-0\t\t14/14 [==============================] - ETA: 0s - loss: 0.6799 - accuracy: 0.6046\b\b\b\b\b\b\b\b\b\b\b\b\b\b\b\b\b\b\b\b\b\b\b\b\b\b\b\b\b\b\b\b\b\b\b\b\b\b\b\b\b\b\b\b\b\b\b\b\b\b\b\b\b\b\b\b\b\b\b\b\b\b\b\b\b\b\b\b\b\b\b\b\b\b\b\b\b\b\b\b\b\b\n",
            "INFO\t2022-02-27 09:01:48 +0000\tmaster-replica-0\t\t14/14 [==============================] - 24s 1s/step - loss: 0.6799 - accuracy: 0.6046 - val_loss: 0.6617 - val_accuracy: 0.6122 - lr: 5.0000e-04\n",
            "INFO\t2022-02-27 09:01:48 +0000\tmaster-replica-0\t\tEpoch 2/15\n",
            "INFO\t2022-02-27 09:01:50 +0000\tmaster-replica-0\t\t 1/14 [=>............................] - ETA: 16s - loss: 0.6752 - accuracy: 0.5967\b\b\b\b\b\b\b\b\b\b\b\b\b\b\b\b\b\b\b\b\b\b\b\b\b\b\b\b\b\b\b\b\b\b\b\b\b\b\b\b\b\b\b\b\b\b\b\b\b\b\b\b\b\b\b\b\b\b\b\b\b\b\b\b\b\b\b\b\b\b\b\b\b\b\b\b\b\b\b\b\b\b\b\n",
            "INFO\t2022-02-27 09:01:51 +0000\tmaster-replica-0\t\t 2/14 [===>..........................] - ETA: 9s - loss: 0.6737 - accuracy: 0.5992 \b\b\b\b\b\b\b\b\b\b\b\b\b\b\b\b\b\b\b\b\b\b\b\b\b\b\b\b\b\b\b\b\b\b\b\b\b\b\b\b\b\b\b\b\b\b\b\b\b\b\b\b\b\b\b\b\b\b\b\b\b\b\b\b\b\b\b\b\b\b\b\b\b\b\b\b\b\b\b\b\b\b\n",
            "INFO\t2022-02-27 09:01:52 +0000\tmaster-replica-0\t\t 3/14 [=====>........................] - ETA: 11s - loss: 0.6695 - accuracy: 0.6021\b\b\b\b\b\b\b\b\b\b\b\b\b\b\b\b\b\b\b\b\b\b\b\b\b\b\b\b\b\b\b\b\b\b\b\b\b\b\b\b\b\b\b\b\b\b\b\b\b\b\b\b\b\b\b\b\b\b\b\b\b\b\b\b\b\b\b\b\b\b\b\b\b\b\b\b\b\b\b\b\b\b\b\n",
            "INFO\t2022-02-27 09:01:53 +0000\tmaster-replica-0\t\t 4/14 [=======>......................] - ETA: 11s - loss: 0.6673 - accuracy: 0.6069\b\b\b\b\b\b\b\b\b\b\b\b\b\b\b\b\b\b\b\b\b\b\b\b\b\b\b\b\b\b\b\b\b\b\b\b\b\b\b\b\b\b\b\b\b\b\b\b\b\b\b\b\b\b\b\b\b\b\b\b\b\b\b\b\b\b\b\b\b\b\b\b\b\b\b\b\b\b\b\b\b\b\b\n",
            "INFO\t2022-02-27 09:01:55 +0000\tmaster-replica-0\t\t 5/14 [=========>....................] - ETA: 10s - loss: 0.6671 - accuracy: 0.6027\b\b\b\b\b\b\b\b\b\b\b\b\b\b\b\b\b\b\b\b\b\b\b\b\b\b\b\b\b\b\b\b\b\b\b\b\b\b\b\b\b\b\b\b\b\b\b\b\b\b\b\b\b\b\b\b\b\b\b\b\b\b\b\b\b\b\b\b\b\b\b\b\b\b\b\b\b\b\b\b\b\b\b\n",
            "INFO\t2022-02-27 09:01:56 +0000\tmaster-replica-0\t\t 6/14 [===========>..................] - ETA: 9s - loss: 0.6666 - accuracy: 0.6029 \b\b\b\b\b\b\b\b\b\b\b\b\b\b\b\b\b\b\b\b\b\b\b\b\b\b\b\b\b\b\b\b\b\b\b\b\b\b\b\b\b\b\b\b\b\b\b\b\b\b\b\b\b\b\b\b\b\b\b\b\b\b\b\b\b\b\b\b\b\b\b\b\b\b\b\b\b\b\b\b\b\b\n",
            "INFO\t2022-02-27 09:01:57 +0000\tmaster-replica-0\t\t 7/14 [==============>...............] - ETA: 8s - loss: 0.6667 - accuracy: 0.6022\b\b\b\b\b\b\b\b\b\b\b\b\b\b\b\b\b\b\b\b\b\b\b\b\b\b\b\b\b\b\b\b\b\b\b\b\b\b\b\b\b\b\b\b\b\b\b\b\b\b\b\b\b\b\b\b\b\b\b\b\b\b\b\b\b\b\b\b\b\b\b\b\b\b\b\b\b\b\b\b\b\b\n",
            "INFO\t2022-02-27 09:01:59 +0000\tmaster-replica-0\t\t 8/14 [================>.............] - ETA: 7s - loss: 0.6643 - accuracy: 0.6036\b\b\b\b\b\b\b\b\b\b\b\b\b\b\b\b\b\b\b\b\b\b\b\b\b\b\b\b\b\b\b\b\b\b\b\b\b\b\b\b\b\b\b\b\b\b\b\b\b\b\b\b\b\b\b\b\b\b\b\b\b\b\b\b\b\b\b\b\b\b\b\b\b\b\b\b\b\b\b\b\b\b\n",
            "INFO\t2022-02-27 09:02:00 +0000\tmaster-replica-0\t\t 9/14 [==================>...........] - ETA: 6s - loss: 0.6622 - accuracy: 0.6058\b\b\b\b\b\b\b\b\b\b\b\b\b\b\b\b\b\b\b\b\b\b\b\b\b\b\b\b\b\b\b\b\b\b\b\b\b\b\b\b\b\b\b\b\b\b\b\b\b\b\b\b\b\b\b\b\b\b\b\b\b\b\b\b\b\b\b\b\b\b\b\b\b\b\b\b\b\b\b\b\b\b\n",
            "INFO\t2022-02-27 09:02:01 +0000\tmaster-replica-0\t\t10/14 [====================>.........] - ETA: 4s - loss: 0.6603 - accuracy: 0.6066\b\b\b\b\b\b\b\b\b\b\b\b\b\b\b\b\b\b\b\b\b\b\b\b\b\b\b\b\b\b\b\b\b\b\b\b\b\b\b\b\b\b\b\b\b\b\b\b\b\b\b\b\b\b\b\b\b\b\b\b\b\b\b\b\b\b\b\b\b\b\b\b\b\b\b\b\b\b\b\b\b\b\n",
            "INFO\t2022-02-27 09:02:02 +0000\tmaster-replica-0\t\t11/14 [======================>.......] - ETA: 3s - loss: 0.6604 - accuracy: 0.6051\b\b\b\b\b\b\b\b\b\b\b\b\b\b\b\b\b\b\b\b\b\b\b\b\b\b\b\b\b\b\b\b\b\b\b\b\b\b\b\b\b\b\b\b\b\b\b\b\b\b\b\b\b\b\b\b\b\b\b\b\b\b\b\b\b\b\b\b\b\b\b\b\b\b\b\b\b\b\b\b\b\b\n",
            "INFO\t2022-02-27 09:02:04 +0000\tmaster-replica-0\t\t12/14 [========================>.....] - ETA: 2s - loss: 0.6600 - accuracy: 0.6058\b\b\b\b\b\b\b\b\b\b\b\b\b\b\b\b\b\b\b\b\b\b\b\b\b\b\b\b\b\b\b\b\b\b\b\b\b\b\b\b\b\b\b\b\b\b\b\b\b\b\b\b\b\b\b\b\b\b\b\b\b\b\b\b\b\b\b\b\b\b\b\b\b\b\b\b\b\b\b\b\b\b\n",
            "INFO\t2022-02-27 09:02:05 +0000\tmaster-replica-0\t\t13/14 [==========================>...] - ETA: 1s - loss: 0.6586 - accuracy: 0.6076\b\b\b\b\b\b\b\b\b\b\b\b\b\b\b\b\b\b\b\b\b\b\b\b\b\b\b\b\b\b\b\b\b\b\b\b\b\b\b\b\b\b\b\b\b\b\b\b\b\b\b\b\b\b\b\b\b\b\b\b\b\b\b\b\b\b\b\b\b\b\b\b\b\b\b\b\b\b\b\b\b\b\n",
            "INFO\t2022-02-27 09:02:07 +0000\tmaster-replica-0\t\t14/14 [==============================] - ETA: 0s - loss: 0.6576 - accuracy: 0.6074\b\b\b\b\b\b\b\b\b\b\b\b\b\b\b\b\b\b\b\b\b\b\b\b\b\b\b\b\b\b\b\b\b\b\b\b\b\b\b\b\b\b\b\b\b\b\b\b\b\b\b\b\b\b\b\b\b\b\b\b\b\b\b\b\b\b\b\b\b\b\b\b\b\b\b\b\b\b\b\b\b\b\n",
            "INFO\t2022-02-27 09:02:07 +0000\tmaster-replica-0\t\t14/14 [==============================] - 19s 1s/step - loss: 0.6576 - accuracy: 0.6074 - val_loss: 0.6400 - val_accuracy: 0.6137 - lr: 5.0000e-04\n",
            "INFO\t2022-02-27 09:02:07 +0000\tmaster-replica-0\t\tEpoch 3/15\n",
            "INFO\t2022-02-27 09:02:09 +0000\tmaster-replica-0\t\t 1/14 [=>............................] - ETA: 16s - loss: 0.6468 - accuracy: 0.6084\b\b\b\b\b\b\b\b\b\b\b\b\b\b\b\b\b\b\b\b\b\b\b\b\b\b\b\b\b\b\b\b\b\b\b\b\b\b\b\b\b\b\b\b\b\b\b\b\b\b\b\b\b\b\b\b\b\b\b\b\b\b\b\b\b\b\b\b\b\b\b\b\b\b\b\b\b\b\b\b\b\b\b\n",
            "INFO\t2022-02-27 09:02:11 +0000\tmaster-replica-0\t\t 2/14 [===>..........................] - ETA: 15s - loss: 0.6385 - accuracy: 0.6191\b\b\b\b\b\b\b\b\b\b\b\b\b\b\b\b\b\b\b\b\b\b\b\b\b\b\b\b\b\b\b\b\b\b\b\b\b\b\b\b\b\b\b\b\b\b\b\b\b\b\b\b\b\b\b\b\b\b\b\b\b\b\b\b\b\b\b\b\b\b\b\b\b\b\b\b\b\b\b\b\b\b\b\n",
            "INFO\t2022-02-27 09:02:11 +0000\tmaster-replica-0\t\t 3/14 [=====>........................] - ETA: 14s - loss: 0.6365 - accuracy: 0.6188\b\b\b\b\b\b\b\b\b\b\b\b\b\b\b\b\b\b\b\b\b\b\b\b\b\b\b\b\b\b\b\b\b\b\b\b\b\b\b\b\b\b\b\b\b\b\b\b\b\b\b\b\b\b\b\b\b\b\b\b\b\b\b\b\b\b\b\b\b\b\b\b\b\b\b\b\b\b\b\b\b\b\b\n",
            "INFO\t2022-02-27 09:02:13 +0000\tmaster-replica-0\t\t 4/14 [=======>......................] - ETA: 11s - loss: 0.6357 - accuracy: 0.6188\b\b\b\b\b\b\b\b\b\b\b\b\b\b\b\b\b\b\b\b\b\b\b\b\b\b\b\b\b\b\b\b\b\b\b\b\b\b\b\b\b\b\b\b\b\b\b\b\b\b\b\b\b\b\b\b\b\b\b\b\b\b\b\b\b\b\b\b\b\b\b\b\b\b\b\b\b\b\b\b\b\b\b\n",
            "INFO\t2022-02-27 09:02:14 +0000\tmaster-replica-0\t\t 5/14 [=========>....................] - ETA: 10s - loss: 0.6336 - accuracy: 0.6161\b\b\b\b\b\b\b\b\b\b\b\b\b\b\b\b\b\b\b\b\b\b\b\b\b\b\b\b\b\b\b\b\b\b\b\b\b\b\b\b\b\b\b\b\b\b\b\b\b\b\b\b\b\b\b\b\b\b\b\b\b\b\b\b\b\b\b\b\b\b\b\b\b\b\b\b\b\b\b\b\b\b\b\n",
            "INFO\t2022-02-27 09:02:15 +0000\tmaster-replica-0\t\t 6/14 [===========>..................] - ETA: 9s - loss: 0.6326 - accuracy: 0.6200 \b\b\b\b\b\b\b\b\b\b\b\b\b\b\b\b\b\b\b\b\b\b\b\b\b\b\b\b\b\b\b\b\b\b\b\b\b\b\b\b\b\b\b\b\b\b\b\b\b\b\b\b\b\b\b\b\b\b\b\b\b\b\b\b\b\b\b\b\b\b\b\b\b\b\b\b\b\b\b\b\b\b\n",
            "INFO\t2022-02-27 09:02:16 +0000\tmaster-replica-0\t\t 7/14 [==============>...............] - ETA: 8s - loss: 0.6305 - accuracy: 0.6269\b\b\b\b\b\b\b\b\b\b\b\b\b\b\b\b\b\b\b\b\b\b\b\b\b\b\b\b\b\b\b\b\b\b\b\b\b\b\b\b\b\b\b\b\b\b\b\b\b\b\b\b\b\b\b\b\b\b\b\b\b\b\b\b\b\b\b\b\b\b\b\b\b\b\b\b\b\b\b\b\b\b\n",
            "INFO\t2022-02-27 09:02:18 +0000\tmaster-replica-0\t\t 8/14 [================>.............] - ETA: 7s - loss: 0.6282 - accuracy: 0.6282\b\b\b\b\b\b\b\b\b\b\b\b\b\b\b\b\b\b\b\b\b\b\b\b\b\b\b\b\b\b\b\b\b\b\b\b\b\b\b\b\b\b\b\b\b\b\b\b\b\b\b\b\b\b\b\b\b\b\b\b\b\b\b\b\b\b\b\b\b\b\b\b\b\b\b\b\b\b\b\b\b\b\n",
            "INFO\t2022-02-27 09:02:19 +0000\tmaster-replica-0\t\t 9/14 [==================>...........] - ETA: 6s - loss: 0.6255 - accuracy: 0.6272\b\b\b\b\b\b\b\b\b\b\b\b\b\b\b\b\b\b\b\b\b\b\b\b\b\b\b\b\b\b\b\b\b\b\b\b\b\b\b\b\b\b\b\b\b\b\b\b\b\b\b\b\b\b\b\b\b\b\b\b\b\b\b\b\b\b\b\b\b\b\b\b\b\b\b\b\b\b\b\b\b\b\n",
            "INFO\t2022-02-27 09:02:20 +0000\tmaster-replica-0\t\t10/14 [====================>.........] - ETA: 4s - loss: 0.6223 - accuracy: 0.6281\b\b\b\b\b\b\b\b\b\b\b\b\b\b\b\b\b\b\b\b\b\b\b\b\b\b\b\b\b\b\b\b\b\b\b\b\b\b\b\b\b\b\b\b\b\b\b\b\b\b\b\b\b\b\b\b\b\b\b\b\b\b\b\b\b\b\b\b\b\b\b\b\b\b\b\b\b\b\b\b\b\b\n",
            "INFO\t2022-02-27 09:02:22 +0000\tmaster-replica-0\t\t11/14 [======================>.......] - ETA: 3s - loss: 0.6212 - accuracy: 0.6299\b\b\b\b\b\b\b\b\b\b\b\b\b\b\b\b\b\b\b\b\b\b\b\b\b\b\b\b\b\b\b\b\b\b\b\b\b\b\b\b\b\b\b\b\b\b\b\b\b\b\b\b\b\b\b\b\b\b\b\b\b\b\b\b\b\b\b\b\b\b\b\b\b\b\b\b\b\b\b\b\b\b\n",
            "INFO\t2022-02-27 09:02:23 +0000\tmaster-replica-0\t\t12/14 [========================>.....] - ETA: 2s - loss: 0.6188 - accuracy: 0.6343\b\b\b\b\b\b\b\b\b\b\b\b\b\b\b\b\b\b\b\b\b\b\b\b\b\b\b\b\b\b\b\b\b\b\b\b\b\b\b\b\b\b\b\b\b\b\b\b\b\b\b\b\b\b\b\b\b\b\b\b\b\b\b\b\b\b\b\b\b\b\b\b\b\b\b\b\b\b\b\b\b\b\n",
            "INFO\t2022-02-27 09:02:24 +0000\tmaster-replica-0\t\t13/14 [==========================>...] - ETA: 1s - loss: 0.6155 - accuracy: 0.6381\b\b\b\b\b\b\b\b\b\b\b\b\b\b\b\b\b\b\b\b\b\b\b\b\b\b\b\b\b\b\b\b\b\b\b\b\b\b\b\b\b\b\b\b\b\b\b\b\b\b\b\b\b\b\b\b\b\b\b\b\b\b\b\b\b\b\b\b\b\b\b\b\b\b\b\b\b\b\b\b\b\b\n",
            "INFO\t2022-02-27 09:02:26 +0000\tmaster-replica-0\t\t14/14 [==============================] - ETA: 0s - loss: 0.6125 - accuracy: 0.6391\b\b\b\b\b\b\b\b\b\b\b\b\b\b\b\b\b\b\b\b\b\b\b\b\b\b\b\b\b\b\b\b\b\b\b\b\b\b\b\b\b\b\b\b\b\b\b\b\b\b\b\b\b\b\b\b\b\b\b\b\b\b\b\b\b\b\b\b\b\b\b\b\b\b\b\b\b\b\b\b\b\b\n",
            "INFO\t2022-02-27 09:02:26 +0000\tmaster-replica-0\t\t14/14 [==============================] - 19s 1s/step - loss: 0.6125 - accuracy: 0.6391 - val_loss: 0.5754 - val_accuracy: 0.6667 - lr: 5.0000e-04\n",
            "INFO\t2022-02-27 09:02:26 +0000\tmaster-replica-0\t\tEpoch 4/15\n",
            "INFO\t2022-02-27 09:02:28 +0000\tmaster-replica-0\t\t 1/14 [=>............................] - ETA: 16s - loss: 0.5614 - accuracy: 0.6816\b\b\b\b\b\b\b\b\b\b\b\b\b\b\b\b\b\b\b\b\b\b\b\b\b\b\b\b\b\b\b\b\b\b\b\b\b\b\b\b\b\b\b\b\b\b\b\b\b\b\b\b\b\b\b\b\b\b\b\b\b\b\b\b\b\b\b\b\b\b\b\b\b\b\b\b\b\b\b\b\b\b\b\n",
            "INFO\t2022-02-27 09:02:30 +0000\tmaster-replica-0\t\t 2/14 [===>..........................] - ETA: 15s - loss: 0.5538 - accuracy: 0.7080\b\b\b\b\b\b\b\b\b\b\b\b\b\b\b\b\b\b\b\b\b\b\b\b\b\b\b\b\b\b\b\b\b\b\b\b\b\b\b\b\b\b\b\b\b\b\b\b\b\b\b\b\b\b\b\b\b\b\b\b\b\b\b\b\b\b\b\b\b\b\b\b\b\b\b\b\b\b\b\b\b\b\b\n",
            "INFO\t2022-02-27 09:02:31 +0000\tmaster-replica-0\t\t 3/14 [=====>........................] - ETA: 14s - loss: 0.5486 - accuracy: 0.7126\b\b\b\b\b\b\b\b\b\b\b\b\b\b\b\b\b\b\b\b\b\b\b\b\b\b\b\b\b\b\b\b\b\b\b\b\b\b\b\b\b\b\b\b\b\b\b\b\b\b\b\b\b\b\b\b\b\b\b\b\b\b\b\b\b\b\b\b\b\b\b\b\b\b\b\b\b\b\b\b\b\b\b\n",
            "INFO\t2022-02-27 09:02:32 +0000\tmaster-replica-0\t\t 4/14 [=======>......................] - ETA: 12s - loss: 0.5476 - accuracy: 0.7065\b\b\b\b\b\b\b\b\b\b\b\b\b\b\b\b\b\b\b\b\b\b\b\b\b\b\b\b\b\b\b\b\b\b\b\b\b\b\b\b\b\b\b\b\b\b\b\b\b\b\b\b\b\b\b\b\b\b\b\b\b\b\b\b\b\b\b\b\b\b\b\b\b\b\b\b\b\b\b\b\b\b\b\n",
            "INFO\t2022-02-27 09:02:33 +0000\tmaster-replica-0\t\t 5/14 [=========>....................] - ETA: 11s - loss: 0.5404 - accuracy: 0.7125\b\b\b\b\b\b\b\b\b\b\b\b\b\b\b\b\b\b\b\b\b\b\b\b\b\b\b\b\b\b\b\b\b\b\b\b\b\b\b\b\b\b\b\b\b\b\b\b\b\b\b\b\b\b\b\b\b\b\b\b\b\b\b\b\b\b\b\b\b\b\b\b\b\b\b\b\b\b\b\b\b\b\b\n",
            "INFO\t2022-02-27 09:02:34 +0000\tmaster-replica-0\t\t 6/14 [===========>..................] - ETA: 9s - loss: 0.5393 - accuracy: 0.7157 \b\b\b\b\b\b\b\b\b\b\b\b\b\b\b\b\b\b\b\b\b\b\b\b\b\b\b\b\b\b\b\b\b\b\b\b\b\b\b\b\b\b\b\b\b\b\b\b\b\b\b\b\b\b\b\b\b\b\b\b\b\b\b\b\b\b\b\b\b\b\b\b\b\b\b\b\b\b\b\b\b\b\n",
            "INFO\t2022-02-27 09:02:36 +0000\tmaster-replica-0\t\t 7/14 [==============>...............] - ETA: 8s - loss: 0.5322 - accuracy: 0.7260\b\b\b\b\b\b\b\b\b\b\b\b\b\b\b\b\b\b\b\b\b\b\b\b\b\b\b\b\b\b\b\b\b\b\b\b\b\b\b\b\b\b\b\b\b\b\b\b\b\b\b\b\b\b\b\b\b\b\b\b\b\b\b\b\b\b\b\b\b\b\b\b\b\b\b\b\b\b\b\b\b\b\n",
            "INFO\t2022-02-27 09:02:37 +0000\tmaster-replica-0\t\t 8/14 [================>.............] - ETA: 7s - loss: 0.5219 - accuracy: 0.7328\b\b\b\b\b\b\b\b\b\b\b\b\b\b\b\b\b\b\b\b\b\b\b\b\b\b\b\b\b\b\b\b\b\b\b\b\b\b\b\b\b\b\b\b\b\b\b\b\b\b\b\b\b\b\b\b\b\b\b\b\b\b\b\b\b\b\b\b\b\b\b\b\b\b\b\b\b\b\b\b\b\b\n",
            "INFO\t2022-02-27 09:02:38 +0000\tmaster-replica-0\t\t 9/14 [==================>...........] - ETA: 6s - loss: 0.5148 - accuracy: 0.7375\b\b\b\b\b\b\b\b\b\b\b\b\b\b\b\b\b\b\b\b\b\b\b\b\b\b\b\b\b\b\b\b\b\b\b\b\b\b\b\b\b\b\b\b\b\b\b\b\b\b\b\b\b\b\b\b\b\b\b\b\b\b\b\b\b\b\b\b\b\b\b\b\b\b\b\b\b\b\b\b\b\b\n",
            "INFO\t2022-02-27 09:02:39 +0000\tmaster-replica-0\t\t10/14 [====================>.........] - ETA: 4s - loss: 0.5100 - accuracy: 0.7433\b\b\b\b\b\b\b\b\b\b\b\b\b\b\b\b\b\b\b\b\b\b\b\b\b\b\b\b\b\b\b\b\b\b\b\b\b\b\b\b\b\b\b\b\b\b\b\b\b\b\b\b\b\b\b\b\b\b\b\b\b\b\b\b\b\b\b\b\b\b\b\b\b\b\b\b\b\b\b\b\b\b\n",
            "INFO\t2022-02-27 09:02:41 +0000\tmaster-replica-0\t\t11/14 [======================>.......] - ETA: 3s - loss: 0.5024 - accuracy: 0.7503\b\b\b\b\b\b\b\b\b\b\b\b\b\b\b\b\b\b\b\b\b\b\b\b\b\b\b\b\b\b\b\b\b\b\b\b\b\b\b\b\b\b\b\b\b\b\b\b\b\b\b\b\b\b\b\b\b\b\b\b\b\b\b\b\b\b\b\b\b\b\b\b\b\b\b\b\b\b\b\b\b\b\n",
            "INFO\t2022-02-27 09:02:42 +0000\tmaster-replica-0\t\t12/14 [========================>.....] - ETA: 2s - loss: 0.5002 - accuracy: 0.7518\b\b\b\b\b\b\b\b\b\b\b\b\b\b\b\b\b\b\b\b\b\b\b\b\b\b\b\b\b\b\b\b\b\b\b\b\b\b\b\b\b\b\b\b\b\b\b\b\b\b\b\b\b\b\b\b\b\b\b\b\b\b\b\b\b\b\b\b\b\b\b\b\b\b\b\b\b\b\b\b\b\b\n",
            "INFO\t2022-02-27 09:02:43 +0000\tmaster-replica-0\t\t13/14 [==========================>...] - ETA: 1s - loss: 0.4962 - accuracy: 0.7551\b\b\b\b\b\b\b\b\b\b\b\b\b\b\b\b\b\b\b\b\b\b\b\b\b\b\b\b\b\b\b\b\b\b\b\b\b\b\b\b\b\b\b\b\b\b\b\b\b\b\b\b\b\b\b\b\b\b\b\b\b\b\b\b\b\b\b\b\b\b\b\b\b\b\b\b\b\b\b\b\b\b\n",
            "INFO\t2022-02-27 09:02:45 +0000\tmaster-replica-0\t\t14/14 [==============================] - ETA: 0s - loss: 0.4902 - accuracy: 0.7603\b\b\b\b\b\b\b\b\b\b\b\b\b\b\b\b\b\b\b\b\b\b\b\b\b\b\b\b\b\b\b\b\b\b\b\b\b\b\b\b\b\b\b\b\b\b\b\b\b\b\b\b\b\b\b\b\b\b\b\b\b\b\b\b\b\b\b\b\b\b\b\b\b\b\b\b\b\b\b\b\b\b\n",
            "INFO\t2022-02-27 09:02:45 +0000\tmaster-replica-0\t\t14/14 [==============================] - 19s 1s/step - loss: 0.4902 - accuracy: 0.7603 - val_loss: 0.4829 - val_accuracy: 0.7644 - lr: 5.0000e-04\n",
            "INFO\t2022-02-27 09:02:45 +0000\tmaster-replica-0\t\tEpoch 5/15\n",
            "INFO\t2022-02-27 09:02:47 +0000\tmaster-replica-0\t\t 1/14 [=>............................] - ETA: 16s - loss: 0.4342 - accuracy: 0.8096\b\b\b\b\b\b\b\b\b\b\b\b\b\b\b\b\b\b\b\b\b\b\b\b\b\b\b\b\b\b\b\b\b\b\b\b\b\b\b\b\b\b\b\b\b\b\b\b\b\b\b\b\b\b\b\b\b\b\b\b\b\b\b\b\b\b\b\b\b\b\b\b\b\b\b\b\b\b\b\b\b\b\b\n",
            "INFO\t2022-02-27 09:02:49 +0000\tmaster-replica-0\t\t 2/14 [===>..........................] - ETA: 15s - loss: 0.4172 - accuracy: 0.8228\b\b\b\b\b\b\b\b\b\b\b\b\b\b\b\b\b\b\b\b\b\b\b\b\b\b\b\b\b\b\b\b\b\b\b\b\b\b\b\b\b\b\b\b\b\b\b\b\b\b\b\b\b\b\b\b\b\b\b\b\b\b\b\b\b\b\b\b\b\b\b\b\b\b\b\b\b\b\b\b\b\b\b\n",
            "INFO\t2022-02-27 09:02:50 +0000\tmaster-replica-0\t\t 3/14 [=====>........................] - ETA: 14s - loss: 0.4131 - accuracy: 0.8265\b\b\b\b\b\b\b\b\b\b\b\b\b\b\b\b\b\b\b\b\b\b\b\b\b\b\b\b\b\b\b\b\b\b\b\b\b\b\b\b\b\b\b\b\b\b\b\b\b\b\b\b\b\b\b\b\b\b\b\b\b\b\b\b\b\b\b\b\b\b\b\b\b\b\b\b\b\b\b\b\b\b\b\n",
            "INFO\t2022-02-27 09:02:51 +0000\tmaster-replica-0\t\t 4/14 [=======>......................] - ETA: 12s - loss: 0.4106 - accuracy: 0.8279\b\b\b\b\b\b\b\b\b\b\b\b\b\b\b\b\b\b\b\b\b\b\b\b\b\b\b\b\b\b\b\b\b\b\b\b\b\b\b\b\b\b\b\b\b\b\b\b\b\b\b\b\b\b\b\b\b\b\b\b\b\b\b\b\b\b\b\b\b\b\b\b\b\b\b\b\b\b\b\b\b\b\b\n",
            "INFO\t2022-02-27 09:02:53 +0000\tmaster-replica-0\t\t 5/14 [=========>....................] - ETA: 11s - loss: 0.4117 - accuracy: 0.8262\b\b\b\b\b\b\b\b\b\b\b\b\b\b\b\b\b\b\b\b\b\b\b\b\b\b\b\b\b\b\b\b\b\b\b\b\b\b\b\b\b\b\b\b\b\b\b\b\b\b\b\b\b\b\b\b\b\b\b\b\b\b\b\b\b\b\b\b\b\b\b\b\b\b\b\b\b\b\b\b\b\b\b\n",
            "INFO\t2022-02-27 09:02:54 +0000\tmaster-replica-0\t\t 6/14 [===========>..................] - ETA: 10s - loss: 0.4100 - accuracy: 0.8245\b\b\b\b\b\b\b\b\b\b\b\b\b\b\b\b\b\b\b\b\b\b\b\b\b\b\b\b\b\b\b\b\b\b\b\b\b\b\b\b\b\b\b\b\b\b\b\b\b\b\b\b\b\b\b\b\b\b\b\b\b\b\b\b\b\b\b\b\b\b\b\b\b\b\b\b\b\b\b\b\b\b\b\n",
            "INFO\t2022-02-27 09:02:55 +0000\tmaster-replica-0\t\t 7/14 [==============>...............] - ETA: 8s - loss: 0.4035 - accuracy: 0.8278 \b\b\b\b\b\b\b\b\b\b\b\b\b\b\b\b\b\b\b\b\b\b\b\b\b\b\b\b\b\b\b\b\b\b\b\b\b\b\b\b\b\b\b\b\b\b\b\b\b\b\b\b\b\b\b\b\b\b\b\b\b\b\b\b\b\b\b\b\b\b\b\b\b\b\b\b\b\b\b\b\b\b\n",
            "INFO\t2022-02-27 09:02:56 +0000\tmaster-replica-0\t\t 8/14 [================>.............] - ETA: 7s - loss: 0.3993 - accuracy: 0.8302\b\b\b\b\b\b\b\b\b\b\b\b\b\b\b\b\b\b\b\b\b\b\b\b\b\b\b\b\b\b\b\b\b\b\b\b\b\b\b\b\b\b\b\b\b\b\b\b\b\b\b\b\b\b\b\b\b\b\b\b\b\b\b\b\b\b\b\b\b\b\b\b\b\b\b\b\b\b\b\b\b\b\n",
            "INFO\t2022-02-27 09:02:57 +0000\tmaster-replica-0\t\t 9/14 [==================>...........] - ETA: 6s - loss: 0.3955 - accuracy: 0.8334\b\b\b\b\b\b\b\b\b\b\b\b\b\b\b\b\b\b\b\b\b\b\b\b\b\b\b\b\b\b\b\b\b\b\b\b\b\b\b\b\b\b\b\b\b\b\b\b\b\b\b\b\b\b\b\b\b\b\b\b\b\b\b\b\b\b\b\b\b\b\b\b\b\b\b\b\b\b\b\b\b\b\n",
            "INFO\t2022-02-27 09:02:58 +0000\tmaster-replica-0\t\t10/14 [====================>.........] - ETA: 4s - loss: 0.3903 - accuracy: 0.8366\b\b\b\b\b\b\b\b\b\b\b\b\b\b\b\b\b\b\b\b\b\b\b\b\b\b\b\b\b\b\b\b\b\b\b\b\b\b\b\b\b\b\b\b\b\b\b\b\b\b\b\b\b\b\b\b\b\b\b\b\b\b\b\b\b\b\b\b\b\b\b\b\b\b\b\b\b\b\b\b\b\b\n",
            "INFO\t2022-02-27 09:03:00 +0000\tmaster-replica-0\t\t11/14 [======================>.......] - ETA: 3s - loss: 0.3844 - accuracy: 0.8402\b\b\b\b\b\b\b\b\b\b\b\b\b\b\b\b\b\b\b\b\b\b\b\b\b\b\b\b\b\b\b\b\b\b\b\b\b\b\b\b\b\b\b\b\b\b\b\b\b\b\b\b\b\b\b\b\b\b\b\b\b\b\b\b\b\b\b\b\b\b\b\b\b\b\b\b\b\b\b\b\b\b\n",
            "INFO\t2022-02-27 09:03:01 +0000\tmaster-replica-0\t\t12/14 [========================>.....] - ETA: 2s - loss: 0.3807 - accuracy: 0.8426\b\b\b\b\b\b\b\b\b\b\b\b\b\b\b\b\b\b\b\b\b\b\b\b\b\b\b\b\b\b\b\b\b\b\b\b\b\b\b\b\b\b\b\b\b\b\b\b\b\b\b\b\b\b\b\b\b\b\b\b\b\b\b\b\b\b\b\b\b\b\b\b\b\b\b\b\b\b\b\b\b\b\n",
            "INFO\t2022-02-27 09:03:02 +0000\tmaster-replica-0\t\t13/14 [==========================>...] - ETA: 1s - loss: 0.3744 - accuracy: 0.8452\b\b\b\b\b\b\b\b\b\b\b\b\b\b\b\b\b\b\b\b\b\b\b\b\b\b\b\b\b\b\b\b\b\b\b\b\b\b\b\b\b\b\b\b\b\b\b\b\b\b\b\b\b\b\b\b\b\b\b\b\b\b\b\b\b\b\b\b\b\b\b\b\b\b\b\b\b\b\b\b\b\b\n",
            "INFO\t2022-02-27 09:03:04 +0000\tmaster-replica-0\t\t14/14 [==============================] - ETA: 0s - loss: 0.3696 - accuracy: 0.8476\b\b\b\b\b\b\b\b\b\b\b\b\b\b\b\b\b\b\b\b\b\b\b\b\b\b\b\b\b\b\b\b\b\b\b\b\b\b\b\b\b\b\b\b\b\b\b\b\b\b\b\b\b\b\b\b\b\b\b\b\b\b\b\b\b\b\b\b\b\b\b\b\b\b\b\b\b\b\b\b\b\b\n",
            "INFO\t2022-02-27 09:03:04 +0000\tmaster-replica-0\t\t14/14 [==============================] - 19s 1s/step - loss: 0.3696 - accuracy: 0.8476 - val_loss: 0.4359 - val_accuracy: 0.8061 - lr: 5.0000e-04\n",
            "INFO\t2022-02-27 09:03:04 +0000\tmaster-replica-0\t\tEpoch 6/15\n",
            "INFO\t2022-02-27 09:03:07 +0000\tmaster-replica-0\t\t 1/14 [=>............................] - ETA: 16s - loss: 0.2842 - accuracy: 0.8916\b\b\b\b\b\b\b\b\b\b\b\b\b\b\b\b\b\b\b\b\b\b\b\b\b\b\b\b\b\b\b\b\b\b\b\b\b\b\b\b\b\b\b\b\b\b\b\b\b\b\b\b\b\b\b\b\b\b\b\b\b\b\b\b\b\b\b\b\b\b\b\b\b\b\b\b\b\b\b\b\b\b\b\n",
            "INFO\t2022-02-27 09:03:08 +0000\tmaster-replica-0\t\t 2/14 [===>..........................] - ETA: 15s - loss: 0.3004 - accuracy: 0.8862\b\b\b\b\b\b\b\b\b\b\b\b\b\b\b\b\b\b\b\b\b\b\b\b\b\b\b\b\b\b\b\b\b\b\b\b\b\b\b\b\b\b\b\b\b\b\b\b\b\b\b\b\b\b\b\b\b\b\b\b\b\b\b\b\b\b\b\b\b\b\b\b\b\b\b\b\b\b\b\b\b\b\b\n",
            "INFO\t2022-02-27 09:03:09 +0000\tmaster-replica-0\t\t 3/14 [=====>........................] - ETA: 14s - loss: 0.2976 - accuracy: 0.8815\b\b\b\b\b\b\b\b\b\b\b\b\b\b\b\b\b\b\b\b\b\b\b\b\b\b\b\b\b\b\b\b\b\b\b\b\b\b\b\b\b\b\b\b\b\b\b\b\b\b\b\b\b\b\b\b\b\b\b\b\b\b\b\b\b\b\b\b\b\b\b\b\b\b\b\b\b\b\b\b\b\b\b\n",
            "INFO\t2022-02-27 09:03:10 +0000\tmaster-replica-0\t\t 4/14 [=======>......................] - ETA: 12s - loss: 0.2956 - accuracy: 0.8816\b\b\b\b\b\b\b\b\b\b\b\b\b\b\b\b\b\b\b\b\b\b\b\b\b\b\b\b\b\b\b\b\b\b\b\b\b\b\b\b\b\b\b\b\b\b\b\b\b\b\b\b\b\b\b\b\b\b\b\b\b\b\b\b\b\b\b\b\b\b\b\b\b\b\b\b\b\b\b\b\b\b\b\n",
            "INFO\t2022-02-27 09:03:12 +0000\tmaster-replica-0\t\t 5/14 [=========>....................] - ETA: 11s - loss: 0.2910 - accuracy: 0.8844\b\b\b\b\b\b\b\b\b\b\b\b\b\b\b\b\b\b\b\b\b\b\b\b\b\b\b\b\b\b\b\b\b\b\b\b\b\b\b\b\b\b\b\b\b\b\b\b\b\b\b\b\b\b\b\b\b\b\b\b\b\b\b\b\b\b\b\b\b\b\b\b\b\b\b\b\b\b\b\b\b\b\b\n",
            "INFO\t2022-02-27 09:03:13 +0000\tmaster-replica-0\t\t 6/14 [===========>..................] - ETA: 10s - loss: 0.2866 - accuracy: 0.8893\b\b\b\b\b\b\b\b\b\b\b\b\b\b\b\b\b\b\b\b\b\b\b\b\b\b\b\b\b\b\b\b\b\b\b\b\b\b\b\b\b\b\b\b\b\b\b\b\b\b\b\b\b\b\b\b\b\b\b\b\b\b\b\b\b\b\b\b\b\b\b\b\b\b\b\b\b\b\b\b\b\b\b\n",
            "INFO\t2022-02-27 09:03:14 +0000\tmaster-replica-0\t\t 7/14 [==============>...............] - ETA: 9s - loss: 0.2895 - accuracy: 0.8876 \b\b\b\b\b\b\b\b\b\b\b\b\b\b\b\b\b\b\b\b\b\b\b\b\b\b\b\b\b\b\b\b\b\b\b\b\b\b\b\b\b\b\b\b\b\b\b\b\b\b\b\b\b\b\b\b\b\b\b\b\b\b\b\b\b\b\b\b\b\b\b\b\b\b\b\b\b\b\b\b\b\b\n",
            "INFO\t2022-02-27 09:03:16 +0000\tmaster-replica-0\t\t 8/14 [================>.............] - ETA: 7s - loss: 0.2892 - accuracy: 0.8887\b\b\b\b\b\b\b\b\b\b\b\b\b\b\b\b\b\b\b\b\b\b\b\b\b\b\b\b\b\b\b\b\b\b\b\b\b\b\b\b\b\b\b\b\b\b\b\b\b\b\b\b\b\b\b\b\b\b\b\b\b\b\b\b\b\b\b\b\b\b\b\b\b\b\b\b\b\b\b\b\b\b\n",
            "INFO\t2022-02-27 09:03:16 +0000\tmaster-replica-0\t\t 9/14 [==================>...........] - ETA: 6s - loss: 0.2860 - accuracy: 0.8908\b\b\b\b\b\b\b\b\b\b\b\b\b\b\b\b\b\b\b\b\b\b\b\b\b\b\b\b\b\b\b\b\b\b\b\b\b\b\b\b\b\b\b\b\b\b\b\b\b\b\b\b\b\b\b\b\b\b\b\b\b\b\b\b\b\b\b\b\b\b\b\b\b\b\b\b\b\b\b\b\b\b\n",
            "INFO\t2022-02-27 09:03:18 +0000\tmaster-replica-0\t\t10/14 [====================>.........] - ETA: 4s - loss: 0.2866 - accuracy: 0.8912\b\b\b\b\b\b\b\b\b\b\b\b\b\b\b\b\b\b\b\b\b\b\b\b\b\b\b\b\b\b\b\b\b\b\b\b\b\b\b\b\b\b\b\b\b\b\b\b\b\b\b\b\b\b\b\b\b\b\b\b\b\b\b\b\b\b\b\b\b\b\b\b\b\b\b\b\b\b\b\b\b\b\n",
            "INFO\t2022-02-27 09:03:19 +0000\tmaster-replica-0\t\t11/14 [======================>.......] - ETA: 3s - loss: 0.2808 - accuracy: 0.8942\b\b\b\b\b\b\b\b\b\b\b\b\b\b\b\b\b\b\b\b\b\b\b\b\b\b\b\b\b\b\b\b\b\b\b\b\b\b\b\b\b\b\b\b\b\b\b\b\b\b\b\b\b\b\b\b\b\b\b\b\b\b\b\b\b\b\b\b\b\b\b\b\b\b\b\b\b\b\b\b\b\b\n",
            "INFO\t2022-02-27 09:03:20 +0000\tmaster-replica-0\t\t12/14 [========================>.....] - ETA: 2s - loss: 0.2763 - accuracy: 0.8956\b\b\b\b\b\b\b\b\b\b\b\b\b\b\b\b\b\b\b\b\b\b\b\b\b\b\b\b\b\b\b\b\b\b\b\b\b\b\b\b\b\b\b\b\b\b\b\b\b\b\b\b\b\b\b\b\b\b\b\b\b\b\b\b\b\b\b\b\b\b\b\b\b\b\b\b\b\b\b\b\b\b\n",
            "INFO\t2022-02-27 09:03:21 +0000\tmaster-replica-0\t\t13/14 [==========================>...] - ETA: 1s - loss: 0.2708 - accuracy: 0.8973\b\b\b\b\b\b\b\b\b\b\b\b\b\b\b\b\b\b\b\b\b\b\b\b\b\b\b\b\b\b\b\b\b\b\b\b\b\b\b\b\b\b\b\b\b\b\b\b\b\b\b\b\b\b\b\b\b\b\b\b\b\b\b\b\b\b\b\b\b\b\b\b\b\b\b\b\b\b\b\b\b\b\n",
            "INFO\t2022-02-27 09:03:23 +0000\tmaster-replica-0\t\t14/14 [==============================] - ETA: 0s - loss: 0.2671 - accuracy: 0.8985\b\b\b\b\b\b\b\b\b\b\b\b\b\b\b\b\b\b\b\b\b\b\b\b\b\b\b\b\b\b\b\b\b\b\b\b\b\b\b\b\b\b\b\b\b\b\b\b\b\b\b\b\b\b\b\b\b\b\b\b\b\b\b\b\b\b\b\b\b\b\b\b\b\b\b\b\b\b\b\b\b\b\n",
            "INFO\t2022-02-27 09:03:23 +0000\tmaster-replica-0\t\t14/14 [==============================] - 19s 1s/step - loss: 0.2671 - accuracy: 0.8985 - val_loss: 0.4140 - val_accuracy: 0.8282 - lr: 5.0000e-04\n",
            "INFO\t2022-02-27 09:03:23 +0000\tmaster-replica-0\t\tEpoch 7/15\n",
            "INFO\t2022-02-27 09:03:26 +0000\tmaster-replica-0\t\t 1/14 [=>............................] - ETA: 16s - loss: 0.2280 - accuracy: 0.9141\b\b\b\b\b\b\b\b\b\b\b\b\b\b\b\b\b\b\b\b\b\b\b\b\b\b\b\b\b\b\b\b\b\b\b\b\b\b\b\b\b\b\b\b\b\b\b\b\b\b\b\b\b\b\b\b\b\b\b\b\b\b\b\b\b\b\b\b\b\b\b\b\b\b\b\b\b\b\b\b\b\b\b\n",
            "INFO\t2022-02-27 09:03:27 +0000\tmaster-replica-0\t\t 2/14 [===>..........................] - ETA: 15s - loss: 0.2203 - accuracy: 0.9199\b\b\b\b\b\b\b\b\b\b\b\b\b\b\b\b\b\b\b\b\b\b\b\b\b\b\b\b\b\b\b\b\b\b\b\b\b\b\b\b\b\b\b\b\b\b\b\b\b\b\b\b\b\b\b\b\b\b\b\b\b\b\b\b\b\b\b\b\b\b\b\b\b\b\b\b\b\b\b\b\b\b\b\n",
            "INFO\t2022-02-27 09:03:28 +0000\tmaster-replica-0\t\t 3/14 [=====>........................] - ETA: 14s - loss: 0.2219 - accuracy: 0.9189\b\b\b\b\b\b\b\b\b\b\b\b\b\b\b\b\b\b\b\b\b\b\b\b\b\b\b\b\b\b\b\b\b\b\b\b\b\b\b\b\b\b\b\b\b\b\b\b\b\b\b\b\b\b\b\b\b\b\b\b\b\b\b\b\b\b\b\b\b\b\b\b\b\b\b\b\b\b\b\b\b\b\b\n",
            "INFO\t2022-02-27 09:03:30 +0000\tmaster-replica-0\t\t 4/14 [=======>......................] - ETA: 12s - loss: 0.2232 - accuracy: 0.9192\b\b\b\b\b\b\b\b\b\b\b\b\b\b\b\b\b\b\b\b\b\b\b\b\b\b\b\b\b\b\b\b\b\b\b\b\b\b\b\b\b\b\b\b\b\b\b\b\b\b\b\b\b\b\b\b\b\b\b\b\b\b\b\b\b\b\b\b\b\b\b\b\b\b\b\b\b\b\b\b\b\b\b\n",
            "INFO\t2022-02-27 09:03:31 +0000\tmaster-replica-0\t\t 5/14 [=========>....................] - ETA: 11s - loss: 0.2177 - accuracy: 0.9215\b\b\b\b\b\b\b\b\b\b\b\b\b\b\b\b\b\b\b\b\b\b\b\b\b\b\b\b\b\b\b\b\b\b\b\b\b\b\b\b\b\b\b\b\b\b\b\b\b\b\b\b\b\b\b\b\b\b\b\b\b\b\b\b\b\b\b\b\b\b\b\b\b\b\b\b\b\b\b\b\b\b\b\n",
            "INFO\t2022-02-27 09:03:32 +0000\tmaster-replica-0\t\t 6/14 [===========>..................] - ETA: 10s - loss: 0.2137 - accuracy: 0.9230\b\b\b\b\b\b\b\b\b\b\b\b\b\b\b\b\b\b\b\b\b\b\b\b\b\b\b\b\b\b\b\b\b\b\b\b\b\b\b\b\b\b\b\b\b\b\b\b\b\b\b\b\b\b\b\b\b\b\b\b\b\b\b\b\b\b\b\b\b\b\b\b\b\b\b\b\b\b\b\b\b\b\b\n",
            "INFO\t2022-02-27 09:03:33 +0000\tmaster-replica-0\t\t 7/14 [==============>...............] - ETA: 8s - loss: 0.2138 - accuracy: 0.9230 \b\b\b\b\b\b\b\b\b\b\b\b\b\b\b\b\b\b\b\b\b\b\b\b\b\b\b\b\b\b\b\b\b\b\b\b\b\b\b\b\b\b\b\b\b\b\b\b\b\b\b\b\b\b\b\b\b\b\b\b\b\b\b\b\b\b\b\b\b\b\b\b\b\b\b\b\b\b\b\b\b\b\n",
            "INFO\t2022-02-27 09:03:35 +0000\tmaster-replica-0\t\t 8/14 [================>.............] - ETA: 7s - loss: 0.2105 - accuracy: 0.9247\b\b\b\b\b\b\b\b\b\b\b\b\b\b\b\b\b\b\b\b\b\b\b\b\b\b\b\b\b\b\b\b\b\b\b\b\b\b\b\b\b\b\b\b\b\b\b\b\b\b\b\b\b\b\b\b\b\b\b\b\b\b\b\b\b\b\b\b\b\b\b\b\b\b\b\b\b\b\b\b\b\b\n",
            "INFO\t2022-02-27 09:03:36 +0000\tmaster-replica-0\t\t 9/14 [==================>...........] - ETA: 6s - loss: 0.2071 - accuracy: 0.9264\b\b\b\b\b\b\b\b\b\b\b\b\b\b\b\b\b\b\b\b\b\b\b\b\b\b\b\b\b\b\b\b\b\b\b\b\b\b\b\b\b\b\b\b\b\b\b\b\b\b\b\b\b\b\b\b\b\b\b\b\b\b\b\b\b\b\b\b\b\b\b\b\b\b\b\b\b\b\b\b\b\b\n",
            "INFO\t2022-02-27 09:03:37 +0000\tmaster-replica-0\t\t10/14 [====================>.........] - ETA: 5s - loss: 0.2106 - accuracy: 0.9227\b\b\b\b\b\b\b\b\b\b\b\b\b\b\b\b\b\b\b\b\b\b\b\b\b\b\b\b\b\b\b\b\b\b\b\b\b\b\b\b\b\b\b\b\b\b\b\b\b\b\b\b\b\b\b\b\b\b\b\b\b\b\b\b\b\b\b\b\b\b\b\b\b\b\b\b\b\b\b\b\b\b\n",
            "INFO\t2022-02-27 09:03:38 +0000\tmaster-replica-0\t\t11/14 [======================>.......] - ETA: 3s - loss: 0.2292 - accuracy: 0.9155\b\b\b\b\b\b\b\b\b\b\b\b\b\b\b\b\b\b\b\b\b\b\b\b\b\b\b\b\b\b\b\b\b\b\b\b\b\b\b\b\b\b\b\b\b\b\b\b\b\b\b\b\b\b\b\b\b\b\b\b\b\b\b\b\b\b\b\b\b\b\b\b\b\b\b\b\b\b\b\b\b\b\n",
            "INFO\t2022-02-27 09:03:39 +0000\tmaster-replica-0\t\t12/14 [========================>.....] - ETA: 2s - loss: 0.2312 - accuracy: 0.9139\b\b\b\b\b\b\b\b\b\b\b\b\b\b\b\b\b\b\b\b\b\b\b\b\b\b\b\b\b\b\b\b\b\b\b\b\b\b\b\b\b\b\b\b\b\b\b\b\b\b\b\b\b\b\b\b\b\b\b\b\b\b\b\b\b\b\b\b\b\b\b\b\b\b\b\b\b\b\b\b\b\b\n",
            "INFO\t2022-02-27 09:03:41 +0000\tmaster-replica-0\t\t13/14 [==========================>...] - ETA: 1s - loss: 0.2330 - accuracy: 0.9133\b\b\b\b\b\b\b\b\b\b\b\b\b\b\b\b\b\b\b\b\b\b\b\b\b\b\b\b\b\b\b\b\b\b\b\b\b\b\b\b\b\b\b\b\b\b\b\b\b\b\b\b\b\b\b\b\b\b\b\b\b\b\b\b\b\b\b\b\b\b\b\b\b\b\b\b\b\b\b\b\b\b\n",
            "INFO\t2022-02-27 09:03:42 +0000\tmaster-replica-0\t\t14/14 [==============================] - ETA: 0s - loss: 0.2359 - accuracy: 0.9117\b\b\b\b\b\b\b\b\b\b\b\b\b\b\b\b\b\b\b\b\b\b\b\b\b\b\b\b\b\b\b\b\b\b\b\b\b\b\b\b\b\b\b\b\b\b\b\b\b\b\b\b\b\b\b\b\b\b\b\b\b\b\b\b\b\b\b\b\b\b\b\b\b\b\b\b\b\b\b\b\b\b\n",
            "INFO\t2022-02-27 09:03:42 +0000\tmaster-replica-0\t\t14/14 [==============================] - 19s 1s/step - loss: 0.2359 - accuracy: 0.9117 - val_loss: 0.3929 - val_accuracy: 0.8430 - lr: 5.0000e-04\n",
            "INFO\t2022-02-27 09:03:42 +0000\tmaster-replica-0\t\tEpoch 8/15\n",
            "INFO\t2022-02-27 09:03:45 +0000\tmaster-replica-0\t\t 1/14 [=>............................] - ETA: 16s - loss: 0.1881 - accuracy: 0.9307\b\b\b\b\b\b\b\b\b\b\b\b\b\b\b\b\b\b\b\b\b\b\b\b\b\b\b\b\b\b\b\b\b\b\b\b\b\b\b\b\b\b\b\b\b\b\b\b\b\b\b\b\b\b\b\b\b\b\b\b\b\b\b\b\b\b\b\b\b\b\b\b\b\b\b\b\b\b\b\b\b\b\b\n",
            "INFO\t2022-02-27 09:03:46 +0000\tmaster-replica-0\t\t 2/14 [===>..........................] - ETA: 15s - loss: 0.2040 - accuracy: 0.9287\b\b\b\b\b\b\b\b\b\b\b\b\b\b\b\b\b\b\b\b\b\b\b\b\b\b\b\b\b\b\b\b\b\b\b\b\b\b\b\b\b\b\b\b\b\b\b\b\b\b\b\b\b\b\b\b\b\b\b\b\b\b\b\b\b\b\b\b\b\b\b\b\b\b\b\b\b\b\b\b\b\b\b\n",
            "INFO\t2022-02-27 09:03:47 +0000\tmaster-replica-0\t\t 3/14 [=====>........................] - ETA: 14s - loss: 0.2246 - accuracy: 0.9154\b\b\b\b\b\b\b\b\b\b\b\b\b\b\b\b\b\b\b\b\b\b\b\b\b\b\b\b\b\b\b\b\b\b\b\b\b\b\b\b\b\b\b\b\b\b\b\b\b\b\b\b\b\b\b\b\b\b\b\b\b\b\b\b\b\b\b\b\b\b\b\b\b\b\b\b\b\b\b\b\b\b\b\n",
            "INFO\t2022-02-27 09:03:49 +0000\tmaster-replica-0\t\t 4/14 [=======>......................] - ETA: 12s - loss: 0.2263 - accuracy: 0.9155\b\b\b\b\b\b\b\b\b\b\b\b\b\b\b\b\b\b\b\b\b\b\b\b\b\b\b\b\b\b\b\b\b\b\b\b\b\b\b\b\b\b\b\b\b\b\b\b\b\b\b\b\b\b\b\b\b\b\b\b\b\b\b\b\b\b\b\b\b\b\b\b\b\b\b\b\b\b\b\b\b\b\b\n",
            "INFO\t2022-02-27 09:03:50 +0000\tmaster-replica-0\t\t 5/14 [=========>....................] - ETA: 11s - loss: 0.2187 - accuracy: 0.9199\b\b\b\b\b\b\b\b\b\b\b\b\b\b\b\b\b\b\b\b\b\b\b\b\b\b\b\b\b\b\b\b\b\b\b\b\b\b\b\b\b\b\b\b\b\b\b\b\b\b\b\b\b\b\b\b\b\b\b\b\b\b\b\b\b\b\b\b\b\b\b\b\b\b\b\b\b\b\b\b\b\b\b\n",
            "INFO\t2022-02-27 09:03:51 +0000\tmaster-replica-0\t\t 6/14 [===========>..................] - ETA: 10s - loss: 0.2193 - accuracy: 0.9152\b\b\b\b\b\b\b\b\b\b\b\b\b\b\b\b\b\b\b\b\b\b\b\b\b\b\b\b\b\b\b\b\b\b\b\b\b\b\b\b\b\b\b\b\b\b\b\b\b\b\b\b\b\b\b\b\b\b\b\b\b\b\b\b\b\b\b\b\b\b\b\b\b\b\b\b\b\b\b\b\b\b\b\n",
            "INFO\t2022-02-27 09:03:53 +0000\tmaster-replica-0\t\t 7/14 [==============>...............] - ETA: 9s - loss: 0.2266 - accuracy: 0.9103 \b\b\b\b\b\b\b\b\b\b\b\b\b\b\b\b\b\b\b\b\b\b\b\b\b\b\b\b\b\b\b\b\b\b\b\b\b\b\b\b\b\b\b\b\b\b\b\b\b\b\b\b\b\b\b\b\b\b\b\b\b\b\b\b\b\b\b\b\b\b\b\b\b\b\b\b\b\b\b\b\b\b\n",
            "INFO\t2022-02-27 09:03:54 +0000\tmaster-replica-0\t\t 8/14 [================>.............] - ETA: 7s - loss: 0.2213 - accuracy: 0.9137\b\b\b\b\b\b\b\b\b\b\b\b\b\b\b\b\b\b\b\b\b\b\b\b\b\b\b\b\b\b\b\b\b\b\b\b\b\b\b\b\b\b\b\b\b\b\b\b\b\b\b\b\b\b\b\b\b\b\b\b\b\b\b\b\b\b\b\b\b\b\b\b\b\b\b\b\b\b\b\b\b\b\n",
            "INFO\t2022-02-27 09:03:55 +0000\tmaster-replica-0\t\t 9/14 [==================>...........] - ETA: 6s - loss: 0.2190 - accuracy: 0.9143\b\b\b\b\b\b\b\b\b\b\b\b\b\b\b\b\b\b\b\b\b\b\b\b\b\b\b\b\b\b\b\b\b\b\b\b\b\b\b\b\b\b\b\b\b\b\b\b\b\b\b\b\b\b\b\b\b\b\b\b\b\b\b\b\b\b\b\b\b\b\b\b\b\b\b\b\b\b\b\b\b\b\n",
            "INFO\t2022-02-27 09:03:56 +0000\tmaster-replica-0\t\t10/14 [====================>.........] - ETA: 5s - loss: 0.2204 - accuracy: 0.9153\b\b\b\b\b\b\b\b\b\b\b\b\b\b\b\b\b\b\b\b\b\b\b\b\b\b\b\b\b\b\b\b\b\b\b\b\b\b\b\b\b\b\b\b\b\b\b\b\b\b\b\b\b\b\b\b\b\b\b\b\b\b\b\b\b\b\b\b\b\b\b\b\b\b\b\b\b\b\b\b\b\b\n",
            "INFO\t2022-02-27 09:03:58 +0000\tmaster-replica-0\t\t11/14 [======================>.......] - ETA: 3s - loss: 0.2196 - accuracy: 0.9159\b\b\b\b\b\b\b\b\b\b\b\b\b\b\b\b\b\b\b\b\b\b\b\b\b\b\b\b\b\b\b\b\b\b\b\b\b\b\b\b\b\b\b\b\b\b\b\b\b\b\b\b\b\b\b\b\b\b\b\b\b\b\b\b\b\b\b\b\b\b\b\b\b\b\b\b\b\b\b\b\b\b\n",
            "INFO\t2022-02-27 09:03:59 +0000\tmaster-replica-0\t\t12/14 [========================>.....] - ETA: 2s - loss: 0.2174 - accuracy: 0.9167\b\b\b\b\b\b\b\b\b\b\b\b\b\b\b\b\b\b\b\b\b\b\b\b\b\b\b\b\b\b\b\b\b\b\b\b\b\b\b\b\b\b\b\b\b\b\b\b\b\b\b\b\b\b\b\b\b\b\b\b\b\b\b\b\b\b\b\b\b\b\b\b\b\b\b\b\b\b\b\b\b\b\n",
            "INFO\t2022-02-27 09:04:00 +0000\tmaster-replica-0\t\t13/14 [==========================>...] - ETA: 1s - loss: 0.2136 - accuracy: 0.9186\b\b\b\b\b\b\b\b\b\b\b\b\b\b\b\b\b\b\b\b\b\b\b\b\b\b\b\b\b\b\b\b\b\b\b\b\b\b\b\b\b\b\b\b\b\b\b\b\b\b\b\b\b\b\b\b\b\b\b\b\b\b\b\b\b\b\b\b\b\b\b\b\b\b\b\b\b\b\b\b\b\b\n",
            "INFO\t2022-02-27 09:04:01 +0000\tmaster-replica-0\t\t14/14 [==============================] - ETA: 0s - loss: 0.2138 - accuracy: 0.9178\b\b\b\b\b\b\b\b\b\b\b\b\b\b\b\b\b\b\b\b\b\b\b\b\b\b\b\b\b\b\b\b\b\b\b\b\b\b\b\b\b\b\b\b\b\b\b\b\b\b\b\b\b\b\b\b\b\b\b\b\b\b\b\b\b\b\b\b\b\b\b\b\b\b\b\b\b\b\b\b\b\b\n",
            "INFO\t2022-02-27 09:04:01 +0000\tmaster-replica-0\t\t14/14 [==============================] - 19s 1s/step - loss: 0.2138 - accuracy: 0.9178 - val_loss: 0.3698 - val_accuracy: 0.8541 - lr: 5.0000e-04\n",
            "INFO\t2022-02-27 09:04:01 +0000\tmaster-replica-0\t\tEpoch 9/15\n",
            "INFO\t2022-02-27 09:04:04 +0000\tmaster-replica-0\t\t 1/14 [=>............................] - ETA: 16s - loss: 0.1665 - accuracy: 0.9424\b\b\b\b\b\b\b\b\b\b\b\b\b\b\b\b\b\b\b\b\b\b\b\b\b\b\b\b\b\b\b\b\b\b\b\b\b\b\b\b\b\b\b\b\b\b\b\b\b\b\b\b\b\b\b\b\b\b\b\b\b\b\b\b\b\b\b\b\b\b\b\b\b\b\b\b\b\b\b\b\b\b\b\n",
            "INFO\t2022-02-27 09:04:05 +0000\tmaster-replica-0\t\t 2/14 [===>..........................] - ETA: 15s - loss: 0.1675 - accuracy: 0.9419\b\b\b\b\b\b\b\b\b\b\b\b\b\b\b\b\b\b\b\b\b\b\b\b\b\b\b\b\b\b\b\b\b\b\b\b\b\b\b\b\b\b\b\b\b\b\b\b\b\b\b\b\b\b\b\b\b\b\b\b\b\b\b\b\b\b\b\b\b\b\b\b\b\b\b\b\b\b\b\b\b\b\b\n",
            "INFO\t2022-02-27 09:04:06 +0000\tmaster-replica-0\t\t 3/14 [=====>........................] - ETA: 14s - loss: 0.1653 - accuracy: 0.9437\b\b\b\b\b\b\b\b\b\b\b\b\b\b\b\b\b\b\b\b\b\b\b\b\b\b\b\b\b\b\b\b\b\b\b\b\b\b\b\b\b\b\b\b\b\b\b\b\b\b\b\b\b\b\b\b\b\b\b\b\b\b\b\b\b\b\b\b\b\b\b\b\b\b\b\b\b\b\b\b\b\b\b\n",
            "INFO\t2022-02-27 09:04:08 +0000\tmaster-replica-0\t\t 4/14 [=======>......................] - ETA: 12s - loss: 0.1614 - accuracy: 0.9463\b\b\b\b\b\b\b\b\b\b\b\b\b\b\b\b\b\b\b\b\b\b\b\b\b\b\b\b\b\b\b\b\b\b\b\b\b\b\b\b\b\b\b\b\b\b\b\b\b\b\b\b\b\b\b\b\b\b\b\b\b\b\b\b\b\b\b\b\b\b\b\b\b\b\b\b\b\b\b\b\b\b\b\n",
            "INFO\t2022-02-27 09:04:09 +0000\tmaster-replica-0\t\t 5/14 [=========>....................] - ETA: 11s - loss: 0.1608 - accuracy: 0.9461\b\b\b\b\b\b\b\b\b\b\b\b\b\b\b\b\b\b\b\b\b\b\b\b\b\b\b\b\b\b\b\b\b\b\b\b\b\b\b\b\b\b\b\b\b\b\b\b\b\b\b\b\b\b\b\b\b\b\b\b\b\b\b\b\b\b\b\b\b\b\b\b\b\b\b\b\b\b\b\b\b\b\b\n",
            "INFO\t2022-02-27 09:04:10 +0000\tmaster-replica-0\t\t 6/14 [===========>..................] - ETA: 10s - loss: 0.1586 - accuracy: 0.9476\b\b\b\b\b\b\b\b\b\b\b\b\b\b\b\b\b\b\b\b\b\b\b\b\b\b\b\b\b\b\b\b\b\b\b\b\b\b\b\b\b\b\b\b\b\b\b\b\b\b\b\b\b\b\b\b\b\b\b\b\b\b\b\b\b\b\b\b\b\b\b\b\b\b\b\b\b\b\b\b\b\b\b\n",
            "INFO\t2022-02-27 09:04:12 +0000\tmaster-replica-0\t\t 7/14 [==============>...............] - ETA: 8s - loss: 0.1549 - accuracy: 0.9496 \b\b\b\b\b\b\b\b\b\b\b\b\b\b\b\b\b\b\b\b\b\b\b\b\b\b\b\b\b\b\b\b\b\b\b\b\b\b\b\b\b\b\b\b\b\b\b\b\b\b\b\b\b\b\b\b\b\b\b\b\b\b\b\b\b\b\b\b\b\b\b\b\b\b\b\b\b\b\b\b\b\b\n",
            "INFO\t2022-02-27 09:04:13 +0000\tmaster-replica-0\t\t 8/14 [================>.............] - ETA: 7s - loss: 0.1553 - accuracy: 0.9480\b\b\b\b\b\b\b\b\b\b\b\b\b\b\b\b\b\b\b\b\b\b\b\b\b\b\b\b\b\b\b\b\b\b\b\b\b\b\b\b\b\b\b\b\b\b\b\b\b\b\b\b\b\b\b\b\b\b\b\b\b\b\b\b\b\b\b\b\b\b\b\b\b\b\b\b\b\b\b\b\b\b\n",
            "INFO\t2022-02-27 09:04:14 +0000\tmaster-replica-0\t\t 9/14 [==================>...........] - ETA: 6s - loss: 0.1536 - accuracy: 0.9480\b\b\b\b\b\b\b\b\b\b\b\b\b\b\b\b\b\b\b\b\b\b\b\b\b\b\b\b\b\b\b\b\b\b\b\b\b\b\b\b\b\b\b\b\b\b\b\b\b\b\b\b\b\b\b\b\b\b\b\b\b\b\b\b\b\b\b\b\b\b\b\b\b\b\b\b\b\b\b\b\b\b\n",
            "INFO\t2022-02-27 09:04:15 +0000\tmaster-replica-0\t\t10/14 [====================>.........] - ETA: 5s - loss: 0.1542 - accuracy: 0.9473\b\b\b\b\b\b\b\b\b\b\b\b\b\b\b\b\b\b\b\b\b\b\b\b\b\b\b\b\b\b\b\b\b\b\b\b\b\b\b\b\b\b\b\b\b\b\b\b\b\b\b\b\b\b\b\b\b\b\b\b\b\b\b\b\b\b\b\b\b\b\b\b\b\b\b\b\b\b\b\b\b\b\n",
            "INFO\t2022-02-27 09:04:17 +0000\tmaster-replica-0\t\t11/14 [======================>.......] - ETA: 3s - loss: 0.1540 - accuracy: 0.9467\b\b\b\b\b\b\b\b\b\b\b\b\b\b\b\b\b\b\b\b\b\b\b\b\b\b\b\b\b\b\b\b\b\b\b\b\b\b\b\b\b\b\b\b\b\b\b\b\b\b\b\b\b\b\b\b\b\b\b\b\b\b\b\b\b\b\b\b\b\b\b\b\b\b\b\b\b\b\b\b\b\b\n",
            "INFO\t2022-02-27 09:04:18 +0000\tmaster-replica-0\t\t12/14 [========================>.....] - ETA: 2s - loss: 0.1536 - accuracy: 0.9468\b\b\b\b\b\b\b\b\b\b\b\b\b\b\b\b\b\b\b\b\b\b\b\b\b\b\b\b\b\b\b\b\b\b\b\b\b\b\b\b\b\b\b\b\b\b\b\b\b\b\b\b\b\b\b\b\b\b\b\b\b\b\b\b\b\b\b\b\b\b\b\b\b\b\b\b\b\b\b\b\b\b\n",
            "INFO\t2022-02-27 09:04:19 +0000\tmaster-replica-0\t\t13/14 [==========================>...] - ETA: 1s - loss: 0.1542 - accuracy: 0.9463\b\b\b\b\b\b\b\b\b\b\b\b\b\b\b\b\b\b\b\b\b\b\b\b\b\b\b\b\b\b\b\b\b\b\b\b\b\b\b\b\b\b\b\b\b\b\b\b\b\b\b\b\b\b\b\b\b\b\b\b\b\b\b\b\b\b\b\b\b\b\b\b\b\b\b\b\b\b\b\b\b\b\n",
            "INFO\t2022-02-27 09:04:21 +0000\tmaster-replica-0\t\t14/14 [==============================] - ETA: 0s - loss: 0.1548 - accuracy: 0.9457\b\b\b\b\b\b\b\b\b\b\b\b\b\b\b\b\b\b\b\b\b\b\b\b\b\b\b\b\b\b\b\b\b\b\b\b\b\b\b\b\b\b\b\b\b\b\b\b\b\b\b\b\b\b\b\b\b\b\b\b\b\b\b\b\b\b\b\b\b\b\b\b\b\b\b\b\b\b\b\b\b\b\n",
            "INFO\t2022-02-27 09:04:21 +0000\tmaster-replica-0\t\t14/14 [==============================] - 20s 1s/step - loss: 0.1548 - accuracy: 0.9457 - val_loss: 0.3887 - val_accuracy: 0.8578 - lr: 5.0000e-04\n",
            "INFO\t2022-02-27 09:04:21 +0000\tmaster-replica-0\t\tEpoch 10/15\n",
            "INFO\t2022-02-27 09:04:23 +0000\tmaster-replica-0\t\t 1/14 [=>............................] - ETA: 16s - loss: 0.1515 - accuracy: 0.9482\b\b\b\b\b\b\b\b\b\b\b\b\b\b\b\b\b\b\b\b\b\b\b\b\b\b\b\b\b\b\b\b\b\b\b\b\b\b\b\b\b\b\b\b\b\b\b\b\b\b\b\b\b\b\b\b\b\b\b\b\b\b\b\b\b\b\b\b\b\b\b\b\b\b\b\b\b\b\b\b\b\b\b\n",
            "INFO\t2022-02-27 09:04:24 +0000\tmaster-replica-0\t\t 2/14 [===>..........................] - ETA: 9s - loss: 0.1490 - accuracy: 0.9502 \b\b\b\b\b\b\b\b\b\b\b\b\b\b\b\b\b\b\b\b\b\b\b\b\b\b\b\b\b\b\b\b\b\b\b\b\b\b\b\b\b\b\b\b\b\b\b\b\b\b\b\b\b\b\b\b\b\b\b\b\b\b\b\b\b\b\b\b\b\b\b\b\b\b\b\b\b\b\b\b\b\b\n",
            "INFO\t2022-02-27 09:04:26 +0000\tmaster-replica-0\t\t 3/14 [=====>........................] - ETA: 11s - loss: 0.1373 - accuracy: 0.9529\b\b\b\b\b\b\b\b\b\b\b\b\b\b\b\b\b\b\b\b\b\b\b\b\b\b\b\b\b\b\b\b\b\b\b\b\b\b\b\b\b\b\b\b\b\b\b\b\b\b\b\b\b\b\b\b\b\b\b\b\b\b\b\b\b\b\b\b\b\b\b\b\b\b\b\b\b\b\b\b\b\b\b\n",
            "INFO\t2022-02-27 09:04:27 +0000\tmaster-replica-0\t\t 4/14 [=======>......................] - ETA: 11s - loss: 0.1326 - accuracy: 0.9546\b\b\b\b\b\b\b\b\b\b\b\b\b\b\b\b\b\b\b\b\b\b\b\b\b\b\b\b\b\b\b\b\b\b\b\b\b\b\b\b\b\b\b\b\b\b\b\b\b\b\b\b\b\b\b\b\b\b\b\b\b\b\b\b\b\b\b\b\b\b\b\b\b\b\b\b\b\b\b\b\b\b\b\n",
            "INFO\t2022-02-27 09:04:28 +0000\tmaster-replica-0\t\t 5/14 [=========>....................] - ETA: 10s - loss: 0.1313 - accuracy: 0.9552\b\b\b\b\b\b\b\b\b\b\b\b\b\b\b\b\b\b\b\b\b\b\b\b\b\b\b\b\b\b\b\b\b\b\b\b\b\b\b\b\b\b\b\b\b\b\b\b\b\b\b\b\b\b\b\b\b\b\b\b\b\b\b\b\b\b\b\b\b\b\b\b\b\b\b\b\b\b\b\b\b\b\b\n",
            "INFO\t2022-02-27 09:04:29 +0000\tmaster-replica-0\t\t 6/14 [===========>..................] - ETA: 9s - loss: 0.1261 - accuracy: 0.9583 \b\b\b\b\b\b\b\b\b\b\b\b\b\b\b\b\b\b\b\b\b\b\b\b\b\b\b\b\b\b\b\b\b\b\b\b\b\b\b\b\b\b\b\b\b\b\b\b\b\b\b\b\b\b\b\b\b\b\b\b\b\b\b\b\b\b\b\b\b\b\b\b\b\b\b\b\b\b\b\b\b\b\n",
            "INFO\t2022-02-27 09:04:31 +0000\tmaster-replica-0\t\t 7/14 [==============>...............] - ETA: 8s - loss: 0.1280 - accuracy: 0.9572\b\b\b\b\b\b\b\b\b\b\b\b\b\b\b\b\b\b\b\b\b\b\b\b\b\b\b\b\b\b\b\b\b\b\b\b\b\b\b\b\b\b\b\b\b\b\b\b\b\b\b\b\b\b\b\b\b\b\b\b\b\b\b\b\b\b\b\b\b\b\b\b\b\b\b\b\b\b\b\b\b\b\n",
            "INFO\t2022-02-27 09:04:32 +0000\tmaster-replica-0\t\t 8/14 [================>.............] - ETA: 7s - loss: 0.1247 - accuracy: 0.9584\b\b\b\b\b\b\b\b\b\b\b\b\b\b\b\b\b\b\b\b\b\b\b\b\b\b\b\b\b\b\b\b\b\b\b\b\b\b\b\b\b\b\b\b\b\b\b\b\b\b\b\b\b\b\b\b\b\b\b\b\b\b\b\b\b\b\b\b\b\b\b\b\b\b\b\b\b\b\b\b\b\b\n",
            "INFO\t2022-02-27 09:04:33 +0000\tmaster-replica-0\t\t 9/14 [==================>...........] - ETA: 6s - loss: 0.1217 - accuracy: 0.9595\b\b\b\b\b\b\b\b\b\b\b\b\b\b\b\b\b\b\b\b\b\b\b\b\b\b\b\b\b\b\b\b\b\b\b\b\b\b\b\b\b\b\b\b\b\b\b\b\b\b\b\b\b\b\b\b\b\b\b\b\b\b\b\b\b\b\b\b\b\b\b\b\b\b\b\b\b\b\b\b\b\b\n",
            "INFO\t2022-02-27 09:04:35 +0000\tmaster-replica-0\t\t10/14 [====================>.........] - ETA: 4s - loss: 0.1200 - accuracy: 0.9603\b\b\b\b\b\b\b\b\b\b\b\b\b\b\b\b\b\b\b\b\b\b\b\b\b\b\b\b\b\b\b\b\b\b\b\b\b\b\b\b\b\b\b\b\b\b\b\b\b\b\b\b\b\b\b\b\b\b\b\b\b\b\b\b\b\b\b\b\b\b\b\b\b\b\b\b\b\b\b\b\b\b\n",
            "INFO\t2022-02-27 09:04:36 +0000\tmaster-replica-0\t\t11/14 [======================>.......] - ETA: 3s - loss: 0.1216 - accuracy: 0.9590\b\b\b\b\b\b\b\b\b\b\b\b\b\b\b\b\b\b\b\b\b\b\b\b\b\b\b\b\b\b\b\b\b\b\b\b\b\b\b\b\b\b\b\b\b\b\b\b\b\b\b\b\b\b\b\b\b\b\b\b\b\b\b\b\b\b\b\b\b\b\b\b\b\b\b\b\b\b\b\b\b\b\n",
            "INFO\t2022-02-27 09:04:37 +0000\tmaster-replica-0\t\t12/14 [========================>.....] - ETA: 2s - loss: 0.1207 - accuracy: 0.9591\b\b\b\b\b\b\b\b\b\b\b\b\b\b\b\b\b\b\b\b\b\b\b\b\b\b\b\b\b\b\b\b\b\b\b\b\b\b\b\b\b\b\b\b\b\b\b\b\b\b\b\b\b\b\b\b\b\b\b\b\b\b\b\b\b\b\b\b\b\b\b\b\b\b\b\b\b\b\b\b\b\b\n",
            "INFO\t2022-02-27 09:04:39 +0000\tmaster-replica-0\t\t13/14 [==========================>...] - ETA: 1s - loss: 0.1206 - accuracy: 0.9588\b\b\b\b\b\b\b\b\b\b\b\b\b\b\b\b\b\b\b\b\b\b\b\b\b\b\b\b\b\b\b\b\b\b\b\b\b\b\b\b\b\b\b\b\b\b\b\b\b\b\b\b\b\b\b\b\b\b\b\b\b\b\b\b\b\b\b\b\b\b\b\b\b\b\b\b\b\b\b\b\b\b\n",
            "INFO\t2022-02-27 09:04:40 +0000\tmaster-replica-0\t\t14/14 [==============================] - ETA: 0s - loss: 0.1204 - accuracy: 0.9588\b\b\b\b\b\b\b\b\b\b\b\b\b\b\b\b\b\b\b\b\b\b\b\b\b\b\b\b\b\b\b\b\b\b\b\b\b\b\b\b\b\b\b\b\b\b\b\b\b\b\b\b\b\b\b\b\b\b\b\b\b\b\b\b\b\b\b\b\b\b\b\b\b\b\b\b\b\b\b\b\b\b\n",
            "INFO\t2022-02-27 09:04:40 +0000\tmaster-replica-0\t\t14/14 [==============================] - 19s 1s/step - loss: 0.1204 - accuracy: 0.9588 - val_loss: 0.4000 - val_accuracy: 0.8644 - lr: 5.0000e-04\n",
            "INFO\t2022-02-27 09:04:40 +0000\tmaster-replica-0\t\tEpoch 11/15\n",
            "INFO\t2022-02-27 09:04:43 +0000\tmaster-replica-0\t\t 1/14 [=>............................] - ETA: 16s - loss: 0.1215 - accuracy: 0.9551\b\b\b\b\b\b\b\b\b\b\b\b\b\b\b\b\b\b\b\b\b\b\b\b\b\b\b\b\b\b\b\b\b\b\b\b\b\b\b\b\b\b\b\b\b\b\b\b\b\b\b\b\b\b\b\b\b\b\b\b\b\b\b\b\b\b\b\b\b\b\b\b\b\b\b\b\b\b\b\b\b\b\b\n",
            "INFO\t2022-02-27 09:04:44 +0000\tmaster-replica-0\t\t 2/14 [===>..........................] - ETA: 15s - loss: 0.1135 - accuracy: 0.9585\b\b\b\b\b\b\b\b\b\b\b\b\b\b\b\b\b\b\b\b\b\b\b\b\b\b\b\b\b\b\b\b\b\b\b\b\b\b\b\b\b\b\b\b\b\b\b\b\b\b\b\b\b\b\b\b\b\b\b\b\b\b\b\b\b\b\b\b\b\b\b\b\b\b\b\b\b\b\b\b\b\b\b\n",
            "INFO\t2022-02-27 09:04:45 +0000\tmaster-replica-0\t\t 3/14 [=====>........................] - ETA: 14s - loss: 0.1237 - accuracy: 0.9570\b\b\b\b\b\b\b\b\b\b\b\b\b\b\b\b\b\b\b\b\b\b\b\b\b\b\b\b\b\b\b\b\b\b\b\b\b\b\b\b\b\b\b\b\b\b\b\b\b\b\b\b\b\b\b\b\b\b\b\b\b\b\b\b\b\b\b\b\b\b\b\b\b\b\b\b\b\b\b\b\b\b\b\n",
            "INFO\t2022-02-27 09:04:46 +0000\tmaster-replica-0\t\t 4/14 [=======>......................] - ETA: 11s - loss: 0.1232 - accuracy: 0.9557\b\b\b\b\b\b\b\b\b\b\b\b\b\b\b\b\b\b\b\b\b\b\b\b\b\b\b\b\b\b\b\b\b\b\b\b\b\b\b\b\b\b\b\b\b\b\b\b\b\b\b\b\b\b\b\b\b\b\b\b\b\b\b\b\b\b\b\b\b\b\b\b\b\b\b\b\b\b\b\b\b\b\b\n",
            "INFO\t2022-02-27 09:04:47 +0000\tmaster-replica-0\t\t 5/14 [=========>....................] - ETA: 10s - loss: 0.1213 - accuracy: 0.9577\b\b\b\b\b\b\b\b\b\b\b\b\b\b\b\b\b\b\b\b\b\b\b\b\b\b\b\b\b\b\b\b\b\b\b\b\b\b\b\b\b\b\b\b\b\b\b\b\b\b\b\b\b\b\b\b\b\b\b\b\b\b\b\b\b\b\b\b\b\b\b\b\b\b\b\b\b\b\b\b\b\b\b\n",
            "INFO\t2022-02-27 09:04:49 +0000\tmaster-replica-0\t\t 6/14 [===========>..................] - ETA: 9s - loss: 0.1176 - accuracy: 0.9599 \b\b\b\b\b\b\b\b\b\b\b\b\b\b\b\b\b\b\b\b\b\b\b\b\b\b\b\b\b\b\b\b\b\b\b\b\b\b\b\b\b\b\b\b\b\b\b\b\b\b\b\b\b\b\b\b\b\b\b\b\b\b\b\b\b\b\b\b\b\b\b\b\b\b\b\b\b\b\b\b\b\b\n",
            "INFO\t2022-02-27 09:04:50 +0000\tmaster-replica-0\t\t 7/14 [==============>...............] - ETA: 8s - loss: 0.1141 - accuracy: 0.9610\b\b\b\b\b\b\b\b\b\b\b\b\b\b\b\b\b\b\b\b\b\b\b\b\b\b\b\b\b\b\b\b\b\b\b\b\b\b\b\b\b\b\b\b\b\b\b\b\b\b\b\b\b\b\b\b\b\b\b\b\b\b\b\b\b\b\b\b\b\b\b\b\b\b\b\b\b\b\b\b\b\b\n",
            "INFO\t2022-02-27 09:04:51 +0000\tmaster-replica-0\t\t 8/14 [================>.............] - ETA: 7s - loss: 0.1122 - accuracy: 0.9624\b\b\b\b\b\b\b\b\b\b\b\b\b\b\b\b\b\b\b\b\b\b\b\b\b\b\b\b\b\b\b\b\b\b\b\b\b\b\b\b\b\b\b\b\b\b\b\b\b\b\b\b\b\b\b\b\b\b\b\b\b\b\b\b\b\b\b\b\b\b\b\b\b\b\b\b\b\b\b\b\b\b\n",
            "INFO\t2022-02-27 09:04:53 +0000\tmaster-replica-0\t\t 9/14 [==================>...........] - ETA: 6s - loss: 0.1115 - accuracy: 0.9620\b\b\b\b\b\b\b\b\b\b\b\b\b\b\b\b\b\b\b\b\b\b\b\b\b\b\b\b\b\b\b\b\b\b\b\b\b\b\b\b\b\b\b\b\b\b\b\b\b\b\b\b\b\b\b\b\b\b\b\b\b\b\b\b\b\b\b\b\b\b\b\b\b\b\b\b\b\b\b\b\b\b\n",
            "INFO\t2022-02-27 09:04:54 +0000\tmaster-replica-0\t\t10/14 [====================>.........] - ETA: 4s - loss: 0.1095 - accuracy: 0.9626\b\b\b\b\b\b\b\b\b\b\b\b\b\b\b\b\b\b\b\b\b\b\b\b\b\b\b\b\b\b\b\b\b\b\b\b\b\b\b\b\b\b\b\b\b\b\b\b\b\b\b\b\b\b\b\b\b\b\b\b\b\b\b\b\b\b\b\b\b\b\b\b\b\b\b\b\b\b\b\b\b\b\n",
            "INFO\t2022-02-27 09:04:55 +0000\tmaster-replica-0\t\t11/14 [======================>.......] - ETA: 3s - loss: 0.1105 - accuracy: 0.9621\b\b\b\b\b\b\b\b\b\b\b\b\b\b\b\b\b\b\b\b\b\b\b\b\b\b\b\b\b\b\b\b\b\b\b\b\b\b\b\b\b\b\b\b\b\b\b\b\b\b\b\b\b\b\b\b\b\b\b\b\b\b\b\b\b\b\b\b\b\b\b\b\b\b\b\b\b\b\b\b\b\b\n",
            "INFO\t2022-02-27 09:04:56 +0000\tmaster-replica-0\t\t12/14 [========================>.....] - ETA: 2s - loss: 0.1092 - accuracy: 0.9626\b\b\b\b\b\b\b\b\b\b\b\b\b\b\b\b\b\b\b\b\b\b\b\b\b\b\b\b\b\b\b\b\b\b\b\b\b\b\b\b\b\b\b\b\b\b\b\b\b\b\b\b\b\b\b\b\b\b\b\b\b\b\b\b\b\b\b\b\b\b\b\b\b\b\b\b\b\b\b\b\b\b\n",
            "INFO\t2022-02-27 09:04:58 +0000\tmaster-replica-0\t\t13/14 [==========================>...] - ETA: 1s - loss: 0.1083 - accuracy: 0.9632\b\b\b\b\b\b\b\b\b\b\b\b\b\b\b\b\b\b\b\b\b\b\b\b\b\b\b\b\b\b\b\b\b\b\b\b\b\b\b\b\b\b\b\b\b\b\b\b\b\b\b\b\b\b\b\b\b\b\b\b\b\b\b\b\b\b\b\b\b\b\b\b\b\b\b\b\b\b\b\b\b\b\n",
            "INFO\t2022-02-27 09:04:59 +0000\tmaster-replica-0\t\t14/14 [==============================] - ETA: 0s - loss: 0.1072 - accuracy: 0.9636\b\b\b\b\b\b\b\b\b\b\b\b\b\b\b\b\b\b\b\b\b\b\b\b\b\b\b\b\b\b\b\b\b\b\b\b\b\b\b\b\b\b\b\b\b\b\b\b\b\b\b\b\b\b\b\b\b\b\b\b\b\b\b\b\b\b\b\b\b\b\b\b\b\b\b\b\b\b\b\b\b\b\n",
            "INFO\t2022-02-27 09:04:59 +0000\tmaster-replica-0\t\t14/14 [==============================] - 19s 1s/step - loss: 0.1072 - accuracy: 0.9636 - val_loss: 0.4992 - val_accuracy: 0.8475 - lr: 5.0000e-04\n",
            "INFO\t2022-02-27 09:04:59 +0000\tmaster-replica-0\t\tEpoch 12/15\n",
            "INFO\t2022-02-27 09:05:02 +0000\tmaster-replica-0\t\t 1/14 [=>............................] - ETA: 16s - loss: 0.0735 - accuracy: 0.9756\b\b\b\b\b\b\b\b\b\b\b\b\b\b\b\b\b\b\b\b\b\b\b\b\b\b\b\b\b\b\b\b\b\b\b\b\b\b\b\b\b\b\b\b\b\b\b\b\b\b\b\b\b\b\b\b\b\b\b\b\b\b\b\b\b\b\b\b\b\b\b\b\b\b\b\b\b\b\b\b\b\b\b\n",
            "INFO\t2022-02-27 09:05:03 +0000\tmaster-replica-0\t\t 2/14 [===>..........................] - ETA: 15s - loss: 0.0849 - accuracy: 0.9707\b\b\b\b\b\b\b\b\b\b\b\b\b\b\b\b\b\b\b\b\b\b\b\b\b\b\b\b\b\b\b\b\b\b\b\b\b\b\b\b\b\b\b\b\b\b\b\b\b\b\b\b\b\b\b\b\b\b\b\b\b\b\b\b\b\b\b\b\b\b\b\b\b\b\b\b\b\b\b\b\b\b\b\n",
            "INFO\t2022-02-27 09:05:04 +0000\tmaster-replica-0\t\t 3/14 [=====>........................] - ETA: 14s - loss: 0.0856 - accuracy: 0.9697\b\b\b\b\b\b\b\b\b\b\b\b\b\b\b\b\b\b\b\b\b\b\b\b\b\b\b\b\b\b\b\b\b\b\b\b\b\b\b\b\b\b\b\b\b\b\b\b\b\b\b\b\b\b\b\b\b\b\b\b\b\b\b\b\b\b\b\b\b\b\b\b\b\b\b\b\b\b\b\b\b\b\b\n",
            "INFO\t2022-02-27 09:05:06 +0000\tmaster-replica-0\t\t 4/14 [=======>......................] - ETA: 12s - loss: 0.0906 - accuracy: 0.9658\b\b\b\b\b\b\b\b\b\b\b\b\b\b\b\b\b\b\b\b\b\b\b\b\b\b\b\b\b\b\b\b\b\b\b\b\b\b\b\b\b\b\b\b\b\b\b\b\b\b\b\b\b\b\b\b\b\b\b\b\b\b\b\b\b\b\b\b\b\b\b\b\b\b\b\b\b\b\b\b\b\b\b\n",
            "INFO\t2022-02-27 09:05:07 +0000\tmaster-replica-0\t\t 5/14 [=========>....................] - ETA: 11s - loss: 0.0901 - accuracy: 0.9666\b\b\b\b\b\b\b\b\b\b\b\b\b\b\b\b\b\b\b\b\b\b\b\b\b\b\b\b\b\b\b\b\b\b\b\b\b\b\b\b\b\b\b\b\b\b\b\b\b\b\b\b\b\b\b\b\b\b\b\b\b\b\b\b\b\b\b\b\b\b\b\b\b\b\b\b\b\b\b\b\b\b\b\n",
            "INFO\t2022-02-27 09:05:08 +0000\tmaster-replica-0\t\t 6/14 [===========>..................] - ETA: 9s - loss: 0.0903 - accuracy: 0.9656 \b\b\b\b\b\b\b\b\b\b\b\b\b\b\b\b\b\b\b\b\b\b\b\b\b\b\b\b\b\b\b\b\b\b\b\b\b\b\b\b\b\b\b\b\b\b\b\b\b\b\b\b\b\b\b\b\b\b\b\b\b\b\b\b\b\b\b\b\b\b\b\b\b\b\b\b\b\b\b\b\b\b\n",
            "INFO\t2022-02-27 09:05:09 +0000\tmaster-replica-0\t\t 7/14 [==============>...............] - ETA: 8s - loss: 0.0900 - accuracy: 0.9665\b\b\b\b\b\b\b\b\b\b\b\b\b\b\b\b\b\b\b\b\b\b\b\b\b\b\b\b\b\b\b\b\b\b\b\b\b\b\b\b\b\b\b\b\b\b\b\b\b\b\b\b\b\b\b\b\b\b\b\b\b\b\b\b\b\b\b\b\b\b\b\b\b\b\b\b\b\b\b\b\b\b\n",
            "INFO\t2022-02-27 09:05:10 +0000\tmaster-replica-0\t\t 8/14 [================>.............] - ETA: 7s - loss: 0.0902 - accuracy: 0.9663\b\b\b\b\b\b\b\b\b\b\b\b\b\b\b\b\b\b\b\b\b\b\b\b\b\b\b\b\b\b\b\b\b\b\b\b\b\b\b\b\b\b\b\b\b\b\b\b\b\b\b\b\b\b\b\b\b\b\b\b\b\b\b\b\b\b\b\b\b\b\b\b\b\b\b\b\b\b\b\b\b\b\n",
            "INFO\t2022-02-27 09:05:12 +0000\tmaster-replica-0\t\t 9/14 [==================>...........] - ETA: 6s - loss: 0.0900 - accuracy: 0.9659\b\b\b\b\b\b\b\b\b\b\b\b\b\b\b\b\b\b\b\b\b\b\b\b\b\b\b\b\b\b\b\b\b\b\b\b\b\b\b\b\b\b\b\b\b\b\b\b\b\b\b\b\b\b\b\b\b\b\b\b\b\b\b\b\b\b\b\b\b\b\b\b\b\b\b\b\b\b\b\b\b\b\n",
            "INFO\t2022-02-27 09:05:13 +0000\tmaster-replica-0\t\t10/14 [====================>.........] - ETA: 4s - loss: 0.0890 - accuracy: 0.9672\b\b\b\b\b\b\b\b\b\b\b\b\b\b\b\b\b\b\b\b\b\b\b\b\b\b\b\b\b\b\b\b\b\b\b\b\b\b\b\b\b\b\b\b\b\b\b\b\b\b\b\b\b\b\b\b\b\b\b\b\b\b\b\b\b\b\b\b\b\b\b\b\b\b\b\b\b\b\b\b\b\b\n",
            "INFO\t2022-02-27 09:05:14 +0000\tmaster-replica-0\t\t11/14 [======================>.......] - ETA: 3s - loss: 0.0898 - accuracy: 0.9674\b\b\b\b\b\b\b\b\b\b\b\b\b\b\b\b\b\b\b\b\b\b\b\b\b\b\b\b\b\b\b\b\b\b\b\b\b\b\b\b\b\b\b\b\b\b\b\b\b\b\b\b\b\b\b\b\b\b\b\b\b\b\b\b\b\b\b\b\b\b\b\b\b\b\b\b\b\b\b\b\b\b\n",
            "INFO\t2022-02-27 09:05:16 +0000\tmaster-replica-0\t\t12/14 [========================>.....] - ETA: 2s - loss: 0.0886 - accuracy: 0.9684\b\b\b\b\b\b\b\b\b\b\b\b\b\b\b\b\b\b\b\b\b\b\b\b\b\b\b\b\b\b\b\b\b\b\b\b\b\b\b\b\b\b\b\b\b\b\b\b\b\b\b\b\b\b\b\b\b\b\b\b\b\b\b\b\b\b\b\b\b\b\b\b\b\b\b\b\b\b\b\b\b\b\n",
            "INFO\t2022-02-27 09:05:17 +0000\tmaster-replica-0\t\t13/14 [==========================>...] - ETA: 1s - loss: 0.0889 - accuracy: 0.9682\b\b\b\b\b\b\b\b\b\b\b\b\b\b\b\b\b\b\b\b\b\b\b\b\b\b\b\b\b\b\b\b\b\b\b\b\b\b\b\b\b\b\b\b\b\b\b\b\b\b\b\b\b\b\b\b\b\b\b\b\b\b\b\b\b\b\b\b\b\b\b\b\b\b\b\b\b\b\b\b\b\b\n",
            "INFO\t2022-02-27 09:05:18 +0000\tmaster-replica-0\t\t14/14 [==============================] - ETA: 0s - loss: 0.0880 - accuracy: 0.9685\b\b\b\b\b\b\b\b\b\b\b\b\b\b\b\b\b\b\b\b\b\b\b\b\b\b\b\b\b\b\b\b\b\b\b\b\b\b\b\b\b\b\b\b\b\b\b\b\b\b\b\b\b\b\b\b\b\b\b\b\b\b\b\b\b\b\b\b\b\b\b\b\b\b\b\b\b\b\b\b\b\b\n",
            "INFO\t2022-02-27 09:05:18 +0000\tmaster-replica-0\t\t14/14 [==============================] - 19s 1s/step - loss: 0.0880 - accuracy: 0.9685 - val_loss: 0.4589 - val_accuracy: 0.8686 - lr: 5.0000e-04\n",
            "INFO\t2022-02-27 09:05:18 +0000\tmaster-replica-0\t\tEpoch 13/15\n",
            "INFO\t2022-02-27 09:05:21 +0000\tmaster-replica-0\t\t 1/14 [=>............................] - ETA: 16s - loss: 0.0816 - accuracy: 0.9717\b\b\b\b\b\b\b\b\b\b\b\b\b\b\b\b\b\b\b\b\b\b\b\b\b\b\b\b\b\b\b\b\b\b\b\b\b\b\b\b\b\b\b\b\b\b\b\b\b\b\b\b\b\b\b\b\b\b\b\b\b\b\b\b\b\b\b\b\b\b\b\b\b\b\b\b\b\b\b\b\b\b\b\n",
            "INFO\t2022-02-27 09:05:22 +0000\tmaster-replica-0\t\t 2/14 [===>..........................] - ETA: 15s - loss: 0.0796 - accuracy: 0.9712\b\b\b\b\b\b\b\b\b\b\b\b\b\b\b\b\b\b\b\b\b\b\b\b\b\b\b\b\b\b\b\b\b\b\b\b\b\b\b\b\b\b\b\b\b\b\b\b\b\b\b\b\b\b\b\b\b\b\b\b\b\b\b\b\b\b\b\b\b\b\b\b\b\b\b\b\b\b\b\b\b\b\b\n",
            "INFO\t2022-02-27 09:05:24 +0000\tmaster-replica-0\t\t 3/14 [=====>........................] - ETA: 14s - loss: 0.0824 - accuracy: 0.9714\b\b\b\b\b\b\b\b\b\b\b\b\b\b\b\b\b\b\b\b\b\b\b\b\b\b\b\b\b\b\b\b\b\b\b\b\b\b\b\b\b\b\b\b\b\b\b\b\b\b\b\b\b\b\b\b\b\b\b\b\b\b\b\b\b\b\b\b\b\b\b\b\b\b\b\b\b\b\b\b\b\b\b\n",
            "INFO\t2022-02-27 09:05:25 +0000\tmaster-replica-0\t\t 4/14 [=======>......................] - ETA: 12s - loss: 0.0769 - accuracy: 0.9736\b\b\b\b\b\b\b\b\b\b\b\b\b\b\b\b\b\b\b\b\b\b\b\b\b\b\b\b\b\b\b\b\b\b\b\b\b\b\b\b\b\b\b\b\b\b\b\b\b\b\b\b\b\b\b\b\b\b\b\b\b\b\b\b\b\b\b\b\b\b\b\b\b\b\b\b\b\b\b\b\b\b\b\n",
            "INFO\t2022-02-27 09:05:26 +0000\tmaster-replica-0\t\t 5/14 [=========>....................] - ETA: 11s - loss: 0.0796 - accuracy: 0.9727\b\b\b\b\b\b\b\b\b\b\b\b\b\b\b\b\b\b\b\b\b\b\b\b\b\b\b\b\b\b\b\b\b\b\b\b\b\b\b\b\b\b\b\b\b\b\b\b\b\b\b\b\b\b\b\b\b\b\b\b\b\b\b\b\b\b\b\b\b\b\b\b\b\b\b\b\b\b\b\b\b\b\b\n",
            "INFO\t2022-02-27 09:05:27 +0000\tmaster-replica-0\t\t 6/14 [===========>..................] - ETA: 10s - loss: 0.0812 - accuracy: 0.9723\b\b\b\b\b\b\b\b\b\b\b\b\b\b\b\b\b\b\b\b\b\b\b\b\b\b\b\b\b\b\b\b\b\b\b\b\b\b\b\b\b\b\b\b\b\b\b\b\b\b\b\b\b\b\b\b\b\b\b\b\b\b\b\b\b\b\b\b\b\b\b\b\b\b\b\b\b\b\b\b\b\b\b\n",
            "INFO\t2022-02-27 09:05:28 +0000\tmaster-replica-0\t\t 7/14 [==============>...............] - ETA: 9s - loss: 0.0822 - accuracy: 0.9717 \b\b\b\b\b\b\b\b\b\b\b\b\b\b\b\b\b\b\b\b\b\b\b\b\b\b\b\b\b\b\b\b\b\b\b\b\b\b\b\b\b\b\b\b\b\b\b\b\b\b\b\b\b\b\b\b\b\b\b\b\b\b\b\b\b\b\b\b\b\b\b\b\b\b\b\b\b\b\b\b\b\b\n",
            "INFO\t2022-02-27 09:05:30 +0000\tmaster-replica-0\t\t 8/14 [================>.............] - ETA: 7s - loss: 0.0820 - accuracy: 0.9713\b\b\b\b\b\b\b\b\b\b\b\b\b\b\b\b\b\b\b\b\b\b\b\b\b\b\b\b\b\b\b\b\b\b\b\b\b\b\b\b\b\b\b\b\b\b\b\b\b\b\b\b\b\b\b\b\b\b\b\b\b\b\b\b\b\b\b\b\b\b\b\b\b\b\b\b\b\b\b\b\b\b\n",
            "INFO\t2022-02-27 09:05:31 +0000\tmaster-replica-0\t\t 9/14 [==================>...........] - ETA: 6s - loss: 0.0809 - accuracy: 0.9713\b\b\b\b\b\b\b\b\b\b\b\b\b\b\b\b\b\b\b\b\b\b\b\b\b\b\b\b\b\b\b\b\b\b\b\b\b\b\b\b\b\b\b\b\b\b\b\b\b\b\b\b\b\b\b\b\b\b\b\b\b\b\b\b\b\b\b\b\b\b\b\b\b\b\b\b\b\b\b\b\b\b\n",
            "INFO\t2022-02-27 09:05:32 +0000\tmaster-replica-0\t\t10/14 [====================>.........] - ETA: 4s - loss: 0.0782 - accuracy: 0.9726\b\b\b\b\b\b\b\b\b\b\b\b\b\b\b\b\b\b\b\b\b\b\b\b\b\b\b\b\b\b\b\b\b\b\b\b\b\b\b\b\b\b\b\b\b\b\b\b\b\b\b\b\b\b\b\b\b\b\b\b\b\b\b\b\b\b\b\b\b\b\b\b\b\b\b\b\b\b\b\b\b\b\n",
            "INFO\t2022-02-27 09:05:33 +0000\tmaster-replica-0\t\t11/14 [======================>.......] - ETA: 3s - loss: 0.0795 - accuracy: 0.9722\b\b\b\b\b\b\b\b\b\b\b\b\b\b\b\b\b\b\b\b\b\b\b\b\b\b\b\b\b\b\b\b\b\b\b\b\b\b\b\b\b\b\b\b\b\b\b\b\b\b\b\b\b\b\b\b\b\b\b\b\b\b\b\b\b\b\b\b\b\b\b\b\b\b\b\b\b\b\b\b\b\b\n",
            "INFO\t2022-02-27 09:05:35 +0000\tmaster-replica-0\t\t12/14 [========================>.....] - ETA: 2s - loss: 0.0794 - accuracy: 0.9719\b\b\b\b\b\b\b\b\b\b\b\b\b\b\b\b\b\b\b\b\b\b\b\b\b\b\b\b\b\b\b\b\b\b\b\b\b\b\b\b\b\b\b\b\b\b\b\b\b\b\b\b\b\b\b\b\b\b\b\b\b\b\b\b\b\b\b\b\b\b\b\b\b\b\b\b\b\b\b\b\b\b\n",
            "INFO\t2022-02-27 09:05:36 +0000\tmaster-replica-0\t\t13/14 [==========================>...] - ETA: 1s - loss: 0.0803 - accuracy: 0.9716\b\b\b\b\b\b\b\b\b\b\b\b\b\b\b\b\b\b\b\b\b\b\b\b\b\b\b\b\b\b\b\b\b\b\b\b\b\b\b\b\b\b\b\b\b\b\b\b\b\b\b\b\b\b\b\b\b\b\b\b\b\b\b\b\b\b\b\b\b\b\b\b\b\b\b\b\b\b\b\b\b\b\n",
            "INFO\t2022-02-27 09:05:38 +0000\tmaster-replica-0\t\t14/14 [==============================] - ETA: 0s - loss: 0.0796 - accuracy: 0.9719\b\b\b\b\b\b\b\b\b\b\b\b\b\b\b\b\b\b\b\b\b\b\b\b\b\b\b\b\b\b\b\b\b\b\b\b\b\b\b\b\b\b\b\b\b\b\b\b\b\b\b\b\b\b\b\b\b\b\b\b\b\b\b\b\b\b\b\b\b\b\b\b\b\b\b\b\b\b\b\b\b\b\n",
            "INFO\t2022-02-27 09:05:38 +0000\tmaster-replica-0\t\t---- Evaluating model ----\n",
            "INFO\t2022-02-27 09:05:38 +0000\tmaster-replica-0\t\t14/14 [==============================] - 19s 1s/step - loss: 0.0796 - accuracy: 0.9719 - val_loss: 0.4518 - val_accuracy: 0.8799 - lr: 5.0000e-04\n",
            "INFO\t2022-02-27 09:05:38 +0000\tmaster-replica-0\t\t1/4 [======>.......................] - ETA: 1s - loss: 0.4365 - accuracy: 0.7949\b\b\b\b\b\b\b\b\b\b\b\b\b\b\b\b\b\b\b\b\b\b\b\b\b\b\b\b\b\b\b\b\b\b\b\b\b\b\b\b\b\b\b\b\b\b\b\b\b\b\b\b\b\b\b\b\b\b\b\b\b\b\b\b\b\b\b\b\b\b\b\b\b\b\b\b\b\b\b\b\n",
            "INFO\t2022-02-27 09:05:39 +0000\tmaster-replica-0\t\t2/4 [==============>...............] - ETA: 0s - loss: 0.5097 - accuracy: 0.7930\b\b\b\b\b\b\b\b\b\b\b\b\b\b\b\b\b\b\b\b\b\b\b\b\b\b\b\b\b\b\b\b\b\b\b\b\b\b\b\b\b\b\b\b\b\b\b\b\b\b\b\b\b\b\b\b\b\b\b\b\b\b\b\b\b\b\b\b\b\b\b\b\b\b\b\b\b\b\b\b\n",
            "INFO\t2022-02-27 09:05:39 +0000\tmaster-replica-0\t\t3/4 [=====================>........] - ETA: 0s - loss: 0.4656 - accuracy: 0.8128\b\b\b\b\b\b\b\b\b\b\b\b\b\b\b\b\b\b\b\b\b\b\b\b\b\b\b\b\b\b\b\b\b\b\b\b\b\b\b\b\b\b\b\b\b\b\b\b\b\b\b\b\b\b\b\b\b\b\b\b\b\b\b\b\b\b\b\b\b\b\b\b\b\b\b\b\b\b\b\b\n",
            "INFO\t2022-02-27 09:05:39 +0000\tmaster-replica-0\t\t4/4 [==============================] - ETA: 0s - loss: 0.3698 - accuracy: 0.8541\b\b\b\b\b\b\b\b\b\b\b\b\b\b\b\b\b\b\b\b\b\b\b\b\b\b\b\b\b\b\b\b\b\b\b\b\b\b\b\b\b\b\b\b\b\b\b\b\b\b\b\b\b\b\b\b\b\b\b\b\b\b\b\b\b\b\b\b\b\b\b\b\b\b\b\b\b\b\b\b\n",
            "INFO\t2022-02-27 09:05:39 +0000\tmaster-replica-0\t\t4/4 [==============================] - 2s 394ms/step - loss: 0.3698 - accuracy: 0.8541\n",
            "INFO\t2022-02-27 09:05:39 +0000\tmaster-replica-0\t\tACCURACY: 0.8540567755699158\n",
            "INFO\t2022-02-27 09:05:39 +0000\tmaster-replica-0\t\tLOSS: 0.3697882294654846\n",
            "INFO\t2022-02-27 09:05:39 +0000\tmaster-replica-0\t\t---- Saving models ----\n",
            "INFO\t2022-02-27 09:05:41 +0000\tmaster-replica-0\t\tModule completed; cleaning up.\n",
            "INFO\t2022-02-27 09:05:41 +0000\tmaster-replica-0\t\tClean up finished.\n",
            "INFO\t2022-02-27 09:05:41 +0000\tmaster-replica-0\t\tTask completed successfully.\n",
            "INFO\t2022-02-27 09:08:36 +0000\tservice\t\tJob completed successfully.\n",
            "endTime: '2022-02-27T09:08:36'\n",
            "jobId: troll_detection_batch_20220227_085540\n",
            "startTime: '2022-02-27T09:00:33'\n",
            "state: SUCCEEDED\n"
          ]
        }
      ]
    },
    {
      "cell_type": "code",
      "source": [
        "# Visualización de resultados\n",
        "! gsutil ls -al $GCP_WORK_DIR/model/\n",
        "! gsutil ls -al $GCP_WORK_DIR/trainer/"
      ],
      "metadata": {
        "colab": {
          "base_uri": "https://localhost:8080/"
        },
        "id": "I64ozxUy0YH6",
        "outputId": "ccf4af3c-a2ff-4b57-d6bb-7e1c80c6dde2"
      },
      "execution_count": null,
      "outputs": [
        {
          "output_type": "stream",
          "name": "stdout",
          "text": [
            "         0  2022-02-27T09:01:20Z  gs://twitch-practice-keepcoding-main-bucket/model/#1645952480891830  metageneration=1\n",
            "  60320336  2022-02-27T09:05:40Z  gs://twitch-practice-keepcoding-main-bucket/model/model.h5#1645952740707043  metageneration=1\n",
            "    980092  2022-02-27T09:05:39Z  gs://twitch-practice-keepcoding-main-bucket/model/tokenizer.pkl#1645952739904905  metageneration=1\n",
            "TOTAL: 3 objects, 61300428 bytes (58.46 MiB)\n",
            "                                 gs://twitch-practice-keepcoding-main-bucket/trainer/packages/\n"
          ]
        }
      ]
    },
    {
      "cell_type": "markdown",
      "metadata": {
        "id": "wu5SOWsy9886"
      },
      "source": [
        "### Validación predict en Dataflow (0.25 puntos)\n",
        "\n",
        "Con el comando mostrado a continuación se valida la predicción correcta de los datos de test usando los modelos generados en el comando anterior."
      ]
    },
    {
      "cell_type": "markdown",
      "metadata": {
        "id": "OXoHCgMg-LUD"
      },
      "source": [
        "Generamos un timestamp para el almacenamiento de las inferencias en Google Cloud Storage."
      ]
    },
    {
      "cell_type": "code",
      "metadata": {
        "id": "fmcetQtnQjVo"
      },
      "source": [
        "from datetime import datetime\n",
        "\n",
        "# current date and time\n",
        "TIMESTAMP = datetime.now().strftime('%Y-%m-%d_%H-%M-%S')"
      ],
      "execution_count": null,
      "outputs": []
    },
    {
      "cell_type": "code",
      "metadata": {
        "id": "zT_NxsKDQlxD",
        "colab": {
          "base_uri": "https://localhost:8080/"
        },
        "outputId": "d8bbc28e-749d-4c70-989f-21c1ad533e24"
      },
      "source": [
        "# For using sample models: --model-dir gs://$BUCKET_NAME/models/\n",
        "! python3 predict.py \\\n",
        "  --work-dir $GCP_WORK_DIR \\\n",
        "  --model-dir $GCP_WORK_DIR/model/ \\\n",
        "  batch \\\n",
        "  --project $PROJECT_ID \\\n",
        "  --region $GCP_REGION \\\n",
        "  --runner DataflowRunner \\\n",
        "  --temp_location $GCP_WORK_DIR/beam-temp \\\n",
        "  --setup_file ./setup.py \\\n",
        "  --inputs-dir $GCP_WORK_DIR/transformed_data/test/part* \\\n",
        "  --outputs-dir $GCP_WORK_DIR/predictions/$TIMESTAMP"
      ],
      "execution_count": null,
      "outputs": [
        {
          "output_type": "stream",
          "name": "stdout",
          "text": [
            "Namespace(inputs_dir='gs://twitch-practice-keepcoding-main-bucket/transformed_data/test/part*', model_dir='gs://twitch-practice-keepcoding-main-bucket/model/', outputs_dir='gs://twitch-practice-keepcoding-main-bucket/predictions/2022-02-27_09-11-13', verb='batch', work_dir='gs://twitch-practice-keepcoding-main-bucket')\n",
            "warning: sdist: standard file not found: should have one of README, README.rst, README.txt, README.md\n",
            "\n",
            "warning: check: missing required meta-data: url\n",
            "\n",
            "warning: check: missing meta-data: either (author and author_email) or (maintainer and maintainer_email) must be supplied\n",
            "\n",
            "WARNING:root:Make sure that locally built Python SDK docker image has Python 3.7 interpreter.\n",
            "Traceback (most recent call last):\n",
            "  File \"predict.py\", line 167, in <module>\n",
            "    run(args.model_dir, source, sink, beam_options)\n",
            "  File \"predict.py\", line 106, in run\n",
            "    | \"Write predictions\" >> sink\n",
            "  File \"/usr/local/lib/python3.7/dist-packages/apache_beam/pipeline.py\", line 556, in __exit__\n",
            "    self.result.wait_until_finish()\n",
            "  File \"/usr/local/lib/python3.7/dist-packages/apache_beam/runners/dataflow/dataflow_runner.py\", line 1619, in wait_until_finish\n",
            "    time.sleep(5.0)\n",
            "KeyboardInterrupt\n"
          ]
        }
      ]
    },
    {
      "cell_type": "code",
      "source": [
        "# Visualizamos resultados\n",
        "! gsutil ls -al $GCP_WORK_DIR/predictions/"
      ],
      "metadata": {
        "colab": {
          "base_uri": "https://localhost:8080/"
        },
        "id": "VekEn1QtV_Nw",
        "outputId": "d08486b6-7820-4d3e-8f58-7ebdc0468881"
      },
      "execution_count": null,
      "outputs": [
        {
          "output_type": "stream",
          "name": "stdout",
          "text": [
            "                                 gs://twitch-practice-keepcoding-main-bucket/predictions/2022-02-27_07-02-43/\n",
            "                                 gs://twitch-practice-keepcoding-main-bucket/predictions/2022-02-27_09-11-13/\n"
          ]
        }
      ]
    },
    {
      "cell_type": "markdown",
      "source": [
        "* CP -> Dataflow -> Trabajos\n",
        "\n",
        "![image.png](data:image/png;base64,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)"
      ],
      "metadata": {
        "id": "MeVu-t23d25A"
      }
    },
    {
      "cell_type": "markdown",
      "metadata": {
        "id": "9GWbfFvwQTGS"
      },
      "source": [
        "# Inferencia online\n",
        "\n",
        "En esta segunda parte de la práctica se realizará un microservicio de inferencia online usando los modelos generados en la primera parte. Para esta parte de la práctica el código de vuestro microservicio deberá estar subido en un repositorio. En la variable de debajo deberéis dejar la URL a vuestro repositorrio pues será el contenido con el que serás evaluado. \n",
        "\n",
        "**Importante:** asegúrate de crear el repositorio de manera pública para poder clonarlo.\n",
        "\n",
        "A continuación os dejo un diagrama con la arquitectura que se va a desarrollar:\n",
        "\n",
        "![online_diagram](https://drive.google.com/uc?export=view&id=1zR7Cwp0Vq1QeTxwLoJ8YJNRM9G5KVh2S)"
      ]
    },
    {
      "cell_type": "code",
      "metadata": {
        "id": "REn23OCIBjXF"
      },
      "source": [
        "# REPOSITORIO = \"https://gitkc.cloud/despliegue-de-algoritmos-viii/troll-detection-online-service.git\""
      ],
      "execution_count": null,
      "outputs": []
    },
    {
      "cell_type": "code",
      "source": [
        "REPOSITORIO = \"https://gitkc.cloud/tonyzetag/despliegue-de-algoritmos.git\""
      ],
      "metadata": {
        "id": "gMe26ghtb4_1"
      },
      "execution_count": null,
      "outputs": []
    },
    {
      "cell_type": "markdown",
      "metadata": {
        "id": "NqBT-b_8BsIR"
      },
      "source": [
        "Creamos el directorio donde trabajaremos."
      ]
    },
    {
      "cell_type": "code",
      "metadata": {
        "id": "VAskyBUAQZHx",
        "colab": {
          "base_uri": "https://localhost:8080/"
        },
        "outputId": "10c16c94-1b05-497d-b48d-457d7fe9a9ca"
      },
      "source": [
        "%mkdir /content/online\n",
        "%cd /content/online"
      ],
      "execution_count": null,
      "outputs": [
        {
          "output_type": "stream",
          "name": "stdout",
          "text": [
            "/content/online\n"
          ]
        }
      ]
    },
    {
      "cell_type": "code",
      "metadata": {
        "id": "xlj7lGW3Q6CS",
        "colab": {
          "base_uri": "https://localhost:8080/"
        },
        "outputId": "b119fe92-7926-4553-ac84-29c272d0037d"
      },
      "source": [
        "# Clone the repository\n",
        "! git clone $REPOSITORIO\n",
        "\n",
        "# Set the working directory to the sample code directory\n",
        "%cd ./despliegue-de-algoritmos/troll-detection-online-service-master\n",
        "\n",
        "# Change to develop\n",
        "! git checkout develop"
      ],
      "execution_count": null,
      "outputs": [
        {
          "output_type": "stream",
          "name": "stdout",
          "text": [
            "Cloning into 'despliegue-de-algoritmos'...\n",
            "remote: Enumerating objects: 74, done.\u001b[K\n",
            "remote: Counting objects: 100% (74/74), done.\u001b[K\n",
            "remote: Compressing objects: 100% (70/70), done.\u001b[K\n",
            "remote: Total 74 (delta 26), reused 0 (delta 0), pack-reused 0\u001b[K\n",
            "Unpacking objects: 100% (74/74), done.\n",
            "/content/batch/despliegue-de-algoritmos/troll-detection-online-service-master\n",
            "error: pathspec 'develop' did not match any file(s) known to git.\n"
          ]
        }
      ]
    },
    {
      "cell_type": "code",
      "metadata": {
        "id": "FndkRszYQ8_f",
        "colab": {
          "base_uri": "https://localhost:8080/"
        },
        "outputId": "f5baa34a-817c-4413-bd10-f066a2808be3"
      },
      "source": [
        "! pip install -r requirements.txt"
      ],
      "execution_count": null,
      "outputs": [
        {
          "output_type": "stream",
          "name": "stdout",
          "text": [
            "Requirement already satisfied: requests==2.25.0 in /usr/local/lib/python3.7/dist-packages (from -r requirements.txt (line 1)) (2.25.0)\n",
            "Requirement already satisfied: uvicorn==0.12.2 in /usr/local/lib/python3.7/dist-packages (from -r requirements.txt (line 2)) (0.12.2)\n",
            "Requirement already satisfied: fastapi==0.61.2 in /usr/local/lib/python3.7/dist-packages (from -r requirements.txt (line 3)) (0.61.2)\n",
            "Requirement already satisfied: h5py==2.10.0 in /usr/local/lib/python3.7/dist-packages (from -r requirements.txt (line 4)) (2.10.0)\n",
            "Requirement already satisfied: scikit-learn==0.23.2 in /usr/local/lib/python3.7/dist-packages (from -r requirements.txt (line 5)) (0.23.2)\n",
            "Requirement already satisfied: scipy==1.4.1 in /usr/local/lib/python3.7/dist-packages (from -r requirements.txt (line 6)) (1.4.1)\n",
            "Requirement already satisfied: tensorflow==2.1.0 in /usr/local/lib/python3.7/dist-packages (from -r requirements.txt (line 7)) (2.1.0)\n",
            "Requirement already satisfied: loguru==0.5.3 in /usr/local/lib/python3.7/dist-packages (from -r requirements.txt (line 8)) (0.5.3)\n",
            "Requirement already satisfied: gensim==3.6.0 in /usr/local/lib/python3.7/dist-packages (from -r requirements.txt (line 9)) (3.6.0)\n",
            "Requirement already satisfied: fsspec==0.8.4 in /usr/local/lib/python3.7/dist-packages (from -r requirements.txt (line 10)) (0.8.4)\n",
            "Requirement already satisfied: gcsfs==0.7.1 in /usr/local/lib/python3.7/dist-packages (from -r requirements.txt (line 11)) (0.7.1)\n",
            "Requirement already satisfied: numpy==1.19.5 in /usr/local/lib/python3.7/dist-packages (from -r requirements.txt (line 12)) (1.19.5)\n",
            "Requirement already satisfied: chardet<4,>=3.0.2 in /usr/local/lib/python3.7/dist-packages (from requests==2.25.0->-r requirements.txt (line 1)) (3.0.4)\n",
            "Requirement already satisfied: idna<3,>=2.5 in /usr/local/lib/python3.7/dist-packages (from requests==2.25.0->-r requirements.txt (line 1)) (2.10)\n",
            "Requirement already satisfied: urllib3<1.27,>=1.21.1 in /usr/local/lib/python3.7/dist-packages (from requests==2.25.0->-r requirements.txt (line 1)) (1.24.3)\n",
            "Requirement already satisfied: certifi>=2017.4.17 in /usr/local/lib/python3.7/dist-packages (from requests==2.25.0->-r requirements.txt (line 1)) (2021.10.8)\n",
            "Requirement already satisfied: h11>=0.8 in /usr/local/lib/python3.7/dist-packages (from uvicorn==0.12.2->-r requirements.txt (line 2)) (0.13.0)\n",
            "Requirement already satisfied: click==7.* in /usr/local/lib/python3.7/dist-packages (from uvicorn==0.12.2->-r requirements.txt (line 2)) (7.1.2)\n",
            "Requirement already satisfied: typing-extensions in /usr/local/lib/python3.7/dist-packages (from uvicorn==0.12.2->-r requirements.txt (line 2)) (3.7.4.3)\n",
            "Requirement already satisfied: starlette==0.13.6 in /usr/local/lib/python3.7/dist-packages (from fastapi==0.61.2->-r requirements.txt (line 3)) (0.13.6)\n",
            "Requirement already satisfied: pydantic<2.0.0,>=1.0.0 in /usr/local/lib/python3.7/dist-packages (from fastapi==0.61.2->-r requirements.txt (line 3)) (1.9.0)\n",
            "Requirement already satisfied: six in /usr/local/lib/python3.7/dist-packages (from h5py==2.10.0->-r requirements.txt (line 4)) (1.15.0)\n",
            "Requirement already satisfied: threadpoolctl>=2.0.0 in /usr/local/lib/python3.7/dist-packages (from scikit-learn==0.23.2->-r requirements.txt (line 5)) (3.1.0)\n",
            "Requirement already satisfied: joblib>=0.11 in /usr/local/lib/python3.7/dist-packages (from scikit-learn==0.23.2->-r requirements.txt (line 5)) (1.1.0)\n",
            "Requirement already satisfied: tensorflow-estimator<2.2.0,>=2.1.0rc0 in /usr/local/lib/python3.7/dist-packages (from tensorflow==2.1.0->-r requirements.txt (line 7)) (2.1.0)\n",
            "Requirement already satisfied: grpcio>=1.8.6 in /usr/local/lib/python3.7/dist-packages (from tensorflow==2.1.0->-r requirements.txt (line 7)) (1.43.0)\n",
            "Requirement already satisfied: keras-applications>=1.0.8 in /usr/local/lib/python3.7/dist-packages (from tensorflow==2.1.0->-r requirements.txt (line 7)) (1.0.8)\n",
            "Requirement already satisfied: google-pasta>=0.1.6 in /usr/local/lib/python3.7/dist-packages (from tensorflow==2.1.0->-r requirements.txt (line 7)) (0.2.0)\n",
            "Requirement already satisfied: wrapt>=1.11.1 in /usr/local/lib/python3.7/dist-packages (from tensorflow==2.1.0->-r requirements.txt (line 7)) (1.13.3)\n",
            "Requirement already satisfied: astor>=0.6.0 in /usr/local/lib/python3.7/dist-packages (from tensorflow==2.1.0->-r requirements.txt (line 7)) (0.8.1)\n",
            "Requirement already satisfied: tensorboard<2.2.0,>=2.1.0 in /usr/local/lib/python3.7/dist-packages (from tensorflow==2.1.0->-r requirements.txt (line 7)) (2.1.1)\n",
            "Requirement already satisfied: opt-einsum>=2.3.2 in /usr/local/lib/python3.7/dist-packages (from tensorflow==2.1.0->-r requirements.txt (line 7)) (3.3.0)\n",
            "Requirement already satisfied: gast==0.2.2 in /usr/local/lib/python3.7/dist-packages (from tensorflow==2.1.0->-r requirements.txt (line 7)) (0.2.2)\n",
            "Requirement already satisfied: wheel>=0.26 in /usr/local/lib/python3.7/dist-packages (from tensorflow==2.1.0->-r requirements.txt (line 7)) (0.37.1)\n",
            "Requirement already satisfied: absl-py>=0.7.0 in /usr/local/lib/python3.7/dist-packages (from tensorflow==2.1.0->-r requirements.txt (line 7)) (1.0.0)\n",
            "Requirement already satisfied: keras-preprocessing>=1.1.0 in /usr/local/lib/python3.7/dist-packages (from tensorflow==2.1.0->-r requirements.txt (line 7)) (1.1.2)\n",
            "Requirement already satisfied: protobuf>=3.8.0 in /usr/local/lib/python3.7/dist-packages (from tensorflow==2.1.0->-r requirements.txt (line 7)) (3.17.3)\n",
            "Requirement already satisfied: termcolor>=1.1.0 in /usr/local/lib/python3.7/dist-packages (from tensorflow==2.1.0->-r requirements.txt (line 7)) (1.1.0)\n",
            "Requirement already satisfied: smart-open>=1.2.1 in /usr/local/lib/python3.7/dist-packages (from gensim==3.6.0->-r requirements.txt (line 9)) (5.2.1)\n",
            "Requirement already satisfied: aiohttp in /usr/local/lib/python3.7/dist-packages (from gcsfs==0.7.1->-r requirements.txt (line 11)) (3.8.1)\n",
            "Requirement already satisfied: decorator in /usr/local/lib/python3.7/dist-packages (from gcsfs==0.7.1->-r requirements.txt (line 11)) (4.4.2)\n",
            "Requirement already satisfied: google-auth-oauthlib in /usr/local/lib/python3.7/dist-packages (from gcsfs==0.7.1->-r requirements.txt (line 11)) (0.4.6)\n",
            "Requirement already satisfied: google-auth>=1.2 in /usr/local/lib/python3.7/dist-packages (from gcsfs==0.7.1->-r requirements.txt (line 11)) (1.35.0)\n",
            "Requirement already satisfied: cachetools<5.0,>=2.0.0 in /usr/local/lib/python3.7/dist-packages (from google-auth>=1.2->gcsfs==0.7.1->-r requirements.txt (line 11)) (3.1.1)\n",
            "Requirement already satisfied: setuptools>=40.3.0 in /usr/local/lib/python3.7/dist-packages (from google-auth>=1.2->gcsfs==0.7.1->-r requirements.txt (line 11)) (57.4.0)\n",
            "Requirement already satisfied: pyasn1-modules>=0.2.1 in /usr/local/lib/python3.7/dist-packages (from google-auth>=1.2->gcsfs==0.7.1->-r requirements.txt (line 11)) (0.2.8)\n",
            "Requirement already satisfied: rsa<5,>=3.1.4 in /usr/local/lib/python3.7/dist-packages (from google-auth>=1.2->gcsfs==0.7.1->-r requirements.txt (line 11)) (4.8)\n",
            "Requirement already satisfied: pyasn1<0.5.0,>=0.4.6 in /usr/local/lib/python3.7/dist-packages (from pyasn1-modules>=0.2.1->google-auth>=1.2->gcsfs==0.7.1->-r requirements.txt (line 11)) (0.4.8)\n",
            "Requirement already satisfied: werkzeug>=0.11.15 in /usr/local/lib/python3.7/dist-packages (from tensorboard<2.2.0,>=2.1.0->tensorflow==2.1.0->-r requirements.txt (line 7)) (1.0.1)\n",
            "Requirement already satisfied: markdown>=2.6.8 in /usr/local/lib/python3.7/dist-packages (from tensorboard<2.2.0,>=2.1.0->tensorflow==2.1.0->-r requirements.txt (line 7)) (3.3.6)\n",
            "Requirement already satisfied: requests-oauthlib>=0.7.0 in /usr/local/lib/python3.7/dist-packages (from google-auth-oauthlib->gcsfs==0.7.1->-r requirements.txt (line 11)) (1.3.1)\n",
            "Requirement already satisfied: importlib-metadata>=4.4 in /usr/local/lib/python3.7/dist-packages (from markdown>=2.6.8->tensorboard<2.2.0,>=2.1.0->tensorflow==2.1.0->-r requirements.txt (line 7)) (4.11.1)\n",
            "Requirement already satisfied: zipp>=0.5 in /usr/local/lib/python3.7/dist-packages (from importlib-metadata>=4.4->markdown>=2.6.8->tensorboard<2.2.0,>=2.1.0->tensorflow==2.1.0->-r requirements.txt (line 7)) (3.7.0)\n",
            "Requirement already satisfied: oauthlib>=3.0.0 in /usr/local/lib/python3.7/dist-packages (from requests-oauthlib>=0.7.0->google-auth-oauthlib->gcsfs==0.7.1->-r requirements.txt (line 11)) (3.2.0)\n",
            "Requirement already satisfied: attrs>=17.3.0 in /usr/local/lib/python3.7/dist-packages (from aiohttp->gcsfs==0.7.1->-r requirements.txt (line 11)) (21.4.0)\n",
            "Requirement already satisfied: multidict<7.0,>=4.5 in /usr/local/lib/python3.7/dist-packages (from aiohttp->gcsfs==0.7.1->-r requirements.txt (line 11)) (6.0.2)\n",
            "Requirement already satisfied: yarl<2.0,>=1.0 in /usr/local/lib/python3.7/dist-packages (from aiohttp->gcsfs==0.7.1->-r requirements.txt (line 11)) (1.7.2)\n",
            "Requirement already satisfied: asynctest==0.13.0 in /usr/local/lib/python3.7/dist-packages (from aiohttp->gcsfs==0.7.1->-r requirements.txt (line 11)) (0.13.0)\n",
            "Requirement already satisfied: frozenlist>=1.1.1 in /usr/local/lib/python3.7/dist-packages (from aiohttp->gcsfs==0.7.1->-r requirements.txt (line 11)) (1.3.0)\n",
            "Requirement already satisfied: charset-normalizer<3.0,>=2.0 in /usr/local/lib/python3.7/dist-packages (from aiohttp->gcsfs==0.7.1->-r requirements.txt (line 11)) (2.0.12)\n",
            "Requirement already satisfied: async-timeout<5.0,>=4.0.0a3 in /usr/local/lib/python3.7/dist-packages (from aiohttp->gcsfs==0.7.1->-r requirements.txt (line 11)) (4.0.2)\n",
            "Requirement already satisfied: aiosignal>=1.1.2 in /usr/local/lib/python3.7/dist-packages (from aiohttp->gcsfs==0.7.1->-r requirements.txt (line 11)) (1.2.0)\n"
          ]
        }
      ]
    },
    {
      "cell_type": "code",
      "metadata": {
        "id": "IefrYp6tJ4PE",
        "colab": {
          "base_uri": "https://localhost:8080/"
        },
        "outputId": "8b590118-6d35-4e9f-c75e-064da2e16d56"
      },
      "source": [
        "! pip install pyngrok"
      ],
      "execution_count": null,
      "outputs": [
        {
          "output_type": "stream",
          "name": "stdout",
          "text": [
            "Collecting pyngrok\n",
            "  Downloading pyngrok-5.1.0.tar.gz (745 kB)\n",
            "\u001b[?25l\r\u001b[K     |▍                               | 10 kB 14.5 MB/s eta 0:00:01\r\u001b[K     |▉                               | 20 kB 16.4 MB/s eta 0:00:01\r\u001b[K     |█▎                              | 30 kB 9.0 MB/s eta 0:00:01\r\u001b[K     |█▊                              | 40 kB 10.5 MB/s eta 0:00:01\r\u001b[K     |██▏                             | 51 kB 5.7 MB/s eta 0:00:01\r\u001b[K     |██▋                             | 61 kB 6.7 MB/s eta 0:00:01\r\u001b[K     |███                             | 71 kB 5.4 MB/s eta 0:00:01\r\u001b[K     |███▌                            | 81 kB 5.6 MB/s eta 0:00:01\r\u001b[K     |████                            | 92 kB 6.2 MB/s eta 0:00:01\r\u001b[K     |████▍                           | 102 kB 6.3 MB/s eta 0:00:01\r\u001b[K     |████▉                           | 112 kB 6.3 MB/s eta 0:00:01\r\u001b[K     |█████▎                          | 122 kB 6.3 MB/s eta 0:00:01\r\u001b[K     |█████▊                          | 133 kB 6.3 MB/s eta 0:00:01\r\u001b[K     |██████▏                         | 143 kB 6.3 MB/s eta 0:00:01\r\u001b[K     |██████▋                         | 153 kB 6.3 MB/s eta 0:00:01\r\u001b[K     |███████                         | 163 kB 6.3 MB/s eta 0:00:01\r\u001b[K     |███████▌                        | 174 kB 6.3 MB/s eta 0:00:01\r\u001b[K     |████████                        | 184 kB 6.3 MB/s eta 0:00:01\r\u001b[K     |████████▍                       | 194 kB 6.3 MB/s eta 0:00:01\r\u001b[K     |████████▉                       | 204 kB 6.3 MB/s eta 0:00:01\r\u001b[K     |█████████▎                      | 215 kB 6.3 MB/s eta 0:00:01\r\u001b[K     |█████████▊                      | 225 kB 6.3 MB/s eta 0:00:01\r\u001b[K     |██████████▏                     | 235 kB 6.3 MB/s eta 0:00:01\r\u001b[K     |██████████▌                     | 245 kB 6.3 MB/s eta 0:00:01\r\u001b[K     |███████████                     | 256 kB 6.3 MB/s eta 0:00:01\r\u001b[K     |███████████▍                    | 266 kB 6.3 MB/s eta 0:00:01\r\u001b[K     |███████████▉                    | 276 kB 6.3 MB/s eta 0:00:01\r\u001b[K     |████████████▎                   | 286 kB 6.3 MB/s eta 0:00:01\r\u001b[K     |████████████▊                   | 296 kB 6.3 MB/s eta 0:00:01\r\u001b[K     |█████████████▏                  | 307 kB 6.3 MB/s eta 0:00:01\r\u001b[K     |█████████████▋                  | 317 kB 6.3 MB/s eta 0:00:01\r\u001b[K     |██████████████                  | 327 kB 6.3 MB/s eta 0:00:01\r\u001b[K     |██████████████▌                 | 337 kB 6.3 MB/s eta 0:00:01\r\u001b[K     |███████████████                 | 348 kB 6.3 MB/s eta 0:00:01\r\u001b[K     |███████████████▍                | 358 kB 6.3 MB/s eta 0:00:01\r\u001b[K     |███████████████▉                | 368 kB 6.3 MB/s eta 0:00:01\r\u001b[K     |████████████████▎               | 378 kB 6.3 MB/s eta 0:00:01\r\u001b[K     |████████████████▊               | 389 kB 6.3 MB/s eta 0:00:01\r\u001b[K     |█████████████████▏              | 399 kB 6.3 MB/s eta 0:00:01\r\u001b[K     |█████████████████▋              | 409 kB 6.3 MB/s eta 0:00:01\r\u001b[K     |██████████████████              | 419 kB 6.3 MB/s eta 0:00:01\r\u001b[K     |██████████████████▌             | 430 kB 6.3 MB/s eta 0:00:01\r\u001b[K     |███████████████████             | 440 kB 6.3 MB/s eta 0:00:01\r\u001b[K     |███████████████████▍            | 450 kB 6.3 MB/s eta 0:00:01\r\u001b[K     |███████████████████▉            | 460 kB 6.3 MB/s eta 0:00:01\r\u001b[K     |████████████████████▎           | 471 kB 6.3 MB/s eta 0:00:01\r\u001b[K     |████████████████████▋           | 481 kB 6.3 MB/s eta 0:00:01\r\u001b[K     |█████████████████████           | 491 kB 6.3 MB/s eta 0:00:01\r\u001b[K     |█████████████████████▌          | 501 kB 6.3 MB/s eta 0:00:01\r\u001b[K     |██████████████████████          | 512 kB 6.3 MB/s eta 0:00:01\r\u001b[K     |██████████████████████▍         | 522 kB 6.3 MB/s eta 0:00:01\r\u001b[K     |██████████████████████▉         | 532 kB 6.3 MB/s eta 0:00:01\r\u001b[K     |███████████████████████▎        | 542 kB 6.3 MB/s eta 0:00:01\r\u001b[K     |███████████████████████▊        | 552 kB 6.3 MB/s eta 0:00:01\r\u001b[K     |████████████████████████▏       | 563 kB 6.3 MB/s eta 0:00:01\r\u001b[K     |████████████████████████▋       | 573 kB 6.3 MB/s eta 0:00:01\r\u001b[K     |█████████████████████████       | 583 kB 6.3 MB/s eta 0:00:01\r\u001b[K     |█████████████████████████▌      | 593 kB 6.3 MB/s eta 0:00:01\r\u001b[K     |██████████████████████████      | 604 kB 6.3 MB/s eta 0:00:01\r\u001b[K     |██████████████████████████▍     | 614 kB 6.3 MB/s eta 0:00:01\r\u001b[K     |██████████████████████████▉     | 624 kB 6.3 MB/s eta 0:00:01\r\u001b[K     |███████████████████████████▎    | 634 kB 6.3 MB/s eta 0:00:01\r\u001b[K     |███████████████████████████▊    | 645 kB 6.3 MB/s eta 0:00:01\r\u001b[K     |████████████████████████████▏   | 655 kB 6.3 MB/s eta 0:00:01\r\u001b[K     |████████████████████████████▋   | 665 kB 6.3 MB/s eta 0:00:01\r\u001b[K     |█████████████████████████████   | 675 kB 6.3 MB/s eta 0:00:01\r\u001b[K     |█████████████████████████████▌  | 686 kB 6.3 MB/s eta 0:00:01\r\u001b[K     |██████████████████████████████  | 696 kB 6.3 MB/s eta 0:00:01\r\u001b[K     |██████████████████████████████▍ | 706 kB 6.3 MB/s eta 0:00:01\r\u001b[K     |██████████████████████████████▊ | 716 kB 6.3 MB/s eta 0:00:01\r\u001b[K     |███████████████████████████████▏| 727 kB 6.3 MB/s eta 0:00:01\r\u001b[K     |███████████████████████████████▋| 737 kB 6.3 MB/s eta 0:00:01\r\u001b[K     |████████████████████████████████| 745 kB 6.3 MB/s \n",
            "\u001b[?25hRequirement already satisfied: PyYAML in /usr/local/lib/python3.7/dist-packages (from pyngrok) (3.13)\n",
            "Building wheels for collected packages: pyngrok\n",
            "  Building wheel for pyngrok (setup.py) ... \u001b[?25l\u001b[?25hdone\n",
            "  Created wheel for pyngrok: filename=pyngrok-5.1.0-py3-none-any.whl size=19007 sha256=add9798a63be76366938e9de6b7660f68207b769be801c9eb77eb369d09d9f8f\n",
            "  Stored in directory: /root/.cache/pip/wheels/bf/e6/af/ccf6598ecefecd44104069371795cb9b3afbcd16987f6ccfb3\n",
            "Successfully built pyngrok\n",
            "Installing collected packages: pyngrok\n",
            "Successfully installed pyngrok-5.1.0\n"
          ]
        }
      ]
    },
    {
      "cell_type": "markdown",
      "metadata": {
        "id": "qNde3TEzCmjg"
      },
      "source": [
        "Para cuando estes modificando, probando y ejecutando ficheros os dejo en las celdas de abajo los comandos de git necesarios para interaccionar con vuestro repositorio en caso de que queráis:"
      ]
    },
    {
      "cell_type": "code",
      "metadata": {
        "id": "qsjWKcYZC6mm",
        "colab": {
          "base_uri": "https://localhost:8080/"
        },
        "outputId": "7884d215-eda3-4be1-d9d2-ec8392311592"
      },
      "source": [
        "# ! git status"
      ],
      "execution_count": null,
      "outputs": [
        {
          "output_type": "stream",
          "name": "stdout",
          "text": [
            "On branch main\n",
            "Your branch is up to date with 'origin/main'.\n",
            "\n",
            "nothing to commit, working tree clean\n"
          ]
        }
      ]
    },
    {
      "cell_type": "code",
      "metadata": {
        "id": "PuVHFtqvC8Kw"
      },
      "source": [
        "#! git add config.py\n",
        "#! git commit -m \"Nuevos cambios\"\n",
        "#! git push origin master"
      ],
      "execution_count": null,
      "outputs": []
    },
    {
      "cell_type": "markdown",
      "metadata": {
        "id": "H88vcTU_DDpv"
      },
      "source": [
        "Será necesario definir y establecer la variable de entorno `DEFAULT_MODEL_PATH` para definir donde están almacenados nuestros modelos para hacer inferencia."
      ]
    },
    {
      "cell_type": "code",
      "metadata": {
        "id": "Tn9xsgx4u5xP"
      },
      "source": [
        "import os\n",
        "\n",
        "os.environ[\"DEFAULT_MODEL_PATH\"] = \"/content/batch/model/\""
      ],
      "execution_count": null,
      "outputs": []
    },
    {
      "cell_type": "code",
      "source": [
        "# Set the working directory to the sample code directory\n",
        "%cd /content/online/despliegue-de-algoritmos/troll-detection-online-service-master"
      ],
      "metadata": {
        "colab": {
          "base_uri": "https://localhost:8080/"
        },
        "id": "ZlRTt0gbJcOx",
        "outputId": "c1aa675d-f8fc-43f0-ee96-b6b355c0d944"
      },
      "execution_count": null,
      "outputs": [
        {
          "output_type": "stream",
          "name": "stdout",
          "text": [
            "/content/online/despliegue-de-algoritmos/troll-detection-online-service-master\n"
          ]
        }
      ]
    },
    {
      "cell_type": "markdown",
      "metadata": {
        "id": "z-IslHWwDSTU"
      },
      "source": [
        "### Validación inferencia online en local (1.75 puntos)\n",
        "\n",
        "Se validará la correcta inferencia del microservio en local utilizando Swagger. Para ejecutar en local solo hay que ejecutar los comandos a continuación. Después, entrar en la URL proporcionada por ngrock `<ngrok_url>/docs` para acceder a swagger y probar la inferencia como vimos en clase."
      ]
    },
    {
      "cell_type": "code",
      "metadata": {
        "id": "81vGToBWJ_h-",
        "colab": {
          "base_uri": "https://localhost:8080/"
        },
        "outputId": "2715a650-3576-4668-c8ac-a06012d23d82"
      },
      "source": [
        "# For testing purposes\n",
        "import nest_asyncio\n",
        "from pyngrok import ngrok\n",
        "\n",
        "ngrok_tunnel = ngrok.connect(8000)\n",
        "print('Public URL:', ngrok_tunnel.public_url)\n",
        "nest_asyncio.apply()"
      ],
      "execution_count": null,
      "outputs": [
        {
          "output_type": "stream",
          "name": "stdout",
          "text": [
            "Public URL: http://e23f-34-68-187-253.ngrok.io\n"
          ]
        }
      ]
    },
    {
      "cell_type": "code",
      "source": [
        "! ngrok authtoken 25a0KVvLADhzPlsJeMSwdiGY8Qt_2BfJbo3Lm4UAXz5w1sWVd"
      ],
      "metadata": {
        "colab": {
          "base_uri": "https://localhost:8080/"
        },
        "id": "cl3LXBbFVe8m",
        "outputId": "49b68cb2-3c0d-461d-c876-5b13a0587e69"
      },
      "execution_count": null,
      "outputs": [
        {
          "output_type": "stream",
          "name": "stdout",
          "text": [
            "Authtoken saved to configuration file: /root/.ngrok2/ngrok.yml\n"
          ]
        }
      ]
    },
    {
      "cell_type": "code",
      "metadata": {
        "id": "hFeSh7rcuG7L",
        "colab": {
          "base_uri": "https://localhost:8080/"
        },
        "outputId": "79ddaf1d-5df7-436b-fe65-c30cf7f53cfc"
      },
      "source": [
        "! uvicorn app.main:app --port 8000"
      ],
      "execution_count": null,
      "outputs": [
        {
          "output_type": "stream",
          "name": "stdout",
          "text": [
            "2022-02-27 09:36:12.938262: W tensorflow/stream_executor/platform/default/dso_loader.cc:55] Could not load dynamic library 'libnvinfer.so.6'; dlerror: libnvinfer.so.6: cannot open shared object file: No such file or directory; LD_LIBRARY_PATH: /usr/lib64-nvidia\n",
            "2022-02-27 09:36:12.938395: W tensorflow/stream_executor/platform/default/dso_loader.cc:55] Could not load dynamic library 'libnvinfer_plugin.so.6'; dlerror: libnvinfer_plugin.so.6: cannot open shared object file: No such file or directory; LD_LIBRARY_PATH: /usr/lib64-nvidia\n",
            "2022-02-27 09:36:12.938424: W tensorflow/compiler/tf2tensorrt/utils/py_utils.cc:30] Cannot dlopen some TensorRT libraries. If you would like to use Nvidia GPU with TensorRT, please make sure the missing libraries mentioned above are installed properly.\n",
            "RuntimeError: module compiled against API version 0xe but this version of numpy is 0xd\n",
            "\u001b[32mINFO\u001b[0m:     Started server process [\u001b[36m92118\u001b[0m]\n",
            "\u001b[32mINFO\u001b[0m:     Waiting for application startup.\n",
            "\u001b[32m2022-02-27 09:36:14.046\u001b[0m | \u001b[1mINFO    \u001b[0m | \u001b[36mapp.core.event_handlers\u001b[0m:\u001b[36mstartup\u001b[0m:\u001b[36m22\u001b[0m - \u001b[1mRunning app start handler.\u001b[0m\n",
            "2022-02-27 09:36:14.201274: I tensorflow/stream_executor/platform/default/dso_loader.cc:44] Successfully opened dynamic library libcuda.so.1\n",
            "2022-02-27 09:36:14.221306: I tensorflow/stream_executor/cuda/cuda_gpu_executor.cc:981] successful NUMA node read from SysFS had negative value (-1), but there must be at least one NUMA node, so returning NUMA node zero\n",
            "2022-02-27 09:36:14.222015: I tensorflow/core/common_runtime/gpu/gpu_device.cc:1555] Found device 0 with properties: \n",
            "pciBusID: 0000:00:04.0 name: Tesla K80 computeCapability: 3.7\n",
            "coreClock: 0.8235GHz coreCount: 13 deviceMemorySize: 11.17GiB deviceMemoryBandwidth: 223.96GiB/s\n",
            "2022-02-27 09:36:14.222327: I tensorflow/stream_executor/platform/default/dso_loader.cc:44] Successfully opened dynamic library libcudart.so.10.1\n",
            "2022-02-27 09:36:14.224341: I tensorflow/stream_executor/platform/default/dso_loader.cc:44] Successfully opened dynamic library libcublas.so.10\n",
            "2022-02-27 09:36:14.225402: I tensorflow/stream_executor/platform/default/dso_loader.cc:44] Successfully opened dynamic library libcufft.so.10\n",
            "2022-02-27 09:36:14.225802: I tensorflow/stream_executor/platform/default/dso_loader.cc:44] Successfully opened dynamic library libcurand.so.10\n",
            "2022-02-27 09:36:14.227499: I tensorflow/stream_executor/platform/default/dso_loader.cc:44] Successfully opened dynamic library libcusolver.so.10\n",
            "2022-02-27 09:36:14.228335: I tensorflow/stream_executor/platform/default/dso_loader.cc:44] Successfully opened dynamic library libcusparse.so.10\n",
            "2022-02-27 09:36:14.231885: I tensorflow/stream_executor/platform/default/dso_loader.cc:44] Successfully opened dynamic library libcudnn.so.7\n",
            "2022-02-27 09:36:14.232005: I tensorflow/stream_executor/cuda/cuda_gpu_executor.cc:981] successful NUMA node read from SysFS had negative value (-1), but there must be at least one NUMA node, so returning NUMA node zero\n",
            "2022-02-27 09:36:14.232851: I tensorflow/stream_executor/cuda/cuda_gpu_executor.cc:981] successful NUMA node read from SysFS had negative value (-1), but there must be at least one NUMA node, so returning NUMA node zero\n",
            "2022-02-27 09:36:14.233611: I tensorflow/core/common_runtime/gpu/gpu_device.cc:1697] Adding visible gpu devices: 0\n",
            "2022-02-27 09:36:14.234000: I tensorflow/core/platform/cpu_feature_guard.cc:142] Your CPU supports instructions that this TensorFlow binary was not compiled to use: AVX2 FMA\n",
            "2022-02-27 09:36:14.239031: I tensorflow/core/platform/profile_utils/cpu_utils.cc:94] CPU Frequency: 2299995000 Hz\n",
            "2022-02-27 09:36:14.240317: I tensorflow/compiler/xla/service/service.cc:168] XLA service 0x55e77d1d4bc0 initialized for platform Host (this does not guarantee that XLA will be used). Devices:\n",
            "2022-02-27 09:36:14.240359: I tensorflow/compiler/xla/service/service.cc:176]   StreamExecutor device (0): Host, Default Version\n",
            "2022-02-27 09:36:14.354816: I tensorflow/stream_executor/cuda/cuda_gpu_executor.cc:981] successful NUMA node read from SysFS had negative value (-1), but there must be at least one NUMA node, so returning NUMA node zero\n",
            "2022-02-27 09:36:14.355740: I tensorflow/compiler/xla/service/service.cc:168] XLA service 0x55e77d1d4d80 initialized for platform CUDA (this does not guarantee that XLA will be used). Devices:\n",
            "2022-02-27 09:36:14.355777: I tensorflow/compiler/xla/service/service.cc:176]   StreamExecutor device (0): Tesla K80, Compute Capability 3.7\n",
            "2022-02-27 09:36:14.355998: I tensorflow/stream_executor/cuda/cuda_gpu_executor.cc:981] successful NUMA node read from SysFS had negative value (-1), but there must be at least one NUMA node, so returning NUMA node zero\n",
            "2022-02-27 09:36:14.356785: I tensorflow/core/common_runtime/gpu/gpu_device.cc:1555] Found device 0 with properties: \n",
            "pciBusID: 0000:00:04.0 name: Tesla K80 computeCapability: 3.7\n",
            "coreClock: 0.8235GHz coreCount: 13 deviceMemorySize: 11.17GiB deviceMemoryBandwidth: 223.96GiB/s\n",
            "2022-02-27 09:36:14.356879: I tensorflow/stream_executor/platform/default/dso_loader.cc:44] Successfully opened dynamic library libcudart.so.10.1\n",
            "2022-02-27 09:36:14.356951: I tensorflow/stream_executor/platform/default/dso_loader.cc:44] Successfully opened dynamic library libcublas.so.10\n",
            "2022-02-27 09:36:14.357027: I tensorflow/stream_executor/platform/default/dso_loader.cc:44] Successfully opened dynamic library libcufft.so.10\n",
            "2022-02-27 09:36:14.357078: I tensorflow/stream_executor/platform/default/dso_loader.cc:44] Successfully opened dynamic library libcurand.so.10\n",
            "2022-02-27 09:36:14.357133: I tensorflow/stream_executor/platform/default/dso_loader.cc:44] Successfully opened dynamic library libcusolver.so.10\n",
            "2022-02-27 09:36:14.357181: I tensorflow/stream_executor/platform/default/dso_loader.cc:44] Successfully opened dynamic library libcusparse.so.10\n",
            "2022-02-27 09:36:14.357226: I tensorflow/stream_executor/platform/default/dso_loader.cc:44] Successfully opened dynamic library libcudnn.so.7\n",
            "2022-02-27 09:36:14.357329: I tensorflow/stream_executor/cuda/cuda_gpu_executor.cc:981] successful NUMA node read from SysFS had negative value (-1), but there must be at least one NUMA node, so returning NUMA node zero\n",
            "2022-02-27 09:36:14.358133: I tensorflow/stream_executor/cuda/cuda_gpu_executor.cc:981] successful NUMA node read from SysFS had negative value (-1), but there must be at least one NUMA node, so returning NUMA node zero\n",
            "2022-02-27 09:36:14.358912: I tensorflow/core/common_runtime/gpu/gpu_device.cc:1697] Adding visible gpu devices: 0\n",
            "2022-02-27 09:36:14.358999: I tensorflow/stream_executor/platform/default/dso_loader.cc:44] Successfully opened dynamic library libcudart.so.10.1\n",
            "2022-02-27 09:36:14.360424: I tensorflow/core/common_runtime/gpu/gpu_device.cc:1096] Device interconnect StreamExecutor with strength 1 edge matrix:\n",
            "2022-02-27 09:36:14.360462: I tensorflow/core/common_runtime/gpu/gpu_device.cc:1102]      0 \n",
            "2022-02-27 09:36:14.360498: I tensorflow/core/common_runtime/gpu/gpu_device.cc:1115] 0:   N \n",
            "2022-02-27 09:36:14.360651: I tensorflow/stream_executor/cuda/cuda_gpu_executor.cc:981] successful NUMA node read from SysFS had negative value (-1), but there must be at least one NUMA node, so returning NUMA node zero\n",
            "2022-02-27 09:36:14.361468: I tensorflow/stream_executor/cuda/cuda_gpu_executor.cc:981] successful NUMA node read from SysFS had negative value (-1), but there must be at least one NUMA node, so returning NUMA node zero\n",
            "2022-02-27 09:36:14.362333: W tensorflow/core/common_runtime/gpu/gpu_bfc_allocator.cc:39] Overriding allow_growth setting because the TF_FORCE_GPU_ALLOW_GROWTH environment variable is set. Original config value was 0.\n",
            "2022-02-27 09:36:14.362406: I tensorflow/core/common_runtime/gpu/gpu_device.cc:1241] Created TensorFlow device (/job:localhost/replica:0/task:0/device:GPU:0 with 10813 MB memory) -> physical GPU (device: 0, name: Tesla K80, pci bus id: 0000:00:04.0, compute capability: 3.7)\n",
            "\u001b[32mINFO\u001b[0m:     Application startup complete.\n",
            "\u001b[32mINFO\u001b[0m:     Uvicorn running on \u001b[1mhttp://127.0.0.1:8000\u001b[0m (Press CTRL+C to quit)\n",
            "\u001b[32mINFO\u001b[0m:     154.56.136.61:0 - \"\u001b[1mGET / HTTP/1.1\u001b[0m\" \u001b[31m404 Not Found\u001b[0m\n",
            "\u001b[32mINFO\u001b[0m:     154.56.136.61:0 - \"\u001b[1mGET /favicon.ico HTTP/1.1\u001b[0m\" \u001b[31m404 Not Found\u001b[0m\n",
            "\u001b[32mINFO\u001b[0m:     154.56.136.61:0 - \"\u001b[1mGET /docs HTTP/1.1\u001b[0m\" \u001b[32m200 OK\u001b[0m\n",
            "\u001b[32mINFO\u001b[0m:     154.56.136.61:0 - \"\u001b[1mGET /openapi.json HTTP/1.1\u001b[0m\" \u001b[32m200 OK\u001b[0m\n",
            "\u001b[32m2022-02-27 09:37:19.132\u001b[0m | \u001b[34m\u001b[1mDEBUG   \u001b[0m | \u001b[36mapp.services.models\u001b[0m:\u001b[36m_pre_process\u001b[0m:\u001b[36m44\u001b[0m - \u001b[34m\u001b[1mPre-processing payload.\u001b[0m\n",
            "\u001b[32m2022-02-27 09:37:19.132\u001b[0m | \u001b[34m\u001b[1mDEBUG   \u001b[0m | \u001b[36mapp.services.models\u001b[0m:\u001b[36m_predict\u001b[0m:\u001b[36m48\u001b[0m - \u001b[34m\u001b[1mPredicting.\u001b[0m\n",
            "2022-02-27 09:37:19.384739: I tensorflow/stream_executor/platform/default/dso_loader.cc:44] Successfully opened dynamic library libcublas.so.10\n",
            "\u001b[32m2022-02-27 09:37:20.089\u001b[0m | \u001b[34m\u001b[1mDEBUG   \u001b[0m | \u001b[36mapp.services.models\u001b[0m:\u001b[36m_post_process\u001b[0m:\u001b[36m59\u001b[0m - \u001b[34m\u001b[1mPost-processing prediction.\u001b[0m\n",
            "\u001b[32mINFO\u001b[0m:     154.56.136.61:0 - \"\u001b[1mPOST /api/model/predict HTTP/1.1\u001b[0m\" \u001b[32m200 OK\u001b[0m\n",
            "\u001b[32m2022-02-27 09:37:59.879\u001b[0m | \u001b[34m\u001b[1mDEBUG   \u001b[0m | \u001b[36mapp.services.models\u001b[0m:\u001b[36m_pre_process\u001b[0m:\u001b[36m44\u001b[0m - \u001b[34m\u001b[1mPre-processing payload.\u001b[0m\n",
            "\u001b[32m2022-02-27 09:37:59.879\u001b[0m | \u001b[34m\u001b[1mDEBUG   \u001b[0m | \u001b[36mapp.services.models\u001b[0m:\u001b[36m_predict\u001b[0m:\u001b[36m48\u001b[0m - \u001b[34m\u001b[1mPredicting.\u001b[0m\n",
            "\u001b[32m2022-02-27 09:37:59.955\u001b[0m | \u001b[34m\u001b[1mDEBUG   \u001b[0m | \u001b[36mapp.services.models\u001b[0m:\u001b[36m_post_process\u001b[0m:\u001b[36m59\u001b[0m - \u001b[34m\u001b[1mPost-processing prediction.\u001b[0m\n",
            "\u001b[32mINFO\u001b[0m:     154.56.136.61:0 - \"\u001b[1mPOST /api/model/predict HTTP/1.1\u001b[0m\" \u001b[32m200 OK\u001b[0m\n",
            "\u001b[32mINFO\u001b[0m:     Shutting down\n",
            "\u001b[32mINFO\u001b[0m:     Waiting for application shutdown.\n",
            "\u001b[32m2022-02-27 09:40:01.896\u001b[0m | \u001b[1mINFO    \u001b[0m | \u001b[36mapp.core.event_handlers\u001b[0m:\u001b[36mshutdown\u001b[0m:\u001b[36m30\u001b[0m - \u001b[1mRunning app shutdown handler.\u001b[0m\n",
            "\u001b[32mINFO\u001b[0m:     Application shutdown complete.\n",
            "\u001b[32mINFO\u001b[0m:     Finished server process [\u001b[36m92118\u001b[0m]\n"
          ]
        }
      ]
    },
    {
      "cell_type": "markdown",
      "source": [
        "* Prueba, para ver si funciona"
      ],
      "metadata": {
        "id": "T9_26Pebj2cV"
      }
    },
    {
      "cell_type": "markdown",
      "source": [
        "![image.png](data:image/png;base64,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)"
      ],
      "metadata": {
        "id": "oEhey4wbi8WT"
      }
    },
    {
      "cell_type": "markdown",
      "source": [
        "![image.png](data:image/png;base64,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)"
      ],
      "metadata": {
        "id": "nUpGNkdbjKFe"
      }
    },
    {
      "cell_type": "markdown",
      "metadata": {
        "id": "fuLtOjukEMIl"
      },
      "source": [
        "### Validación inferencia online en GCP (1.75 puntos)\n",
        "\n",
        "Se validará el correcto funcionamiento del microservicio haciendo una petición POST de inferencia a través de curl al microservicio desplegado en GCP."
      ]
    },
    {
      "cell_type": "markdown",
      "metadata": {
        "id": "MX1MiTGuD2KS"
      },
      "source": [
        "Primero, contruiremos una imagen Docker con el microservicio y subiremos el desarrollo al Container Repository en GCP a través de Cloud Build."
      ]
    },
    {
      "cell_type": "code",
      "source": [
        "PROJECT_ID"
      ],
      "metadata": {
        "colab": {
          "base_uri": "https://localhost:8080/",
          "height": 35
        },
        "id": "y8m7RZrBXAEW",
        "outputId": "80f917ee-b8dc-415c-b14f-fb1cb5b6adbf"
      },
      "execution_count": null,
      "outputs": [
        {
          "output_type": "execute_result",
          "data": {
            "application/vnd.google.colaboratory.intrinsic+json": {
              "type": "string"
            },
            "text/plain": [
              "'practica-despliegue-keepcoding'"
            ]
          },
          "metadata": {},
          "execution_count": 25
        }
      ]
    },
    {
      "cell_type": "code",
      "metadata": {
        "id": "PRhq-d_E7-CY",
        "colab": {
          "base_uri": "https://localhost:8080/"
        },
        "outputId": "2d5616c7-d6d2-4381-a3a4-ebc8aca3c5e4"
      },
      "source": [
        "! gcloud builds submit --tag gcr.io/$PROJECT_ID/troll-detection-online-service"
      ],
      "execution_count": null,
      "outputs": [
        {
          "output_type": "stream",
          "name": "stdout",
          "text": [
            "Creating temporary tarball archive of 40 file(s) totalling 18.1 KiB before compression.\n",
            "Uploading tarball of [.] to [gs://practica-despliegue-keepcoding_cloudbuild/source/1645954821.358609-a615edf8b3244b54aa724187e48e0e07.tgz]\n",
            "Created [https://cloudbuild.googleapis.com/v1/projects/practica-despliegue-keepcoding/locations/global/builds/aba6224f-d904-4984-a4a0-e0593e0af311].\n",
            "Logs are available at [https://console.cloud.google.com/cloud-build/builds/aba6224f-d904-4984-a4a0-e0593e0af311?project=653357797872].\n",
            " REMOTE BUILD OUTPUT\n",
            "starting build \"aba6224f-d904-4984-a4a0-e0593e0af311\"\n",
            "\n",
            "FETCHSOURCE\n",
            "Fetching storage object: gs://practica-despliegue-keepcoding_cloudbuild/source/1645954821.358609-a615edf8b3244b54aa724187e48e0e07.tgz#1645954822077505\n",
            "Copying gs://practica-despliegue-keepcoding_cloudbuild/source/1645954821.358609-a615edf8b3244b54aa724187e48e0e07.tgz#1645954822077505...\n",
            "/ [1 files][  7.6 KiB/  7.6 KiB]                                                \n",
            "Operation completed over 1 objects/7.6 KiB.\n",
            "BUILD\n",
            "Already have image (with digest): gcr.io/cloud-builders/docker\n",
            "Sending build context to Docker daemon  55.81kB\n",
            "Step 1/4 : FROM tiangolo/uvicorn-gunicorn-fastapi:python3.7\n",
            "python3.7: Pulling from tiangolo/uvicorn-gunicorn-fastapi\n",
            "df5590a8898b: Pulling fs layer\n",
            "705bb4cb554e: Pulling fs layer\n",
            "519df5fceacd: Pulling fs layer\n",
            "ccc287cbeddc: Pulling fs layer\n",
            "e3f8e6af58ed: Pulling fs layer\n",
            "aebed27b2d86: Pulling fs layer\n",
            "3b81dff756ff: Pulling fs layer\n",
            "6e4f59a23b58: Pulling fs layer\n",
            "5cdb61eb416d: Pulling fs layer\n",
            "415755650c07: Pulling fs layer\n",
            "82af7648a68a: Pulling fs layer\n",
            "697e3cdf6fdb: Pulling fs layer\n",
            "8d414b25a011: Pulling fs layer\n",
            "3e3cfa737f56: Pulling fs layer\n",
            "1595db7eb9b1: Pulling fs layer\n",
            "d2d3fcd4b870: Pulling fs layer\n",
            "35f87fd78dc8: Pulling fs layer\n",
            "146e266752fc: Pulling fs layer\n",
            "57df244389c0: Pulling fs layer\n",
            "e8391aa94779: Pulling fs layer\n",
            "e3f8e6af58ed: Waiting\n",
            "aebed27b2d86: Waiting\n",
            "3b81dff756ff: Waiting\n",
            "6e4f59a23b58: Waiting\n",
            "5cdb61eb416d: Waiting\n",
            "415755650c07: Waiting\n",
            "82af7648a68a: Waiting\n",
            "697e3cdf6fdb: Waiting\n",
            "8d414b25a011: Waiting\n",
            "3e3cfa737f56: Waiting\n",
            "1595db7eb9b1: Waiting\n",
            "d2d3fcd4b870: Waiting\n",
            "35f87fd78dc8: Waiting\n",
            "146e266752fc: Waiting\n",
            "57df244389c0: Waiting\n",
            "e8391aa94779: Waiting\n",
            "ccc287cbeddc: Waiting\n",
            "705bb4cb554e: Verifying Checksum\n",
            "705bb4cb554e: Download complete\n",
            "519df5fceacd: Verifying Checksum\n",
            "519df5fceacd: Download complete\n",
            "df5590a8898b: Verifying Checksum\n",
            "df5590a8898b: Download complete\n",
            "ccc287cbeddc: Verifying Checksum\n",
            "ccc287cbeddc: Download complete\n",
            "aebed27b2d86: Verifying Checksum\n",
            "aebed27b2d86: Download complete\n",
            "6e4f59a23b58: Verifying Checksum\n",
            "6e4f59a23b58: Download complete\n",
            "3b81dff756ff: Verifying Checksum\n",
            "3b81dff756ff: Download complete\n",
            "5cdb61eb416d: Download complete\n",
            "415755650c07: Verifying Checksum\n",
            "415755650c07: Download complete\n",
            "697e3cdf6fdb: Verifying Checksum\n",
            "697e3cdf6fdb: Download complete\n",
            "82af7648a68a: Verifying Checksum\n",
            "82af7648a68a: Download complete\n",
            "8d414b25a011: Verifying Checksum\n",
            "8d414b25a011: Download complete\n",
            "3e3cfa737f56: Verifying Checksum\n",
            "3e3cfa737f56: Download complete\n",
            "1595db7eb9b1: Verifying Checksum\n",
            "1595db7eb9b1: Download complete\n",
            "d2d3fcd4b870: Verifying Checksum\n",
            "d2d3fcd4b870: Download complete\n",
            "35f87fd78dc8: Download complete\n",
            "146e266752fc: Verifying Checksum\n",
            "146e266752fc: Download complete\n",
            "e8391aa94779: Verifying Checksum\n",
            "e8391aa94779: Download complete\n",
            "57df244389c0: Verifying Checksum\n",
            "57df244389c0: Download complete\n",
            "e3f8e6af58ed: Download complete\n",
            "df5590a8898b: Pull complete\n",
            "705bb4cb554e: Pull complete\n",
            "519df5fceacd: Pull complete\n",
            "ccc287cbeddc: Pull complete\n",
            "e3f8e6af58ed: Pull complete\n",
            "aebed27b2d86: Pull complete\n",
            "3b81dff756ff: Pull complete\n",
            "6e4f59a23b58: Pull complete\n",
            "5cdb61eb416d: Pull complete\n",
            "415755650c07: Pull complete\n",
            "82af7648a68a: Pull complete\n",
            "697e3cdf6fdb: Pull complete\n",
            "8d414b25a011: Pull complete\n",
            "3e3cfa737f56: Pull complete\n",
            "1595db7eb9b1: Pull complete\n",
            "d2d3fcd4b870: Pull complete\n",
            "35f87fd78dc8: Pull complete\n",
            "146e266752fc: Pull complete\n",
            "57df244389c0: Pull complete\n",
            "e8391aa94779: Pull complete\n",
            "Digest: sha256:f5770422a8875fe3d677e1bda724eeba332b53b0a348a9cdde854ba7136c66be\n",
            "Status: Downloaded newer image for tiangolo/uvicorn-gunicorn-fastapi:python3.7\n",
            " ---> bc3531b1f244\n",
            "Step 2/4 : COPY ./requirements.txt /requirements.txt\n",
            " ---> 5e2f83e5f03e\n",
            "Step 3/4 : RUN pip install -r /requirements.txt\n",
            " ---> Running in da7f34938b51\n",
            "Collecting requests==2.25.0\n",
            "  Downloading requests-2.25.0-py2.py3-none-any.whl (61 kB)\n",
            "Collecting uvicorn==0.12.2\n",
            "  Downloading uvicorn-0.12.2-py3-none-any.whl (45 kB)\n",
            "Collecting fastapi==0.61.2\n",
            "  Downloading fastapi-0.61.2-py3-none-any.whl (48 kB)\n",
            "Collecting h5py==2.10.0\n",
            "  Downloading h5py-2.10.0-cp37-cp37m-manylinux1_x86_64.whl (2.9 MB)\n",
            "Collecting scikit-learn==0.23.2\n",
            "  Downloading scikit_learn-0.23.2-cp37-cp37m-manylinux1_x86_64.whl (6.8 MB)\n",
            "Collecting scipy==1.4.1\n",
            "  Downloading scipy-1.4.1-cp37-cp37m-manylinux1_x86_64.whl (26.1 MB)\n",
            "Collecting tensorflow==2.1.0\n",
            "  Downloading tensorflow-2.1.0-cp37-cp37m-manylinux2010_x86_64.whl (421.8 MB)\n",
            "Collecting loguru==0.5.3\n",
            "  Downloading loguru-0.5.3-py3-none-any.whl (57 kB)\n",
            "Collecting gensim==3.6.0\n",
            "  Downloading gensim-3.6.0.tar.gz (23.1 MB)\n",
            "Collecting fsspec==0.8.4\n",
            "  Downloading fsspec-0.8.4-py3-none-any.whl (91 kB)\n",
            "Collecting gcsfs==0.7.1\n",
            "  Downloading gcsfs-0.7.1-py2.py3-none-any.whl (20 kB)\n",
            "Collecting numpy==1.19.5\n",
            "  Downloading numpy-1.19.5-cp37-cp37m-manylinux2010_x86_64.whl (14.8 MB)\n",
            "Collecting idna<3,>=2.5\n",
            "  Downloading idna-2.10-py2.py3-none-any.whl (58 kB)\n",
            "Collecting urllib3<1.27,>=1.21.1\n",
            "  Downloading urllib3-1.26.8-py2.py3-none-any.whl (138 kB)\n",
            "Collecting certifi>=2017.4.17\n",
            "  Downloading certifi-2021.10.8-py2.py3-none-any.whl (149 kB)\n",
            "Collecting chardet<4,>=3.0.2\n",
            "  Downloading chardet-3.0.4-py2.py3-none-any.whl (133 kB)\n",
            "Requirement already satisfied: typing-extensions in /usr/local/lib/python3.7/site-packages (from uvicorn==0.12.2->-r /requirements.txt (line 2)) (3.10.0.2)\n",
            "Requirement already satisfied: h11>=0.8 in /usr/local/lib/python3.7/site-packages (from uvicorn==0.12.2->-r /requirements.txt (line 2)) (0.12.0)\n",
            "Collecting click==7.*\n",
            "  Downloading click-7.1.2-py2.py3-none-any.whl (82 kB)\n",
            "Collecting starlette==0.13.6\n",
            "  Downloading starlette-0.13.6-py3-none-any.whl (59 kB)\n",
            "Requirement already satisfied: pydantic<2.0.0,>=1.0.0 in /usr/local/lib/python3.7/site-packages (from fastapi==0.61.2->-r /requirements.txt (line 3)) (1.8.2)\n",
            "Collecting six\n",
            "  Downloading six-1.16.0-py2.py3-none-any.whl (11 kB)\n",
            "Collecting threadpoolctl>=2.0.0\n",
            "  Downloading threadpoolctl-3.1.0-py3-none-any.whl (14 kB)\n",
            "Collecting joblib>=0.11\n",
            "  Downloading joblib-1.1.0-py2.py3-none-any.whl (306 kB)\n",
            "Collecting astor>=0.6.0\n",
            "  Downloading astor-0.8.1-py2.py3-none-any.whl (27 kB)\n",
            "Collecting tensorflow-estimator<2.2.0,>=2.1.0rc0\n",
            "  Downloading tensorflow_estimator-2.1.0-py2.py3-none-any.whl (448 kB)\n",
            "Collecting gast==0.2.2\n",
            "  Downloading gast-0.2.2.tar.gz (10 kB)\n",
            "Collecting opt-einsum>=2.3.2\n",
            "  Downloading opt_einsum-3.3.0-py3-none-any.whl (65 kB)\n",
            "Collecting google-pasta>=0.1.6\n",
            "  Downloading google_pasta-0.2.0-py3-none-any.whl (57 kB)\n",
            "Requirement already satisfied: wheel>=0.26 in /usr/local/lib/python3.7/site-packages (from tensorflow==2.1.0->-r /requirements.txt (line 7)) (0.37.0)\n",
            "Collecting grpcio>=1.8.6\n",
            "  Downloading grpcio-1.44.0-cp37-cp37m-manylinux_2_17_x86_64.manylinux2014_x86_64.whl (4.3 MB)\n",
            "Collecting protobuf>=3.8.0\n",
            "  Downloading protobuf-3.19.4-cp37-cp37m-manylinux_2_17_x86_64.manylinux2014_x86_64.whl (1.1 MB)\n",
            "Collecting termcolor>=1.1.0\n",
            "  Downloading termcolor-1.1.0.tar.gz (3.9 kB)\n",
            "Collecting keras-preprocessing>=1.1.0\n",
            "  Downloading Keras_Preprocessing-1.1.2-py2.py3-none-any.whl (42 kB)\n",
            "Collecting keras-applications>=1.0.8\n",
            "  Downloading Keras_Applications-1.0.8-py3-none-any.whl (50 kB)\n",
            "Collecting tensorboard<2.2.0,>=2.1.0\n",
            "  Downloading tensorboard-2.1.1-py3-none-any.whl (3.8 MB)\n",
            "Collecting wrapt>=1.11.1\n",
            "  Downloading wrapt-1.13.3-cp37-cp37m-manylinux_2_5_x86_64.manylinux1_x86_64.manylinux_2_12_x86_64.manylinux2010_x86_64.whl (79 kB)\n",
            "Collecting absl-py>=0.7.0\n",
            "  Downloading absl_py-1.0.0-py3-none-any.whl (126 kB)\n",
            "Collecting smart_open>=1.2.1\n",
            "  Downloading smart_open-5.2.1-py3-none-any.whl (58 kB)\n",
            "Collecting google-auth-oauthlib\n",
            "  Downloading google_auth_oauthlib-0.5.0-py2.py3-none-any.whl (18 kB)\n",
            "Collecting aiohttp\n",
            "  Downloading aiohttp-3.8.1-cp37-cp37m-manylinux_2_5_x86_64.manylinux1_x86_64.manylinux_2_12_x86_64.manylinux2010_x86_64.whl (1.1 MB)\n",
            "Collecting decorator\n",
            "  Downloading decorator-5.1.1-py3-none-any.whl (9.1 kB)\n",
            "Collecting google-auth>=1.2\n",
            "  Downloading google_auth-2.6.0-py2.py3-none-any.whl (156 kB)\n",
            "Collecting rsa<5,>=3.1.4\n",
            "  Downloading rsa-4.8-py3-none-any.whl (39 kB)\n",
            "Collecting pyasn1-modules>=0.2.1\n",
            "  Downloading pyasn1_modules-0.2.8-py2.py3-none-any.whl (155 kB)\n",
            "Collecting cachetools<6.0,>=2.0.0\n",
            "  Downloading cachetools-5.0.0-py3-none-any.whl (9.1 kB)\n",
            "Collecting pyasn1<0.5.0,>=0.4.6\n",
            "  Downloading pyasn1-0.4.8-py2.py3-none-any.whl (77 kB)\n",
            "Collecting markdown>=2.6.8\n",
            "  Downloading Markdown-3.3.6-py3-none-any.whl (97 kB)\n",
            "Collecting google-auth-oauthlib\n",
            "  Downloading google_auth_oauthlib-0.4.6-py2.py3-none-any.whl (18 kB)\n",
            "Collecting werkzeug>=0.11.15\n",
            "  Downloading Werkzeug-2.0.3-py3-none-any.whl (289 kB)\n",
            "Collecting google-auth>=1.2\n",
            "  Downloading google_auth-1.35.0-py2.py3-none-any.whl (152 kB)\n",
            "Requirement already satisfied: setuptools>=41.0.0 in /usr/local/lib/python3.7/site-packages (from tensorboard<2.2.0,>=2.1.0->tensorflow==2.1.0->-r /requirements.txt (line 7)) (57.5.0)\n",
            "Collecting cachetools<6.0,>=2.0.0\n",
            "  Downloading cachetools-4.2.4-py3-none-any.whl (10 kB)\n",
            "Collecting requests-oauthlib>=0.7.0\n",
            "  Downloading requests_oauthlib-1.3.1-py2.py3-none-any.whl (23 kB)\n",
            "Requirement already satisfied: importlib-metadata>=4.4 in /usr/local/lib/python3.7/site-packages (from markdown>=2.6.8->tensorboard<2.2.0,>=2.1.0->tensorflow==2.1.0->-r /requirements.txt (line 7)) (4.8.1)\n",
            "Requirement already satisfied: zipp>=0.5 in /usr/local/lib/python3.7/site-packages (from importlib-metadata>=4.4->markdown>=2.6.8->tensorboard<2.2.0,>=2.1.0->tensorflow==2.1.0->-r /requirements.txt (line 7)) (3.6.0)\n",
            "Collecting oauthlib>=3.0.0\n",
            "  Downloading oauthlib-3.2.0-py3-none-any.whl (151 kB)\n",
            "Collecting aiosignal>=1.1.2\n",
            "  Downloading aiosignal-1.2.0-py3-none-any.whl (8.2 kB)\n",
            "Collecting multidict<7.0,>=4.5\n",
            "  Downloading multidict-6.0.2-cp37-cp37m-manylinux_2_17_x86_64.manylinux2014_x86_64.whl (94 kB)\n",
            "Collecting attrs>=17.3.0\n",
            "  Downloading attrs-21.4.0-py2.py3-none-any.whl (60 kB)\n",
            "Collecting charset-normalizer<3.0,>=2.0\n",
            "  Downloading charset_normalizer-2.0.12-py3-none-any.whl (39 kB)\n",
            "Collecting async-timeout<5.0,>=4.0.0a3\n",
            "  Downloading async_timeout-4.0.2-py3-none-any.whl (5.8 kB)\n",
            "Collecting asynctest==0.13.0\n",
            "  Downloading asynctest-0.13.0-py3-none-any.whl (26 kB)\n",
            "Collecting yarl<2.0,>=1.0\n",
            "  Downloading yarl-1.7.2-cp37-cp37m-manylinux_2_5_x86_64.manylinux1_x86_64.manylinux_2_12_x86_64.manylinux2010_x86_64.whl (271 kB)\n",
            "Collecting frozenlist>=1.1.1\n",
            "  Downloading frozenlist-1.3.0-cp37-cp37m-manylinux_2_5_x86_64.manylinux1_x86_64.manylinux_2_17_x86_64.manylinux2014_x86_64.whl (144 kB)\n",
            "Building wheels for collected packages: gensim, gast, termcolor\n",
            "  Building wheel for gensim (setup.py): started\n",
            "  Building wheel for gensim (setup.py): finished with status 'done'\n",
            "  Created wheel for gensim: filename=gensim-3.6.0-cp37-cp37m-linux_x86_64.whl size=24602086 sha256=378886b43dfcc560f93b3109e7b7d8569e3256dcf5fee94890a9847ee2f74f12\n",
            "  Stored in directory: /root/.cache/pip/wheels/53/c8/f9/afb722099bdb5d73e5807019ce1512fd065502ccc15ea2b5bd\n",
            "  Building wheel for gast (setup.py): started\n",
            "  Building wheel for gast (setup.py): finished with status 'done'\n",
            "  Created wheel for gast: filename=gast-0.2.2-py3-none-any.whl size=7554 sha256=c885bb981073a7980317aca917a851026f0effe877e1ed9969bea350d99bcafb\n",
            "  Stored in directory: /root/.cache/pip/wheels/21/7f/02/420f32a803f7d0967b48dd823da3f558c5166991bfd204eef3\n",
            "  Building wheel for termcolor (setup.py): started\n",
            "  Building wheel for termcolor (setup.py): finished with status 'done'\n",
            "  Created wheel for termcolor: filename=termcolor-1.1.0-py3-none-any.whl size=4847 sha256=f5d529d93c4fe99c25db96ba3daf14981db65cedba36ddb4e92c4d758e0a4dab\n",
            "  Stored in directory: /root/.cache/pip/wheels/3f/e3/ec/8a8336ff196023622fbcb36de0c5a5c218cbb24111d1d4c7f2\n",
            "Successfully built gensim gast termcolor\n",
            "Installing collected packages: urllib3, pyasn1, idna, chardet, certifi, six, rsa, requests, pyasn1-modules, oauthlib, cachetools, requests-oauthlib, numpy, multidict, google-auth, frozenlist, yarl, werkzeug, protobuf, markdown, h5py, grpcio, google-auth-oauthlib, charset-normalizer, attrs, asynctest, async-timeout, aiosignal, absl-py, wrapt, threadpoolctl, termcolor, tensorflow-estimator, tensorboard, starlette, smart-open, scipy, opt-einsum, keras-preprocessing, keras-applications, joblib, google-pasta, gast, fsspec, decorator, click, astor, aiohttp, uvicorn, tensorflow, scikit-learn, loguru, gensim, gcsfs, fastapi\n",
            "  Attempting uninstall: starlette\n",
            "    Found existing installation: starlette 0.14.2\n",
            "    Uninstalling starlette-0.14.2:\n",
            "      Successfully uninstalled starlette-0.14.2\n",
            "  Attempting uninstall: click\n",
            "    Found existing installation: click 8.0.1\n",
            "    Uninstalling click-8.0.1:\n",
            "      Successfully uninstalled click-8.0.1\n",
            "  Attempting uninstall: uvicorn\n",
            "    Found existing installation: uvicorn 0.15.0\n",
            "    Uninstalling uvicorn-0.15.0:\n",
            "      Successfully uninstalled uvicorn-0.15.0\n",
            "  Attempting uninstall: fastapi\n",
            "    Found existing installation: fastapi 0.68.1\n",
            "    Uninstalling fastapi-0.68.1:\n",
            "      Successfully uninstalled fastapi-0.68.1\n",
            "Successfully installed absl-py-1.0.0 aiohttp-3.8.1 aiosignal-1.2.0 astor-0.8.1 async-timeout-4.0.2 asynctest-0.13.0 attrs-21.4.0 cachetools-4.2.4 certifi-2021.10.8 chardet-3.0.4 charset-normalizer-2.0.12 click-7.1.2 decorator-5.1.1 fastapi-0.61.2 frozenlist-1.3.0 fsspec-0.8.4 gast-0.2.2 gcsfs-0.7.1 gensim-3.6.0 google-auth-1.35.0 google-auth-oauthlib-0.4.6 google-pasta-0.2.0 grpcio-1.44.0 h5py-2.10.0 idna-2.10 joblib-1.1.0 keras-applications-1.0.8 keras-preprocessing-1.1.2 loguru-0.5.3 markdown-3.3.6 multidict-6.0.2 numpy-1.19.5 oauthlib-3.2.0 opt-einsum-3.3.0 protobuf-3.19.4 pyasn1-0.4.8 pyasn1-modules-0.2.8 requests-2.25.0 requests-oauthlib-1.3.1 rsa-4.8 scikit-learn-0.23.2 scipy-1.4.1 six-1.16.0 smart-open-5.2.1 starlette-0.13.6 tensorboard-2.1.1 tensorflow-2.1.0 tensorflow-estimator-2.1.0 termcolor-1.1.0 threadpoolctl-3.1.0 urllib3-1.26.8 uvicorn-0.12.2 werkzeug-2.0.3 wrapt-1.13.3 yarl-1.7.2\n",
            "\u001b[91mWARNING: Running pip as the 'root' user can result in broken permissions and conflicting behaviour with the system package manager. It is recommended to use a virtual environment instead: https://pip.pypa.io/warnings/venv\n",
            "\u001b[0m\u001b[91mWARNING: You are using pip version 21.2.4; however, version 22.0.3 is available.\n",
            "You should consider upgrading via the '/usr/local/bin/python -m pip install --upgrade pip' command.\n",
            "\u001b[0mRemoving intermediate container da7f34938b51\n",
            " ---> d1cfa4d3df00\n",
            "Step 4/4 : COPY ./app /app/app\n",
            " ---> 1c429a3944ae\n",
            "Successfully built 1c429a3944ae\n",
            "Successfully tagged gcr.io/practica-despliegue-keepcoding/troll-detection-online-service:latest\n",
            "PUSH\n",
            "Pushing gcr.io/practica-despliegue-keepcoding/troll-detection-online-service\n",
            "The push refers to repository [gcr.io/practica-despliegue-keepcoding/troll-detection-online-service]\n",
            "6a710e51c744: Preparing\n",
            "206786da01f9: Preparing\n",
            "f12de44ff0ee: Preparing\n",
            "574be7dd3a19: Preparing\n",
            "4a24608ea27b: Preparing\n",
            "c660563b938b: Preparing\n",
            "e313cca5ff4a: Preparing\n",
            "ad6638039b02: Preparing\n",
            "4c503f7b7cec: Preparing\n",
            "49022fdb47b6: Preparing\n",
            "f4cc5099892d: Preparing\n",
            "471ef6255d6e: Preparing\n",
            "0f8cd2835d79: Preparing\n",
            "0616239ad62a: Preparing\n",
            "4eb436881a0f: Preparing\n",
            "7fe8548565b4: Preparing\n",
            "8364a493536b: Preparing\n",
            "c1792902851c: Preparing\n",
            "c272c95c3fb0: Preparing\n",
            "3054497613e6: Preparing\n",
            "d35dc7f4c79e: Preparing\n",
            "dabfe5b2ea81: Preparing\n",
            "5e6a409f30b6: Preparing\n",
            "0f8cd2835d79: Waiting\n",
            "0616239ad62a: Waiting\n",
            "4eb436881a0f: Waiting\n",
            "7fe8548565b4: Waiting\n",
            "8364a493536b: Waiting\n",
            "c1792902851c: Waiting\n",
            "c272c95c3fb0: Waiting\n",
            "3054497613e6: Waiting\n",
            "d35dc7f4c79e: Waiting\n",
            "dabfe5b2ea81: Waiting\n",
            "5e6a409f30b6: Waiting\n",
            "c660563b938b: Waiting\n",
            "e313cca5ff4a: Waiting\n",
            "ad6638039b02: Waiting\n",
            "f4cc5099892d: Waiting\n",
            "471ef6255d6e: Waiting\n",
            "4c503f7b7cec: Waiting\n",
            "49022fdb47b6: Waiting\n",
            "6a710e51c744: Pushed\n",
            "f12de44ff0ee: Pushed\n",
            "574be7dd3a19: Pushed\n",
            "ad6638039b02: Pushed\n",
            "c660563b938b: Pushed\n",
            "e313cca5ff4a: Pushed\n",
            "4a24608ea27b: Pushed\n",
            "49022fdb47b6: Pushed\n",
            "471ef6255d6e: Pushed\n",
            "f4cc5099892d: Pushed\n",
            "4c503f7b7cec: Pushed\n",
            "0616239ad62a: Pushed\n",
            "7fe8548565b4: Pushed\n",
            "0f8cd2835d79: Pushed\n",
            "4eb436881a0f: Pushed\n",
            "c1792902851c: Pushed\n",
            "d35dc7f4c79e: Layer already exists\n",
            "dabfe5b2ea81: Layer already exists\n",
            "8364a493536b: Pushed\n",
            "5e6a409f30b6: Layer already exists\n",
            "3054497613e6: Pushed\n",
            "c272c95c3fb0: Pushed\n",
            "206786da01f9: Pushed\n",
            "latest: digest: sha256:50fc5d58fa82345e5abee18a42dd4bd60cc7963187bcaffc0bd6f20fa2a3289b size: 5134\n",
            "DONE\n",
            "\n",
            "ID                                    CREATE_TIME                DURATION  SOURCE                                                                                                        IMAGES                                                                          STATUS\n",
            "aba6224f-d904-4984-a4a0-e0593e0af311  2022-02-27T09:40:22+00:00  6M34S     gs://practica-despliegue-keepcoding_cloudbuild/source/1645954821.358609-a615edf8b3244b54aa724187e48e0e07.tgz  gcr.io/practica-despliegue-keepcoding/troll-detection-online-service (+1 more)  SUCCESS\n"
          ]
        }
      ]
    },
    {
      "cell_type": "markdown",
      "metadata": {
        "id": "aYVptQ0WEEd-"
      },
      "source": [
        "Desplegaremos la imagen Docker generada en el Container Registry en el servicio de Cloud Run. Después, validaremos que las inferencias funcionan en GCP usando el comando mostrado a continuación:"
      ]
    },
    {
      "cell_type": "code",
      "metadata": {
        "id": "KC0honui-W23",
        "colab": {
          "base_uri": "https://localhost:8080/"
        },
        "outputId": "eb34600d-2a60-4ed2-b228-3d2f30a703c6"
      },
      "source": [
        "! curl -X POST \"https://troll-detection-online-service-c23lzncatq-ew.a.run.app/api/model/predict\" -H  \"accept: application/json\" -H  \"Content-Type: application/json\" -d \"{\\\"text\\\":\\\"i hate you\\\"}\""
      ],
      "execution_count": null,
      "outputs": [
        {
          "output_type": "stream",
          "name": "stdout",
          "text": [
            "{\"label\":\"OK\",\"score\":0.483225554227829,\"elapsed_time\":0.5990738868713379}"
          ]
        }
      ]
    },
    {
      "cell_type": "markdown",
      "source": [
        "https://troll-detection-online-service-c23lzncatq-ew.a.run.app/docs"
      ],
      "metadata": {
        "id": "zweqf2S5pdUg"
      }
    },
    {
      "cell_type": "markdown",
      "metadata": {
        "id": "ZvBWPoGGKwuJ"
      },
      "source": [
        "# Detección de Trolls en Twitch en Streaming\n",
        "\n",
        "En esta última parte de la práctica se realizará un pipeline de inferencia en tiempo real de un chat de Twitch alcualmente en vivo. Para ello, usaremos mi canal de Twitch `https://www.twitch.tv/franalgaba` donde tengo un bot deplegado poniendo mensajes troll y no troll de forma aleatoria del dataset que hemos usado en la primera parte.\n",
        "\n",
        "Para acceder al chat de Twitch os proporciono el conector correspondiente que será desplegado como Cloud Function como hicimos en clase y usando mis credenciales recogerá los mensajes del chat y los enviará a un topic de Pub/Sub en GCP. Después, desarrollarás un job en streaming de Dataflow con el que leerás esos mensajes de Pub/sub, los mandarás a tu microservicio de inferencia para que haga las predicciones y enviarás los resultados a un nuevo tópico de Pub/Sub.\n",
        "\n",
        "A continuación os dejo un diagrama con la arquitectura que se va a desarrollar:\n",
        "\n",
        "![streaming_diagram](https://drive.google.com/uc?export=view&id=1TEBPPc9ZF09IM5iGq9FwGAx9PVzAYNPg)"
      ]
    },
    {
      "cell_type": "markdown",
      "metadata": {
        "id": "Yw3oY8n5GjuU"
      },
      "source": [
        "Primero, creamos el publisher que será el encargado de recoger los mensajes de Twitch y enviarlos a Pub/Sub. Esto os lo doy yo desarrollado, sólo tendréis que desplegarlo en una Cloud Function."
      ]
    },
    {
      "cell_type": "code",
      "metadata": {
        "id": "HH8WcRKrKwKy"
      },
      "source": [
        "%mkdir -p /content/streaming/publisher"
      ],
      "execution_count": null,
      "outputs": []
    },
    {
      "cell_type": "code",
      "metadata": {
        "id": "75whqxX7K54B",
        "colab": {
          "base_uri": "https://localhost:8080/"
        },
        "outputId": "a7703d8e-0ec7-4da9-f93a-4ffbe8b60559"
      },
      "source": [
        "# Execute after restart\n",
        "%cd /content/streaming/publisher"
      ],
      "execution_count": null,
      "outputs": [
        {
          "output_type": "stream",
          "name": "stdout",
          "text": [
            "/content/streaming/publisher\n"
          ]
        }
      ]
    },
    {
      "cell_type": "code",
      "metadata": {
        "id": "jyOecviAK8QO",
        "colab": {
          "base_uri": "https://localhost:8080/"
        },
        "outputId": "61a01435-799a-4711-f92b-3a5accbc2d58"
      },
      "source": [
        "%%writefile requirements.txt\n",
        "\n",
        "twitchio==1.2.3\n",
        "loguru==0.5.3\n",
        "google-cloud-pubsub==2.1.0"
      ],
      "execution_count": null,
      "outputs": [
        {
          "output_type": "stream",
          "name": "stdout",
          "text": [
            "Writing requirements.txt\n"
          ]
        }
      ]
    },
    {
      "cell_type": "code",
      "source": [
        "TOPIC_NAME = 'twitch-chat'"
      ],
      "metadata": {
        "id": "OhxjKIsNgeBM"
      },
      "execution_count": null,
      "outputs": []
    },
    {
      "cell_type": "code",
      "source": [
        "PROJECT_ID"
      ],
      "metadata": {
        "colab": {
          "base_uri": "https://localhost:8080/",
          "height": 35
        },
        "id": "FRHOZllFa4Y1",
        "outputId": "2fb67781-3823-4936-f677-ed46a93933ca"
      },
      "execution_count": null,
      "outputs": [
        {
          "output_type": "execute_result",
          "data": {
            "application/vnd.google.colaboratory.intrinsic+json": {
              "type": "string"
            },
            "text/plain": [
              "'practica-despliegue-keepcoding'"
            ]
          },
          "metadata": {},
          "execution_count": 10
        }
      ]
    },
    {
      "cell_type": "code",
      "metadata": {
        "id": "z-pnzR-jMkZ4",
        "colab": {
          "base_uri": "https://localhost:8080/"
        },
        "outputId": "4ca60939-8f45-4e9d-b3fe-38caeb24ad1e"
      },
      "source": [
        "%%writefile main.py\n",
        "\n",
        "import os  # for importing env vars for the bot to use\n",
        "import sys\n",
        "import json\n",
        "import time\n",
        "import asyncio\n",
        "\n",
        "from twitchio.ext import commands\n",
        "from google.cloud import pubsub_v1\n",
        "from loguru import logger\n",
        "\n",
        "PROJECT_ID = os.getenv(\"PROJECT_ID\")\n",
        "TOPIC_NAME = os.getenv(\"TOPIC_NAME\")\n",
        "\n",
        "TOPIC_PATH = f\"projects/{PROJECT_ID}/topics/{TOPIC_NAME}\"\n",
        "\n",
        "publisher = pubsub_v1.PublisherClient()\n",
        "\n",
        "\n",
        "class Bot(commands.Bot):\n",
        "\n",
        "    def __init__(self, irc_token='...', client_id='...', nick='...', prefix=\"!\", initial_channels=['...'], debug=True):\n",
        "        super().__init__(irc_token=irc_token, client_id=client_id, nick=nick, prefix='!',\n",
        "                         initial_channels=initial_channels)\n",
        "        self.debug = debug\n",
        "\n",
        "    # Events don't need decorators when subclassed\n",
        "    async def event_ready(self):\n",
        "        logger.info('Ready')\n",
        "\n",
        "    async def event_message(self, message):\n",
        "        logger.info(message.content)\n",
        "        publisher.publish(TOPIC_PATH, str.encode(message.content))\n",
        "\n",
        "\n",
        "def main(request):\n",
        "\n",
        "    topic_name = f\"projects/{PROJECT_ID}/topics/{TOPIC_NAME}\"\n",
        "    # publisher.create_topic(topic_name)\n",
        "\n",
        "    request_json = request.get_json(silent=True)\n",
        "\n",
        "    loop = asyncio.new_event_loop()\n",
        "    asyncio.set_event_loop(loop)\n",
        "\n",
        "    logger.info(\"Starting listener...\")\n",
        "    if \"debug\" in request_json and isinstance(request_json[\"debug\"], bool):\n",
        "        logger.info(f\"Debug mode: {request_json['debug']}\")\n",
        "        bot = Bot(\n",
        "          # set up the bot\n",
        "          irc_token=\"oauth:xl5cpf8qe8tl1d03dppymchi6r04iz\",\n",
        "          client_id=\"ciliqxi534iwg4pfqj7swl1jmkt23y\",\n",
        "          nick=\"franalgaba\",\n",
        "          prefix=\"!\",\n",
        "          initial_channels=[\"franalgaba\"],\n",
        "          debug=request_json['debug'])\n",
        "    else:\n",
        "        bot = Bot(\n",
        "          # set up the bot\n",
        "          irc_token=\"oauth:xl5cpf8qe8tl1d03dppymchi6r04iz\",\n",
        "          client_id=\"ciliqxi534iwg4pfqj7swl1jmkt23y\",\n",
        "          nick=\"franalgaba\",\n",
        "          prefix=\"!\",\n",
        "          initial_channels=[\"franalgaba\"])\n",
        "\n",
        "    bot.run()"
      ],
      "execution_count": null,
      "outputs": [
        {
          "output_type": "stream",
          "name": "stdout",
          "text": [
            "Writing main.py\n"
          ]
        }
      ]
    },
    {
      "cell_type": "code",
      "metadata": {
        "id": "FDrQjJbsVO-4",
        "colab": {
          "base_uri": "https://localhost:8080/"
        },
        "outputId": "cec014ea-d096-4c3e-8a79-3b58313d37d9"
      },
      "source": [
        "# In case user service error...\n",
        "# ! gcloud iam service-accounts add-iam-policy-binding <project_id>@appspot.gserviceaccount.com --member=user:<mail> --role=roles/iam.serviceAccountUser\n",
        "! gcloud iam service-accounts add-iam-policy-binding practica-despliegue-keepcoding@appspot.gserviceaccount.com --member=user:tonyzetag@gmail.com --role=roles/iam.serviceAccountUser"
      ],
      "execution_count": null,
      "outputs": [
        {
          "output_type": "stream",
          "name": "stdout",
          "text": [
            "Updated IAM policy for serviceAccount [practica-despliegue-keepcoding@appspot.gserviceaccount.com].\n",
            "bindings:\n",
            "- members:\n",
            "  - user:tonyzetag@gmail.com\n",
            "  role: roles/iam.serviceAccountUser\n",
            "etag: BwXZBIoIga0=\n",
            "version: 1\n"
          ]
        }
      ]
    },
    {
      "cell_type": "markdown",
      "metadata": {
        "id": "7x_BX3FCG3mD"
      },
      "source": [
        "Para lanzar vuestra Cloud Function, que recoja y mande mensajes solo tenéis que ejecutar el comando siguiente (haced los pasos vistos en clase para desplegar el servicio):"
      ]
    },
    {
      "cell_type": "code",
      "metadata": {
        "id": "PcemNpnsKxFy",
        "colab": {
          "base_uri": "https://localhost:8080/"
        },
        "outputId": "51890241-4b11-41d0-bbad-51f7d913f9ee"
      },
      "source": [
        "! curl -X POST https://europe-west1-practica-despliegue-keepcoding.cloudfunctions.net/twtch-publisher -H \"Content-Type:application/json\"  -d '{\"debug\": false}'"
      ],
      "execution_count": null,
      "outputs": [
        {
          "output_type": "stream",
          "name": "stdout",
          "text": [
            "^C\n"
          ]
        }
      ]
    },
    {
      "cell_type": "markdown",
      "source": [
        "![image.png](data:image/png;base64,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)"
      ],
      "metadata": {
        "id": "SbOWno6UorxA"
      }
    },
    {
      "cell_type": "markdown",
      "metadata": {
        "id": "Yr3SmFrUHCvN"
      },
      "source": [
        "## Entregable 1 (3 puntos)\n",
        "\n",
        "En este entregable desarrollarás un pipeline de inferencia en streaming usando Apache Beam para ejecutar en Dataflow un job en streaming que llamará a vuestro microservicio para realizar inferencias."
      ]
    },
    {
      "cell_type": "code",
      "metadata": {
        "id": "IwlDH0KFbn1q"
      },
      "source": [
        "%mkdir /content/streaming/subscriber"
      ],
      "execution_count": null,
      "outputs": []
    },
    {
      "cell_type": "code",
      "metadata": {
        "id": "DLNtrkgybtHE",
        "colab": {
          "base_uri": "https://localhost:8080/"
        },
        "outputId": "5e3fcaf8-91a3-45cb-affb-205dc6fbfe5e"
      },
      "source": [
        "%cd /content/streaming/subscriber"
      ],
      "execution_count": null,
      "outputs": [
        {
          "output_type": "stream",
          "name": "stdout",
          "text": [
            "/content/streaming/subscriber\n"
          ]
        }
      ]
    },
    {
      "cell_type": "code",
      "metadata": {
        "id": "XtBrcF2zbz04",
        "colab": {
          "base_uri": "https://localhost:8080/"
        },
        "outputId": "ae6ea491-b58e-4c5e-db65-7e5ca147819a"
      },
      "source": [
        "%%writefile requirements.txt\n",
        "\n",
        "apache-beam[gcp]==2.24.0\n",
        "fsspec==0.8.4\n",
        "gcsfs==0.7.1\n",
        "loguru==0.5.3"
      ],
      "execution_count": null,
      "outputs": [
        {
          "output_type": "stream",
          "name": "stdout",
          "text": [
            "Overwriting requirements.txt\n"
          ]
        }
      ]
    },
    {
      "cell_type": "code",
      "metadata": {
        "id": "6RN9KNMob1jY",
        "colab": {
          "base_uri": "https://localhost:8080/"
        },
        "outputId": "de9773b9-cbbe-45d5-9536-0fd4dfe9e8d9"
      },
      "source": [
        "! pip install -r requirements.txt"
      ],
      "execution_count": null,
      "outputs": [
        {
          "output_type": "stream",
          "name": "stdout",
          "text": [
            "Requirement already satisfied: apache-beam[gcp] in /usr/local/lib/python3.7/dist-packages (from -r requirements.txt (line 2)) (2.24.0)\n",
            "Requirement already satisfied: fsspec in /usr/local/lib/python3.7/dist-packages (from -r requirements.txt (line 3)) (0.8.4)\n",
            "Requirement already satisfied: gcsfs in /usr/local/lib/python3.7/dist-packages (from -r requirements.txt (line 4)) (0.7.1)\n",
            "Requirement already satisfied: loguru in /usr/local/lib/python3.7/dist-packages (from -r requirements.txt (line 5)) (0.5.3)\n",
            "Requirement already satisfied: google-auth>=1.2 in /usr/local/lib/python3.7/dist-packages (from gcsfs->-r requirements.txt (line 4)) (1.35.0)\n",
            "Requirement already satisfied: google-auth-oauthlib in /usr/local/lib/python3.7/dist-packages (from gcsfs->-r requirements.txt (line 4)) (0.4.6)\n",
            "Requirement already satisfied: requests in /usr/local/lib/python3.7/dist-packages (from gcsfs->-r requirements.txt (line 4)) (2.27.1)\n",
            "Requirement already satisfied: aiohttp in /usr/local/lib/python3.7/dist-packages (from gcsfs->-r requirements.txt (line 4)) (3.8.1)\n",
            "Requirement already satisfied: decorator in /usr/local/lib/python3.7/dist-packages (from gcsfs->-r requirements.txt (line 4)) (4.4.2)\n",
            "Requirement already satisfied: setuptools>=40.3.0 in /usr/local/lib/python3.7/dist-packages (from google-auth>=1.2->gcsfs->-r requirements.txt (line 4)) (57.4.0)\n",
            "Requirement already satisfied: rsa<5,>=3.1.4 in /usr/local/lib/python3.7/dist-packages (from google-auth>=1.2->gcsfs->-r requirements.txt (line 4)) (4.8)\n",
            "Requirement already satisfied: six>=1.9.0 in /usr/local/lib/python3.7/dist-packages (from google-auth>=1.2->gcsfs->-r requirements.txt (line 4)) (1.15.0)\n",
            "Requirement already satisfied: cachetools<5.0,>=2.0.0 in /usr/local/lib/python3.7/dist-packages (from google-auth>=1.2->gcsfs->-r requirements.txt (line 4)) (3.1.1)\n",
            "Requirement already satisfied: pyasn1-modules>=0.2.1 in /usr/local/lib/python3.7/dist-packages (from google-auth>=1.2->gcsfs->-r requirements.txt (line 4)) (0.2.8)\n",
            "Requirement already satisfied: pyasn1<0.5.0,>=0.4.6 in /usr/local/lib/python3.7/dist-packages (from pyasn1-modules>=0.2.1->google-auth>=1.2->gcsfs->-r requirements.txt (line 4)) (0.4.8)\n",
            "Requirement already satisfied: frozenlist>=1.1.1 in /usr/local/lib/python3.7/dist-packages (from aiohttp->gcsfs->-r requirements.txt (line 4)) (1.3.0)\n",
            "Requirement already satisfied: async-timeout<5.0,>=4.0.0a3 in /usr/local/lib/python3.7/dist-packages (from aiohttp->gcsfs->-r requirements.txt (line 4)) (4.0.2)\n",
            "Requirement already satisfied: asynctest==0.13.0 in /usr/local/lib/python3.7/dist-packages (from aiohttp->gcsfs->-r requirements.txt (line 4)) (0.13.0)\n",
            "Requirement already satisfied: attrs>=17.3.0 in /usr/local/lib/python3.7/dist-packages (from aiohttp->gcsfs->-r requirements.txt (line 4)) (21.4.0)\n",
            "Requirement already satisfied: charset-normalizer<3.0,>=2.0 in /usr/local/lib/python3.7/dist-packages (from aiohttp->gcsfs->-r requirements.txt (line 4)) (2.0.12)\n",
            "Requirement already satisfied: yarl<2.0,>=1.0 in /usr/local/lib/python3.7/dist-packages (from aiohttp->gcsfs->-r requirements.txt (line 4)) (1.7.2)\n",
            "Requirement already satisfied: multidict<7.0,>=4.5 in /usr/local/lib/python3.7/dist-packages (from aiohttp->gcsfs->-r requirements.txt (line 4)) (6.0.2)\n",
            "Requirement already satisfied: typing-extensions>=3.7.4 in /usr/local/lib/python3.7/dist-packages (from aiohttp->gcsfs->-r requirements.txt (line 4)) (3.7.4.3)\n",
            "Requirement already satisfied: aiosignal>=1.1.2 in /usr/local/lib/python3.7/dist-packages (from aiohttp->gcsfs->-r requirements.txt (line 4)) (1.2.0)\n",
            "Requirement already satisfied: idna>=2.0 in /usr/local/lib/python3.7/dist-packages (from yarl<2.0,>=1.0->aiohttp->gcsfs->-r requirements.txt (line 4)) (2.10)\n",
            "Requirement already satisfied: future<1.0.0,>=0.18.2 in /usr/local/lib/python3.7/dist-packages (from apache-beam[gcp]->-r requirements.txt (line 2)) (0.18.2)\n",
            "Requirement already satisfied: crcmod<2.0,>=1.7 in /usr/local/lib/python3.7/dist-packages (from apache-beam[gcp]->-r requirements.txt (line 2)) (1.7)\n",
            "Requirement already satisfied: fastavro<0.24,>=0.21.4 in /usr/local/lib/python3.7/dist-packages (from apache-beam[gcp]->-r requirements.txt (line 2)) (0.23.6)\n",
            "Requirement already satisfied: pyarrow<0.18.0,>=0.15.1 in /usr/local/lib/python3.7/dist-packages (from apache-beam[gcp]->-r requirements.txt (line 2)) (0.17.1)\n",
            "Requirement already satisfied: oauth2client<4,>=2.0.1 in /usr/local/lib/python3.7/dist-packages (from apache-beam[gcp]->-r requirements.txt (line 2)) (3.0.0)\n",
            "Requirement already satisfied: pymongo<4.0.0,>=3.8.0 in /usr/local/lib/python3.7/dist-packages (from apache-beam[gcp]->-r requirements.txt (line 2)) (3.12.3)\n",
            "Requirement already satisfied: dill<0.3.2,>=0.3.1.1 in /usr/local/lib/python3.7/dist-packages (from apache-beam[gcp]->-r requirements.txt (line 2)) (0.3.1.1)\n",
            "Requirement already satisfied: protobuf<4,>=3.12.2 in /usr/local/lib/python3.7/dist-packages (from apache-beam[gcp]->-r requirements.txt (line 2)) (3.17.3)\n",
            "Requirement already satisfied: mock<3.0.0,>=1.0.1 in /usr/local/lib/python3.7/dist-packages (from apache-beam[gcp]->-r requirements.txt (line 2)) (2.0.0)\n",
            "Requirement already satisfied: pytz>=2018.3 in /usr/local/lib/python3.7/dist-packages (from apache-beam[gcp]->-r requirements.txt (line 2)) (2018.9)\n",
            "Requirement already satisfied: python-dateutil<3,>=2.8.0 in /usr/local/lib/python3.7/dist-packages (from apache-beam[gcp]->-r requirements.txt (line 2)) (2.8.2)\n",
            "Requirement already satisfied: httplib2<0.18.0,>=0.8 in /usr/local/lib/python3.7/dist-packages (from apache-beam[gcp]->-r requirements.txt (line 2)) (0.17.4)\n",
            "Requirement already satisfied: numpy<2,>=1.14.3 in /usr/local/lib/python3.7/dist-packages (from apache-beam[gcp]->-r requirements.txt (line 2)) (1.21.5)\n",
            "Requirement already satisfied: grpcio<2,>=1.29.0 in /usr/local/lib/python3.7/dist-packages (from apache-beam[gcp]->-r requirements.txt (line 2)) (1.43.0)\n",
            "Requirement already satisfied: pydot<2,>=1.2.0 in /usr/local/lib/python3.7/dist-packages (from apache-beam[gcp]->-r requirements.txt (line 2)) (1.3.0)\n",
            "Requirement already satisfied: avro-python3!=1.9.2,<1.10.0,>=1.8.1 in /usr/local/lib/python3.7/dist-packages (from apache-beam[gcp]->-r requirements.txt (line 2)) (1.9.2.1)\n",
            "Requirement already satisfied: hdfs<3.0.0,>=2.1.0 in /usr/local/lib/python3.7/dist-packages (from apache-beam[gcp]->-r requirements.txt (line 2)) (2.6.0)\n",
            "Requirement already satisfied: google-cloud-bigtable<2,>=0.31.1 in /usr/local/lib/python3.7/dist-packages (from apache-beam[gcp]->-r requirements.txt (line 2)) (1.7.0)\n",
            "Requirement already satisfied: google-cloud-language<2,>=1.3.0 in /usr/local/lib/python3.7/dist-packages (from apache-beam[gcp]->-r requirements.txt (line 2)) (1.3.0)\n",
            "Requirement already satisfied: google-cloud-bigquery<2,>=1.6.0 in /usr/local/lib/python3.7/dist-packages (from apache-beam[gcp]->-r requirements.txt (line 2)) (1.21.0)\n",
            "Requirement already satisfied: google-cloud-dlp<2,>=0.12.0 in /usr/local/lib/python3.7/dist-packages (from apache-beam[gcp]->-r requirements.txt (line 2)) (1.0.0)\n",
            "Requirement already satisfied: google-cloud-pubsub<2,>=0.39.0 in /usr/local/lib/python3.7/dist-packages (from apache-beam[gcp]->-r requirements.txt (line 2)) (1.7.0)\n",
            "Requirement already satisfied: google-cloud-datastore<2,>=1.7.1 in /usr/local/lib/python3.7/dist-packages (from apache-beam[gcp]->-r requirements.txt (line 2)) (1.8.0)\n",
            "Requirement already satisfied: grpcio-gcp<1,>=0.2.2 in /usr/local/lib/python3.7/dist-packages (from apache-beam[gcp]->-r requirements.txt (line 2)) (0.2.2)\n",
            "Requirement already satisfied: google-cloud-videointelligence<2,>=1.8.0 in /usr/local/lib/python3.7/dist-packages (from apache-beam[gcp]->-r requirements.txt (line 2)) (1.16.1)\n",
            "Requirement already satisfied: google-apitools<0.5.32,>=0.5.31 in /usr/local/lib/python3.7/dist-packages (from apache-beam[gcp]->-r requirements.txt (line 2)) (0.5.31)\n",
            "Requirement already satisfied: google-cloud-core<2,>=0.28.1 in /usr/local/lib/python3.7/dist-packages (from apache-beam[gcp]->-r requirements.txt (line 2)) (1.7.2)\n",
            "Requirement already satisfied: google-cloud-spanner<2,>=1.13.0 in /usr/local/lib/python3.7/dist-packages (from apache-beam[gcp]->-r requirements.txt (line 2)) (1.19.1)\n",
            "Requirement already satisfied: google-cloud-vision<2,>=0.38.0 in /usr/local/lib/python3.7/dist-packages (from apache-beam[gcp]->-r requirements.txt (line 2)) (1.0.0)\n",
            "Requirement already satisfied: fasteners>=0.14 in /usr/local/lib/python3.7/dist-packages (from google-apitools<0.5.32,>=0.5.31->apache-beam[gcp]->-r requirements.txt (line 2)) (0.17.3)\n",
            "Requirement already satisfied: google-resumable-media!=0.4.0,<0.5.0dev,>=0.3.1 in /usr/local/lib/python3.7/dist-packages (from google-cloud-bigquery<2,>=1.6.0->apache-beam[gcp]->-r requirements.txt (line 2)) (0.4.1)\n",
            "Requirement already satisfied: google-api-core[grpc]<2.0.0dev,>=1.14.0 in /usr/local/lib/python3.7/dist-packages (from google-cloud-bigtable<2,>=0.31.1->apache-beam[gcp]->-r requirements.txt (line 2)) (1.26.3)\n",
            "Requirement already satisfied: grpc-google-iam-v1<0.13dev,>=0.12.3 in /usr/local/lib/python3.7/dist-packages (from google-cloud-bigtable<2,>=0.31.1->apache-beam[gcp]->-r requirements.txt (line 2)) (0.12.3)\n",
            "Requirement already satisfied: googleapis-common-protos<2.0dev,>=1.6.0 in /usr/local/lib/python3.7/dist-packages (from google-api-core[grpc]<2.0.0dev,>=1.14.0->google-cloud-bigtable<2,>=0.31.1->apache-beam[gcp]->-r requirements.txt (line 2)) (1.54.0)\n",
            "Requirement already satisfied: packaging>=14.3 in /usr/local/lib/python3.7/dist-packages (from google-api-core[grpc]<2.0.0dev,>=1.14.0->google-cloud-bigtable<2,>=0.31.1->apache-beam[gcp]->-r requirements.txt (line 2)) (21.3)\n",
            "Requirement already satisfied: docopt in /usr/local/lib/python3.7/dist-packages (from hdfs<3.0.0,>=2.1.0->apache-beam[gcp]->-r requirements.txt (line 2)) (0.6.2)\n",
            "Requirement already satisfied: pbr>=0.11 in /usr/local/lib/python3.7/dist-packages (from mock<3.0.0,>=1.0.1->apache-beam[gcp]->-r requirements.txt (line 2)) (5.8.1)\n",
            "Requirement already satisfied: pyparsing!=3.0.5,>=2.0.2 in /usr/local/lib/python3.7/dist-packages (from packaging>=14.3->google-api-core[grpc]<2.0.0dev,>=1.14.0->google-cloud-bigtable<2,>=0.31.1->apache-beam[gcp]->-r requirements.txt (line 2)) (3.0.7)\n",
            "Requirement already satisfied: urllib3<1.27,>=1.21.1 in /usr/local/lib/python3.7/dist-packages (from requests->gcsfs->-r requirements.txt (line 4)) (1.24.3)\n",
            "Requirement already satisfied: certifi>=2017.4.17 in /usr/local/lib/python3.7/dist-packages (from requests->gcsfs->-r requirements.txt (line 4)) (2021.10.8)\n",
            "Requirement already satisfied: requests-oauthlib>=0.7.0 in /usr/local/lib/python3.7/dist-packages (from google-auth-oauthlib->gcsfs->-r requirements.txt (line 4)) (1.3.1)\n",
            "Requirement already satisfied: oauthlib>=3.0.0 in /usr/local/lib/python3.7/dist-packages (from requests-oauthlib>=0.7.0->google-auth-oauthlib->gcsfs->-r requirements.txt (line 4)) (3.2.0)\n"
          ]
        }
      ]
    },
    {
      "cell_type": "code",
      "metadata": {
        "id": "JMeJPR90b3AN",
        "colab": {
          "base_uri": "https://localhost:8080/"
        },
        "outputId": "16fdbec4-5e3a-49cd-e105-5d5cca2cb9d4"
      },
      "source": [
        "%%writefile predict.py\n",
        "\n",
        "from __future__ import absolute_import\n",
        "from __future__ import print_function\n",
        "\n",
        "import argparse\n",
        "import requests\n",
        "import json\n",
        "import sys\n",
        "\n",
        "import apache_beam as beam\n",
        "import apache_beam.transforms.window as window\n",
        "from apache_beam.options.pipeline_options import (\n",
        "    GoogleCloudOptions,\n",
        "    StandardOptions,\n",
        "    PipelineOptions,\n",
        "    SetupOptions,\n",
        ")\n",
        "from loguru import logger\n",
        "\n",
        "\n",
        "class Predict(beam.DoFn):\n",
        "    def __init__(self, predict_server) -> None:\n",
        "        self.url = predict_server\n",
        "\n",
        "    def _predict(self, text) -> str:\n",
        "        payload = {\"text\": text}\n",
        "        headers = {\"accept\": \"application/json\", \"Content-Type\": \"application/json\"}\n",
        "        try:\n",
        "            response = requests.post(\n",
        "                self.url, data=json.dumps(payload), headers=headers\n",
        "            )\n",
        "            response = json.loads(response.text)\n",
        "        except Exception:\n",
        "            response = {\"label\": \"undefined\", \"score\": 0, \"elapsed_time\": 0}\n",
        "\n",
        "        return response\n",
        "\n",
        "    def process(self, element, window=beam.DoFn.WindowParam):\n",
        "        logger.info(f\"Text to predict: {element}\")\n",
        "        result = self._predict(element)\n",
        "        result[\"text\"] = element\n",
        "        yield json.dumps(result)\n",
        "\n",
        "\n",
        "def run(predict_server, source, sink, beam_options=None):\n",
        "    with beam.Pipeline(options=beam_options) as p:\n",
        "        _ = (\n",
        "            p\n",
        "            | \"Read data from PubSub\" >> source\n",
        "            | \"decode\" >> beam.Map(lambda x: x.decode(\"utf-8\"))\n",
        "            | \"window\" >> beam.WindowInto(window.FixedWindows(15))\n",
        "            | \"Predict\" >> beam.ParDo(Predict(predict_server))\n",
        "            | \"encode\" >> beam.Map(lambda x: x.encode(\"utf-8\")).with_output_types(bytes)\n",
        "            | \"Write predictions\" >> sink\n",
        "        )\n",
        "\n",
        "\n",
        "if __name__ == \"__main__\":\n",
        "    \"\"\"Main function\"\"\"\n",
        "    parser = argparse.ArgumentParser(\n",
        "        formatter_class=argparse.ArgumentDefaultsHelpFormatter\n",
        "    )\n",
        "\n",
        "    parser.add_argument(\n",
        "        \"--inputs_topic\",\n",
        "        dest=\"inputs_topic\",\n",
        "        required=True,\n",
        "        help=\"Directory for temporary files and preprocessed datasets to. \"\n",
        "        \"This can be a Google Cloud Storage path.\",\n",
        "    )\n",
        "\n",
        "    parser.add_argument(\n",
        "        \"--outputs_topic\",\n",
        "        dest=\"outputs_topic\",\n",
        "        required=True,\n",
        "        help=\"Directory for temporary files and preprocessed datasets to. \"\n",
        "        \"This can be a Google Cloud Storage path.\",\n",
        "    )\n",
        "\n",
        "    parser.add_argument(\n",
        "        \"--predict_server\",\n",
        "        dest=\"predict_server\",\n",
        "        required=True,\n",
        "        help=\"Directory for temporary files and preprocessed datasets to. \"\n",
        "        \"This can be a Google Cloud Storage path.\",\n",
        "    )\n",
        "\n",
        "    args, pipeline_args = parser.parse_known_args()\n",
        "    logger.info(args)\n",
        "    beam_options = PipelineOptions(pipeline_args)\n",
        "    beam_options.view_as(SetupOptions).save_main_session = True\n",
        "    # beam_options.view_as(DirectOptions).direct_num_workers = 0\n",
        "\n",
        "    project = beam_options.view_as(GoogleCloudOptions).project\n",
        "\n",
        "    if not project:\n",
        "        parser.print_usage()\n",
        "        print(\"error: argument --project is required for streaming\")\n",
        "        sys.exit(1)\n",
        "\n",
        "    beam_options.view_as(StandardOptions).streaming = True\n",
        "\n",
        "    source = beam.io.ReadFromPubSub(\n",
        "        topic=\"projects/{}/topics/{}\".format(project, args.inputs_topic)\n",
        "    ).with_output_types(bytes)\n",
        "\n",
        "    sink = beam.io.WriteToPubSub(\n",
        "        topic=\"projects/{}/topics/{}\".format(project, args.outputs_topic)\n",
        "    )\n",
        "\n",
        "    run(args.predict_server, source, sink, beam_options)\n"
      ],
      "execution_count": null,
      "outputs": [
        {
          "output_type": "stream",
          "name": "stdout",
          "text": [
            "Overwriting predict.py\n"
          ]
        }
      ]
    },
    {
      "cell_type": "code",
      "metadata": {
        "id": "jT_Qmb16hgEq",
        "colab": {
          "base_uri": "https://localhost:8080/"
        },
        "outputId": "8b9b064e-a5a9-4765-9077-f3953ae771e8"
      },
      "source": [
        "%%writefile setup.py\n",
        "\n",
        "import setuptools\n",
        "\n",
        "REQUIRED_PACKAGES = [\n",
        "    \"apache-beam[gcp]\",\n",
        "    \"fsspec\",\n",
        "    \"gcsfs\",\n",
        "    \"loguru\",\n",
        "]\n",
        "\n",
        "setuptools.setup(\n",
        "    name=\"twitchstreaming\",\n",
        "    version=\"0.0.1\",\n",
        "    install_requires=REQUIRED_PACKAGES,\n",
        "    packages=setuptools.find_packages(),\n",
        "    include_package_data=True,\n",
        "    description=\"Twitch Troll Detection\",\n",
        ")"
      ],
      "execution_count": null,
      "outputs": [
        {
          "output_type": "stream",
          "name": "stdout",
          "text": [
            "Overwriting setup.py\n"
          ]
        }
      ]
    },
    {
      "cell_type": "markdown",
      "metadata": {
        "id": "-RdyxvdVHmnZ"
      },
      "source": [
        "### Validación inferencia en streaming\n",
        "\n",
        "Con el comando mostrado a continuación se genera un job en streaming de Dataflow. Antes de ejecutarlo, deberás crear dos topicos en Pub/Sub, `twitch-chat` donde se recibirán los mensajes de twitch, y `twitch-chat-predictions` donde se mandarán las predicciones generadas por vuestro microservicio.\n",
        "\n",
        "**Importante**: no te olvides de modificar la URL de tu microservicio de inferencia."
      ]
    },
    {
      "cell_type": "code",
      "metadata": {
        "id": "9j4vzFn2wUPk"
      },
      "source": [
        "# GCP_WORK_DIR = 'gs://final-practice-test-execution'\n",
        "# GCP_REGION = 'us-east1'"
      ],
      "execution_count": null,
      "outputs": []
    },
    {
      "cell_type": "code",
      "source": [
        "GCP_WORK_DIR = 'gs://' + BUCKET_NAME\n",
        "GCP_REGION = REGION"
      ],
      "metadata": {
        "id": "4ClRmSZScKcm"
      },
      "execution_count": null,
      "outputs": []
    },
    {
      "cell_type": "code",
      "source": [
        "print(PROJECT_ID, GCP_REGION, GCP_WORK_DIR, sep=\" | \")"
      ],
      "metadata": {
        "colab": {
          "base_uri": "https://localhost:8080/"
        },
        "id": "O95x5Axa7RPw",
        "outputId": "c3b7cf48-579f-4fed-bb25-7836227bf8b1"
      },
      "execution_count": null,
      "outputs": [
        {
          "output_type": "stream",
          "name": "stdout",
          "text": [
            "practica-despliegue-keepcoding | europe-west1 | gs://twitch-practice-keepcoding-main-bucket\n"
          ]
        }
      ]
    },
    {
      "cell_type": "code",
      "metadata": {
        "id": "S5ftKoXAhiJ7",
        "colab": {
          "base_uri": "https://localhost:8080/"
        },
        "outputId": "ea40b357-460d-443b-a0a8-beb29eee7640"
      },
      "source": [
        "! python3 predict.py \\\n",
        "--project $PROJECT_ID \\\n",
        "--region $GCP_REGION \\\n",
        "--runner DataflowRunner \\\n",
        "--temp_location $GCP_WORK_DIR/beam-temp \\\n",
        "--setup_file ./setup.py \\\n",
        "--inputs_topic twitch-chat \\\n",
        "--outputs_topic twitch-chat-predictions \\\n",
        "--predict_server https://troll-detection-online-service-c23lzncatq-ew.a.run.app/api/model/predict \\"
      ],
      "execution_count": null,
      "outputs": [
        {
          "output_type": "stream",
          "name": "stdout",
          "text": [
            "\u001b[32m2022-02-27 21:48:35.837\u001b[0m | \u001b[1mINFO    \u001b[0m | \u001b[36m__main__\u001b[0m:\u001b[36m<module>\u001b[0m:\u001b[36m89\u001b[0m - \u001b[1mNamespace(inputs_topic='twitch-chat', outputs_topic='twitch-chat-predictions', predict_server='https://troll-detection-online-service-c23lzncatq-ew.a.run.app/api/model/predict')\u001b[0m\n",
            "warning: sdist: standard file not found: should have one of README, README.rst, README.txt, README.md\n",
            "\n",
            "warning: check: missing required meta-data: url\n",
            "\n",
            "warning: check: missing meta-data: either (author and author_email) or (maintainer and maintainer_email) must be supplied\n",
            "\n",
            "WARNING:root:Make sure that locally built Python SDK docker image has Python 3.7 interpreter.\n",
            "Traceback (most recent call last):\n",
            "  File \"predict.py\", line 111, in <module>\n",
            "    run(args.predict_server, source, sink, beam_options)\n",
            "  File \"predict.py\", line 54, in run\n",
            "    | \"Write predictions\" >> sink\n",
            "  File \"/usr/local/lib/python3.7/dist-packages/apache_beam/pipeline.py\", line 556, in __exit__\n",
            "    self.result.wait_until_finish()\n",
            "  File \"/usr/local/lib/python3.7/dist-packages/apache_beam/runners/dataflow/dataflow_runner.py\", line 1633, in wait_until_finish\n",
            "    self)\n",
            "apache_beam.runners.dataflow.dataflow_runner.DataflowRuntimeException: Dataflow pipeline failed. State: FAILED, Error:\n",
            "Error processing pipeline.\n"
          ]
        }
      ]
    },
    {
      "cell_type": "code",
      "source": [
        ""
      ],
      "metadata": {
        "id": "5M3BA7gJLFIG"
      },
      "execution_count": null,
      "outputs": []
    }
  ]
}